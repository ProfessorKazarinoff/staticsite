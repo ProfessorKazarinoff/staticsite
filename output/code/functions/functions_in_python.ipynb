{
 "cells": [
  {
   "cell_type": "markdown",
   "metadata": {},
   "source": [
    "Functions are pieces of reusable code. Each function contains three descrete elements: _name_, _input_, _output_. Functions take in input, often called arguments or input arguments, and produce output. A function is called by coding\n",
    "\n",
    "```\n",
    "output = function_name(input)\n",
    "```\n",
    "\n",
    "Note the ```output``` is written first followed by the equals sign ```=``` and then the function name and the input is enclosed with parenthesis ```( )```. \n",
    "\n",
    "Python has many useful buildin functions such as ```min()```,```max()```,```abs()``` and ```sum()```. We can use these built-in functions without importing any modules. For example:"
   ]
  },
  {
   "cell_type": "code",
   "execution_count": 3,
   "metadata": {},
   "outputs": [],
   "source": [
    "out = sum([2,3])"
   ]
  },
  {
   "cell_type": "markdown",
   "metadata": {},
   "source": [
    "In the function above, the input is the list ```[2,3]```. The output of the function is assigned to the ```out``` variable and the function name is ```sum()```.\n",
    "\n",
    "We can write our own functions in Python using the general form\n",
    "\n",
    "```\n",
    "def function_name(input):\n",
    "\n",
    "    code to run indented\n",
    "\n",
    "    return output\n",
    "```\n",
    "\n",
    "A couple import points about this form. The ```def``` keyword starts the function definition. Without the word ```def``` you are writing a regular line of code. Afterthe function name, the input is encolsed with parenthesis ```( )``` followed by a colon ```:```. Don't forget the colon ```:```. Without the colon ```:``` your function will not run. The code within the body of the function must be indentend. Finally, the key word ```return``` needs to be at the end of you function followed by the output. The ```input``` and ```output``` variables can be any thing you want, but the ```def```, ```:``` and ```return``` must be used."
   ]
  },
  {
   "cell_type": "markdown",
   "metadata": {},
   "source": [
    "Let's create our own function to convet g to kg. Let's call our function ```g2kg``` The first thing to do is make sure that our function name is not assigned to another function or is used as a keyword by Python. We can check quick using ```type```. We know that ```sum()``` is a function and ```def``` is a keyword, how about ```g2kg```?"
   ]
  },
  {
   "cell_type": "code",
   "execution_count": 17,
   "metadata": {},
   "outputs": [
    {
     "data": {
      "text/plain": [
       "builtin_function_or_method"
      ]
     },
     "execution_count": 17,
     "metadata": {},
     "output_type": "execute_result"
    }
   ],
   "source": [
    "type(sum)"
   ]
  },
  {
   "cell_type": "code",
   "execution_count": 15,
   "metadata": {},
   "outputs": [
    {
     "data": {
      "text/plain": [
       "True"
      ]
     },
     "execution_count": 15,
     "metadata": {},
     "output_type": "execute_result"
    }
   ],
   "source": [
    "from keyword import iskeyword\n",
    "iskeyword('def')"
   ]
  },
  {
   "cell_type": "code",
   "execution_count": 18,
   "metadata": {},
   "outputs": [
    {
     "ename": "NameError",
     "evalue": "name 'g2kg' is not defined",
     "output_type": "error",
     "traceback": [
      "\u001b[0;31m---------------------------------------------------------------------------\u001b[0m",
      "\u001b[0;31mNameError\u001b[0m                                 Traceback (most recent call last)",
      "\u001b[0;32m<ipython-input-18-e92e1631874b>\u001b[0m in \u001b[0;36m<module>\u001b[0;34m()\u001b[0m\n\u001b[0;32m----> 1\u001b[0;31m \u001b[0mtype\u001b[0m\u001b[0;34m(\u001b[0m\u001b[0mg2kg\u001b[0m\u001b[0;34m)\u001b[0m\u001b[0;34m\u001b[0m\u001b[0m\n\u001b[0m",
      "\u001b[0;31mNameError\u001b[0m: name 'g2kg' is not defined"
     ]
    }
   ],
   "source": [
    "type(g2kg)"
   ]
  },
  {
   "cell_type": "code",
   "execution_count": 20,
   "metadata": {},
   "outputs": [
    {
     "data": {
      "text/plain": [
       "False"
      ]
     },
     "execution_count": 20,
     "metadata": {},
     "output_type": "execute_result"
    }
   ],
   "source": [
    "from keyword import iskeyword\n",
    "iskeyword('g2kg')"
   ]
  },
  {
   "cell_type": "markdown",
   "metadata": {},
   "source": [
    "Once we know that our function name is available we can build our function. Remember the parenthsis, colon and return statment."
   ]
  },
  {
   "cell_type": "code",
   "execution_count": 24,
   "metadata": {},
   "outputs": [],
   "source": [
    "def g2kg(g):\n",
    "    kg = g/1000\n",
    "    \n",
    "    return kg"
   ]
  },
  {
   "cell_type": "markdown",
   "metadata": {},
   "source": [
    "Now let's try and use our function. How many kg's is 1300 grams. We expect the output to be 1.3 kg"
   ]
  },
  {
   "cell_type": "code",
   "execution_count": 25,
   "metadata": {},
   "outputs": [
    {
     "data": {
      "text/plain": [
       "1.3"
      ]
     },
     "execution_count": 25,
     "metadata": {},
     "output_type": "execute_result"
    }
   ],
   "source": [
    "g2kg(1300)"
   ]
  },
  {
   "cell_type": "code",
   "execution_count": 41,
   "metadata": {},
   "outputs": [],
   "source": [
    "def g2kg(g):\n",
    "    \"\"\"\n",
    "    \n",
    "    Function g2kg converts between g and kg\n",
    "    \n",
    "    input: a measurement in grams, int or float\n",
    "    output: measurment in kg, float\n",
    "    \n",
    "    Example:\n",
    "    \n",
    "        >> g2kg(1300)\n",
    "            \n",
    "            1.3\n",
    "        \n",
    "    Verions 1.0 Peter Kazarinoff, Feb 2018\n",
    "    \"\"\"\n",
    "    kg = g/1000\n",
    "    \n",
    "    return kg"
   ]
  },
  {
   "cell_type": "code",
   "execution_count": 42,
   "metadata": {},
   "outputs": [
    {
     "name": "stdout",
     "output_type": "stream",
     "text": [
      "Help on function g2kg in module __main__:\n",
      "\n",
      "g2kg(g)\n",
      "    Function g2kg converts between g and kg\n",
      "    \n",
      "    input: a measurement in grams, int or float\n",
      "    output: measurment in kg, float\n",
      "    \n",
      "    Example:\n",
      "    \n",
      "        >> g2kg(1300)\n",
      "            \n",
      "            1.3\n",
      "        \n",
      "    Verions 1.0 Peter Kazarinoff, Feb 2018\n",
      "\n"
     ]
    }
   ],
   "source": [
    "help(g2kg)"
   ]
  }
 ],
 "metadata": {
  "kernelspec": {
   "display_name": "Python 3",
   "language": "python",
   "name": "python3"
  },
  "language_info": {
   "codemirror_mode": {
    "name": "ipython",
    "version": 3
   },
   "file_extension": ".py",
   "mimetype": "text/x-python",
   "name": "python",
   "nbconvert_exporter": "python",
   "pygments_lexer": "ipython3",
   "version": "3.6.3"
  }
 },
 "nbformat": 4,
 "nbformat_minor": 2
}
