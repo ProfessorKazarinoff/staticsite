{
 "cells": [
  {
   "cell_type": "markdown",
   "metadata": {},
   "source": [
    "## Vector Class Example:\n",
    "\n",
    "A vector can have 3 components.\n",
    "vector properties: magnitude, i comp, j comp, k comp, is_unit_vector\n",
    "vector methods: vector addition, vector subtraction, scalar multiplication, scalar division"
   ]
  },
  {
   "cell_type": "code",
   "execution_count": 3,
   "metadata": {},
   "outputs": [],
   "source": [
    "from math import sqrt\n",
    "\n",
    "class Vector:\n",
    "    \n",
    "    def __init__(self, i_term=0.0, j_term=0.0, k_term=0.0):\n",
    "        self.i_term = float(i_term)\n",
    "        self.j_term = float(j_term)\n",
    "        self.k_term = float(k_term)\n",
    "        self.magnitude = sqrt(i_term**2 + j_term**2 + k_term**2)\n",
    "        self.term = 0\n",
    "        \n",
    "    def is_unit_vector(self):\n",
    "        if self.magnitude < 1.00000000001 and self.magnitude > 0.999999999999:\n",
    "            return True\n",
    "        else:\n",
    "            return False\n",
    "    \n",
    "    def __str__(self):\n",
    "        return('{}i + {}j + {}k'.format(self.i_term,self.j_term,self.k_term))\n",
    "    \n",
    "    def __eq__(self, other): # does self == other?\n",
    "        return self.i_term == other.i_term and self.j_term == other.j_term and self.k_term == other.k_term\n",
    "    \n",
    "    def __add__(self, other): # what happens when self + other?\n",
    "        return Vector(self.i_term + other.i_term, self.j_term + other.j_term, self.k_term + other.k_term)\n",
    "    \n",
    "    def __sub__(self, other): # what happens when self - other?\n",
    "        return Vector(self.i_term - other.i_term, self.j_term - other.j_term, self.k_term - other.k_term)\n",
    "    \n",
    "    def __mul__(self, other): # what happens when self * other?\n",
    "        return Vector(self.i_term*other, self.j_term*other, self.k_term*other)\n",
    "    \n",
    "    def __truediv__(self, other): # what happens when self / other\n",
    "        return Vector(self.i_term/other, self.j_term/other, self.k_term/other)\n",
    "    \n",
    "    def __dict__(self):\n",
    "        return {'i_term':self.i_term, 'j_term':self.j_term, 'k_term':self.k_term}\n",
    "    \n",
    "    def __next__(self):\n",
    "        if self.term >= 3:\n",
    "            raise StopIteration\n",
    "        if self.term == 0:\n",
    "            term = self.i_term\n",
    "        if self.term == 1:\n",
    "            term = self.j_term\n",
    "        if self.term == 2:\n",
    "            term = self.k_term\n",
    "        self.term += 1\n",
    "        return term\n",
    "        \n",
    "    def __iter__(self):\n",
    "        return self"
   ]
  },
  {
   "cell_type": "code",
   "execution_count": 4,
   "metadata": {},
   "outputs": [],
   "source": [
    "F = Vector(2,3,4)"
   ]
  },
  {
   "cell_type": "code",
   "execution_count": 5,
   "metadata": {},
   "outputs": [
    {
     "data": {
      "text/plain": [
       "2.0"
      ]
     },
     "execution_count": 5,
     "metadata": {},
     "output_type": "execute_result"
    }
   ],
   "source": [
    "F.i_term"
   ]
  },
  {
   "cell_type": "code",
   "execution_count": 6,
   "metadata": {},
   "outputs": [
    {
     "data": {
      "text/plain": [
       "3.0"
      ]
     },
     "execution_count": 6,
     "metadata": {},
     "output_type": "execute_result"
    }
   ],
   "source": [
    "F.j_term"
   ]
  },
  {
   "cell_type": "code",
   "execution_count": 7,
   "metadata": {},
   "outputs": [
    {
     "data": {
      "text/plain": [
       "4.0"
      ]
     },
     "execution_count": 7,
     "metadata": {},
     "output_type": "execute_result"
    }
   ],
   "source": [
    "F.k_term"
   ]
  },
  {
   "cell_type": "code",
   "execution_count": 8,
   "metadata": {},
   "outputs": [
    {
     "data": {
      "text/plain": [
       "5.385164807134504"
      ]
     },
     "execution_count": 8,
     "metadata": {},
     "output_type": "execute_result"
    }
   ],
   "source": [
    "F.magnitude"
   ]
  },
  {
   "cell_type": "code",
   "execution_count": 10,
   "metadata": {},
   "outputs": [
    {
     "data": {
      "text/plain": [
       "False"
      ]
     },
     "execution_count": 10,
     "metadata": {},
     "output_type": "execute_result"
    }
   ],
   "source": [
    "F.is_unit_vector()"
   ]
  },
  {
   "cell_type": "code",
   "execution_count": 13,
   "metadata": {},
   "outputs": [
    {
     "name": "stdout",
     "output_type": "stream",
     "text": [
      "6.0i + 9.0j + 12.0k\n"
     ]
    }
   ],
   "source": [
    "G = F * 3\n",
    "print(G)"
   ]
  },
  {
   "cell_type": "code",
   "execution_count": 14,
   "metadata": {},
   "outputs": [
    {
     "name": "stdout",
     "output_type": "stream",
     "text": [
      "8.0i + 12.0j + 16.0k\n"
     ]
    }
   ],
   "source": [
    "H = F + G\n",
    "print(H)"
   ]
  },
  {
   "cell_type": "code",
   "execution_count": 15,
   "metadata": {},
   "outputs": [],
   "source": [
    "K = H - G"
   ]
  },
  {
   "cell_type": "code",
   "execution_count": 16,
   "metadata": {},
   "outputs": [
    {
     "data": {
      "text/plain": [
       "True"
      ]
     },
     "execution_count": 16,
     "metadata": {},
     "output_type": "execute_result"
    }
   ],
   "source": [
    "K == F"
   ]
  },
  {
   "cell_type": "code",
   "execution_count": 17,
   "metadata": {},
   "outputs": [
    {
     "data": {
      "text/plain": [
       "False"
      ]
     },
     "execution_count": 17,
     "metadata": {},
     "output_type": "execute_result"
    }
   ],
   "source": [
    "K == H"
   ]
  },
  {
   "cell_type": "code",
   "execution_count": null,
   "metadata": {},
   "outputs": [],
   "source": []
  }
 ],
 "metadata": {
  "kernelspec": {
   "display_name": "Python 3",
   "language": "python",
   "name": "python3"
  },
  "language_info": {
   "codemirror_mode": {
    "name": "ipython",
    "version": 3
   },
   "file_extension": ".py",
   "mimetype": "text/x-python",
   "name": "python",
   "nbconvert_exporter": "python",
   "pygments_lexer": "ipython3",
   "version": "3.6.2"
  }
 },
 "nbformat": 4,
 "nbformat_minor": 2
}
