{
 "cells": [
  {
   "cell_type": "markdown",
   "metadata": {},
   "source": [
    "### A statics problem\n",
    "#### Given:\n",
    "A weight of 22lbs is hung by a ring. The ring is held by two cords pulled apart.\n",
    "\n",
    "The cord a on the left is at an angle $\\alpha$ = 45&deg; CW relative to the -x-axis (45&deg; above horazontal) \n",
    "\n",
    "The cord b on the right is at an angle $\\beta$ = 60&deg; CCW relative to the +x-axis (60&deg; above horazontal)\n",
    "\n",
    "#### Find:\n",
    "The tension in cord A\n",
    "\n",
    "The tension in cord B\n"
   ]
  },
  {
   "cell_type": "markdown",
   "metadata": {},
   "source": [
    "#### Solution:\n",
    "To solve this problem with python we are going to use numpy arrays, and the numpy`s linear algebra solver. \n",
    "\n",
    "To begin we need to ```import numpy as np``` and from numpy's linear algebra module ```.linalg``` import the matrix inverse function ```inv```. To decrease the number of digits we see when we print out a numpy array we'll use numpys ```np.set_printoptions(precision=3)``` this will give use three digits past the decimal point."
   ]
  },
  {
   "cell_type": "code",
   "execution_count": 107,
   "metadata": {},
   "outputs": [],
   "source": [
    "import numpy as np\n",
    "from numpy.linalg import inv\n",
    "np.set_printoptions(precision=3)"
   ]
  },
  {
   "cell_type": "markdown",
   "metadata": {},
   "source": [
    "Now we will define the angles $\\alpha$ and $\\beta$ in radians"
   ]
  },
  {
   "cell_type": "code",
   "execution_count": 108,
   "metadata": {},
   "outputs": [
    {
     "name": "stdout",
     "output_type": "stream",
     "text": [
      "0.7853981633974483\n",
      "1.0471975511965976\n"
     ]
    }
   ],
   "source": [
    "alpha = 45*np.pi/180\n",
    "beta = 60*np.pi/180\n",
    "print(alpha) \n",
    "print(beta)"
   ]
  },
  {
   "cell_type": "markdown",
   "metadata": {},
   "source": [
    "Next we will create a numpy array which has two rows and two columns (2 x 2 array). The terms will be the rows will be the sum of the forces in x and the sum of the forces in y. The columns will correspond to coefficients multiplied by A and coefficients multiplied by B."
   ]
  },
  {
   "cell_type": "code",
   "execution_count": 109,
   "metadata": {},
   "outputs": [
    {
     "name": "stdout",
     "output_type": "stream",
     "text": [
      "[[-0.707  0.5  ]\n",
      " [ 0.707  0.866]]\n"
     ]
    }
   ],
   "source": [
    "A = np.array([[-np.cos(alpha), np.cos(beta)],[np.sin(alpha), np.sin(beta)]])\n",
    "print(A)"
   ]
  },
  {
   "cell_type": "markdown",
   "metadata": {},
   "source": [
    "Next we create the answer matrix B. \n",
    "This is a two row, one column matrix (2 x 1 array). \n",
    "The rows are the sum of the x-terms (xero) and sum of the y-terms (22)"
   ]
  },
  {
   "cell_type": "code",
   "execution_count": 110,
   "metadata": {},
   "outputs": [
    {
     "name": "stdout",
     "output_type": "stream",
     "text": [
      "[[ 0]\n",
      " [22]]\n"
     ]
    }
   ],
   "source": [
    "B = np.array([[0],[22]])\n",
    "print(B)"
   ]
  },
  {
   "cell_type": "markdown",
   "metadata": {},
   "source": [
    "Now use numpy`s ```np.linalg.solve()``` function and pass in our two arrays. We will assign the output of the ```solve()``` function to the variable ```x```.\n",
    "\n",
    "When we ```print(x)``` we see the answer to our problem. "
   ]
  },
  {
   "cell_type": "code",
   "execution_count": 111,
   "metadata": {},
   "outputs": [
    {
     "name": "stdout",
     "output_type": "stream",
     "text": [
      "[[ 11.388]\n",
      " [ 16.105]]\n"
     ]
    }
   ],
   "source": [
    "x = np.linalg.solve(A,B)\n",
    "print(x)"
   ]
  },
  {
   "cell_type": "markdown",
   "metadata": {},
   "source": [
    "We can also have the output of the ```solve()``` function be split into two variables, ```a``` and ```b```."
   ]
  },
  {
   "cell_type": "code",
   "execution_count": 112,
   "metadata": {},
   "outputs": [
    {
     "name": "stdout",
     "output_type": "stream",
     "text": [
      "[ 11.388] [ 16.105]\n"
     ]
    }
   ],
   "source": [
    "a,b = np.linalg.solve(A,B)\n",
    "print(a,b)"
   ]
  },
  {
   "cell_type": "markdown",
   "metadata": {},
   "source": [
    "We can also solve this problem without using numpy`s ```linalg.solve()``` function.\n",
    "\n",
    "$$ A x = B $$\n",
    "\n",
    "$$ x = \\frac{B}{A} $$\n",
    "\n",
    "$$ x = A^{-1}B $$\n",
    "\n",
    "To produce $A^{-1}$, the inverse of A, we need to use numpy's ```np.linalg.inv()``` function. To matrix multiply the terms $A^{-1}$ and B, we need to usen umpy's matrix multiplication function ```np.dot()```. "
   ]
  },
  {
   "cell_type": "code",
   "execution_count": 113,
   "metadata": {},
   "outputs": [
    {
     "name": "stdout",
     "output_type": "stream",
     "text": [
      "[ 11.388]\n",
      "[ 16.105]\n"
     ]
    }
   ],
   "source": [
    "a,b = np.dot(inv(A),B)\n",
    "print(a)\n",
    "print(b)"
   ]
  },
  {
   "cell_type": "markdown",
   "metadata": {},
   "source": [
    "Rounding to three sig figs and printing out the answer in a pretty way"
   ]
  },
  {
   "cell_type": "code",
   "execution_count": 114,
   "metadata": {},
   "outputs": [
    {
     "name": "stdout",
     "output_type": "stream",
     "text": [
      "a = 11.4 lb\n",
      "b = 16.1 lb\n"
     ]
    }
   ],
   "source": [
    "print('a = %3.1f lb'%a)\n",
    "print('b = %3.1f lb'%b)"
   ]
  }
 ],
 "metadata": {
  "kernelspec": {
   "display_name": "Python 3",
   "language": "python",
   "name": "python3"
  },
  "language_info": {
   "codemirror_mode": {
    "name": "ipython",
    "version": 3.0
   },
   "file_extension": ".py",
   "mimetype": "text/x-python",
   "name": "python",
   "nbconvert_exporter": "python",
   "pygments_lexer": "ipython3",
   "version": "3.6.2"
  }
 },
 "nbformat": 4,
 "nbformat_minor": 0
}