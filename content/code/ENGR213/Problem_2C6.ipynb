{
 "cells": [
  {
   "cell_type": "markdown",
   "metadata": {},
   "source": [
    "# Problem 2.C6 in Beer and Johnston"
   ]
  },
  {
   "cell_type": "markdown",
   "metadata": {},
   "source": [
    "### Given:\n",
    "\n",
    "A solid truncated cone is subjected to an axial force $P$ as shown below.\n",
    "\n",
    "![problem diagram](problem_diagram.png)\n",
    "\n",
    "When load $P$ is applied to the cone, the exact elongation, $\\epsilon$ is:\n",
    "\n",
    "$$ \\epsilon = \\frac{PL}{2\\pi c^{2}E} $$"
   ]
  },
  {
   "cell_type": "markdown",
   "metadata": {},
   "source": [
    "### Find:\n",
    "\n",
    "By replacing the cone by $n$ circular cylinders of equal thickness, determine the elongation of the the truncated cone. Also calculate the percent error obtained from using $n=6$, $n=12$, and $n=60$ circular cylinders."
   ]
  },
  {
   "cell_type": "markdown",
   "metadata": {},
   "source": [
    "### Assume:\n",
    "\n",
    "This problem can be completed generally, but for this solution, we are going to assume the following:\n",
    "\n",
    "load $P=10 \\ MPa$\n",
    "\n",
    "minor radius $c=5 \\ mm$\n",
    "\n",
    "major radius $2c=10 \\ mm$\n",
    "\n",
    "length $L=100 \\ mm$\n",
    "\n",
    "Elastic Modulus $E=120 \\ GPa$"
   ]
  },
  {
   "cell_type": "markdown",
   "metadata": {},
   "source": [
    "### Solution:\n",
    "\n",
    "We are going to use Python to code the solution to this problem. If you don't already have Python installed on your computer, I recommend installing the [Anaconda](https://www.anaconda.com/distribution/) distribution of Python. See [this post](https://pythonforundergradengineers.com/installing-anaconda-on-windows.html) to learn how to install Anaconda on your computer. \n",
    "\n",
    "I am coding this solution in a [Jupyter Notebook](https://jupyter.org/). Once you install Anaconda, you can open a Jupyter notebook from the Windows start menu or the Anaconda Prompt. See [this post](https://pythonforundergradengineers.com/opening-a-jupyter-notebook-on-windows.html) to learn about the ways to open a Jupyter notebook.\n",
    "\n",
    "Alternatively, instead of using a Jupyter notebook, you could code your solution in a ```.py``` file.\n",
    "\n",
    "**Alright. Let's get coding....**"
   ]
  },
  {
   "cell_type": "markdown",
   "metadata": {},
   "source": [
    "Using the equation for the exact elongation, ($\\epsilon$) above and the assumed values for $P$, $c$, $L$, and $E$, we can calculate $\\epsilon$, which we will call ```e_exact```. The equation and assumed values are below.\n",
    "\n",
    "$$ \\epsilon = \\frac{PL}{2\\pi c^{2}E} $$\n",
    "\n",
    "$P=10 \\ MPa$\n",
    "\n",
    "$c=5 \\ mm$\n",
    "\n",
    "$L=100 \\ mm$\n",
    "\n",
    "$E=120 \\ GPa$\n",
    "\n",
    "To code this solution in Python, first we need to import the ```math``` module. From the ```math``` module we will use ```math.pi``` as our value for $pi$. We can print our calculated ```e_exact``` using a Python _f-string_. Python f-strings allow us to put variables on the inside of print statements. Variables inside Python f-strings need to be surrounded by curly braces ```{ }```. Make sure to pre-pend the f-string with the letter ```\"f\"```."
   ]
  },
  {
   "cell_type": "code",
   "execution_count": 2,
   "metadata": {},
   "outputs": [
    {
     "name": "stdout",
     "output_type": "stream",
     "text": [
      "The exact value for delfection of the cone is d_exact = 5.305164769729845e-05\n"
     ]
    }
   ],
   "source": [
    "import math\n",
    "\n",
    "P = 10\n",
    "c = 5\n",
    "L = 100\n",
    "E = 120*1000 #120 GPa = 120 * 1000 MPa\n",
    "\n",
    "e_exact = (P*L)/(2*math.pi*(c**2)*E)\n",
    "\n",
    "print(f\"The exact value for delfection of the cone is d_exact = {e_exact}\")"
   ]
  },
  {
   "cell_type": "markdown",
   "metadata": {},
   "source": [
    "Next we'll see how the approximations of the elongation of the cone compare to the exact elongation ```e_exact``` calculated above. We'll calculate the approximate elongation by dividing the cone into separate \"disks\". Below is a picture of a children's toy to illustrate the concept of modeling a truncated cone as a set of separate disks.\n",
    "\n",
    "![children's toy](child_toy.png)\n",
    "\n",
    "\n",
    "For each \"disk\" the elongation $\\delta$ is equal to:\n",
    "\n",
    "$$ \\delta = \\frac{PL}{AE} $$\n",
    "\n",
    "where\n",
    "\n",
    "$\\delta$ = deformation, or change in thickness of the disk\n",
    "\n",
    "$P$ = load\n",
    "\n",
    "$L$ = original length or thickness of the disk\n",
    "\n",
    "$A$ = cross-sectional area of the disk\n",
    "\n",
    "$E$ = Elastic Modulus (a material property)"
   ]
  },
  {
   "cell_type": "markdown",
   "metadata": {},
   "source": [
    "We can plot the upper surface of our truncated cone in two dimensions. The x-axis on the plot is the cone length and the y-axis is the cone radius. The resulting plot looks like the hand-drawn plot below.\n",
    "\n",
    "![r vs L](r_2r.png)"
   ]
  },
  {
   "cell_type": "markdown",
   "metadata": {},
   "source": [
    "OK. Let's make our first approximation. If the truncated cone is modeled as a single disk (something that kind of looks like a can of soup), the radius of that single disk should be the average of the minor radius $r = 5 \\ mm$ and the major radius $2r = 10 \\ mm$. The plot below shows this approximation. Note how the upper surface of the cone (the line on the plot) has been approximated as a single horizontal line at a value of $r = 7.5 \\ mm$.\n",
    "\n",
    "![divide cone by 1](divide_by_n_equals1.png)"
   ]
  },
  {
   "cell_type": "markdown",
   "metadata": {},
   "source": [
    "We can calculate the the elongation of this single cylinder with a radius of $r = 7.5$ using the standard equation for elongation in engineering mechanics.\n",
    "\n",
    "$$ \\delta_1 = \\frac{PL}{A_{1}E} $$\n",
    "\n",
    "$\\delta_1$ = deformation, or change in thickness of the one disk\n",
    "\n",
    "$P = 10 \\ MPa$\n",
    "\n",
    "$r_1 =7.5 \\ mm$ (radius of the one disk)\n",
    "\n",
    "$A_1 = \\pi r^2$ (area of the one disk)\n",
    "\n",
    "$L = 100 \\ mm$\n",
    "\n",
    "$E = 120 \\ GPa$\n",
    "\n",
    "Let's code this approximation of the elongation (modeling the truncated cone as a single thick disk) in Python."
   ]
  },
  {
   "cell_type": "code",
   "execution_count": 4,
   "metadata": {},
   "outputs": [
    {
     "name": "stdout",
     "output_type": "stream",
     "text": [
      "The approximate value for delfection of the cone modeled as one disk is d_1 = 4.71570201753764e-05\n"
     ]
    }
   ],
   "source": [
    "import math\n",
    "\n",
    "P = 10\n",
    "r_1 = 7.5\n",
    "A_1 = math.pi*r_1**2\n",
    "L = 100\n",
    "E = 120*1000 #120 GPa = 120 * 1000 MPa\n",
    "\n",
    "d_1 = (P*L)/(A_1*E)\n",
    "\n",
    "print(f\"The approximate value for delfection of the cone modeled as one disk is d_1 = {d_1}\")"
   ]
  },
  {
   "cell_type": "markdown",
   "metadata": {},
   "source": [
    "The approximate value calculated above is around $4.72 \\times 10^{-5}$. This approximate value is in the same order of magnitude as the previously calculated exact value of deflection ```d_exact``` which was about $5.31 \\times 10^{-5}$.\n",
    "\n",
    "We can more closely approximate the deformation by dividing our truncated cone into more numerous by successively thinner disks. The plot below shows the progression of using two disks, then three disks, then four disks.\n",
    "\n",
    "![3 approximations](divide_by_n.png)\n",
    "\n",
    "Note that as the number of disks increases the thickness of each disk also increases. The thickness of each disk $L$ can be calculated by taking the thickness (or Length) of the entire truncated cone and dividing it by the number of disks.\n",
    "\n",
    "$$ L_n = \\frac{L}{n} $$\n",
    "\n",
    "$L_n$ = thickness of each disk\n",
    "\n",
    "$L$ = thickness of the whole truncated cone\n",
    "\n",
    "$n$ = number of disks the truncated cone is approximated by\n",
    "\n",
    "Half of the disk thickness is where we will set our disk radius. If we take the $L$ value (x-value) as the right-hand edge of each disk, we need to back up half-way through the disk to set the location of the disk radius.\n",
    "\n",
    "$$ L_i = \\frac{n_i}{L} - (L_n/2) $$\n",
    "\n",
    "$L_i$ = $L$ value where we set the radius for each disk\n",
    "\n",
    "$n_i$ = disk number\n",
    "\n",
    "$L$ = thickness of the whole truncated cone\n",
    "\n",
    "$L_n$ = thickness of each disk\n",
    "\n",
    "$L_n/2$ = half the thickness of each disk (need to back up half-way through a disk to arrive at the $L$ value to set the radius)"
   ]
  },
  {
   "cell_type": "markdown",
   "metadata": {},
   "source": [
    "Great, we have an equation for the $L$ value of each disk, but we still need the radius of each disk to calculate the area of each disk and ultimately the deformation of each disk. \n",
    "\n",
    "What we need is an equation that spits out a radius $r$ given a length $L$. \n",
    "\n",
    "We can write the equation with the help of a plot. The plot below shows how radius $r$ changes based on length $L$. The relationship is a simple line that we can approximate using the form $y = mx+b$. Where $y = r$, $m = slope$, and $b = y-intercept$. The hand-drawn plot below shows the equation for our assumed values.\n",
    "\n",
    "![plot with equation](r_2r_with_10_5_100.png)\n",
    "\n",
    "So our equation for $r$ in terms of $L_i$ is:\n",
    "\n",
    "$$ r = \\frac{-5}{100}L_i + 10 $$\n",
    "\n",
    "\\frac{-5}{100} = slope of $r$ vs. $L$\n",
    "\n",
    "$L_i$ = L value (distance \"up\" the truncated cone)\n",
    "\n",
    "10 = y-intercept (the major radius)"
   ]
  },
  {
   "cell_type": "markdown",
   "metadata": {},
   "source": [
    "Now let's use our formula for disk radius $r$ and approximate the elongation of the truncated cone using two disks ($n=2$)."
   ]
  },
  {
   "cell_type": "code",
   "execution_count": 27,
   "metadata": {},
   "outputs": [
    {
     "name": "stdout",
     "output_type": "stream",
     "text": [
      "L(1) position: 25.0\n",
      "r(1) length: 8.75\n",
      "The delfection of the first disk d_1 = 1.7322987003199492e-05\n",
      "L(2) position: 75.0\n",
      "r(2) length: 6.25\n",
      "The delfection of the second disk d_2 = 3.395305452627101e-05\n",
      "The total estimated deflections using 2 disks is d_t = 5.12760415294705e-05\n"
     ]
    }
   ],
   "source": [
    "import math\n",
    "\n",
    "P = 10\n",
    "c = 5\n",
    "L = 100\n",
    "E = 120*1000 #120 GPa = 120 * 1000 MPa\n",
    "\n",
    "n = 2 # two disks\n",
    "L_n = L/n #thickness of each disk\n",
    "\n",
    "# calculate elgongation of the first disk (the disk with the larger radius)\n",
    "i=1\n",
    "L_1 = i*L/n-(L_n*(1/2))\n",
    "print(f\"L({i}) position: {L_1}\")\n",
    "r_1 = (-c/L)*L_1+2*c\n",
    "print(f\"r({i}) length: {r_1}\")\n",
    "A_1 = math.pi*r_1**2\n",
    "d_1 = (P*L/n)/(A_1*E)\n",
    "print(f\"The delfection of the first disk d_1 = {d_1}\")\n",
    "\n",
    "# calculate elgongation of the second disk (the disk with the larger radius)\n",
    "i=2\n",
    "L_2 = i*L/n-(L_n*(1/2))\n",
    "print(f\"L({i}) position: {L_2}\")\n",
    "r_2 = (-c/L)*L_2+2*c\n",
    "print(f\"r({i}) length: {r_2}\")\n",
    "A_2 = math.pi*r_2**2\n",
    "d_2 = (P*L/n)/(A_2*E)\n",
    "print(f\"The delfection of the second disk d_2 = {d_2}\")\n",
    "\n",
    "# add the two deflections together to calculate the total deflection\n",
    "d_t = d_1 + d_2\n",
    "print(f\"The total estimated deflections using {n} disks is d_t = {d_t}\")"
   ]
  },
  {
   "cell_type": "markdown",
   "metadata": {},
   "source": [
    "Great! We can see our approximation using two disks which is about $5.13 \\times 10^{-5}$ is closer to the exact value than our first approximation using one disk.\n",
    "\n",
    "But hand coding in ```L_1```, ```r_1```, ```A_1```, ```d_1``` followed by ```L_2```, ```r_2```, ```A_2```, ```d_2``` even though we are doing the same operations each time is repetative. If we have 5 or 60 disks, we would end up with a lot of code. \n",
    "\n",
    "So to make our calculation work for $n$ disks, we'll use a _for loop_. We want to start our loop at ```i=1``` and end our loop at ```i=n```. For example, the code below shows how the calculation above can be refactored into a _for loop_."
   ]
  },
  {
   "cell_type": "code",
   "execution_count": 29,
   "metadata": {},
   "outputs": [
    {
     "name": "stdout",
     "output_type": "stream",
     "text": [
      "L(1) position: 25.0\n",
      "r(1) length: 8.75\n",
      "The delfection of the disk 1 = 1.7322987003199492e-05\n",
      "L(2) position: 75.0\n",
      "r(2) length: 6.25\n",
      "The delfection of the disk 2 = 3.395305452627101e-05\n"
     ]
    }
   ],
   "source": [
    "import math\n",
    "\n",
    "P = 10\n",
    "c = 5\n",
    "L = 100\n",
    "E = 120*1000 #120 GPa = 120 * 1000 MPa\n",
    "\n",
    "n = 2 # two disks\n",
    "L_n = L/n #thickness of each disk\n",
    "\n",
    "# calculate elgongation of the first disk (the disk with the larger radius)\n",
    "for i in range(1,n+1):\n",
    "    L_i = i*L/n-(L_n*(1/2))\n",
    "    print(f\"L({i}) position: {L_i}\")\n",
    "    r_i = (-c/L)*L_i+2*c\n",
    "    print(f\"r({i}) length: {r_i}\")\n",
    "    A_i = math.pi*r_i**2\n",
    "    d_i = (P*L/n)/(A_i*E)\n",
    "    print(f\"The delfection of the disk {i} = {d_i}\")"
   ]
  },
  {
   "cell_type": "markdown",
   "metadata": {},
   "source": [
    "We can add all of these deflections together in one variable called ```d_t```. We'll use Python's ```+=``` operator to each disk's deflection each time we go through the *for loop*."
   ]
  },
  {
   "cell_type": "code",
   "execution_count": 30,
   "metadata": {},
   "outputs": [
    {
     "name": "stdout",
     "output_type": "stream",
     "text": [
      "L(1) position: 25.0\n",
      "r(1) length: 8.75\n",
      "The delfection of the disk 1 = 1.7322987003199492e-05\n",
      "L(2) position: 75.0\n",
      "r(2) length: 6.25\n",
      "The delfection of the disk 2 = 3.395305452627101e-05\n",
      "The total estimated deflection using 2 disks d_t = 5.12760415294705e-05\n"
     ]
    }
   ],
   "source": [
    "import math\n",
    "\n",
    "P = 10\n",
    "c = 5\n",
    "L = 100\n",
    "E = 120*1000 #120 GPa = 120 * 1000 MPa\n",
    "\n",
    "n = 2 # two disks\n",
    "L_n = L/n #thickness of each disk\n",
    "d_t = 0\n",
    "\n",
    "# calculate elgongation of the first disk (the disk with the larger radius)\n",
    "for i in range(1,n+1):\n",
    "    L_i = i*L/n-(L_n*(1/2))\n",
    "    print(f\"L({i}) position: {L_i}\")\n",
    "    r_i = (-c/L)*L_i+2*c\n",
    "    print(f\"r({i}) length: {r_i}\")\n",
    "    A_i = math.pi*r_i**2\n",
    "    d_i = (P*L/n)/(A_i*E)\n",
    "    print(f\"The delfection of the disk {i} = {d_i}\")\n",
    "    d_t += d_i\n",
    "\n",
    "print(f\"The total estimated deflection using {n} disks d_t = {d_t}\")\n"
   ]
  },
  {
   "cell_type": "markdown",
   "metadata": {},
   "source": [
    "To calculate the percent error we'll use:\n",
    "\n",
    "$$ \\%error = \\frac{\\delta_{approx}-\\delta_{exact}}{\\delta_{exact}} \\times 100\\% $$"
   ]
  },
  {
   "cell_type": "code",
   "execution_count": 9,
   "metadata": {},
   "outputs": [
    {
     "name": "stdout",
     "output_type": "stream",
     "text": [
      "82.22444774334761\n"
     ]
    }
   ],
   "source": [
    "pct_error = (d_total-d_exact)/d_exact * 100\n",
    "print(pct_error)"
   ]
  },
  {
   "cell_type": "markdown",
   "metadata": {},
   "source": [
    "Now let's run it again, but use $n=12$"
   ]
  },
  {
   "cell_type": "code",
   "execution_count": 10,
   "metadata": {},
   "outputs": [
    {
     "name": "stdout",
     "output_type": "stream",
     "text": [
      "0.0001061032953945969\n",
      "0.0003896870374271672\n",
      "267.2713801941078\n"
     ]
    }
   ],
   "source": [
    "P = 10\n",
    "c = 5\n",
    "A = math.pi*c**2\n",
    "L = 100\n",
    "E = 120*1000 #120 GPa = 120 * 1000 MPa\n",
    "\n",
    "d_exact = delta(P,L,A,E)\n",
    "print(d_exact)\n",
    "n = 12\n",
    "d_total=0\n",
    "for i in range(n):\n",
    "    Li = (i+0.5)*(L/n)\n",
    "    ri = 2*c-c*(Li/L)\n",
    "    Ai = math.pi*ri**2\n",
    "    d_part = delta(P,Li,Ai,E)\n",
    "    d_total += d_part\n",
    "print(d_total)\n",
    "pct_error = (d_total-d_exact)/d_exact * 100\n",
    "print(pct_error)"
   ]
  },
  {
   "cell_type": "markdown",
   "metadata": {},
   "source": [
    "Run it one more time, but use $n=60$"
   ]
  },
  {
   "cell_type": "code",
   "execution_count": 11,
   "metadata": {},
   "outputs": [
    {
     "name": "stdout",
     "output_type": "stream",
     "text": [
      "0.0001061032953945969\n",
      "0.0019532831171970356\n",
      "1740.9259674101534\n"
     ]
    }
   ],
   "source": [
    "P = 10\n",
    "c = 5\n",
    "A = math.pi*c**2\n",
    "L = 100\n",
    "E = 120*1000 #120 GPa = 120 * 1000 MPa\n",
    "\n",
    "d_exact = delta(P,L,A,E)\n",
    "print(d_exact)\n",
    "n = 60\n",
    "d_total=0\n",
    "for i in range(n):\n",
    "    Li = (i+0.5)*(L/n)\n",
    "    ri = 2*c-c*(Li/L)\n",
    "    Ai = math.pi*ri**2\n",
    "    d_part = delta(P,Li,Ai,E)\n",
    "    d_total += d_part\n",
    "print(d_total)\n",
    "pct_error = (d_total-d_exact)/d_exact * 100\n",
    "print(pct_error)"
   ]
  },
  {
   "cell_type": "code",
   "execution_count": 19,
   "metadata": {},
   "outputs": [
    {
     "name": "stdout",
     "output_type": "stream",
     "text": [
      "L(1) position: 25.0\n",
      "r(1) length: 8.75\n",
      "1.7322987003199492e-05\n",
      "L(2) position: 75.0\n",
      "r(2) length: 6.25\n",
      "3.395305452627101e-05\n",
      "5.12760415294705e-05\n"
     ]
    }
   ],
   "source": [
    "import math\n",
    "P = 10\n",
    "c = 5\n",
    "A = math.pi*c**2\n",
    "L = 100\n",
    "E = 120*1000 #120 GPa = 120 * 1000 MPa\n",
    "n = 2\n",
    "d_total = 0\n",
    "for i in range(1,n+1):\n",
    "    Li = i*L/n-(L/n*(1/2))\n",
    "    print(f\"L({i}) position: {Li}\")\n",
    "    ri = (-c/L)*Li+2*c\n",
    "    print(f\"r({i}) length: {ri}\")\n",
    "    Ai = math.pi*ri**2\n",
    "    di = (P*L/n)/(Ai*E)\n",
    "    print(di)\n",
    "    d_total += di\n",
    "print(d_total)"
   ]
  },
  {
   "cell_type": "code",
   "execution_count": 13,
   "metadata": {},
   "outputs": [
    {
     "data": {
      "text/plain": [
       "5.305164769729845e-05"
      ]
     },
     "execution_count": 13,
     "metadata": {},
     "output_type": "execute_result"
    }
   ],
   "source": [
    "e_exact"
   ]
  },
  {
   "cell_type": "code",
   "execution_count": null,
   "metadata": {},
   "outputs": [],
   "source": []
  }
 ],
 "metadata": {
  "kernelspec": {
   "display_name": "Python 3",
   "language": "python",
   "name": "python3"
  },
  "language_info": {
   "codemirror_mode": {
    "name": "ipython",
    "version": 3
   },
   "file_extension": ".py",
   "mimetype": "text/x-python",
   "name": "python",
   "nbconvert_exporter": "python",
   "pygments_lexer": "ipython3",
   "version": "3.6.8"
  }
 },
 "nbformat": 4,
 "nbformat_minor": 2
}
