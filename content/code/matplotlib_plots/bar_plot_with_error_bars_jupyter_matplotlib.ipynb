{
 "cells": [
  {
   "cell_type": "markdown",
   "metadata": {},
   "source": [
    "Engineers collect data and make conclusions based on the results. An important way to view results is with statistical charts. In this post we will build a bar chart that compares the tensile strength of 3D-printed ABS plastic under different printing conditions. We will add error bars to the chart to show the amount of uncertainty in the data. For this plot, the hieght of the bars represent the mean or average of the measured tensile stength in the sample of data. The error bars on the plot will represent +1/-1 standard deviation about the mean."
   ]
  },
  {
   "cell_type": "markdown",
   "metadata": {},
   "source": [
    "The data we are going to plot is stored in an Microsoft Excel File. You can download the sample data here (clicking link will start the download):\n",
    "\n",
    "[3D-printed-tensile-bar-data.xlsx](https://github.com/ProfessorKazarinoff/staticsite/raw/master/content/code/matplotlib_plots/3D-printed_tensile_test_data.xlsx)\n",
    "\n",
    "We'll use **pandas** to load the data into the notebook. I recommend that undergraduate engineers use the **Anaconda** distribution of Python, which comes with the **pandas** library already installed. If **pandas** is not available, open a terminal or the **Anaconda Prompt** and type:\n",
    "\n",
    "```\n",
    "pip install pandas\n",
    "```\n",
    "\n",
    "or \n",
    "\n",
    "```\n",
    "conda install pandas\n",
    "\n",
    "```\n",
    "\n",
    "Note that when I first tried to run the ```pd.read_excel()``` function, I was returned an error:\n",
    "\n",
    "\n",
    "```python\n",
    "ImportError: Install xlrd >= 0.9.0 for Excel support\n",
    "````\n",
    "\n",
    "To solve this, I went to the **Anaconda Prompt** and typed:\n",
    "\n",
    "```\n",
    "conda install xlrd\n",
    "```\n",
    "\n",
    "Once the **xlrd** module was installed, the ```pd.read_excel()``` function worked just fine.\n",
    "\n",
    "To start the jupyter notebook, we need to import the required packages:\n",
    "\n",
    "**pandas**\n",
    "**numpy**\n",
    "**matplotlib**\n",
    "\n",
    "The ```%matplotlib inline``` magic command is add so that we can see our plots right in the **jupyter notebook**.\n"
   ]
  },
  {
   "cell_type": "code",
   "execution_count": 24,
   "metadata": {},
   "outputs": [],
   "source": [
    "import pandas as pd\n",
    "import numpy as np\n",
    "import matplotlib.pyplot as plt\n",
    "%matplotlib inline"
   ]
  },
  {
   "cell_type": "code",
   "execution_count": 25,
   "metadata": {},
   "outputs": [
    {
     "data": {
      "text/html": [
       "<div>\n",
       "<style scoped>\n",
       "    .dataframe tbody tr th:only-of-type {\n",
       "        vertical-align: middle;\n",
       "    }\n",
       "\n",
       "    .dataframe tbody tr th {\n",
       "        vertical-align: top;\n",
       "    }\n",
       "\n",
       "    .dataframe thead th {\n",
       "        text-align: right;\n",
       "    }\n",
       "</style>\n",
       "<table border=\"1\" class=\"dataframe\">\n",
       "  <thead>\n",
       "    <tr style=\"text-align: right;\">\n",
       "      <th></th>\n",
       "      <th>Label</th>\n",
       "      <th>Width (mm)</th>\n",
       "      <th>Thickness (mm)</th>\n",
       "      <th>Cross-sectional Area (mm^2)</th>\n",
       "      <th>Maximum Force (N)</th>\n",
       "      <th>Tensile Strength (Mpa)</th>\n",
       "    </tr>\n",
       "  </thead>\n",
       "  <tbody>\n",
       "    <tr>\n",
       "      <th>0</th>\n",
       "      <td>1 black</td>\n",
       "      <td>6.33</td>\n",
       "      <td>3.61</td>\n",
       "      <td>22.8513</td>\n",
       "      <td>426</td>\n",
       "      <td>18.642265</td>\n",
       "    </tr>\n",
       "    <tr>\n",
       "      <th>1</th>\n",
       "      <td>2 light blue</td>\n",
       "      <td>6.27</td>\n",
       "      <td>3.80</td>\n",
       "      <td>23.8260</td>\n",
       "      <td>514</td>\n",
       "      <td>21.573071</td>\n",
       "    </tr>\n",
       "    <tr>\n",
       "      <th>2</th>\n",
       "      <td>3 dark blue</td>\n",
       "      <td>6.29</td>\n",
       "      <td>3.61</td>\n",
       "      <td>22.7069</td>\n",
       "      <td>499</td>\n",
       "      <td>21.975699</td>\n",
       "    </tr>\n",
       "    <tr>\n",
       "      <th>3</th>\n",
       "      <td>4 black</td>\n",
       "      <td>6.28</td>\n",
       "      <td>3.50</td>\n",
       "      <td>21.9800</td>\n",
       "      <td>461</td>\n",
       "      <td>20.973612</td>\n",
       "    </tr>\n",
       "    <tr>\n",
       "      <th>4</th>\n",
       "      <td>5 white</td>\n",
       "      <td>6.25</td>\n",
       "      <td>3.72</td>\n",
       "      <td>23.2500</td>\n",
       "      <td>418</td>\n",
       "      <td>17.978495</td>\n",
       "    </tr>\n",
       "  </tbody>\n",
       "</table>\n",
       "</div>"
      ],
      "text/plain": [
       "          Label  Width (mm)  Thickness (mm)  Cross-sectional Area (mm^2)  \\\n",
       "0       1 black        6.33            3.61                      22.8513   \n",
       "1  2 light blue        6.27            3.80                      23.8260   \n",
       "2   3 dark blue        6.29            3.61                      22.7069   \n",
       "3       4 black        6.28            3.50                      21.9800   \n",
       "4       5 white        6.25            3.72                      23.2500   \n",
       "\n",
       "   Maximum Force (N)  Tensile Strength (Mpa)  \n",
       "0                426               18.642265  \n",
       "1                514               21.573071  \n",
       "2                499               21.975699  \n",
       "3                461               20.973612  \n",
       "4                418               17.978495  "
      ]
     },
     "execution_count": 25,
     "metadata": {},
     "output_type": "execute_result"
    }
   ],
   "source": [
    "data_url = 'https://github.com/ProfessorKazarinoff/staticsite/raw/master/content/code/matplotlib_plots/3D-printed_tensile_test_data.xlsx'\n",
    "df = pd.read_excel(data_url)\n",
    "df.head()\n",
    "#https://raw.githubusercontent.com/guipsamora/pandas_exercises/master/06_Stats/US_Baby_Names/US_Baby_Names_right.csv"
   ]
  },
  {
   "cell_type": "markdown",
   "metadata": {},
   "source": [
    "**Pandas** has a nice little method to view the staticstics for column in our datafram called ```describe()```. We'll use the ```describe()``` method to get a look at our basic statistics. The tensile strength column is the one we are interested in. Note the ```describe()``` method needs to include the ```()``` parenthesis at the end. "
   ]
  },
  {
   "cell_type": "code",
   "execution_count": 3,
   "metadata": {},
   "outputs": [
    {
     "data": {
      "text/plain": [
       "count    16.000000\n",
       "mean     19.935392\n",
       "std       1.796473\n",
       "min      16.022111\n",
       "25%      19.166825\n",
       "50%      19.618907\n",
       "75%      20.978060\n",
       "max      23.825110\n",
       "Name: Tensile Strength (Mpa), dtype: float64"
      ]
     },
     "execution_count": 3,
     "metadata": {},
     "output_type": "execute_result"
    }
   ],
   "source": [
    "df['Tensile Strength (Mpa)'].describe()"
   ]
  },
  {
   "cell_type": "markdown",
   "metadata": {},
   "source": [
    "Let's save the ```mean``` (the average) and the ```std``` (standard deviation) to new variables"
   ]
  },
  {
   "cell_type": "code",
   "execution_count": 23,
   "metadata": {},
   "outputs": [
    {
     "name": "stdout",
     "output_type": "stream",
     "text": [
      "19.935392326114744\n",
      "1.796472594947968\n"
     ]
    }
   ],
   "source": [
    "control_mean = df['Tensile Strength (Mpa)'].mean()\n",
    "control_stdev = df['Tensile Strength (Mpa)'].std()\n",
    "print(mean)\n",
    "print(stdev)"
   ]
  },
  {
   "cell_type": "markdown",
   "metadata": {},
   "source": [
    "Time to fire up the plot. We will build a plot using **matplotlib**.  \n",
    "\n",
    "We'll use **matplotlibs** ```plt.bar``` method to build the plot. "
   ]
  },
  {
   "cell_type": "code",
   "execution_count": 22,
   "metadata": {},
   "outputs": [
    {
     "name": "stdout",
     "output_type": "stream",
     "text": [
      "['__annotations__', '__call__', '__class__', '__closure__', '__code__', '__defaults__', '__delattr__', '__dict__', '__dir__', '__doc__', '__eq__', '__format__', '__ge__', '__get__', '__getattribute__', '__globals__', '__gt__', '__hash__', '__init__', '__init_subclass__', '__kwdefaults__', '__le__', '__lt__', '__module__', '__name__', '__ne__', '__new__', '__qualname__', '__reduce__', '__reduce_ex__', '__repr__', '__setattr__', '__sizeof__', '__str__', '__subclasshook__']\n"
     ]
    },
    {
     "data": {
      "image/png": "[encoded data removed]",
      "text/plain": [
       "<Figure size 640x480 with 1 Axes>"
      ]
     },
     "metadata": {},
     "output_type": "display_data"
    },
    {
     "name": "stdout",
     "output_type": "stream",
     "text": [
      "['seaborn-talk', 'seaborn-bright', 'seaborn-muted', 'seaborn-dark', 'seaborn-darkgrid', 'seaborn-paper', 'seaborn-white', 'seaborn-pastel', 'seaborn-colorblind', 'Solarize_Light2', 'seaborn', 'fast', 'seaborn-dark-palette', 'tableau-colorblind10', 'seaborn-notebook', 'classic', 'seaborn-poster', 'bmh', 'seaborn-whitegrid', 'seaborn-deep', 'dark_background', '_classic_test', 'fivethirtyeight', 'ggplot', 'seaborn-ticks', 'grayscale']\n"
     ]
    }
   ],
   "source": [
    "plt.bar(['control', 'experiment'], [mean, mean+7],yerr=[stdev, stdev+5], capsize=10)\n",
    "plt.ylabel('Tensile Strength (MPa)')\n",
    "plt.title('Tensile Strength of 3-D Printed ABS Tensile Bars')"
   ]
  },
  {
   "cell_type": "code",
   "execution_count": null,
   "metadata": {},
   "outputs": [],
   "source": [
    "fig, ax = plt.subplots()\n",
    "ax.bar(x_pos, CTEs, yerr=error, align='center', alpha=0.5, ecolor='black', capsize=10)\n",
    "ax.set_ylabel('Tensile Strength (MPa)')\n",
    "ax.set_xticks(x_pos)\n",
    "ax.set_xticklabels(labels)\n",
    "ax.set_title('Tensile Strength of 3-D Printed Tensile Bars')\n",
    "ax.yaxis.grid(True)\n",
    "\n",
    "# Save the figure and show\n",
    "plt.tight_layout()\n",
    "plt.savefig('bar_plot_with_error_bars.png')\n",
    "plt.show()"
   ]
  },
  {
   "cell_type": "markdown",
   "metadata": {},
   "source": [
    "Again, we have the problem with the headers. Pandas is using the first row of our excel sheet as the column headers in our dataframe. Including header=None will add sequential column numbers and make the first row of the datafram from the first row of the excel sheet."
   ]
  },
  {
   "cell_type": "code",
   "execution_count": null,
   "metadata": {},
   "outputs": [],
   "source": [
    "fig, ax = plt.subplots()\n",
    "ax.bar(x_pos, CTEs, yerr=error, align='center', alpha=0.5, ecolor='black', capsize=10)\n",
    "ax.set_ylabel('Tensile Strength (MPa)')\n",
    "ax.set_xticks(x_pos)\n",
    "ax.set_xticklabels(labels)\n",
    "ax.set_title('Tensile Strength of 3-D Printed Tensile Bars')\n",
    "ax.yaxis.grid(True)\n",
    "\n",
    "# Save the figure and show\n",
    "plt.tight_layout()\n",
    "plt.savefig('bar_plot_with_error_bars.png')\n",
    "plt.show()"
   ]
  },
  {
   "cell_type": "code",
   "execution_count": null,
   "metadata": {},
   "outputs": [],
   "source": [
    "df2 = df.transpose()\n",
    "df2.head()"
   ]
  },
  {
   "cell_type": "code",
   "execution_count": null,
   "metadata": {},
   "outputs": [],
   "source": [
    "df2.replace(-99999, np.nan, inplace=True)\n",
    "df2.tail()\n",
    "#df2.plot()"
   ]
  },
  {
   "cell_type": "code",
   "execution_count": null,
   "metadata": {},
   "outputs": [],
   "source": [
    "#df.sum()\n",
    "df2.sum().plot()"
   ]
  },
  {
   "cell_type": "code",
   "execution_count": null,
   "metadata": {},
   "outputs": [],
   "source": [
    "df = pd.read_json('json_data.json')"
   ]
  },
  {
   "cell_type": "code",
   "execution_count": null,
   "metadata": {},
   "outputs": [],
   "source": [
    "df.head()"
   ]
  },
  {
   "cell_type": "code",
   "execution_count": null,
   "metadata": {},
   "outputs": [],
   "source": []
  },
  {
   "cell_type": "code",
   "execution_count": null,
   "metadata": {},
   "outputs": [],
   "source": []
  }
 ],
 "metadata": {
  "kernelspec": {
   "display_name": "Python 3",
   "language": "python",
   "name": "python3"
  },
  "language_info": {
   "codemirror_mode": {
    "name": "ipython",
    "version": 3
   },
   "file_extension": ".py",
   "mimetype": "text/x-python",
   "name": "python",
   "nbconvert_exporter": "python",
   "pygments_lexer": "ipython3",
   "version": "3.6.3"
  }
 },
 "nbformat": 4,
 "nbformat_minor": 2
}
