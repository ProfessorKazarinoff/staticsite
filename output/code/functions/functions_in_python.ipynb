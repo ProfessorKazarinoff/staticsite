{
 "cells": [
  {
   "cell_type": "markdown",
   "metadata": {},
   "source": [
    "Functions are pieces of reusable code. Each function contains three descrete elements: _name_, _input_, and _output_. Functions take in input, called _arguments_ or _input arguments_, and produce output. A function is called in Python by coding\n",
    "\n",
    "```\n",
    "output = function_name(input)\n",
    "```\n",
    "\n",
    "Note the ```output``` is written first followed by the equals sign ```=``` and then the function name and the input is enclosed with parenthesis ```( )```. \n",
    "\n",
    "Python has many useful built-in functions such as ```min()```,```max()```,```abs()``` and ```sum()```. We can use these built-in functions without importing any modules.\n",
    "\n",
    "For example:"
   ]
  },
  {
   "cell_type": "code",
   "execution_count": 3,
   "metadata": {},
   "outputs": [],
   "source": [
    "out = sum([2, 3])"
   ]
  },
  {
   "cell_type": "markdown",
   "metadata": {},
   "source": [
    "In the function above, the input is the list ```[2, 3]```. The output of the function is assigned to the ```out``` variable and the function name is ```sum()```.\n",
    "\n",
    "We can write our own functions in Python using the general form:\n",
    "\n",
    "```\n",
    "def function_name(input):\n",
    "\n",
    "    code to run indented\n",
    "\n",
    "    return output\n",
    "```\n",
    "\n",
    "A couple import points about the general form above. The ```def``` keyword starts the function definition. Without the word ```def``` you are writing a regular line of Python code. Afterthe function name, the input is encolsed with parenthesis ```( )``` followed by a colon ```:```. Don't forget the colon ```:```. Without the colon ```:``` your function will not run. The code within the body of the function must be indentend. Finally, the key word ```return``` needs to be at the end of you function followed by the output. The ```input``` and ```output``` variables can be any thing you want, but the ```def```, ```:``` and ```return``` must be used."
   ]
  },
  {
   "cell_type": "markdown",
   "metadata": {},
   "source": [
    "Let's create our own function to convet kilograms(kg) to grams(g). Let's call our function ```kg2g```.\n",
    "\n",
    "The first thing to do is make sure that our function name ```kg2g``` is not assigned to another function or keyword by Python. We can check if the name ```kg2g``` has already been defined using Python's ```type``` function. We know that ```sum()``` is a function and ```def``` is a keyword, how about ```kg2g```?\n",
    "\n",
    "Let's first check if ```sum``` is already a function name:"
   ]
  },
  {
   "cell_type": "code",
   "execution_count": 17,
   "metadata": {},
   "outputs": [
    {
     "data": {
      "text/plain": [
       "builtin_function_or_method"
      ]
     },
     "execution_count": 17,
     "metadata": {},
     "output_type": "execute_result"
    }
   ],
   "source": [
    "type(sum)"
   ]
  },
  {
   "cell_type": "markdown",
   "metadata": {},
   "source": [
    "Now let's check if ```def``` is a keyword."
   ]
  },
  {
   "cell_type": "code",
   "execution_count": 15,
   "metadata": {},
   "outputs": [
    {
     "data": {
      "text/plain": [
       "True"
      ]
     },
     "execution_count": 15,
     "metadata": {},
     "output_type": "execute_result"
    }
   ],
   "source": [
    "from keyword import iskeyword\n",
    "iskeyword('def')"
   ]
  },
  {
   "cell_type": "markdown",
   "metadata": {},
   "source": [
    "OK, so how about ```kg2g``` is that a function name?"
   ]
  },
  {
   "cell_type": "code",
   "execution_count": 18,
   "metadata": {},
   "outputs": [
    {
     "ename": "NameError",
     "evalue": "name 'g2kg' is not defined",
     "output_type": "error",
     "traceback": [
      "\u001b[0;31m---------------------------------------------------------------------------\u001b[0m",
      "\u001b[0;31mNameError\u001b[0m                                 Traceback (most recent call last)",
      "\u001b[0;32m<ipython-input-18-e92e1631874b>\u001b[0m in \u001b[0;36m<module>\u001b[0;34m()\u001b[0m\n\u001b[0;32m----> 1\u001b[0;31m \u001b[0mtype\u001b[0m\u001b[0;34m(\u001b[0m\u001b[0mg2kg\u001b[0m\u001b[0;34m)\u001b[0m\u001b[0;34m\u001b[0m\u001b[0m\n\u001b[0m",
      "\u001b[0;31mNameError\u001b[0m: name 'g2kg' is not defined"
     ]
    }
   ],
   "source": [
    "type(g2kg)"
   ]
  },
  {
   "cell_type": "markdown",
   "metadata": {},
   "source": [
    "```g2kg``` is not a function name. Now let's test to see if ```g2kg``` is a keyword in Python:"
   ]
  },
  {
   "cell_type": "code",
   "execution_count": 1,
   "metadata": {},
   "outputs": [
    {
     "data": {
      "text/plain": [
       "False"
      ]
     },
     "execution_count": 1,
     "metadata": {},
     "output_type": "execute_result"
    }
   ],
   "source": [
    "from keyword import iskeyword\n",
    "iskeyword('g2kg')"
   ]
  },
  {
   "cell_type": "markdown",
   "metadata": {},
   "source": [
    "Once we know that our function name is available, we can build our function. Remember the parenthsis, colon and return statment."
   ]
  },
  {
   "cell_type": "code",
   "execution_count": 2,
   "metadata": {},
   "outputs": [],
   "source": [
    "def kg2g(kg):\n",
    "    g = kg*1000\n",
    "    \n",
    "    return g"
   ]
  },
  {
   "cell_type": "markdown",
   "metadata": {},
   "source": [
    "Now let's try and use our function. How many kg's is 1300 grams. We expect the output to be 1.3 kg"
   ]
  },
  {
   "cell_type": "code",
   "execution_count": 3,
   "metadata": {},
   "outputs": [
    {
     "data": {
      "text/plain": [
       "1300.0"
      ]
     },
     "execution_count": 3,
     "metadata": {},
     "output_type": "execute_result"
    }
   ],
   "source": [
    "kg2g(1.3)"
   ]
  },
  {
   "cell_type": "markdown",
   "metadata": {},
   "source": [
    "It is good practice to add a _doc string_ to our function. A doc string is used to give the user an idea of what a function does. THe doc string is called when Python's ```help``` function invoked. A typical doc string includes the following:\n",
    "\n",
    " * A summary of the function\n",
    " * the function input, including data type\n",
    " * the function output, including data type\n",
    " * An example of the function run with sample input and the output produced"
   ]
  },
  {
   "cell_type": "code",
   "execution_count": 6,
   "metadata": {},
   "outputs": [],
   "source": [
    "def kg2g(kg):\n",
    "    \"\"\"\n",
    "    \n",
    "    Function kg2g converts between kg and g\n",
    "    \n",
    "    input: a measurement in kilograms (kg), int or float\n",
    "    output: measurment in grams (g), float\n",
    "    \n",
    "    Example:\n",
    "    \n",
    "        >>> kg2g(1.3)\n",
    "            \n",
    "            1300.0\n",
    "\n",
    "    \"\"\"\n",
    "    \n",
    "    g = kg * 1000\n",
    "    \n",
    "    return g"
   ]
  },
  {
   "cell_type": "code",
   "execution_count": 7,
   "metadata": {},
   "outputs": [
    {
     "name": "stdout",
     "output_type": "stream",
     "text": [
      "Help on function kg2g in module __main__:\n",
      "\n",
      "kg2g(kg)\n",
      "    Function kg2g converts between kg and g\n",
      "    \n",
      "    input: a measurement in kilograms (kg), int or float\n",
      "    output: measurment in grams (g), float\n",
      "    \n",
      "    Example:\n",
      "    \n",
      "        >>> kg2g(1.3)\n",
      "            \n",
      "            1300.0\n",
      "\n"
     ]
    }
   ],
   "source": [
    "help(kg2g)"
   ]
  },
  {
   "cell_type": "code",
   "execution_count": 8,
   "metadata": {},
   "outputs": [
    {
     "data": {
      "text/plain": [
       "1300.0"
      ]
     },
     "execution_count": 8,
     "metadata": {},
     "output_type": "execute_result"
    }
   ],
   "source": [
    "kg2g(1.3)"
   ]
  },
  {
   "cell_type": "code",
   "execution_count": null,
   "metadata": {},
   "outputs": [],
   "source": []
  }
 ],
 "metadata": {
  "kernelspec": {
   "display_name": "Python 3",
   "language": "python",
   "name": "python3"
  },
  "language_info": {
   "codemirror_mode": {
    "name": "ipython",
    "version": 3
   },
   "file_extension": ".py",
   "mimetype": "text/x-python",
   "name": "python",
   "nbconvert_exporter": "python",
   "pygments_lexer": "ipython3",
   "version": "3.6.5"
  }
 },
 "nbformat": 4,
 "nbformat_minor": 2
}
