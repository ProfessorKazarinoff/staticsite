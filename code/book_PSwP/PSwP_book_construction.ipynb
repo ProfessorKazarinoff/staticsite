{
 "cells": [
  {
   "cell_type": "markdown",
   "metadata": {},
   "source": [
    "### Jupyter Notebooks"
   ]
  },
  {
   "cell_type": "markdown",
   "metadata": {},
   "source": [
    "My book, [Problem Solving with Python](https://www.amazon.com/dp/B07M7S6LTT/ref=sr_1_5?ie=UTF8&qid=1547223360&sr=8-5&keywords=kazarinoff) was constructed using Jupyter Notebooks. The text was written in markdown cells and the code was written in code cells. Sometimes I used the Classic Notebook interface as my editor and other times I used the Jupyter Lab interface. \n",
    "\n",
    "The GitHub repo for the book can be found at:\n",
    "    \n",
    " > [https://github.com/ProfessorKazarinoff/Problem-Solving-with-Python](https://github.com/ProfessorKazarinoff/Problem-Solving-with-Python)"
   ]
  },
  {
   "cell_type": "markdown",
   "metadata": {},
   "source": [
    "The GitHub repo contains all the Jupyter notebooks used the write the book. The repo also contains a set of custom conversion scripts and templates which convert the Jupyuter notebooks into **_.html_** and **_.tex_** files.\n",
    "\n",
    "The directory structure of the GitHub repo for the book is below:"
   ]
  },
  {
   "cell_type": "markdown",
   "metadata": {},
   "source": [
    "```text\n",
    "Problem-Solving-with-Python/\n",
    "|-- conversion_tools/\n",
    "|-- notebooks/\n",
    "|-- LICENSE\n",
    "|-- notebooks/\n",
    "|-- pdf/\n",
    "|-- README.md\n",
    "|-- website/\n",
    "```"
   ]
  },
  {
   "cell_type": "markdown",
   "metadata": {},
   "source": [
    "The ```notebooks``` directory contains a subdirectory for each chapter of the book:"
   ]
  },
  {
   "cell_type": "markdown",
   "metadata": {},
   "source": [
    "```text\n",
    "notebooks/\n",
    "|-- 00-Preface/\n",
    "|-- 01-Orientation/\n",
    "|-- 02-The-Python-REPL/\n",
    "|-- 03-Data-Types-and-Variables/\n",
    "|-- 04-Jupyter-Notebooks/\n",
    "|-- 05-Functions-and-Modules/\n",
    "|-- 06-Plotting-with-Matplotlib/\n",
    "|-- 07-If-Else-Try-Except/\n",
    "|-- 08-Loops/\n",
    "|-- 09-Matrices-and-Arrays/\n",
    "|-- 10-Symbolic-Math/\n",
    "|-- 11-Python-and-External-Hardware/\n",
    "|-- 12-MicroPython/\n",
    "|-- 99-Appendix/\n",
    "|-- figures/\n",
    "`-- TOC.ipynb\n",
    "```\n",
    "\n",
    "There is a Jupyter notebook for each section of the book within each chapter directory. Each chapter directory contains an ```images``` directory for any images used in the markdown cells of the notebooks.\n",
    "\n",
    "```text\n",
    "01-Orientation/\n",
    "|-- 01.00-Welcome.ipynb\n",
    "|-- 01.01-Why-Python.ipynb\n",
    "|-- 01.02-The-Anaconda-Distribution-of-Python.ipynb\n",
    "|-- 01.03-Installing-Anaconda-on-Windows.ipynb\n",
    "|-- 01.04-Installing-Anaconda-on-MacOS.ipynb\n",
    "|-- 01.05-Installing-Anaconda-on-Linux.ipynb\n",
    "|-- 01.06-Installing-Python-from-Python-dot-org.ipynb\n",
    "|-- 01.07-Summary.ipynb\n",
    "|-- 01.08-Review-Questions.ipynb\n",
    "`-- images/\n",
    "```"
   ]
  },
  {
   "cell_type": "markdown",
   "metadata": {},
   "source": [
    "### Website\n",
    "\n",
    "The website for this book was constructed using **mkdocs** and the **Material for MkDocs** theme. Jupyter noteboks were exported to **_.html_** files with markdown cells unformatted using a custom script and ```nbconvert```."
   ]
  },
  {
   "cell_type": "markdown",
   "metadata": {},
   "source": [
    "### Hardcopy\n",
    "\n",
    "The hard copy of the book was constructed using LaTeX, ```nbconvert``` and a set of custom scripts and templates. One conversion script combined all of the notebooks into one BIG notebook.  The BIG notebook was then converted into **LaTeX** using ```nbconvert``` and a custom template. Outside of the Python ecosystem, a separate installation of TeXworks compiled the LaTeX **_.tex_** file to a **_.pdf_** document."
   ]
  }
 ],
 "metadata": {
  "kernelspec": {
   "display_name": "Python 3",
   "language": "python",
   "name": "python3"
  },
  "language_info": {
   "codemirror_mode": {
    "name": "ipython",
    "version": 3
   },
   "file_extension": ".py",
   "mimetype": "text/x-python",
   "name": "python",
   "nbconvert_exporter": "python",
   "pygments_lexer": "ipython3",
   "version": "3.6.4"
  }
 },
 "nbformat": 4,
 "nbformat_minor": 2
}
