{
 "cells": [
  {
   "cell_type": "markdown",
   "metadata": {},
   "source": [
    "You can calculate exponents and logarithms with Python. This means you can use Python just like a calculator. Exponent and logarithm functions are imported from the **math** module which is part of the Python _Standard Library_. This means all the functions in the **math** module are available in any Python installation.\n",
    "\n",
    "In this short post, you'll learn how to use exponents and logarithms in Python. "
   ]
  },
  {
   "cell_type": "markdown",
   "metadata": {},
   "source": [
    "## Exponent and Logarithm Functions"
   ]
  },
  {
   "cell_type": "markdown",
   "metadata": {},
   "source": [
    "The following exponents and logarithms functions can be imported from Python's math module:\n",
    "\n",
    "* ```log```\n",
    "* ```log10```\n",
    "* ```exp```\n",
    "* ```e```\n",
    "* ```pow(x,y)```\n",
    "* ```sqrt```\n",
    "\n",
    "Let's try a couple of examples. Not the ```>>>``` prompt is not meant to be typed. ```>>>``` is used to denote the Python REPL or Python prompt. Alternatively, you can enter these examples into a Jupyter notebook code cell.\n",
    "\n",
    "```python\n",
    ">>> from math import log, log10, exp, e, pow, sqrt\n",
    ">>> log(3.0*e**3.4)         # note: natural log\n",
    "4.4986122886681095\n",
    "```\n",
    "\n",
    "A right triangle has side lengths 3 and 4. What is the length of the hypotenuse?\n",
    "\n",
    "```python\n",
    ">>> sqrt(3**2 + 4**2)\n",
    "5.0 \n",
    "```\n",
    "\n",
    "The power function ```pow()``` works like the ```**``` operator. ```pow()``` raises a number to a power.\n",
    "\n",
    "```python\n",
    ">>> 5**2\n",
    "25\n",
    "```\n",
    "\n",
    "<br>\n",
    "\n",
    "```python\n",
    ">>> pow(5,2)\n",
    "25.0\n",
    "```"
   ]
  },
  {
   "cell_type": "markdown",
   "metadata": {},
   "source": [
    "## Summary\n",
    "\n",
    "The following exponent and logarithm functions are part of Python's **math** module:\n",
    "\n",
    "| Math function | Name | Description | Example | Result |\n",
    "| --- | --- | --- | --- | --- |\n",
    "| ``` math.e ``` | Euler's number | mathematical constant $e$ | ``` math.e ``` | ``` 2.718 ``` |\n",
    "| ``` math.exp() ``` | exponent | $e$ raised to a power | ``` math.exp(2.2) ``` | ``` 9.025 ``` |\n",
    "| ``` math.log() ``` | natural logarithm | log base $e$ | ``` math.log(3.1) ``` | ``` 400 ``` |\n",
    "| ``` math.log10() ``` | base 10 logarithm| log base 10 | ``` math.log10(100) ``` | ``` 2.0 ``` |\n",
    "| ``` math.pow() ``` | power | raises a number to a power | ``` math.pow(2,3) ``` | ``` 8.0 ``` |\n",
    "| ``` math.sqrt() ``` | square root | square root of a number | ``` math.sqrt(16) ``` | ``` 4.0 ``` |\n"
   ]
  }
 ],
 "metadata": {
  "kernelspec": {
   "display_name": "Python 3 (ipykernel)",
   "language": "python",
   "name": "python3"
  },
  "language_info": {
   "codemirror_mode": {
    "name": "ipython",
    "version": 3
   },
   "file_extension": ".py",
   "mimetype": "text/x-python",
   "name": "python",
   "nbconvert_exporter": "python",
   "pygments_lexer": "ipython3",
   "version": "3.9.7"
  }
 },
 "nbformat": 4,
 "nbformat_minor": 2
}
