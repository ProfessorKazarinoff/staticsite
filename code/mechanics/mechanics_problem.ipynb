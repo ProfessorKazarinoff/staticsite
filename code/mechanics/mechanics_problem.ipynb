{
 "cells": [
  {
   "cell_type": "code",
   "execution_count": 1,
   "metadata": {},
   "outputs": [
    {
     "name": "stdout",
     "output_type": "stream",
     "text": [
      "Python version:  3.6.3 |Anaconda, Inc.| (default, Oct 27 2017, 12:14:30) \n",
      "[GCC 4.2.1 Compatible Clang 4.0.1 (tags/RELEASE_401/final)]\n",
      "Running on:  darwin\n"
     ]
    }
   ],
   "source": [
    "import sys\n",
    "import platform\n",
    "from math import sqrt, pi\n",
    "\n",
    "print('Python version: ', sys.version)\n",
    "print('Running on: ', sys.platform)"
   ]
  },
  {
   "cell_type": "markdown",
   "metadata": {},
   "source": [
    "**Given**: A steel bar with a cross-section of 130 mm<sup>2</sup> and a length of 50.8 mm is axially loaded in tension with a force of 57.0 kN. The modulus of elasticity of the steel is 210 GPa.\n",
    "\n",
    "**Find**: What is the axial stress in the bar?\n",
    "\n",
    "**Solution**: \n",
    "\n",
    "F = 57.0 kN\n",
    "\n",
    "F = 5700 N\n",
    "\n",
    "A<sub>0</sub> = 130 mm<sup>2</sup>\n",
    "\n",
    "&sigma; = ?\n",
    "\n",
    "$$ \\sigma = \\frac{F}{A_0} $$\n",
    "\n"
   ]
  },
  {
   "cell_type": "code",
   "execution_count": 2,
   "metadata": {},
   "outputs": [
    {
     "name": "stdout",
     "output_type": "stream",
     "text": [
      "438.46153846153845\n"
     ]
    }
   ],
   "source": [
    "F = 57000\n",
    "A0 = 130\n",
    "stress = F/A0\n",
    "print(stress)"
   ]
  },
  {
   "cell_type": "markdown",
   "metadata": {},
   "source": [
    "**Find**: What is the resulting strain?\n",
    "\n",
    "**Solution**: \n",
    "\n",
    "&sigma; = 438.46 MPa\n",
    "\n",
    "E = 210 GPa\n",
    "\n",
    "E = 210000 MPa\n",
    "\n",
    "&epsilon; = ?\n",
    "\n",
    "$$ E = \\frac{\\Delta\\sigma}{\\Delta\\epsilon} $$"
   ]
  },
  {
   "cell_type": "code",
   "execution_count": 3,
   "metadata": {},
   "outputs": [
    {
     "name": "stdout",
     "output_type": "stream",
     "text": [
      "0.0020879120879120877\n"
     ]
    }
   ],
   "source": [
    "E = 210000\n",
    "# E = stress/strain\n",
    "strain = stress/E\n",
    "print(strain)"
   ]
  },
  {
   "cell_type": "markdown",
   "metadata": {},
   "source": [
    "**Find**: What is the change in length of the bar?\n",
    "\n",
    "**Solution**:\n",
    "\n",
    "&epsilon; = 0.0020879\n",
    "\n",
    "L<sub>0</sub> = 50.8 mm\n",
    "\n",
    "&Delta;L = ?\n",
    "\n",
    "$$ \\epsilon = \\frac{\\Delta L}{L_0} $$\n",
    "\n",
    "$$ \\Delta L = \\epsilon L_0 $$\n"
   ]
  },
  {
   "cell_type": "code",
   "execution_count": 4,
   "metadata": {},
   "outputs": [
    {
     "name": "stdout",
     "output_type": "stream",
     "text": [
      "0.10606593406593405\n"
     ]
    }
   ],
   "source": [
    "L0=50.8\n",
    "deltaL =strain*L0\n",
    "print(deltaL)"
   ]
  },
  {
   "cell_type": "markdown",
   "metadata": {},
   "source": [
    "**Find**: What is the final length of the bar?\n",
    "\n",
    "**Solution**:\n",
    "\n",
    "L<sub>0</sub> = 50.8 mm\n",
    "\n",
    "&Delta;L = 0.10607 mm\n",
    "\n",
    "L<sub>f</sub> = ?\n",
    "\n",
    "$$ L_f = L_0 +\\Delta L $$"
   ]
  },
  {
   "cell_type": "code",
   "execution_count": 5,
   "metadata": {},
   "outputs": [
    {
     "name": "stdout",
     "output_type": "stream",
     "text": [
      "50.90606593406593\n"
     ]
    }
   ],
   "source": [
    "Lf = L0 + deltaL\n",
    "print(Lf)"
   ]
  },
  {
   "cell_type": "markdown",
   "metadata": {},
   "source": [
    "#2. **Given**: An aluminum rod will be loaded in tension with a force of 350 kip. \n",
    "\n",
    "**Find**: What is the minimum diameter required to have a factor of safety of 1.9 agaist yield, if the yield stress is 40 ksi?\n",
    "\n",
    "**Solution**:\n",
    "\n",
    "SF = 1.9\n",
    "\n",
    "&sigma;<sub>y</sub> = 40 ksi\n",
    "\n",
    "d = ?"
   ]
  },
  {
   "cell_type": "code",
   "execution_count": 6,
   "metadata": {},
   "outputs": [
    {
     "name": "stdout",
     "output_type": "stream",
     "text": [
      "Stress:  21.05263157894737\n",
      "Cross-sectional Area:  16.625\n",
      "Diameter, d =  4.600826820390231\n"
     ]
    }
   ],
   "source": [
    "SF =1.9\n",
    "stress_y = 40\n",
    "stress_app = stress_y/SF\n",
    "print('Stress: ',stress_app)\n",
    "F = 350\n",
    "A0 = F/stress_app\n",
    "print('Cross-sectional Area: ', A0)\n",
    "d = sqrt(4*A0/pi)\n",
    "print('Diameter, d = ', d)"
   ]
  },
  {
   "cell_type": "markdown",
   "metadata": {},
   "source": [
    "#3. A composite rod is axially loaded. It is ridigidly mounted at the wall and a single load <b>P</b> of 50 kN is applied at the end.\n",
    "\n",
    "| Material | Area (mm<sup>2</sup>) | Length (mm) | Elastic Modulus, E (GPa) | Yield Strength, &sigma;<sub>y</sub> (MPa) |\n",
    "| --- | --- | --- | --- | --- |\n",
    "|Aluminum     | 400 | 600 | 70.0| 240 |\n",
    "|Brass   | 300 | 800 | 105| 410 |\n",
    "\n",
    "a. What is the stress in the Aluminum?"
   ]
  },
  {
   "cell_type": "code",
   "execution_count": 7,
   "metadata": {},
   "outputs": [
    {
     "name": "stdout",
     "output_type": "stream",
     "text": [
      "125.0\n"
     ]
    }
   ],
   "source": [
    "A_Al=400\n",
    "F = 50000\n",
    "stress_Al= F/A_Al\n",
    "print(stress_Al)"
   ]
  },
  {
   "cell_type": "markdown",
   "metadata": {},
   "source": [
    "b. What is the stress in the Brass?"
   ]
  },
  {
   "cell_type": "code",
   "execution_count": 8,
   "metadata": {},
   "outputs": [
    {
     "name": "stdout",
     "output_type": "stream",
     "text": [
      "166.66666666666666\n"
     ]
    }
   ],
   "source": [
    "A_Br = 300\n",
    "stress_Br = F/A_Br\n",
    "print(stress_Br)"
   ]
  },
  {
   "cell_type": "markdown",
   "metadata": {},
   "source": [
    "c. What is the final length of the entire composite rod once the load <b>P</b> is applied?"
   ]
  },
  {
   "cell_type": "code",
   "execution_count": 9,
   "metadata": {},
   "outputs": [
    {
     "name": "stdout",
     "output_type": "stream",
     "text": [
      "0.0017857142857142857\n"
     ]
    }
   ],
   "source": [
    "E_Al = 70000\n",
    "strain_Al = stress_Al/E_Al\n",
    "print(strain_Al)"
   ]
  },
  {
   "cell_type": "code",
   "execution_count": 10,
   "metadata": {},
   "outputs": [
    {
     "name": "stdout",
     "output_type": "stream",
     "text": [
      "1.0714285714285714\n"
     ]
    }
   ],
   "source": [
    "L0_Al = 600\n",
    "dL_Al = strain_Al*L0_Al\n",
    "print(dL_Al)"
   ]
  },
  {
   "cell_type": "code",
   "execution_count": 11,
   "metadata": {},
   "outputs": [
    {
     "name": "stdout",
     "output_type": "stream",
     "text": [
      "0.0015873015873015873\n"
     ]
    }
   ],
   "source": [
    "E_Br = 105000\n",
    "strain_Br = stress_Br/E_Br\n",
    "print(strain_Br)"
   ]
  },
  {
   "cell_type": "code",
   "execution_count": 12,
   "metadata": {},
   "outputs": [
    {
     "name": "stdout",
     "output_type": "stream",
     "text": [
      "1.2698412698412698\n"
     ]
    }
   ],
   "source": [
    "L0_Br = 800\n",
    "dL_Br = strain_Br*L0_Br\n",
    "print(dL_Br)"
   ]
  },
  {
   "cell_type": "code",
   "execution_count": 13,
   "metadata": {},
   "outputs": [
    {
     "name": "stdout",
     "output_type": "stream",
     "text": [
      "1402.3412698412696\n"
     ]
    }
   ],
   "source": [
    "Lf = L0_Al + dL_Al + L0_Br + dL_Br\n",
    "print(Lf)"
   ]
  },
  {
   "cell_type": "markdown",
   "metadata": {},
   "source": [
    "d. What is the factor of safety against yeild for the brass?"
   ]
  },
  {
   "cell_type": "code",
   "execution_count": 14,
   "metadata": {},
   "outputs": [
    {
     "name": "stdout",
     "output_type": "stream",
     "text": [
      "2.46\n"
     ]
    }
   ],
   "source": [
    "stress_y_Br = 410\n",
    "SF_Br = stress_y_Br / stress_Br\n",
    "print(SF_Br)"
   ]
  },
  {
   "cell_type": "code",
   "execution_count": null,
   "metadata": {
    "collapsed": true
   },
   "outputs": [],
   "source": []
  }
 ],
 "metadata": {
  "kernelspec": {
   "display_name": "Python 3",
   "language": "python",
   "name": "python3"
  },
  "language_info": {
   "codemirror_mode": {
    "name": "ipython",
    "version": 3
   },
   "file_extension": ".py",
   "mimetype": "text/x-python",
   "name": "python",
   "nbconvert_exporter": "python",
   "pygments_lexer": "ipython3",
   "version": "3.6.3"
  }
 },
 "nbformat": 4,
 "nbformat_minor": 2
}
