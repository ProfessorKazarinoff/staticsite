{
 "cells": [
  {
   "cell_type": "markdown",
   "metadata": {},
   "source": [
    "There are a couple different ways to start a new **jupyter notebook**. Before you can start a new one, you need to have **jupyter** installed. I recommend that undergraduate engineers use the [**Anaconda**](https://www.anaconda.com/download/) distribution of **Python**, which comes with **jupyter** already installed. For help installing Anaconda, see a previous blog post: [Installing Anaconda on Windows 10](http://pythonforundergradengineers.com/installing-anaconda-on-windows.html). If **jupyter** is not available in your version of **Python**, open a terminal or the **Anaconda Prompt** and type:\n",
    "\n",
    "\n",
    "```\n",
    "$ pip install jupyter\n",
    "```\n",
    "\n",
    "or \n",
    "\n",
    "```\n",
    "> conda install jupyter\n",
    "\n",
    "```"
   ]
  },
  {
   "cell_type": "markdown",
   "metadata": {},
   "source": [
    "### Open a **jupyter notebook** from the **Anaconda Prompt**"
   ]
  },
  {
   "cell_type": "markdown",
   "metadata": {},
   "source": [
    "If you have the [**Anaconda**](https://www.anaconda.com/download/) distribution of **Python** installed, you have access to the **Anaconda Prompt**. The **Anaconda Prompt** is a terminal-like program where you can type text commands to perform different functions. The **Anaconda Prompt** is a bit like the terminal in MacOSX and the bash terminal in Linux. On Windows it is sort of like the Windows Command Window or the Windows Power Shell. "
   ]
  },
  {
   "cell_type": "markdown",
   "metadata": {},
   "source": [
    "At the Anaconda Prompt type the command:\n",
    "\n",
    "```\n",
    "> jupyter notebook\n",
    "```"
   ]
  },
  {
   "cell_type": "markdown",
   "metadata": {},
   "source": [
    "This will open up a new web browswer window. On my machine at work, this opens Firefox. It could also open Chrome or Safari depending on what you default web browser is."
   ]
  },
  {
   "cell_type": "markdown",
   "metadata": {},
   "source": [
    "You will see a listing of the files and folders in your current working directory (the directory you were in when you typed ```jupyter notebook```)"
   ]
  },
  {
   "cell_type": "markdown",
   "metadata": {},
   "source": [
    "In the uppper right hand corner, select [New] --> [Python 3]"
   ]
  },
  {
   "cell_type": "markdown",
   "metadata": {},
   "source": [
    "This will open up a new jupyter notebook in a new browswer tab. On the first line you can try typing ```import this``` and clicking [Run] or pressing [Shift] + [Enter]:"
   ]
  },
  {
   "cell_type": "code",
   "execution_count": 1,
   "metadata": {},
   "outputs": [],
   "source": [
    "import this"
   ]
  },
  {
   "cell_type": "markdown",
   "metadata": {},
   "source": [
    "Congratulations! You started a new **jupyter notebook**! To save the **notebook**, click the [save] icon in the upper left hand corner."
   ]
  },
  {
   "cell_type": "markdown",
   "metadata": {},
   "source": [
    "To rename the **notebook**, click the notebook's name at the top of the page. Enter a new name and click rename"
   ]
  },
  {
   "cell_type": "code",
   "execution_count": null,
   "metadata": {},
   "outputs": [],
   "source": []
  }
 ],
 "metadata": {
  "kernelspec": {
   "display_name": "Python 3",
   "language": "python",
   "name": "python3"
  },
  "language_info": {
   "codemirror_mode": {
    "name": "ipython",
    "version": 3
   },
   "file_extension": ".py",
   "mimetype": "text/x-python",
   "name": "python",
   "nbconvert_exporter": "python",
   "pygments_lexer": "ipython3",
   "version": "3.6.3"
  }
 },
 "nbformat": 4,
 "nbformat_minor": 2
}
