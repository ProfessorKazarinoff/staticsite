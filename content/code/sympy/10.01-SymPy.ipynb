{
 "cells": [
  {
   "cell_type": "markdown",
   "metadata": {},
   "source": [
    "## SymPy"
   ]
  },
  {
   "cell_type": "markdown",
   "metadata": {},
   "source": [
    "SymPy [http://www.sympy.org](http://www.sympy.org) is a Python library for __symbolic math__.  \n",
    "\n",
    "Symbolic Math is using symbols to represent mathematical expressions. An example symbolic math expression is below:"
   ]
  },
  {
   "cell_type": "markdown",
   "metadata": {},
   "source": [
    "$$ x^{2} + y^{2} = z $$"
   ]
  },
  {
   "cell_type": "markdown",
   "metadata": {},
   "source": [
    "In the expression, we have the variables $x$, $y$ and $z$. "
   ]
  },
  {
   "cell_type": "markdown",
   "metadata": {},
   "source": [
    "If we define a second symbolic math expression as:"
   ]
  },
  {
   "cell_type": "markdown",
   "metadata": {},
   "source": [
    "$$ x = a + b $$"
   ]
  },
  {
   "cell_type": "markdown",
   "metadata": {},
   "source": [
    "then we can substitue in $a + b$ for $x$."
   ]
  },
  {
   "cell_type": "markdown",
   "metadata": {},
   "source": [
    "This would result in the expression:"
   ]
  },
  {
   "cell_type": "markdown",
   "metadata": {},
   "source": [
    "$$ (a + b)^{2} + y^{2} = z $$\n",
    "\n",
    "$$ a^{2} + 2ab + b^{2} + y^{2} = z $$"
   ]
  },
  {
   "cell_type": "markdown",
   "metadata": {},
   "source": [
    "Now to solve for $y$ in terms of $a$,$b$ and $z$, would result in:\n",
    "    \n",
    "$$ y = \\sqrt{z - a^{2} - 2ab - b^{2}} $$"
   ]
  },
  {
   "cell_type": "markdown",
   "metadata": {},
   "source": [
    "If we have numerical values for $z$, $a$ and $b$, we can use Python to calculate the value of $y$. But if we don't have numberical values for $z$, $a$ and $b$ Python can also be used to rearrange terms and solve for one variable in terms of the other. Working with mathemtical symbols in a programatic way instead of working with numerical values in a programatic way is call symbolic math."
   ]
  },
  {
   "cell_type": "markdown",
   "metadata": {},
   "source": [
    "To work with symbolic math, the **SymPy** library needs to be installed. Using the **Anaconda Prompt** this can be accomplished with the command:\n",
    "\n",
    "```bash\n",
    "> conda install sympy\n",
    "```"
   ]
  },
  {
   "cell_type": "markdown",
   "metadata": {},
   "source": [
    "Sympy is included with the Anaconda distribution of Python, so if you have the full Anaconda distrobution, you will be notified that the **Sympy** library is already installed."
   ]
  },
  {
   "cell_type": "code",
   "execution_count": null,
   "metadata": {
    "collapsed": true
   },
   "outputs": [],
   "source": []
  }
 ],
 "metadata": {
  "kernelspec": {
   "display_name": "Python 3",
   "language": "python",
   "name": "python3"
  },
  "language_info": {
   "codemirror_mode": {
    "name": "ipython",
    "version": 3
   },
   "file_extension": ".py",
   "mimetype": "text/x-python",
   "name": "python",
   "nbconvert_exporter": "python",
   "pygments_lexer": "ipython3",
   "version": "3.6.3"
  }
 },
 "nbformat": 4,
 "nbformat_minor": 2
}
