{
 "cells": [
  {
   "cell_type": "markdown",
   "metadata": {},
   "source": [
    "# Problem 4.C1 in Beer and Johnson"
   ]
  },
  {
   "cell_type": "markdown",
   "metadata": {},
   "source": [
    "Below is an engineering mechanics problem that can be solved with Python. Follow along to see how to solve the problem with code.\n",
    "\n",
    "## Problem\n",
    "\n",
    "### Given:\n",
    "\n",
    "Two aluminum strips and a strip of steel are securely bonded together to form a a lamellar composite part. The width of the part is $b=60 \\ mm$ and the thickness of the part $h = 40 \\ mm$. The modulus of elasticity for the steel in the composite is $200 \\ GPa$ and the modulus of elasticity of the aluminum is $75 GPa$.  The bending moment $M$ of the part is $1500 N m$\n",
    "\n",
    "![composite](composite.png)\n",
    "\n",
    "\n",
    "### Find:\n",
    "\n",
    "(a) If the thickness of the aluminum top and bottom plates is varied from $ a = 0 \\ mm$ to $a = 20 \\ mm$ in two mm increments (the the composite part keeps the same thickness), what is the stress in the steel and what is the stress in the aluminum\n",
    "\n",
    "(b) What is the largest stress that can occur in steel if aluminum thickness is varied from $a=0 \\ mm$ to $a = 40/2 \\ mm$ and how thick is the aluminum when this maximum steel stress occurs?"
   ]
  },
  {
   "cell_type": "markdown",
   "metadata": {},
   "source": [
    "## Solution\n",
    "\n",
    "### Start the solution: install Python\n",
    "\n",
    "We are going to use Python to code the solution to this problem. If you don't already have Python installed on your computer, I recommend installing the [Anaconda](https://www.anaconda.com/distribution/) distribution of Python. See [this post](https://pythonforundergradengineers.com/installing-anaconda-on-windows.html) to learn how to install Anaconda on your computer. \n",
    "\n",
    "I am coding this solution in a [Jupyter Notebook](https://jupyter.org/). Once you install Anaconda, you can open a Jupyter notebook from the Windows Start Menu or the Anaconda Prompt. See [this post](https://pythonforundergradengineers.com/opening-a-jupyter-notebook-on-windows.html) to learn about 3 ways to open a Jupyter notebook.\n",
    "\n",
    "Alternatively, instead of using a Jupyter notebook, you could code your solution in a ```.py``` file.\n",
    "\n",
    "**Alright. Let's get coding....**"
   ]
  },
  {
   "cell_type": "markdown",
   "metadata": {},
   "source": [
    "### Define variables based on the composite dimensions and material properties\n",
    "\n",
    "Based on the given in the problem, we can define the following variables in Python.\n",
    "\n",
    "$h = 40 \\ mm$ part thickness\n",
    "\n",
    "$b = 60 \\ mm$ part width\n",
    "\n",
    "$h_a = 2 \\ mm$ thickness of aluminum that we'll start the problem with\n",
    "\n",
    "$h_s$ = h - 2h_a $ thickness of the steel\n",
    "\n",
    "$Ea = 75 \\ GPa$ elastic modulus of the aluminum\n",
    "\n",
    "$Es = 200 \\ GPa$ elastic modulus of the steel\n",
    "\n",
    "yield strength $\\sigma_y = 300 \\ MPa$\n",
    "\n",
    "elastic modulus $E = 200 \\ GPa$"
   ]
  },
  {
   "cell_type": "code",
   "execution_count": 1,
   "metadata": {},
   "outputs": [],
   "source": [
    "h = 40\n",
    "b = 60\n",
    "ha = 2\n",
    "hs = h - 2*ha\n",
    "Ea = 75*10**3 #Elastic modulus in MPa\n",
    "Es = 200*10**3 #Elastic modulus in MPa\n",
    "M = 1500*10**3 # N mm"
   ]
  },
  {
   "cell_type": "markdown",
   "metadata": {},
   "source": [
    "### Assume the aluminum thickness is 2 mm and find the stress in the steel and aluminum\n",
    "\n",
    "Next we will compute the stress in the steel and the stress in the aluminum due to the applied moment $M$ assuming that the aluminum top and bottom layers are each $2 \\ mm$ thick."
   ]
  },
  {
   "cell_type": "code",
   "execution_count": 2,
   "metadata": {},
   "outputs": [
    {
     "name": "stdout",
     "output_type": "stream",
     "text": [
      "The moment of inertia I = 708800.0 mm4\n"
     ]
    }
   ],
   "source": [
    "n = Es/Ea\n",
    "I = (1/12)*b*h**3 + (1/12)*(2*(1/2)*(n*b-b))*(h-2*ha)**3\n",
    "print(f\"The moment of inertia I = {I} mm4\")"
   ]
  },
  {
   "cell_type": "markdown",
   "metadata": {},
   "source": [
    "### Calculate the stress in the aluminum\n",
    "\n",
    "Maximum stress in the aluminum, $\\sigma$ is dependent on the bending moment $M$, the distance from the neutral axis $c$ and the moment of inertia I according to the following equation:\n",
    "\n",
    "$$ \\sigma = \\frac{Mc}{I} $$\n",
    "\n",
    "In case of the aluminum, $c$ the distance from the neutral axis that we are calculating the stress for is $c = h/2$, so the equation above becomes:\n",
    "\n",
    "$$ \\sigma_a = \\frac{M(h/2}{I} $$\n",
    "\n",
    "We can code this into Python pretty easily."
   ]
  },
  {
   "cell_type": "code",
   "execution_count": 3,
   "metadata": {},
   "outputs": [
    {
     "name": "stdout",
     "output_type": "stream",
     "text": [
      "The stress in the aluminum sigma a = 42.32505643340858 MPa\n"
     ]
    }
   ],
   "source": [
    "sa = M*(h/2)/I\n",
    "print(f\"The stress in the aluminum sigma a = {sa} MPa\")"
   ]
  },
  {
   "cell_type": "markdown",
   "metadata": {},
   "source": [
    "### Calculate the stress in the steel\n",
    "\n",
    "Maximum stress in the steel, $\\sigma$ is dependent on the bending moment $M$, the distance from the neutral axis $c$ and the moment of inertia I according to the the same equation we used to calculate the stress in the aluminum.\n",
    "\n",
    "$$ \\sigma = n\\frac{Mc}{I} $$\n",
    "\n",
    "In case of the c, $c$ the distance from the neutral axis that we are calculating the stress for is $c = h/2-h_a$, so the equation above becomes:\n",
    "\n",
    "$$ \\sigma_a = n\\frac{M(h/2-a}{I} $$\n",
    "\n",
    "Like before, we can code this into Python."
   ]
  },
  {
   "cell_type": "code",
   "execution_count": 4,
   "metadata": {},
   "outputs": [
    {
     "name": "stdout",
     "output_type": "stream",
     "text": [
      "The stress in the steel sigma s = 101.58013544018058 MPa\n"
     ]
    }
   ],
   "source": [
    "ss = n*M*(h/2-ha)/I\n",
    "print(f\"The stress in the steel sigma s = {ss} MPa\")"
   ]
  },
  {
   "cell_type": "markdown",
   "metadata": {},
   "source": [
    "### Code the calculation of stress using a for loop\n",
    "\n",
    "Now we can find the stress in aluminum and the stress in steel for a range of aluminum thickness using a _for loop_. Each time through the loop we will use the aluminum thickness to calculate the stress in steel and aluminum."
   ]
  },
  {
   "cell_type": "code",
   "execution_count": 5,
   "metadata": {},
   "outputs": [
    {
     "name": "stdout",
     "output_type": "stream",
     "text": [
      "For aluminum thickness h_a = 0 mm\n",
      "The stress in the aluminum sigma a = 35.15625 MPa\n",
      "The stress in the steel sigma s = 93.75000000000001 MPa\n",
      "For aluminum thickness h_a = 2 mm\n",
      "The stress in the aluminum sigma a = 42.32505643340858 MPa\n",
      "The stress in the steel sigma s = 101.58013544018058 MPa\n",
      "For aluminum thickness h_a = 4 mm\n",
      "The stress in the aluminum sigma a = 50.584532374100725 MPa\n",
      "The stress in the steel sigma s = 107.9136690647482 MPa\n",
      "For aluminum thickness h_a = 6 mm\n",
      "The stress in the aluminum sigma a = 59.650053022269354 MPa\n",
      "The stress in the steel sigma s = 111.34676564156946 MPa\n",
      "For aluminum thickness h_a = 8 mm\n",
      "The stress in the aluminum sigma a = 68.93382352941177 MPa\n",
      "The stress in the steel sigma s = 110.29411764705883 MPa\n",
      "For aluminum thickness h_a = 10 mm\n",
      "The stress in the aluminum sigma a = 77.58620689655173 MPa\n",
      "The stress in the steel sigma s = 103.44827586206898 MPa\n",
      "For aluminum thickness h_a = 12 mm\n",
      "The stress in the aluminum sigma a = 84.71385542168674 MPa\n",
      "The stress in the steel sigma s = 90.36144578313254 MPa\n",
      "For aluminum thickness h_a = 14 mm\n",
      "The stress in the aluminum sigma a = 89.71291866028709 MPa\n",
      "The stress in the steel sigma s = 71.77033492822966 MPa\n",
      "For aluminum thickness h_a = 16 mm\n",
      "The stress in the aluminum sigma a = 92.51644736842104 MPa\n",
      "The stress in the steel sigma s = 49.34210526315789 MPa\n",
      "For aluminum thickness h_a = 18 mm\n",
      "The stress in the aluminum sigma a = 93.59400998336108 MPa\n",
      "The stress in the steel sigma s = 24.95840266222962 MPa\n",
      "For aluminum thickness h_a = 20 mm\n",
      "The stress in the aluminum sigma a = 93.75 MPa\n",
      "The stress in the steel sigma s = 0.0 MPa\n"
     ]
    }
   ],
   "source": [
    "for ha in range(0,22,2):\n",
    "    print(f\"For aluminum thickness h_a = {ha} mm\")\n",
    "    I = (1/12)*b*h**3 + (1/12)*(2*(1/2)*(n*b-b))*(h-2*ha)**3\n",
    "    sa = M*(h/2)/I\n",
    "    print(f\"The stress in the aluminum sigma a = {sa} MPa\")\n",
    "    ss = n*M*(h/2-ha)/I\n",
    "    print(f\"The stress in the steel sigma s = {ss} MPa\")"
   ]
  },
  {
   "cell_type": "markdown",
   "metadata": {},
   "source": [
    "### Determine the maximum steel stress and which aluminum thickness this occurs at\n",
    "\n",
    "Next we will code a way to find the maximum steel stress and what aluminum thickness this occurs at"
   ]
  },
  {
   "cell_type": "code",
   "execution_count": 6,
   "metadata": {},
   "outputs": [
    {
     "name": "stdout",
     "output_type": "stream",
     "text": [
      "The maximum stress in the steel is 111.5720783380312 MPa at an aluminum thickness of 6.6000000000000005 mm\n"
     ]
    }
   ],
   "source": [
    "import numpy as np\n",
    "SS = []\n",
    "for ha in np.arange(0,22,0.1):\n",
    "    I = (1/12)*b*h**3 + (1/12)*(2*(1/2)*(n*b-b))*(h-2*ha)**3\n",
    "    ss = n*M*(h/2-ha)/I\n",
    "    SS.append([ss,ha])\n",
    "maxs = max(SS)\n",
    "print(f\"The maximum stress in the steel is {maxs[0]} MPa at an aluminum thickness of {maxs[1]} mm\")"
   ]
  },
  {
   "cell_type": "markdown",
   "metadata": {},
   "source": [
    "### Summary\n",
    "\n",
    "In this post, we calculated the stress of two different materials in a laminar composite. We used a Python for loop to iterate through different thicknesses of one material to see how the stress changes. At the end we found the maximum stress and which thickness this occurs at."
   ]
  },
  {
   "cell_type": "code",
   "execution_count": null,
   "metadata": {},
   "outputs": [],
   "source": []
  }
 ],
 "metadata": {
  "kernelspec": {
   "display_name": "Python 3",
   "language": "python",
   "name": "python3"
  },
  "language_info": {
   "codemirror_mode": {
    "name": "ipython",
    "version": 3
   },
   "file_extension": ".py",
   "mimetype": "text/x-python",
   "name": "python",
   "nbconvert_exporter": "python",
   "pygments_lexer": "ipython3",
   "version": "3.6.8"
  }
 },
 "nbformat": 4,
 "nbformat_minor": 2
}
