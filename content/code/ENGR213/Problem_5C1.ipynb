{
 "cells": [
  {
   "cell_type": "markdown",
   "metadata": {},
   "source": [
    "Below is an engineering mechanics problem that can be solved with Python. Follow along to see how to solve the problem with code.\n",
    "\n",
    "## Problem\n",
    "\n",
    "### Given:\n",
    "\n",
    "A cantilever beam of total length $a$+$L$+$b$ and loads $P_1$ to $P_n$ at distances $x_1$ to $x_n$\n",
    "\n",
    "![composite](composite.png)\n",
    "\n",
    "\n",
    "### Find:\n",
    "\n",
    "shear, bending moment and normal stress at any point"
   ]
  },
  {
   "cell_type": "markdown",
   "metadata": {},
   "source": [
    "## Solution\n",
    "\n",
    "### Start the solution: install Python\n",
    "\n",
    "We are going to use Python to code the solution to this problem. If you don't already have Python installed on your computer, I recommend installing the [Anaconda](https://www.anaconda.com/distribution/) distribution of Python. See [this post](https://pythonforundergradengineers.com/installing-anaconda-on-windows.html) to learn how to install Anaconda on your computer. \n",
    "\n",
    "I am coding this solution in a [Jupyter Notebook](https://jupyter.org/). Once you install Anaconda, you can open a Jupyter notebook from the Windows Start Menu or the Anaconda Prompt. See [this post](https://pythonforundergradengineers.com/opening-a-jupyter-notebook-on-windows.html) to learn about 3 ways to open a Jupyter notebook.\n",
    "\n",
    "Alternatively, instead of using a Jupyter notebook, you could code your solution in a ```.py``` file and use a code editor such as [Visual Studio Code](https://code.visualstudio.com/download) or [Sublime Text](https://www.sublimetext.com/3).\n",
    "\n",
    "**Alright. Let's get coding....**"
   ]
  },
  {
   "cell_type": "markdown",
   "metadata": {},
   "source": [
    "### Ask the user for input\n",
    "\n",
    "In the first part of our program, we need to ask the user for input.\n",
    "\n",
    "This is accomplished with Python's ```input()``` function. Note that Python's ```input()``` function outputs a string by default, so we need to convert the user's input into a float before we do any further calculations. The general structure of using ```input()``` is below:\n",
    "\n",
    "```text\n",
    "<string_var> = input(\"What the user sees at the prompt\")\n",
    "```\n",
    "\n",
    "Where ```\"What the user sees at the prompt\"``` is the prompt shown to the user when the ```input()``` statement runs. This statement is what the ```input()``` function prints to the user. ```<string_var>``` is a variable to store whatever the user types.  Note that the ```input()``` function outputs a _string_ (a text variable) not a number.\n",
    "\n",
    "The input function can be wrapped with Python's ```float()``` function. This turns the user's _string_ input into a _float_ (a floating point number or decimal).\n",
    "\n",
    "Let's try a couple of ```input()``` statements wrapped by ```float()```. We'll wrap the ```input(\"how may points to load\")``` with Python's ```int()``` function. The number of points must be an integers, so we will convert the _string_ to an _integer_ with ```int()```."
   ]
  },
  {
   "cell_type": "code",
   "execution_count": 1,
   "metadata": {},
   "outputs": [
    {
     "name": "stdout",
     "output_type": "stream",
     "text": [
      "What is length a?1\n",
      "What is length L?2\n",
      "What is length b?3\n",
      "How many point loads4\n"
     ]
    }
   ],
   "source": [
    "import numpy as np\n",
    "a = float(input(\"What is length a?\"))\n",
    "L = float(input(\"What is length L?\"))\n",
    "b = float(input(\"What is length b?\"))\n",
    "n = int(input(\"How many point loads\"))"
   ]
  },
  {
   "cell_type": "markdown",
   "metadata": {},
   "source": [
    "### Summary"
   ]
  },
  {
   "cell_type": "code",
   "execution_count": 2,
   "metadata": {},
   "outputs": [
    {
     "name": "stdout",
     "output_type": "stream",
     "text": [
      "3\n",
      "4\n",
      "6\n",
      "8\n",
      "(4, 2)\n"
     ]
    }
   ],
   "source": [
    "import numpy as np\n",
    "a = np.array([[2,3],[3,4],[5,6]])\n",
    "b = np.append(a,np.array([[7,8]]), axis=0)\n",
    "for i in range(4):\n",
    "    print(b[i][1])\n",
    "print(b.shape)"
   ]
  },
  {
   "cell_type": "code",
   "execution_count": 3,
   "metadata": {},
   "outputs": [
    {
     "name": "stdout",
     "output_type": "stream",
     "text": [
      "How may points loads?3\n",
      "what is load P_1?1\n",
      "what is distance x_1?2\n",
      "what is load P_2?3\n",
      "what is distance x_2?4\n",
      "what is load P_3?5\n",
      "what is distance x_3?6\n",
      "[[1. 2.]\n",
      " [3. 4.]\n",
      " [5. 6.]]\n"
     ]
    }
   ],
   "source": [
    "n = int(input(\"How may points loads?\"))\n",
    "P = np.zeros((n,2))\n",
    "for i in range(n):\n",
    "    p = float(input(f\"what is load P_{i+1}?\"))\n",
    "    x = float(input(f\"what is distance x_{i+1}?\"))\n",
    "    P[i][0]=p\n",
    "    P[i][1]=x\n",
    "print(P)"
   ]
  },
  {
   "cell_type": "markdown",
   "metadata": {},
   "source": [
    "## Solve for the reaction forces Ra and Rb\n",
    "\n",
    "Now that we have all of the distances and all of the applied loads, we need to solve for the reaction forces at the supports $A$ and $B$\n",
    "\n",
    "### Find reaction force Rb\n",
    "\n",
    "To find $R_B$, the reaction force at $B$, we will sum the moments about point $A$. Since we are summing the moments about point $A$, the reaction force $R_A$ does not contribute to the sum of moments. Each of the point load moments are are at a distance relative to $A$ equal to $x-a$ where $a$ is the distance between the end of the beam and the support at $A$. The equation for the sum of the moments is below.\n",
    "\n",
    "$$ \\sum{M_A} = 0 $$\n",
    "$$ \\sum{M_A} = M_1 + M_2 + M_3 + ... + M_n + M_B = 0 $$\n",
    "\n",
    "Each individual moment $M_1$, $M_2$, $M_3$ to $M_n$ are due to the point loads $P_1$, $P_2$, $P_3$, $P_n$. Each one of these point loads is at a distance $r = (x - a)$ from Point $A$. The equations below show how each moment in the series is calculated.\n",
    "\n",
    "$$ M_1 = P_1r_1 \\ where \\ r_1 = x_1 - a$$\n",
    "$$ M_1 = P_1(x_1 -a) $$\n",
    "$$ M_n = P_n(x_n - a) $$\n",
    "\n",
    "Substituting the loads and distances into the sum of moments equation yields the following. Note that we don't know load at $B$ yet, that's what we are solving for, so that term stays as $M_B$:\n",
    "\n",
    "$$ \\sum{M_A} = P_1(x_1-a) + P_2(x_2-a) + P_3(x_3-a) + ... + P_n(x_n-a) + M_B = 0 $$\n",
    "\n",
    "Solving for M_B produces:\n",
    "\n",
    "$$ M_B = - P_1(x_1-a) - P_2(x_2-a) - P_3(x_3-a) - ... - P_n(x_n-a) $$\n",
    "\n",
    "We can code this into Python using a for loop and array indexing. The point load $P$ is the first column of the array, the distance $x$ is in the second column of the array. Remember that Python counting starts at $0$, so the first column is column $0$. \n",
    "\n",
    "Reaction force $R_B$ is at a distance $L$ relative to point $A$. Since $M_B = P_br_b$ and $r_b = L$, We can solve for reaction force R_B using:\n",
    "\n",
    "$$ M_B = F_Br_B $$\n",
    "$$ M_B = F_BL $$\n",
    "$$ F_B = \\frac{M_B}{L} $$\n"
   ]
  },
  {
   "cell_type": "code",
   "execution_count": 11,
   "metadata": {},
   "outputs": [
    {
     "name": "stdout",
     "output_type": "stream",
     "text": [
      "The momement at due to reaction force at B, M_B = [[-26. -17.]\n",
      " [-17.  -8.]\n",
      " [  1.  10.]]\n",
      "The reaction force at B, R_b = [[-13.   -8.5]\n",
      " [ -8.5  -4. ]\n",
      " [  0.5   5. ]]\n"
     ]
    }
   ],
   "source": [
    "Mb = 0\n",
    "for i in range(n):\n",
    "    Mb += -(P[i][0]*(P[i][1]-a))\n",
    "print(f\"The momement at due to reaction force at B, M_B = {Mb}\")\n",
    "Rb = Mb/L\n",
    "print(f\"The reaction force at B, R_b = {Rb}\")"
   ]
  },
  {
   "cell_type": "code",
   "execution_count": null,
   "metadata": {},
   "outputs": [],
   "source": []
  }
 ],
 "metadata": {
  "kernelspec": {
   "display_name": "Python 3",
   "language": "python",
   "name": "python3"
  },
  "language_info": {
   "codemirror_mode": {
    "name": "ipython",
    "version": 3
   },
   "file_extension": ".py",
   "mimetype": "text/x-python",
   "name": "python",
   "nbconvert_exporter": "python",
   "pygments_lexer": "ipython3",
   "version": "3.7.3"
  }
 },
 "nbformat": 4,
 "nbformat_minor": 2
}
