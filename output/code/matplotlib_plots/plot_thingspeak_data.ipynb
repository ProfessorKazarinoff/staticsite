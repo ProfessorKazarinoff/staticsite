{
 "cells": [
  {
   "cell_type": "markdown",
   "metadata": {},
   "source": [
    "The IoT is a network of connected devices. We typically think of laptops, tablets, phones and desktops as devices that connect to the internet. But more devices are internet connected, like the Nest thermostat, the dropcam camera, Cree WiFi lightbulbs, amazon echo and google home hubs. \n",
    "\n",
    "This post came about from working with a class on accessing data from the ThingSpeak.com and internet of things cloud service. Small devices connected to the internet can push data up to ThingSpeak.com. Using a web API, data can be pulled down from ThingSpeak for analysis.\n",
    "\n",
    "In this post we will build a plot from some data up on ThingSpeak.com. Each time a chuck of code runs, I'm going to compare it to the MATLAB code to accomplish the same thing."
   ]
  },
  {
   "cell_type": "markdown",
   "metadata": {},
   "source": [
    "In Python, the first thing we need to do is import the necessary packages. We'll import numpy as np, pandas as pd and matplotlib.pyplot as plt. These are the trifecta of Python packages for Engineers. The %matplotlib inline command is needed if working in Jupyter notebooks.\n",
    "\n",
    "In MATLAB, none of these imports are necssary. All of the functions to pull down the data and plot it are built in."
   ]
  },
  {
   "cell_type": "code",
   "execution_count": 1,
   "metadata": {},
   "outputs": [],
   "source": [
    "import numpy as np\n",
    "import pandas as pd\n",
    "import matplotlib.pyplot as plt\n",
    "%matplotlib inline"
   ]
  },
  {
   "cell_type": "markdown",
   "metadata": {},
   "source": [
    "Next we'll ask the user for the weather type and number of data points. In Python and MATLAB this is pretty easy"
   ]
  },
  {
   "cell_type": "code",
   "execution_count": 2,
   "metadata": {},
   "outputs": [
    {
     "name": "stdout",
     "output_type": "stream",
     "text": [
      "What weather type: humid\n",
      "How many data points: 600\n"
     ]
    }
   ],
   "source": [
    "wtype = input('What weather type: ')\n",
    "num_pts = input('How many data points: ')"
   ]
  },
  {
   "cell_type": "code",
   "execution_count": 3,
   "metadata": {},
   "outputs": [],
   "source": [
    "d = {'temp':'4','humid':'5','rain':'6','press':'7'}\n",
    "url1='https://api.thingspeak.com/channels/12397/fields/'\n",
    "url2 = d[wtype]\n",
    "url3 = '.csv?results='\n",
    "url4 = str(num_pts)\n",
    "#url = 'https://api.thingspeak.com/channels/12397/fields/4.csv?results=20'\n",
    "url = url1+url2+url3+url4"
   ]
  },
  {
   "cell_type": "code",
   "execution_count": 4,
   "metadata": {},
   "outputs": [],
   "source": [
    "df = pd.read_csv(url)"
   ]
  },
  {
   "cell_type": "code",
   "execution_count": 5,
   "metadata": {},
   "outputs": [
    {
     "data": {
      "text/html": [
       "<div>\n",
       "<style scoped>\n",
       "    .dataframe tbody tr th:only-of-type {\n",
       "        vertical-align: middle;\n",
       "    }\n",
       "\n",
       "    .dataframe tbody tr th {\n",
       "        vertical-align: top;\n",
       "    }\n",
       "\n",
       "    .dataframe thead th {\n",
       "        text-align: right;\n",
       "    }\n",
       "</style>\n",
       "<table border=\"1\" class=\"dataframe\">\n",
       "  <thead>\n",
       "    <tr style=\"text-align: right;\">\n",
       "      <th></th>\n",
       "      <th>created_at</th>\n",
       "      <th>entry_id</th>\n",
       "      <th>field5</th>\n",
       "    </tr>\n",
       "  </thead>\n",
       "  <tbody>\n",
       "    <tr>\n",
       "      <th>0</th>\n",
       "      <td>2018-03-01 19:30:32 UTC</td>\n",
       "      <td>1762949</td>\n",
       "      <td>0.0</td>\n",
       "    </tr>\n",
       "    <tr>\n",
       "      <th>1</th>\n",
       "      <td>2018-03-01 19:31:33 UTC</td>\n",
       "      <td>1762950</td>\n",
       "      <td>0.0</td>\n",
       "    </tr>\n",
       "    <tr>\n",
       "      <th>2</th>\n",
       "      <td>2018-03-01 19:32:33 UTC</td>\n",
       "      <td>1762951</td>\n",
       "      <td>0.0</td>\n",
       "    </tr>\n",
       "    <tr>\n",
       "      <th>3</th>\n",
       "      <td>2018-03-01 19:33:35 UTC</td>\n",
       "      <td>1762952</td>\n",
       "      <td>0.0</td>\n",
       "    </tr>\n",
       "    <tr>\n",
       "      <th>4</th>\n",
       "      <td>2018-03-01 19:34:36 UTC</td>\n",
       "      <td>1762953</td>\n",
       "      <td>0.0</td>\n",
       "    </tr>\n",
       "  </tbody>\n",
       "</table>\n",
       "</div>"
      ],
      "text/plain": [
       "                created_at  entry_id  field5\n",
       "0  2018-03-01 19:30:32 UTC   1762949     0.0\n",
       "1  2018-03-01 19:31:33 UTC   1762950     0.0\n",
       "2  2018-03-01 19:32:33 UTC   1762951     0.0\n",
       "3  2018-03-01 19:33:35 UTC   1762952     0.0\n",
       "4  2018-03-01 19:34:36 UTC   1762953     0.0"
      ]
     },
     "execution_count": 5,
     "metadata": {},
     "output_type": "execute_result"
    }
   ],
   "source": [
    "df.head()"
   ]
  },
  {
   "cell_type": "code",
   "execution_count": 7,
   "metadata": {},
   "outputs": [
    {
     "data": {
      "text/plain": [
       "[<matplotlib.lines.Line2D at 0x1a25d04c3c8>]"
      ]
     },
     "execution_count": 7,
     "metadata": {},
     "output_type": "execute_result"
    },
    {
     "data": {
      "image/png": "[encoded data removed]",
      "text/plain": [
       "<matplotlib.figure.Figure at 0x1a25cd68710>"
      ]
     },
     "metadata": {},
     "output_type": "display_data"
    }
   ],
   "source": [
    "plt.plot(df['field5'])"
   ]
  },
  {
   "cell_type": "code",
   "execution_count": null,
   "metadata": {},
   "outputs": [],
   "source": []
  }
 ],
 "metadata": {
  "kernelspec": {
   "display_name": "Python 3",
   "language": "python",
   "name": "python3"
  },
  "language_info": {
   "codemirror_mode": {
    "name": "ipython",
    "version": 3
   },
   "file_extension": ".py",
   "mimetype": "text/x-python",
   "name": "python",
   "nbconvert_exporter": "python",
   "pygments_lexer": "ipython3",
   "version": "3.6.3"
  }
 },
 "nbformat": 4,
 "nbformat_minor": 2
}
