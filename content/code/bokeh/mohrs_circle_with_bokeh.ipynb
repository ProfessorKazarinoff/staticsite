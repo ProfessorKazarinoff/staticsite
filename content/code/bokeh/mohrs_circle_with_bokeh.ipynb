{
 "cells": [
  {
   "cell_type": "markdown",
   "metadata": {},
   "source": [
    "Bokeh is a plotting library for Python like [Matplotlib](https://matplotlib.org/) and Alatir (https://altair-viz.github.io/). While Matplotlib is widely used and great for making static 2D and 3D plots, building interactive web graphics is not its strong suite. Bokeh on the other hand is a plotting library designed for the web. You can create static plots with Bokeh, but its real strength is that Bokeh can make online interactive plots (without knowing any Javascript). \n",
    "\n",
    "In this post, we will build a Bokeh plot that plots a Mohr's Circle. Mohr's circle is a useful way for Engineers to visualize the normal and shearing stresses of an element that is rotated relative to the known applied stress. Engineers use Mohr's Circle to help determine how much load a component can withstand before it starts to deform."
   ]
  },
  {
   "cell_type": "markdown",
   "metadata": {},
   "source": [
    "## Installing Bokeh"
   ]
  },
  {
   "cell_type": "markdown",
   "metadata": {},
   "source": [
    "Bokeh comes installed in the full [Anaconda](https://www.anaconda.com/distribution/) Distribution of Python. If you are using the ```(base)``` Anaconda environment, no other installation steps are necessary.\n",
    "\n",
    "If you don't have Anaconda installed or are using a virtual environment, Bokeh can be installed using conda and the Anaconda Prompt using the command:\n",
    "\n",
    "```text\n",
    "> conda install bokeh\n",
    "```\n",
    "\n",
    "Or installed at a terminal using pip.\n",
    "\n",
    "```text\n",
    "$ pip install bokeh\n",
    "```\n",
    "\n",
    "Once bokeh is installed you can bring up the Python REPL (the Python prompt) and confirm your installation with the following code:"
   ]
  },
  {
   "cell_type": "code",
   "execution_count": 1,
   "metadata": {},
   "outputs": [
    {
     "data": {
      "text/plain": [
       "'1.3.4'"
      ]
     },
     "execution_count": 1,
     "metadata": {},
     "output_type": "execute_result"
    }
   ],
   "source": [
    ">>> import bokeh\n",
    ">>> bokeh.__version__"
   ]
  },
  {
   "cell_type": "markdown",
   "metadata": {},
   "source": [
    "If you installation was successful, you should see a version Number like ```'1.3.4'```."
   ]
  },
  {
   "cell_type": "markdown",
   "metadata": {},
   "source": [
    "## Create a Mohr's Circle Function\n",
    "\n",
    "Before we start plotting with Bokeh, we'll first make a function for Mohr's Circle. The function below can from an amazing student in on of my courses. The student took on the challenge of building Mohr's Circles with Python and the function below was part of the solution. "
   ]
  },
  {
   "cell_type": "code",
   "execution_count": 2,
   "metadata": {},
   "outputs": [],
   "source": [
    "import numpy as np\n",
    "\n",
    "def mohrs_circle(stress_x=1,stress_y=1,shear=0):\n",
    "    \"\"\"\n",
    "    A function that calculates the critical values to build a Mohr's Circle\n",
    "    \"\"\"\n",
    "    \n",
    "    # calculate the average stress, min stress and max stress\n",
    "    stress_avg=(stress_x+stress_y)/2\n",
    "    stress_max=stress_avg+(((stress_x-stress_y)/2)**2+shear**2)**0.5\n",
    "    stress_min=stress_avg-(((stress_x-stress_y)/2)**2+shear**2)**0.5\n",
    "    # calculate the radius\n",
    "    R=((((stress_x-stress_y)/2)**2)+shear**2)**0.5     #Also max shear\n",
    "    circle_eqn=((stress_x-stress_avg)**2)-shear**2-R**2\n",
    "    \n",
    "    # Construct x and y arrays that build the circle\n",
    "    n=100\n",
    "    t=np.linspace(0,2*np.pi,n+1)\n",
    "    x=R*np.cos(t)+stress_avg\n",
    "    y=R*np.sin(t)\n",
    "    \n",
    "    # Construct X and Y arrays that build the line accross Mohr's circle\n",
    "    X = np.array([stress_x, stress_y])\n",
    "    Y = np.array([-shear, shear])\n",
    "    \n",
    "    # Declare the center\n",
    "    C = stress_avg\n",
    "\n",
    "    return x,y,X,Y,R,C"
   ]
  },
  {
   "cell_type": "markdown",
   "metadata": {},
   "source": [
    "Let's test our function and see the resulting output"
   ]
  },
  {
   "cell_type": "code",
   "execution_count": 3,
   "metadata": {},
   "outputs": [
    {
     "name": "stdout",
     "output_type": "stream",
     "text": [
      "[2 5]\n",
      "[-1  1]\n",
      "3.5\n",
      "1.8027756377319946\n"
     ]
    }
   ],
   "source": [
    "x,y,X,Y,R,C = mohrs_circle(2,5,1)\n",
    "print(X)\n",
    "print(Y)\n",
    "print(C)\n",
    "print(R)"
   ]
  },
  {
   "cell_type": "markdown",
   "metadata": {},
   "source": [
    "We see output that looks reasonable. \n",
    "\n",
    "## Build Mohr's Circle with Bokeh\n",
    "\n",
    "Next we'll use our ```mohrs_circle()``` function to build a plot of Mohr's Circle using Bokeh. The imports start our script."
   ]
  },
  {
   "cell_type": "code",
   "execution_count": 4,
   "metadata": {},
   "outputs": [
    {
     "name": "stdout",
     "output_type": "stream",
     "text": [
      "Bokeh version: 1.3.4\n"
     ]
    }
   ],
   "source": [
    "import bokeh\n",
    "from bokeh.plotting import figure, output_file, show, output_notebook\n",
    "from bokeh.models import ColumnDataSource\n",
    "\n",
    "print(f\"Bokeh version: {bokeh.__version__}\")"
   ]
  },
  {
   "cell_type": "markdown",
   "metadata": {},
   "source": [
    "Next, we'll call our ```mohrs_circle()``` function so that we have arrays we need to build the plot."
   ]
  },
  {
   "cell_type": "code",
   "execution_count": 5,
   "metadata": {},
   "outputs": [],
   "source": [
    "x,y,X,Y,R,C = mohrs_circle(2,5,1)"
   ]
  },
  {
   "cell_type": "markdown",
   "metadata": {},
   "source": [
    "Now we'll use the arrays ```x,y``` and ```X,Y``` to create two Bokeh Columnar Data Sources. Bokeh uses the concept of a columnar data source, sort of like a column in a table or excel file to build plots."
   ]
  },
  {
   "cell_type": "code",
   "execution_count": 6,
   "metadata": {},
   "outputs": [],
   "source": [
    "# Create the Bokeh Column Data Source Object from the mohrs_circle() output arrays\n",
    "circle_source = ColumnDataSource(data=dict(x=x, y=y))\n",
    "line_source = ColumnDataSource(data=dict(x=X, y=Y))"
   ]
  },
  {
   "cell_type": "markdown",
   "metadata": {},
   "source": [
    "The next step is to create a Bokeh figure object that we'll call ```plot```. Bokeh figure objects are the basis for Bokeh plots. Lines, input boxes, sliders and other sorts of things can be added to a figure object. Whatever gets added to the figure object will be shown in the final plot. \n",
    "\n",
    "Keyword arguments such as ```plot_height```, ```plot_width```, ```title``` and ```tools``` can be called out when the figure object is created."
   ]
  },
  {
   "cell_type": "code",
   "execution_count": 7,
   "metadata": {},
   "outputs": [],
   "source": [
    "plot = figure(plot_height=400, plot_width=400, title=\"Mohr's Circle\", tools=\"pan,reset,save,wheel_zoom\")"
   ]
  },
  {
   "cell_type": "markdown",
   "metadata": {},
   "source": [
    "Now we can add our circle and line to the plot. This is accomplished by calling ```plot.line()``` and specifying the axis ```'x','y'``` and providing our column data sources as keyword arguments. Some line attributes such as ```line_width``` and ```line_alpha``` can also be specified."
   ]
  },
  {
   "cell_type": "code",
   "execution_count": 8,
   "metadata": {},
   "outputs": [
    {
     "data": {
      "text/html": [
       "<div style=\"display: table;\"><div style=\"display: table-row;\"><div style=\"display: table-cell;\"><b title=\"bokeh.models.renderers.GlyphRenderer\">GlyphRenderer</b>(</div><div style=\"display: table-cell;\">id&nbsp;=&nbsp;'1041', <span id=\"1044\" style=\"cursor: pointer;\">&hellip;)</span></div></div><div class=\"1043\" style=\"display: none;\"><div style=\"display: table-cell;\"></div><div style=\"display: table-cell;\">data_source&nbsp;=&nbsp;ColumnDataSource(id='1002', ...),</div></div><div class=\"1043\" style=\"display: none;\"><div style=\"display: table-cell;\"></div><div style=\"display: table-cell;\">glyph&nbsp;=&nbsp;Line(id='1039', ...),</div></div><div class=\"1043\" style=\"display: none;\"><div style=\"display: table-cell;\"></div><div style=\"display: table-cell;\">hover_glyph&nbsp;=&nbsp;None,</div></div><div class=\"1043\" style=\"display: none;\"><div style=\"display: table-cell;\"></div><div style=\"display: table-cell;\">js_event_callbacks&nbsp;=&nbsp;{},</div></div><div class=\"1043\" style=\"display: none;\"><div style=\"display: table-cell;\"></div><div style=\"display: table-cell;\">js_property_callbacks&nbsp;=&nbsp;{},</div></div><div class=\"1043\" style=\"display: none;\"><div style=\"display: table-cell;\"></div><div style=\"display: table-cell;\">level&nbsp;=&nbsp;'glyph',</div></div><div class=\"1043\" style=\"display: none;\"><div style=\"display: table-cell;\"></div><div style=\"display: table-cell;\">muted&nbsp;=&nbsp;False,</div></div><div class=\"1043\" style=\"display: none;\"><div style=\"display: table-cell;\"></div><div style=\"display: table-cell;\">muted_glyph&nbsp;=&nbsp;None,</div></div><div class=\"1043\" style=\"display: none;\"><div style=\"display: table-cell;\"></div><div style=\"display: table-cell;\">name&nbsp;=&nbsp;None,</div></div><div class=\"1043\" style=\"display: none;\"><div style=\"display: table-cell;\"></div><div style=\"display: table-cell;\">nonselection_glyph&nbsp;=&nbsp;Line(id='1040', ...),</div></div><div class=\"1043\" style=\"display: none;\"><div style=\"display: table-cell;\"></div><div style=\"display: table-cell;\">selection_glyph&nbsp;=&nbsp;None,</div></div><div class=\"1043\" style=\"display: none;\"><div style=\"display: table-cell;\"></div><div style=\"display: table-cell;\">subscribed_events&nbsp;=&nbsp;[],</div></div><div class=\"1043\" style=\"display: none;\"><div style=\"display: table-cell;\"></div><div style=\"display: table-cell;\">tags&nbsp;=&nbsp;[],</div></div><div class=\"1043\" style=\"display: none;\"><div style=\"display: table-cell;\"></div><div style=\"display: table-cell;\">view&nbsp;=&nbsp;CDSView(id='1042', ...),</div></div><div class=\"1043\" style=\"display: none;\"><div style=\"display: table-cell;\"></div><div style=\"display: table-cell;\">visible&nbsp;=&nbsp;True,</div></div><div class=\"1043\" style=\"display: none;\"><div style=\"display: table-cell;\"></div><div style=\"display: table-cell;\">x_range_name&nbsp;=&nbsp;'default',</div></div><div class=\"1043\" style=\"display: none;\"><div style=\"display: table-cell;\"></div><div style=\"display: table-cell;\">y_range_name&nbsp;=&nbsp;'default')</div></div></div>\n",
       "<script>\n",
       "(function() {\n",
       "  var expanded = false;\n",
       "  var ellipsis = document.getElementById(\"1044\");\n",
       "  ellipsis.addEventListener(\"click\", function() {\n",
       "    var rows = document.getElementsByClassName(\"1043\");\n",
       "    for (var i = 0; i < rows.length; i++) {\n",
       "      var el = rows[i];\n",
       "      el.style.display = expanded ? \"none\" : \"table-row\";\n",
       "    }\n",
       "    ellipsis.innerHTML = expanded ? \"&hellip;)\" : \"&lsaquo;&lsaquo;&lsaquo;\";\n",
       "    expanded = !expanded;\n",
       "  });\n",
       "})();\n",
       "</script>\n"
      ],
      "text/plain": [
       "GlyphRenderer(id='1041', ...)"
      ]
     },
     "execution_count": 8,
     "metadata": {},
     "output_type": "execute_result"
    }
   ],
   "source": [
    "plot.line('x','y', source=circle_source, line_width=3, line_alpha=0.6)\n",
    "plot.line('x','y', source=line_source, line_width=3, line_alpha=0.8)"
   ]
  },
  {
   "cell_type": "markdown",
   "metadata": {},
   "source": [
    "OK, we've created our plot, but now we need to see it. There are a couple ways of doing so. Remember that Bokeh is primarily designed for creating  plots built for the web. \n",
    "\n",
    "### Show the plot in a separate window\n",
    "\n",
    "The first way we can see the plot is by using the ```show()``` function. Pass in the ```plot``` as an argument to the ```show()``` function. If you are building the Bokeh Plot in a Jupyter notebook, this will pop out a new browser tab and you'll see your plot."
   ]
  },
  {
   "cell_type": "code",
   "execution_count": 9,
   "metadata": {},
   "outputs": [],
   "source": [
    "show(plot)"
   ]
  },
  {
   "cell_type": "markdown",
   "metadata": {},
   "source": [
    "The plot should look something like the plot below.\n",
    "\n",
    "![Bokeh Plot](plot.png)"
   ]
  },
  {
   "cell_type": "markdown",
   "metadata": {},
   "source": [
    "You can click the little [save] icon to save the plot."
   ]
  },
  {
   "cell_type": "markdown",
   "metadata": {},
   "source": [
    "### Show the plot in a Jupyter notebook\n",
    "\n",
    "If you are working in a Jupyter notebook and want to see the plot inline, call the ```output_notebook()``` function at the top of the notebook and then show the plot with ```show()```. Note that you can't show a plot in a separate window and show the a plot inline in the same Jupyter notebook. \n",
    "\n",
    "The code below is the exact same as the code we used to build the plot above, the only difference is the line\n",
    "\n",
    "```\n",
    "output_notebook()\n",
    "```\n",
    "\n",
    "right below the imports. \n"
   ]
  },
  {
   "cell_type": "markdown",
   "metadata": {},
   "source": [
    "```python\n",
    "import bokeh\n",
    "from bokeh.plotting import figure, output_file, show, output_notebook\n",
    "from bokeh.models import ColumnDataSource\n",
    "\n",
    "output_notebook()\n",
    "\n",
    "x,y,X,Y,R,C = mohrs_circle(2,5,1)\n",
    "circle_source = ColumnDataSource(data=dict(x=x, y=y))\n",
    "line_source = ColumnDataSource(data=dict(x=X, y=Y))\n",
    "\n",
    "plot = figure(plot_height=400, plot_width=400, title=\"Mohr's Circle\", tools=\"pan,reset,save,wheel_zoom\")\n",
    "\n",
    "plot.line('x','y', source=circle_source, line_width=3, line_alpha=0.6)\n",
    "plot.line('x','y', source=line_source, line_width=3, line_alpha=0.8)\n",
    "\n",
    "show(plot)\n",
    "```"
   ]
  },
  {
   "cell_type": "markdown",
   "metadata": {},
   "source": [
    "You will see the plot in the resulting output cell look something like below\n",
    "\n",
    "![Bokeh Plot](plot.png)"
   ]
  },
  {
   "cell_type": "markdown",
   "metadata": {},
   "source": [
    "## Output the plot as a .png file\n",
    "\n",
    "If you want to output the plot as a .png file, you first have to make sure that a couple of libraries are installed. This is most easily completed at the Anaconda Prompt using conda.\n",
    "\n",
    "```text\n",
    "> conda install selenium pillow\n",
    "> conda install -c conda-forge phantomjs \n",
    "```"
   ]
  },
  {
   "cell_type": "markdown",
   "metadata": {},
   "source": [
    "Then you can use Bokeh's  ```export_png()``` function to save the plot to a .png file. Make sure to ```import export_png``` before calling the function"
   ]
  },
  {
   "cell_type": "code",
   "execution_count": 10,
   "metadata": {},
   "outputs": [
    {
     "data": {
      "text/plain": [
       "'C:\\\\Users\\\\Peter\\\\Documents\\\\staticsite\\\\content\\\\code\\\\bokeh\\\\plot.png'"
      ]
     },
     "execution_count": 10,
     "metadata": {},
     "output_type": "execute_result"
    }
   ],
   "source": [
    "from bokeh.io import export_png\n",
    "\n",
    "export_png(plot, filename=\"plot.png\")"
   ]
  },
  {
   "cell_type": "markdown",
   "metadata": {},
   "source": [
    "On my Windows 10 laptop, a Windows Defender Firewall window popped up that asked me for access. After I typed in my administrator password, the plot was saved.\n",
    "\n",
    "It should look like the plot below\n",
    "\n",
    "![Bokeh Plot Export](plot.png)"
   ]
  },
  {
   "cell_type": "markdown",
   "metadata": {},
   "source": [
    "If you don't like the pan, zoom, refresh, and save buttons on the side, they can be removed when you create the ```plot``` using Bokeh's ```figure()``` function and setting the ```.toolbar.logo``` attribute to ```None``` and the ```.toolbar_location``` to ```None```"
   ]
  },
  {
   "cell_type": "code",
   "execution_count": 14,
   "metadata": {},
   "outputs": [
    {
     "data": {
      "text/plain": [
       "'C:\\\\Users\\\\Peter\\\\Documents\\\\staticsite\\\\content\\\\code\\\\bokeh\\\\plot_no_tools.png'"
      ]
     },
     "execution_count": 14,
     "metadata": {},
     "output_type": "execute_result"
    }
   ],
   "source": [
    "import bokeh\n",
    "from bokeh.plotting import figure, output_file, show, output_notebook\n",
    "from bokeh.models import ColumnDataSource\n",
    "from bokeh.io import export_png\n",
    "\n",
    "x,y,X,Y,R,C = mohrs_circle(2,5,1)\n",
    "circle_source = ColumnDataSource(data=dict(x=x, y=y))\n",
    "line_source = ColumnDataSource(data=dict(x=X, y=Y))\n",
    "\n",
    "plot = figure(plot_height=400, plot_width=400, title=\"Mohr's Circle\", tools=\"\")\n",
    "plot.toolbar.logo = None\n",
    "plot.toolbar_location = None\n",
    "\n",
    "plot.line('x','y', source=circle_source, line_width=3, line_alpha=0.6)\n",
    "plot.line('x','y', source=line_source, line_width=3, line_alpha=0.8)\n",
    "\n",
    "export_png(plot, filename=\"plot_no_tools.png\")"
   ]
  },
  {
   "cell_type": "markdown",
   "metadata": {},
   "source": [
    "The plot with no tools is shown below.\n",
    "\n",
    "![bokeh plot no tools](plot_no_tools.png)"
   ]
  },
  {
   "cell_type": "markdown",
   "metadata": {},
   "source": [
    "## Conclusion\n",
    "\n",
    "In this post, we build a plot of Mohr's Circle using Bokeh. Bokeh is a Python package that can be installed with conda or pip. We built the plot in a couple of steps. First we imported some function from bokeh. Next, we wrote a Python function that gave us the arrays necessary to plot Mohr's Circle. Using the arrays we created, we defined Bokeh Column Data sources for the circle and the line. Next we created a bokeh figure and added lines (the circle and line) to it. At the end of the post we showed the figure in three different ways: in a seperate window, in a Jupyter notebook and in an exported .png file."
   ]
  },
  {
   "cell_type": "code",
   "execution_count": null,
   "metadata": {},
   "outputs": [],
   "source": []
  }
 ],
 "metadata": {
  "kernelspec": {
   "display_name": "Python 3",
   "language": "python",
   "name": "python3"
  },
  "language_info": {
   "codemirror_mode": {
    "name": "ipython",
    "version": 3
   },
   "file_extension": ".py",
   "mimetype": "text/x-python",
   "name": "python",
   "nbconvert_exporter": "python",
   "pygments_lexer": "ipython3",
   "version": "3.7.3"
  }
 },
 "nbformat": 4,
 "nbformat_minor": 2
}
