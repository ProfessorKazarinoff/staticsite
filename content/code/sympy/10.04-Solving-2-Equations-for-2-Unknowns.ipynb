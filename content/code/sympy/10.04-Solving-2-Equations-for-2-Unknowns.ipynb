{
 "cells": [
  {
   "cell_type": "markdown",
   "metadata": {},
   "source": [
    "## Solving two equations for two unknows"
   ]
  },
  {
   "cell_type": "markdown",
   "metadata": {},
   "source": [
    "Solving two equations for two unknown can be accomplished using **SymPy**. Consider the following set of two equations with two variables"
   ]
  },
  {
   "cell_type": "markdown",
   "metadata": {},
   "source": [
    "$$ x + y - 5 = 0 $$\n",
    "\n",
    "$$ x - y + 3 = 0 $$"
   ]
  },
  {
   "cell_type": "markdown",
   "metadata": {},
   "source": [
    "To solve this system of two equations for the two unknows $x$ and $y$, first the **Sympy** package needs to be imported. From the **sympy** package, we'll use the functions ```symbols```, ```Eq``` and ```solve```."
   ]
  },
  {
   "cell_type": "code",
   "execution_count": 1,
   "metadata": {},
   "outputs": [],
   "source": [
    "import numpy as np\n",
    "from sympy import symbols, Eq, solve"
   ]
  },
  {
   "cell_type": "markdown",
   "metadata": {},
   "source": [
    "Next we create two **sympy** symbols objects, $x$ and $y$. Note the string passed as an argument to the ```symbols()``` function, ```'x y'```, does not have any commas. The outputs of the ```symbols()``` function are the two symbols objects ```x``` and ```y```. These outputs must be separated by a comma and are not surrounded by quotes."
   ]
  },
  {
   "cell_type": "code",
   "execution_count": 2,
   "metadata": {},
   "outputs": [],
   "source": [
    "x, y = symbols('x y')"
   ]
  },
  {
   "cell_type": "markdown",
   "metadata": {},
   "source": [
    "Now we can define the two equations as **Sympy** equation objects"
   ]
  },
  {
   "cell_type": "code",
   "execution_count": 3,
   "metadata": {},
   "outputs": [],
   "source": [
    "eq1 = Eq(x + y - 5)\n",
    "eq2 = Eq(x - y + 3)"
   ]
  },
  {
   "cell_type": "markdown",
   "metadata": {},
   "source": [
    "Now we can use **Sympy's** solve function, to computer the value of $x$ and $y$. The first argument passed to the ```solve()``` function is a tuple of the two equations ```(eq1, eq2)```. The second argument passed to the solve function is a tuple of the variables we want to solve for ```(x, y)```."
   ]
  },
  {
   "cell_type": "code",
   "execution_count": 4,
   "metadata": {},
   "outputs": [
    {
     "data": {
      "text/plain": [
       "{x: 1, y: 4}"
      ]
     },
     "execution_count": 4,
     "metadata": {},
     "output_type": "execute_result"
    }
   ],
   "source": [
    "solve((eq1,eq2), (x, y))"
   ]
  },
  {
   "cell_type": "markdown",
   "metadata": {},
   "source": [
    "The solution is in the form of a Python dictionary. The dictionary keys are the variables and the dictionary values are the numerical solutions. We can access the solution out of the dictionary using regular dictionary indexing."
   ]
  },
  {
   "cell_type": "code",
   "execution_count": 5,
   "metadata": {},
   "outputs": [
    {
     "name": "stdout",
     "output_type": "stream",
     "text": [
      "x = 1\n",
      "y = 4\n"
     ]
    }
   ],
   "source": [
    "sol_dict = solve((eq1,eq2), (x, y))\n",
    "print(f'x = {sol_dict[x]}')\n",
    "print(f'y = {sol_dict[y]}')"
   ]
  },
  {
   "cell_type": "markdown",
   "metadata": {},
   "source": [
    "Solving two equations for two unknown can be accomplished using **SymPy**. Consider the following engineering statics problem:\n",
    "\n",
    "GIVEN:\n",
    "\n",
    "A mass of 22 lbs is hung from a ring. The ring is supported by two cords, cord CE is 30 degrees above the horizontal to the right and cord BD is 45 degrees to the left above the horizontal. \n",
    "\n",
    "$m$ = 20 lb\n",
    "\n",
    "$T_{CE}$ @ +30 degrees CCW relative to +x-axis\n",
    "\n",
    "$T_{BD}$ @ +45 degress CW relative to -x-axis\n",
    "\n",
    "FIND:\n",
    "\n",
    "magnitude of $T_{CE}$ and $T_{BD}$ "
   ]
  },
  {
   "cell_type": "markdown",
   "metadata": {},
   "source": [
    "SOLUTION:\n",
    "\n",
    "To solve for the magnitude of T<sub>CE</sub> and T<sub>BD</sub>, need to solve to two equations for two unknowns. To accomplish this with **SymPy**, first we need to import **numpy** and **sympy**.  The **SymPy** functions ```symbols```, ```Eq``` and ```solve``` will all be needed."
   ]
  },
  {
   "cell_type": "code",
   "execution_count": 6,
   "metadata": {},
   "outputs": [],
   "source": [
    "import numpy as np\n",
    "from sympy import symbols, Eq, solve"
   ]
  },
  {
   "cell_type": "markdown",
   "metadata": {},
   "source": [
    "Next define the symbolic math variables (that will be used in the equations) as **SymPy** ```symbols``` objects. Multiple symbolic math variables can be defined at the same time. Note the argument names (on the right-hand side of the assignment operator ```=```) need to be enclosed in quotes``` ' ' ``` and separated by spaces, no commas. The object names (on the left-hand side of the assignment operator ```=```) are separated with commas, no quotes."
   ]
  },
  {
   "cell_type": "code",
   "execution_count": 7,
   "metadata": {},
   "outputs": [],
   "source": [
    "Tce, Tbd = symbols('Tce Tbd')"
   ]
  },
  {
   "cell_type": "markdown",
   "metadata": {},
   "source": [
    "Next two equations based on the sum of the forces need to be defined. Assuming the ring is in static equilibrium:\n",
    "\n",
    "$$ \\Sigma \\vec{F} = 0 $$\n",
    "\n",
    "$$ \\Sigma F_{x} = 0 $$\n",
    "\n",
    "$$ \\Sigma F_{y} = 0 $$\n",
    "\n",
    "The three forces opperating on the ring are defined as:\n",
    "\n",
    "$$ {T_{ce}} = tension \\ in \\ cable \\ CE \\ $$\n",
    "\n",
    "$$ \\vec{T_{ce}} = T_{ce} cos(30)\\hat{i} + T_{ce} sin(30)\\hat{j} $$\n",
    "\n",
    "$$ {T_{bd}} = tension \\ in \\ cable \\ BD $$\n",
    "\n",
    "$$ \\vec{T_{bd}} = - T_{bd} cos(45)\\hat{i} + T_{bd} sin(45)\\hat{j} $$\n",
    "\n",
    "$$ \\vec{m} = 0 \\hat{i} - 22 \\hat{j} $$\n",
    "\n",
    "Taking $\\Sigma F_{x} = 0$ (sum of the $\\hat{i}$ terms):\n",
    "\n",
    "$$ T_{ce} cos(30) - T_{bd} cos(45) = 0 $$\n",
    "\n",
    "Taking $\\Sigma F_{y} = 0$ (sum of the $\\hat{j}$ terms):\n",
    "\n",
    "$$ T_{ce} sin(30) + T_{bd} sin(45) - 22 = 0 $$\n",
    "\n"
   ]
  },
  {
   "cell_type": "markdown",
   "metadata": {},
   "source": [
    "Our first equation, based on the sum of the forces in the x-direction (the $\\hat{i}$ terms) is:\n",
    "\n",
    "$$ T_{ce} cos(30) - T_{bd} cos(45) = 0 $$\n",
    "\n",
    "This equation can be represented as a **Sympy** equation object. Note the right-hand side of the equation is ```0```. **Sympy** equation objects are instantiated with expressions equal to zero. If the expression was not equal to zero, we would simply subtract both sides by the term on the right-hand side of the equals sign and use the resulting expression (equal to zero) to create the **Sympy** equation object."
   ]
  },
  {
   "cell_type": "code",
   "execution_count": 8,
   "metadata": {},
   "outputs": [
    {
     "name": "stdout",
     "output_type": "stream",
     "text": [
      "Eq(-0.707106781186548*Tbd + 0.866025403784439*Tce, 0)\n"
     ]
    }
   ],
   "source": [
    "eq1=Eq(Tce*np.cos(np.radians(30)) - Tbd*np.cos(np.radians(45)))\n",
    "print(eq1)"
   ]
  },
  {
   "cell_type": "markdown",
   "metadata": {},
   "source": [
    "The second equation, based on the sum of the forces in the y-direction is:\n",
    "\n",
    "$$ T_{ce} sin(30) + T_{bd} sin(45) - 22 = 0 $$\n",
    "\n",
    "We can define this equation as a **Sympy** equation object as well:"
   ]
  },
  {
   "cell_type": "code",
   "execution_count": 9,
   "metadata": {},
   "outputs": [
    {
     "name": "stdout",
     "output_type": "stream",
     "text": [
      "Eq(0.707106781186548*Tbd + 0.5*Tce - 22, 0)\n"
     ]
    }
   ],
   "source": [
    "eq2=Eq(Tce*np.sin(np.radians(30)) + Tbd*np.sin(np.radians(45))-22)\n",
    "print(eq2)"
   ]
  },
  {
   "cell_type": "markdown",
   "metadata": {},
   "source": [
    "Now to solve the two equations for $T_{ce}$ and $T_{bd}$ we use sympy's ```solve``` method. The first argument is a tuple of the equations we want to solve, the second argument is a tuple of the variables we want to solve for."
   ]
  },
  {
   "cell_type": "code",
   "execution_count": 10,
   "metadata": {},
   "outputs": [
    {
     "data": {
      "text/plain": [
       "{Tbd: 19.7246603876972, Tce: 16.1051177665153}"
      ]
     },
     "execution_count": 10,
     "metadata": {},
     "output_type": "execute_result"
    }
   ],
   "source": [
    "solve((eq1,eq2),(Tce, Tbd))"
   ]
  },
  {
   "cell_type": "markdown",
   "metadata": {},
   "source": [
    "The solution is saved in a dictionary. The dictionary keys are the variable names and the dictionary values are the numerical solution."
   ]
  },
  {
   "cell_type": "markdown",
   "metadata": {},
   "source": [
    "We can solve the same problem, but keep $m$ as a variable. "
   ]
  },
  {
   "cell_type": "code",
   "execution_count": 11,
   "metadata": {},
   "outputs": [],
   "source": [
    "m, Tce, Tbd = symbols('m, Tab, Tac')"
   ]
  },
  {
   "cell_type": "code",
   "execution_count": 12,
   "metadata": {},
   "outputs": [],
   "source": [
    "eq1=Eq(Tce*np.cos(np.radians(30)) - Tbd*np.cos(np.radians(45)))\n",
    "eq2=Eq(Tce*np.sin(np.radians(30)) + Tbd*np.sin(np.radians(45))-m)"
   ]
  },
  {
   "cell_type": "code",
   "execution_count": 13,
   "metadata": {},
   "outputs": [
    {
     "data": {
      "text/plain": [
       "{Tab: 0.732050807568877*m, Tac: 0.896575472168053*m}"
      ]
     },
     "execution_count": 13,
     "metadata": {},
     "output_type": "execute_result"
    }
   ],
   "source": [
    "solve((eq1,eq2),(Tce,Tbd))"
   ]
  },
  {
   "cell_type": "markdown",
   "metadata": {},
   "source": [
    "Now our solution is in terms of the variable $m$. "
   ]
  },
  {
   "cell_type": "code",
   "execution_count": null,
   "metadata": {},
   "outputs": [],
   "source": []
  }
 ],
 "metadata": {
  "kernelspec": {
   "display_name": "Python 3",
   "language": "python",
   "name": "python3"
  },
  "language_info": {
   "codemirror_mode": {
    "name": "ipython",
    "version": 3
   },
   "file_extension": ".py",
   "mimetype": "text/x-python",
   "name": "python",
   "nbconvert_exporter": "python",
   "pygments_lexer": "ipython3",
   "version": "3.6.3"
  }
 },
 "nbformat": 4,
 "nbformat_minor": 2
}
