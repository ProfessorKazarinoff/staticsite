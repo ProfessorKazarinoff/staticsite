{
 "cells": [
  {
   "cell_type": "markdown",
   "metadata": {},
   "source": [
    "**Sympy** is a **Python** package used for solving equations using symbolic math. \n",
    "\n",
    "Let's solve the following problem with **SymPy**. "
   ]
  },
  {
   "cell_type": "markdown",
   "metadata": {},
   "source": [
    "#### Given:\n",
    "The density of two different polymer samples $\\rho_1$ and $\\rho_2$ are measured. \n",
    "\n",
    "$$ \\rho_1 = 0.904 \\ g/cm^3 $$\n",
    "\n",
    "$$ \\rho_2 = 0.895 \\ g/cm^3 $$\n",
    "\n",
    "The percent crystalinity of the two samples ($\\%c_1 $ and $\\%c_2$) is known. \n",
    "\n",
    "$$ \\%c_1 = 62.8 \\% $$\n",
    "\n",
    "$$ \\%c_2 = 54.4 \\% $$\n",
    "\n",
    "The percent crystalinity of a polymer sample is related to the density of 100% amorphus regions ($\\rho_a$) and 100% crystaline regions ($\\rho_c$) according to:\n",
    "\n",
    "$$ \\%crystallinity = \\frac{ \\rho_c(\\rho_s - \\rho_a)   }{\\rho_s(\\rho_c - \\rho_a)   } \\times 100 \\% $$"
   ]
  },
  {
   "cell_type": "markdown",
   "metadata": {},
   "source": [
    "#### Find:\n",
    "\n",
    "Find the density of 100% amorphus regions ($\\rho_a$) and the density of 100% crystaline regions ($\\rho_c$) for this polymer."
   ]
  },
  {
   "cell_type": "markdown",
   "metadata": {},
   "source": [
    "#### Solution:\n",
    "\n",
    "There are a couple functions we need from **Sympy**. We'll need the ```symbols``` function to create our symbolic math variables and we need the ```nonlinsolve``` function to solve a system of non-linear equations."
   ]
  },
  {
   "cell_type": "code",
   "execution_count": 1,
   "metadata": {},
   "outputs": [],
   "source": [
    "from sympy import symbols, nonlinsolve, solve"
   ]
  },
  {
   "cell_type": "markdown",
   "metadata": {},
   "source": [
    "We need to define six different symbols: $$\\rho_c, \\rho_a, \\rho_1, \\rho_2, c_1, c_2$$"
   ]
  },
  {
   "cell_type": "code",
   "execution_count": 2,
   "metadata": {},
   "outputs": [],
   "source": [
    "pc, pa, p1, p2, c1, c2 = symbols('pc pa p1 p2 c1 c2')"
   ]
  },
  {
   "cell_type": "markdown",
   "metadata": {},
   "source": [
    "Next we'll create two expressions for our two equations. We can subtract the %crystallinity from the left side of the equation to set the equation to zero. \n",
    "\n",
    "$$ \\%crystallinity = \\frac{ \\rho_c(\\rho_s - \\rho_a)   }{\\rho_s(\\rho_c - \\rho_a)   } \\times 100 \\% $$\n",
    "\n",
    "$$ \\frac{ \\rho_c(\\rho_s - \\rho_a)   }{\\rho_s(\\rho_c - \\rho_a)   } \\times 100 \\% - \\%crystallinity = 0 $$\n",
    "\n",
    "\n",
    "\n",
    "Sub in $\\rho_s = \\rho_1$ and $\\rho_s = \\rho_2$ to each of the expressions."
   ]
  },
  {
   "cell_type": "code",
   "execution_count": 3,
   "metadata": {},
   "outputs": [],
   "source": [
    "expr1 = ( (pc*(p1-pa)   ) / (p1*(pc-pa)) - c1)\n",
    "expr2 = ( (pc*(p2-pa)   ) / (p2*(pc-pa)) - c2)"
   ]
  },
  {
   "cell_type": "markdown",
   "metadata": {},
   "source": [
    "Now we'll substitue in the values of $\\rho_1 = 0.904$ and $c_1 = 0.628$ into our first expression."
   ]
  },
  {
   "cell_type": "code",
   "execution_count": 4,
   "metadata": {},
   "outputs": [],
   "source": [
    "expr1 = expr1.subs(p1, 1.408)"
   ]
  },
  {
   "cell_type": "code",
   "execution_count": 5,
   "metadata": {},
   "outputs": [],
   "source": [
    "expr1 = expr1.subs(c1, 0.743)"
   ]
  },
  {
   "cell_type": "code",
   "execution_count": 6,
   "metadata": {},
   "outputs": [
    {
     "data": {
      "text/plain": [
       "0.710227272727273*pc*(-pa + 1.408)/(-pa + pc) - 0.743"
      ]
     },
     "execution_count": 6,
     "metadata": {},
     "output_type": "execute_result"
    }
   ],
   "source": [
    "expr1"
   ]
  },
  {
   "cell_type": "markdown",
   "metadata": {},
   "source": [
    "Now we'll substitue our the values of $\\rho_2 = 0.895$ and $c_2 = 0.544$ into our second expression."
   ]
  },
  {
   "cell_type": "code",
   "execution_count": 7,
   "metadata": {},
   "outputs": [],
   "source": [
    "expr2 = expr2.subs(p2, 1.343)"
   ]
  },
  {
   "cell_type": "code",
   "execution_count": 8,
   "metadata": {},
   "outputs": [],
   "source": [
    "expr2 = expr2.subs(c2, 0.312)"
   ]
  },
  {
   "cell_type": "code",
   "execution_count": 9,
   "metadata": {},
   "outputs": [
    {
     "data": {
      "text/plain": [
       "0.744601638123604*pc*(-pa + 1.343)/(-pa + pc) - 0.312"
      ]
     },
     "execution_count": 9,
     "metadata": {},
     "output_type": "execute_result"
    }
   ],
   "source": [
    "expr2"
   ]
  },
  {
   "cell_type": "markdown",
   "metadata": {},
   "source": [
    "To solve the two equations for the to unknows $\\rho_a$ and $\\rho_b$, use SymPy's ```nonlinsolve()``` function. Pass in a list of the two expressions and followed by a list of the two variables to solve for."
   ]
  },
  {
   "cell_type": "code",
   "execution_count": 10,
   "metadata": {},
   "outputs": [
    {
     "data": {
      "text/plain": [
       "{(1.29957020576342, 1.44984214271483)}"
      ]
     },
     "execution_count": 10,
     "metadata": {},
     "output_type": "execute_result"
    }
   ],
   "source": [
    "nonlinsolve([expr1,expr2],[pa,pc])"
   ]
  },
  {
   "cell_type": "markdown",
   "metadata": {},
   "source": [
    "We see that the value of $\\rho_a = 0.840789$ and $\\rho_c = 0.94613431$.\n",
    "\n",
    "The solution is a SymPy ```FiniteSet``` object. To pull the values of $\\rho_a$ and $\\rho_c$ out of the ```FiniteSet```, use the syntax ```sol.args[0][<var num>]```."
   ]
  },
  {
   "cell_type": "code",
   "execution_count": 11,
   "metadata": {},
   "outputs": [],
   "source": [
    "sol = nonlinsolve([expr1,expr2],[pa,pc])"
   ]
  },
  {
   "cell_type": "code",
   "execution_count": 12,
   "metadata": {},
   "outputs": [
    {
     "data": {
      "text/plain": [
       "sympy.sets.sets.FiniteSet"
      ]
     },
     "execution_count": 12,
     "metadata": {},
     "output_type": "execute_result"
    }
   ],
   "source": [
    "type(sol)"
   ]
  },
  {
   "cell_type": "code",
   "execution_count": 13,
   "metadata": {},
   "outputs": [
    {
     "data": {
      "text/plain": [
       "((1.29957020576342, 1.44984214271483),)"
      ]
     },
     "execution_count": 13,
     "metadata": {},
     "output_type": "execute_result"
    }
   ],
   "source": [
    "sol.args"
   ]
  },
  {
   "cell_type": "code",
   "execution_count": 14,
   "metadata": {},
   "outputs": [
    {
     "data": {
      "text/plain": [
       "(1.29957020576342, 1.44984214271483)"
      ]
     },
     "execution_count": 14,
     "metadata": {},
     "output_type": "execute_result"
    }
   ],
   "source": [
    "sol.args[0]"
   ]
  },
  {
   "cell_type": "code",
   "execution_count": 15,
   "metadata": {},
   "outputs": [
    {
     "data": {
      "text/plain": [
       "1.29957020576342"
      ]
     },
     "execution_count": 15,
     "metadata": {},
     "output_type": "execute_result"
    }
   ],
   "source": [
    "sol.args[0][0]\n"
   ]
  },
  {
   "cell_type": "code",
   "execution_count": 16,
   "metadata": {},
   "outputs": [
    {
     "name": "stdout",
     "output_type": "stream",
     "text": [
      " Density of 100% amorphous polymer, pa = 1.3 g/cm3\n",
      " Density of 100% crystaline polymer, pc = 1.45 g/cm3\n"
     ]
    }
   ],
   "source": [
    "pa = sol.args[0][0]\n",
    "pc = sol.args[0][1]\n",
    "print(f' Density of 100% amorphous polymer, pa = {round(pa,2)} g/cm3')\n",
    "print(f' Density of 100% crystaline polymer, pc = {round(pc,2)} g/cm3')\n"
   ]
  },
  {
   "cell_type": "markdown",
   "metadata": {},
   "source": [
    "## Use SymPy to calculate a numerical result\n",
    "\n",
    "SymPy expressions can be used to calculate a numerical result if all of the variables in an expression are set to floats or integers. \n",
    "\n",
    "Let's solve the following problem with SymPy and calculate a numerical result.\n",
    "\n",
    "#### Given:\n",
    "\n",
    "The density of a 100\\% amorphous polymer sample $\\rho_a$ and the density of a 100% crystaline sample $\\rho_c$ of the same polymer are measured. \n",
    "\n",
    "$$ \\rho_a = 1.30 \\ g/cm^3 $$\n",
    "\n",
    "$$ \\rho_c = 1.45 \\ g/cm^3 $$\n",
    "\n",
    "If the density of the same polymer sample $\\rho_s$ is measured.\n",
    "\n",
    "$$ \\rho_s =  1.382 \\ g/cm^3 $$\n",
    "\n",
    "### Find:\n",
    "\n",
    "What is the \\% crytallinity of the sample with a measured density $ \\rho_s =  1.382 \\ g/cm^3 $?\n",
    "\n",
    "### Solution\n",
    "\n",
    "We have precise values for $ \\rho_a $ and $ \\rho_c $ from the previous problem. Let's see what the values of $ \\rho_a $ and $ \\rho_c $ are. We will use these more precise values that we calculated earlier to solve the problem. "
   ]
  },
  {
   "cell_type": "code",
   "execution_count": 17,
   "metadata": {},
   "outputs": [
    {
     "data": {
      "text/plain": [
       "1.29957020576342"
      ]
     },
     "execution_count": 17,
     "metadata": {},
     "output_type": "execute_result"
    }
   ],
   "source": [
    "pa"
   ]
  },
  {
   "cell_type": "code",
   "execution_count": 18,
   "metadata": {},
   "outputs": [
    {
     "data": {
      "text/plain": [
       "1.44984214271483"
      ]
     },
     "execution_count": 18,
     "metadata": {},
     "output_type": "execute_result"
    }
   ],
   "source": [
    "pc"
   ]
  },
  {
   "cell_type": "markdown",
   "metadata": {},
   "source": [
    "Next, we will create three SymPy symbols objects. These three symbols objects will be used to build our expression."
   ]
  },
  {
   "cell_type": "code",
   "execution_count": 19,
   "metadata": {},
   "outputs": [],
   "source": [
    "pc, pa, ps = symbols('pc pa ps')"
   ]
  },
  {
   "cell_type": "markdown",
   "metadata": {},
   "source": [
    "The expression that relates \\% crystallinity of a polymer sample to the density of amorphus and crystalline versions of the same polymer is below.\n",
    "\n",
    "$$ \\%crystallinity = \\frac{ \\rho_c(\\rho_s - \\rho_a)   }{\\rho_s(\\rho_c - \\rho_a)   } \\times 100 \\% $$\n",
    "\n",
    "We will build a SymPy expression that represents the equation above using the symbols objects (variables) we just defined."
   ]
  },
  {
   "cell_type": "code",
   "execution_count": 20,
   "metadata": {},
   "outputs": [],
   "source": [
    "expr3 = ( pc*(ps-pa)   ) / (ps*(pc-pa))"
   ]
  },
  {
   "cell_type": "markdown",
   "metadata": {},
   "source": [
    "Now we can substitute our $ \\rho_a $ and $ \\rho_c $ from a above. Note the SymPy's ```.subs()``` method does not modify an expression in place. We have to set the modified expression to a new variable so that we can make another substitution. After the substitutions are complete, we can print out the numerical value of the expression. This is accomplished with SymPy's ```.evalf()``` method."
   ]
  },
  {
   "cell_type": "code",
   "execution_count": 21,
   "metadata": {},
   "outputs": [
    {
     "name": "stdout",
     "output_type": "stream",
     "text": [
      "0.575465123010107\n"
     ]
    }
   ],
   "source": [
    "expr3 = expr3.subs(pa, 1.29957020576342)\n",
    "expr3 = expr3.subs(pc, 1.44984214271483)\n",
    "expr3 = expr3.subs(ps, 1.382)\n",
    "\n",
    "print(expr3.evalf())"
   ]
  },
  {
   "cell_type": "code",
   "execution_count": 22,
   "metadata": {},
   "outputs": [
    {
     "name": "stdout",
     "output_type": "stream",
     "text": [
      "The percent crystallinity of the sample is 57.55 percent\n"
     ]
    }
   ],
   "source": [
    "print(f'The percent crystallinity of the sample is {round(expr3*100,2)} percent')"
   ]
  },
  {
   "cell_type": "code",
   "execution_count": null,
   "metadata": {},
   "outputs": [],
   "source": []
  }
 ],
 "metadata": {
  "kernelspec": {
   "display_name": "Python 3",
   "language": "python",
   "name": "python3"
  },
  "language_info": {
   "codemirror_mode": {
    "name": "ipython",
    "version": 3
   },
   "file_extension": ".py",
   "mimetype": "text/x-python",
   "name": "python",
   "nbconvert_exporter": "python",
   "pygments_lexer": "ipython3",
   "version": "3.6.8"
  }
 },
 "nbformat": 4,
 "nbformat_minor": 2
}
