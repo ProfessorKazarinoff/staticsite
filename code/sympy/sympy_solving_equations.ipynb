{
 "cells": [
  {
   "cell_type": "markdown",
   "metadata": {},
   "source": [
    "**Sympy** is a **Python** package used for solving equations using symbolic math. \n",
    "\n",
    "Let's solve the following problem with **SymPy**. "
   ]
  },
  {
   "cell_type": "markdown",
   "metadata": {},
   "source": [
    "#### Given:\n",
    "The density of two different polymer samples $\\rho_1$ and $\\rho_2$ are measured. \n",
    "\n",
    "$$ \\rho_1 = 1.408 \\ g/cm^3 $$\n",
    "\n",
    "$$ \\rho_2 = 1.343 \\ g/cm^3 $$\n",
    "\n",
    "The percent crystalinity of the two samples ($\\%c_1 $ and $\\%c_2$) is known. \n",
    "\n",
    "$$ \\%c_1 = 74.3 \\% $$\n",
    "\n",
    "$$ \\%c_2 = 31.2 \\% $$\n",
    "\n",
    "The percent crystalinity of a polymer sample is related to the density of 100% amorphus regions ($\\rho_a$) and 100% crystaline regions ($\\rho_c$) according to:\n",
    "\n",
    "$$ \\%crystallinity = \\frac{ \\rho_c(\\rho_s - \\rho_a)   }{\\rho_s(\\rho_c - \\rho_a)   } \\times 100 \\% $$"
   ]
  },
  {
   "cell_type": "markdown",
   "metadata": {},
   "source": [
    "#### Find:\n",
    "\n",
    "Find the density of 100% amorphus regions ($\\rho_a$) and the density of 100% crystaline regions ($\\rho_c$) for this polymer."
   ]
  },
  {
   "cell_type": "markdown",
   "metadata": {},
   "source": [
    "#### Solution:\n",
    "\n",
    "There are a couple functions we need from **Sympy**. We'll need the ```symbols``` function to create our symbolic math variables and we need the ```nonlinsolve``` function to solve a system of non-linear equations."
   ]
  },
  {
   "cell_type": "code",
   "execution_count": 19,
   "metadata": {},
   "outputs": [],
   "source": [
    "from sympy import symbols, nonlinsolve"
   ]
  },
  {
   "cell_type": "markdown",
   "metadata": {},
   "source": [
    "We need to define six different symbols: $$\\rho_c, \\rho_a, \\rho_1, \\rho_2, c_1, c_2$$"
   ]
  },
  {
   "cell_type": "code",
   "execution_count": 20,
   "metadata": {},
   "outputs": [],
   "source": [
    "pc, pa, p1, p2, c1, c2 = symbols('pc pa p1 p2 c1 c2')"
   ]
  },
  {
   "cell_type": "markdown",
   "metadata": {},
   "source": [
    "Next we'll create two expressions for our two equations. We can subtract the %crystallinity from the left side of the equation to set the equation to zero. \n",
    "\n",
    "$$ \\%crystallinity = \\frac{ \\rho_c(\\rho_s - \\rho_a)   }{\\rho_s(\\rho_c - \\rho_a)   } \\times 100 \\% $$\n",
    "\n",
    "$$ \\frac{ \\rho_c(\\rho_s - \\rho_a)   }{\\rho_s(\\rho_c - \\rho_a)   } \\times 100 \\% - \\%crystallinity = 0 $$\n",
    "\n",
    "\n",
    "\n",
    "Sub in $\\rho_s = \\rho_1$ and $\\rho_s = \\rho_2$ to each of the expressions."
   ]
  },
  {
   "cell_type": "code",
   "execution_count": 21,
   "metadata": {},
   "outputs": [],
   "source": [
    "expr1 = ( (pc*(p1-pa)   ) / (p1*(pc-pa)) - c1)\n",
    "expr2 = ( (pc*(p2-pa)   ) / (p2*(pc-pa)) - c2)"
   ]
  },
  {
   "cell_type": "markdown",
   "metadata": {},
   "source": [
    "Now we'll substitue in the values of $\\rho_1 = 1.408$ and $c_1 = 0.743$ into our first expression."
   ]
  },
  {
   "cell_type": "code",
   "execution_count": 28,
   "metadata": {},
   "outputs": [],
   "source": [
    "expr1 = expr1.subs(p1, 1.408)"
   ]
  },
  {
   "cell_type": "code",
   "execution_count": 29,
   "metadata": {},
   "outputs": [],
   "source": [
    "expr1 = expr1.subs(c1, 0.743)"
   ]
  },
  {
   "cell_type": "code",
   "execution_count": 30,
   "metadata": {},
   "outputs": [
    {
     "data": {
      "text/plain": [
       "0.710227272727273*pc*(-pa + 1.408)/(-pa + pc) - 0.743"
      ]
     },
     "execution_count": 30,
     "metadata": {},
     "output_type": "execute_result"
    }
   ],
   "source": [
    "expr1"
   ]
  },
  {
   "cell_type": "markdown",
   "metadata": {},
   "source": [
    "Now we'll substitue our the values of $\\rho_2 = 1.343$ and $c_2 = 0.312$ into our second expression."
   ]
  },
  {
   "cell_type": "code",
   "execution_count": 31,
   "metadata": {},
   "outputs": [],
   "source": [
    "expr2 = expr2.subs(p2, 1.343)"
   ]
  },
  {
   "cell_type": "code",
   "execution_count": 32,
   "metadata": {},
   "outputs": [],
   "source": [
    "expr2 = expr2.subs(c2, 0.312)"
   ]
  },
  {
   "cell_type": "code",
   "execution_count": 33,
   "metadata": {},
   "outputs": [
    {
     "data": {
      "text/plain": [
       "0.744601638123604*pc*(-pa + 1.343)/(-pa + pc) - 0.312"
      ]
     },
     "execution_count": 33,
     "metadata": {},
     "output_type": "execute_result"
    }
   ],
   "source": [
    "expr2"
   ]
  },
  {
   "cell_type": "markdown",
   "metadata": {},
   "source": [
    "To solve the two equations for the to unknows $\\rho_a$ and $\\rho_b$, use SymPy's ```nonlinsolve()``` function. Pass in a list of the two expressions and followed by a list of the two variables to solve for."
   ]
  },
  {
   "cell_type": "code",
   "execution_count": 35,
   "metadata": {},
   "outputs": [
    {
     "data": {
      "text/plain": [
       "{(1.29957020576342, 1.44984214271483)}"
      ]
     },
     "execution_count": 35,
     "metadata": {},
     "output_type": "execute_result"
    }
   ],
   "source": [
    "nonlinsolve([expr1,expr2],[pa,pc])"
   ]
  },
  {
   "cell_type": "markdown",
   "metadata": {},
   "source": [
    "We see that the value of $\\rho_a = 1.29957$ and $\\rho_c = 1.44984$.\n",
    "\n",
    "The solution is a SymPy ```FiniteSet``` object. To pull the values of $\\rho_a$ and $\\rho_c$ out of the ```FiniteSet```, use the syntax ```sol.args[0][<var num>]```."
   ]
  },
  {
   "cell_type": "code",
   "execution_count": 36,
   "metadata": {},
   "outputs": [],
   "source": [
    "sol = nonlinsolve([expr1,expr2],[pa,pc])"
   ]
  },
  {
   "cell_type": "code",
   "execution_count": 37,
   "metadata": {},
   "outputs": [
    {
     "data": {
      "text/plain": [
       "sympy.sets.sets.FiniteSet"
      ]
     },
     "execution_count": 37,
     "metadata": {},
     "output_type": "execute_result"
    }
   ],
   "source": [
    "type(sol)"
   ]
  },
  {
   "cell_type": "code",
   "execution_count": 38,
   "metadata": {},
   "outputs": [
    {
     "data": {
      "text/plain": [
       "((1.29957020576342, 1.44984214271483),)"
      ]
     },
     "execution_count": 38,
     "metadata": {},
     "output_type": "execute_result"
    }
   ],
   "source": [
    "sol.args"
   ]
  },
  {
   "cell_type": "code",
   "execution_count": 39,
   "metadata": {},
   "outputs": [
    {
     "data": {
      "text/plain": [
       "(1.29957020576342, 1.44984214271483)"
      ]
     },
     "execution_count": 39,
     "metadata": {},
     "output_type": "execute_result"
    }
   ],
   "source": [
    "sol.args[0]"
   ]
  },
  {
   "cell_type": "code",
   "execution_count": 40,
   "metadata": {},
   "outputs": [
    {
     "data": {
      "text/plain": [
       "1.29957020576342"
      ]
     },
     "execution_count": 40,
     "metadata": {},
     "output_type": "execute_result"
    }
   ],
   "source": [
    "sol.args[0][0]\n"
   ]
  },
  {
   "cell_type": "code",
   "execution_count": 43,
   "metadata": {},
   "outputs": [
    {
     "name": "stdout",
     "output_type": "stream",
     "text": [
      " Density of 100% amorphous polymer, pa = 1.3 g/cm3\n",
      " Density of 100% crystaline polymer, pc = 1.45 g/cm3\n"
     ]
    }
   ],
   "source": [
    "pa = sol.args[0][0]\n",
    "pc = sol.args[0][1]\n",
    "print(f' Density of 100% amorphous polymer, pa = {round(pa,2)} g/cm3')\n",
    "print(f' Density of 100% crystaline polymer, pc = {round(pc,2)} g/cm3')\n"
   ]
  },
  {
   "cell_type": "code",
   "execution_count": null,
   "metadata": {},
   "outputs": [],
   "source": []
  }
 ],
 "metadata": {
  "kernelspec": {
   "display_name": "Python 3",
   "language": "python",
   "name": "python3"
  },
  "language_info": {
   "codemirror_mode": {
    "name": "ipython",
    "version": 3
   },
   "file_extension": ".py",
   "mimetype": "text/x-python",
   "name": "python",
   "nbconvert_exporter": "python",
   "pygments_lexer": "ipython3",
   "version": "3.6.3"
  }
 },
 "nbformat": 4,
 "nbformat_minor": 2
}
