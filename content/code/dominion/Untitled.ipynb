{
 "cells": [
  {
   "cell_type": "markdown",
   "metadata": {},
   "source": [
    "Python code to run a big money hand in Dominion"
   ]
  },
  {
   "cell_type": "code",
   "execution_count": 1,
   "metadata": {},
   "outputs": [],
   "source": [
    "deck = [1,1,1,1,1,1,1,'p','p','p',]"
   ]
  },
  {
   "cell_type": "code",
   "execution_count": 2,
   "metadata": {},
   "outputs": [],
   "source": [
    "import random"
   ]
  },
  {
   "cell_type": "code",
   "execution_count": 3,
   "metadata": {},
   "outputs": [
    {
     "data": {
      "text/plain": [
       "[1, 1, 1, 1, 1, 1, 1, 'p', 'p', 'p']"
      ]
     },
     "execution_count": 3,
     "metadata": {},
     "output_type": "execute_result"
    }
   ],
   "source": [
    "deck"
   ]
  },
  {
   "cell_type": "code",
   "execution_count": 4,
   "metadata": {},
   "outputs": [
    {
     "data": {
      "text/plain": [
       "['p', 1, 1, 1, 'p', 'p', 1, 1, 1, 1]"
      ]
     },
     "execution_count": 4,
     "metadata": {},
     "output_type": "execute_result"
    }
   ],
   "source": [
    "random.shuffle(deck)\n",
    "deck"
   ]
  },
  {
   "cell_type": "code",
   "execution_count": 5,
   "metadata": {},
   "outputs": [
    {
     "name": "stdout",
     "output_type": "stream",
     "text": [
      "['p', 1, 1, 1, 'p']\n",
      "3\n"
     ]
    }
   ],
   "source": [
    "hand = deck[0:5]\n",
    "print(hand)\n",
    "money = sum([x for x in hand if type(x) == int])\n",
    "print(money)"
   ]
  },
  {
   "cell_type": "code",
   "execution_count": 6,
   "metadata": {},
   "outputs": [
    {
     "name": "stdout",
     "output_type": "stream",
     "text": [
      "['p', 1, 1, 1, 'p', 2]\n"
     ]
    }
   ],
   "source": [
    "discards = [ x for x in hand]\n",
    "if money <= 2:\n",
    "    pass\n",
    "if money  == 3:\n",
    "    discards.append(2)\n",
    "if money == 4:\n",
    "    discards.append(2)\n",
    "if money == 5:\n",
    "    discards.append(2)\n",
    "if money == 6:\n",
    "    discards.append(3)\n",
    "if money == 7:\n",
    "    discards.append(3)\n",
    "if money >= 8:\n",
    "    discards.append('v')\n",
    "\n",
    "print (discards)"
   ]
  },
  {
   "cell_type": "code",
   "execution_count": 7,
   "metadata": {},
   "outputs": [],
   "source": [
    "deck = deck[5:]"
   ]
  },
  {
   "cell_type": "code",
   "execution_count": 8,
   "metadata": {},
   "outputs": [
    {
     "data": {
      "text/plain": [
       "['p', 1, 1, 1, 1]"
      ]
     },
     "execution_count": 8,
     "metadata": {},
     "output_type": "execute_result"
    }
   ],
   "source": [
    "deck"
   ]
  },
  {
   "cell_type": "code",
   "execution_count": 9,
   "metadata": {},
   "outputs": [
    {
     "name": "stdout",
     "output_type": "stream",
     "text": [
      "['p', 1, 1, 1, 1]\n",
      "4\n"
     ]
    }
   ],
   "source": [
    "hand = deck[0:5]\n",
    "print(hand)\n",
    "money = sum([x for x in hand if type(x) == int])\n",
    "print(money)"
   ]
  },
  {
   "cell_type": "code",
   "execution_count": 10,
   "metadata": {},
   "outputs": [
    {
     "name": "stdout",
     "output_type": "stream",
     "text": [
      "['p', 1, 1, 1, 'p', 2, 'p', 1, 1, 1, 1, 2]\n"
     ]
    }
   ],
   "source": [
    "discards.extend(hand)\n",
    "if money <= 2:\n",
    "    pass\n",
    "if money  == 3:\n",
    "    discards.append(2)\n",
    "if money == 4:\n",
    "    discards.append(2)\n",
    "if money == 5:\n",
    "    discards.append(2)\n",
    "if money == 6:\n",
    "    discards.append(3)\n",
    "if money == 7:\n",
    "    discards.append(3)\n",
    "if money >= 8:\n",
    "    discards.append('v')\n",
    "\n",
    "print (discards)"
   ]
  },
  {
   "cell_type": "code",
   "execution_count": 11,
   "metadata": {},
   "outputs": [
    {
     "data": {
      "text/plain": [
       "12"
      ]
     },
     "execution_count": 11,
     "metadata": {},
     "output_type": "execute_result"
    }
   ],
   "source": [
    "len(discards)"
   ]
  },
  {
   "cell_type": "code",
   "execution_count": 12,
   "metadata": {},
   "outputs": [
    {
     "data": {
      "text/plain": [
       "6"
      ]
     },
     "execution_count": 12,
     "metadata": {},
     "output_type": "execute_result"
    }
   ],
   "source": [
    "points_dict = {1:0,2:0,3:0,'p':1,'v':6}\n",
    "points_dict['v']"
   ]
  },
  {
   "cell_type": "code",
   "execution_count": 13,
   "metadata": {},
   "outputs": [
    {
     "name": "stdout",
     "output_type": "stream",
     "text": [
      "3\n"
     ]
    }
   ],
   "source": [
    "def score_deck(cards):\n",
    "    points_dict = {1:0,2:0,3:0,'p':1,'v':6}\n",
    "    total_points = 0\n",
    "    for card in cards:\n",
    "        points = points_dict[card]\n",
    "        total_points = total_points + points\n",
    "    return total_points\n",
    "\n",
    "current_score = score_deck(discards)\n",
    "print(current_score)"
   ]
  },
  {
   "cell_type": "code",
   "execution_count": null,
   "metadata": {},
   "outputs": [],
   "source": []
  }
 ],
 "metadata": {
  "kernelspec": {
   "display_name": "Python 3",
   "language": "python",
   "name": "python3"
  },
  "language_info": {
   "codemirror_mode": {
    "name": "ipython",
    "version": 3
   },
   "file_extension": ".py",
   "mimetype": "text/x-python",
   "name": "python",
   "nbconvert_exporter": "python",
   "pygments_lexer": "ipython3",
   "version": "3.6.2"
  }
 },
 "nbformat": 4,
 "nbformat_minor": 2
}
