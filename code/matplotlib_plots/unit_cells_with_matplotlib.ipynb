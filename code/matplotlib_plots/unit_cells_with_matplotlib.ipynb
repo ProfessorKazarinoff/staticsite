{
 "cells": [
  {
   "cell_type": "markdown",
   "metadata": {},
   "source": [
    "Unit cells are useful in materials science and engineering to show crystallographic planes and crystallographic directions. In this post, we will use Matplotlib and Python to build unit cells. Then we will will add crystallographic planes and crystallographic directions to our unit cell. Finally, we will break out the unit cell, plane and direction drawing into a function that can be used reproducibly."
   ]
  },
  {
   "cell_type": "markdown",
   "metadata": {},
   "source": [
    "## Import Matplotlib\n",
    "\n",
    "Before we start building the unit cell, we need to import Matplotlib. Matplotlib's ```pyplot``` library is typically imported with the alias ```plt```."
   ]
  },
  {
   "cell_type": "code",
   "execution_count": 1,
   "metadata": {},
   "outputs": [],
   "source": [
    "import matplotlib.pyplot as plt\n",
    "import matplotlib.patches as mpatches\n",
    "from matplotlib.collections import PatchCollection\n",
    "import matplotlib.lines as lines"
   ]
  },
  {
   "cell_type": "code",
   "execution_count": 4,
   "metadata": {},
   "outputs": [
    {
     "data": {
      "image/png": "[encoded data removed]",
      "text/plain": [
       "<Figure size 432x288 with 1 Axes>"
      ]
     },
     "metadata": {
      "needs_background": "light"
     },
     "output_type": "display_data"
    }
   ],
   "source": [
    "fig, ax = plt.subplots()\n",
    "patches = []                 # empty list to store our patch objects\n",
    "# add a rectangle (square)\n",
    "sqr1 = mpatches.Rectangle((0,0), 5, 5,)  # xy, width, height,\n",
    "patches.append(sqr1)\n",
    "sqr2 = mpatches.Rectangle((-2.5,-2.5), 5, 5,)  # xy, width, height,\n",
    "patches.append(sqr2)\n",
    "pc = PatchCollection(patches, facecolor='w', edgecolor='k', alpha=0.1)\n",
    "ax.add_collection(pc)\n",
    "\n",
    "line1 = [(0,0), (1,0)]\n",
    "line2 = [(0,0), (0,1)]\n",
    "\n",
    "# Note that the Line2D takes a list of x values and a list of y values,\n",
    "# not 2 points as one might expect.  So we have to convert our points\n",
    "# an x-list and a y-list.\n",
    "(line1_xs, line1_ys) = zip(*line1)\n",
    "(line2_xs, line2_ys) = zip(*line2)\n",
    "\n",
    "#ax.add_line(Line2D(line1_xs, line1_ys, linewidth=2, color='blue'))\n",
    "#ax.add_line(Line2D(line2_xs, line2_ys, linewidth=2, color='red'))\n",
    "\n",
    "ax.set_xlim([-10,10])\n",
    "ax.set_ylim([-10,10])\n",
    "ax.set_aspect('equal')\n",
    "plt.show()"
   ]
  },
  {
   "cell_type": "code",
   "execution_count": null,
   "metadata": {},
   "outputs": [],
   "source": []
  }
 ],
 "metadata": {
  "kernelspec": {
   "display_name": "Python 3",
   "language": "python",
   "name": "python3"
  },
  "language_info": {
   "codemirror_mode": {
    "name": "ipython",
    "version": 3
   },
   "file_extension": ".py",
   "mimetype": "text/x-python",
   "name": "python",
   "nbconvert_exporter": "python",
   "pygments_lexer": "ipython3",
   "version": "3.8.5"
  }
 },
 "nbformat": 4,
 "nbformat_minor": 2
}
