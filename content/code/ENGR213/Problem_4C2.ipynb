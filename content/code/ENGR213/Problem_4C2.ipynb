{
 "cells": [
  {
   "cell_type": "markdown",
   "metadata": {},
   "source": [
    "# Problem 4.C2 in Beer and Johnson"
   ]
  },
  {
   "cell_type": "markdown",
   "metadata": {},
   "source": [
    "Below is an engineering mechanics problem that can be solved with Python. Follow along to see how to solve the problem with code.\n",
    "\n",
    "## Problem\n",
    "\n",
    "### Given:\n",
    "\n",
    "An I-beam (also called a W-shape for _wide-flange shape_) below with dimension $d$, $t_f$, $t_w$ and $b_f$. The $y$-axis runs vertically down though the center of the beam. The $x$-axis run horizontally through the center of the beam. The beam is symmetric about the $x$ and $y$ axes.\n",
    "\n",
    "![w-shape beam](w_beam.png)\n",
    "\n",
    "yield strength $\\sigma_y = 300 \\ MPa$\n",
    "\n",
    "elastic modulus $E = 200 \\ GPa$\n",
    "\n",
    "### Find:\n",
    "\n",
    "(a) For values of $y_y$ from $\\frac{1}{2}d$ to $\\frac{1}{6}d$ in increments of $\\frac{1}{2}t_f$, calculate the bending moment $M$ and the radius of curvature $\\rho$\n",
    "\n",
    "(b) Using the dimensions below, determine the bending moment $M$ and radius of curvature of the beam $\\rho$  if the plastic zones at the top and bottom of the beam are $40 \\ mm$ thick.\n",
    "\n",
    "$d = 140 \\ mm$\n",
    "\n",
    "$t_f = 10 \\ mm$\n",
    "\n",
    "$t_w = 10 \\ mm$\n",
    "\n",
    "$b_f = 120 \\ mm$\n",
    "\n",
    "### Assume:\n",
    "\n",
    "We will assume that for part (a), we have a standard W360 $\\times$ 44 metric beam with the following measurements:\n",
    "\n",
    "$d = 351 \\ mm$\n",
    "\n",
    "$t_f = 9.78 \\ mm$\n",
    "\n",
    "$t_w = 6.86 \\ mm$\n",
    "\n",
    "$b_f = 171 \\ mm$"
   ]
  },
  {
   "cell_type": "markdown",
   "metadata": {},
   "source": [
    "## Solution\n",
    "\n",
    "### Start the solution: install Python\n",
    "\n",
    "We are going to use Python to code the solution to this problem. If you don't already have Python installed on your computer, I recommend installing the [Anaconda](https://www.anaconda.com/distribution/) distribution of Python. See [this post](https://pythonforundergradengineers.com/installing-anaconda-on-windows.html) to learn how to install Anaconda on your computer. \n",
    "\n",
    "I am coding this solution in a [Jupyter Notebook](https://jupyter.org/). Once you install Anaconda, you can open a Jupyter notebook from the Windows Start Menu or the Anaconda Prompt. See [this post](https://pythonforundergradengineers.com/opening-a-jupyter-notebook-on-windows.html) to learn about 3 ways to open a Jupyter notebook.\n",
    "\n",
    "Alternatively, instead of using a Jupyter notebook, you could code your solution in a ```.py``` file.\n",
    "\n",
    "**Alright. Let's get coding....**"
   ]
  },
  {
   "cell_type": "markdown",
   "metadata": {},
   "source": [
    "### Define variables based on our assumption about the size of the beam.\n",
    "\n",
    "Based on our assumption of a standard W360 $\\times$ 44 metric beam, and the given elastic modulus and yield strength given in the problem, we can define a number of constants.\n",
    "\n",
    "$d = 351 \\ mm$\n",
    "\n",
    "$t_f = 9.78 \\ mm$\n",
    "\n",
    "$t_w = 6.86 \\ mm$\n",
    "\n",
    "$b_f = 171 \\ mm$\n",
    "\n",
    "yield strength $\\sigma_y = 300 \\ MPa$\n",
    "\n",
    "elastic modulus $E = 200 \\ GPa$"
   ]
  },
  {
   "cell_type": "code",
   "execution_count": 1,
   "metadata": {},
   "outputs": [],
   "source": [
    "d = 351\n",
    "tf = 9.78\n",
    "tw = 6.86\n",
    "bf = 171\n",
    "ys = 300\n",
    "E = 200*10**3 #Elastic modulus in MPa"
   ]
  },
  {
   "cell_type": "markdown",
   "metadata": {},
   "source": [
    "### Compute the moment of inertia, **I**, based on the bean cross-section\n",
    "\n",
    "Next we will compute the _moment of inertia_, $I$ based on the beam cross-section. The beam is made of three rectangular shapes. We will call the upper horizontal plate rectangle 1, the middle vertical plate rectangle 2, and the bottom horizontal plate rectangle 3.\n",
    "\n",
    "The moment of inertia, $I_x$, of a rectangular shape is equal to:\n",
    "\n",
    "$I_x = \\frac{1}{12}bh^3 + Ad^2$\n",
    "\n",
    "where $b$ is the width of the rectangle base, $h$ is the rectangle height, $A$ is the rectangle area, and $d$ is the distance between the centroid of the rectangle to the axis we are trying to find the moment of inertia about (in our case the x-axis).\n",
    "\n",
    "We have three rectangles: The top, middle, and bottom of the beam. We will call the component each of these rectangles contributes to the total moment of inertia ```I1```, ```I2```, and ```I3```.\n",
    "\n",
    "After the components of the total moment of inertia are calculated, they can be summed together to produce the total moment of inertia $I$.\n",
    "\n",
    "$I = I_1 + I_2 + I_3$\n",
    "\n",
    "The Python code below completes these operations. At the end of the code section, a Python _f-string_ is used to print out the value of $I$ after it is calculated. Make sure prepend _f-strings_ with the letter ```f``` before the quotation marks. "
   ]
  },
  {
   "cell_type": "code",
   "execution_count": 2,
   "metadata": {},
   "outputs": [
    {
     "name": "stdout",
     "output_type": "stream",
     "text": [
      "The moment of inertia I = 118199271.58863552 mm4\n"
     ]
    }
   ],
   "source": [
    "A1 = tf*bf      # area of the top rectangle\n",
    "d1 = d/2 - tf/2 # distance between the centroid of the top rectangle and the x-axis\n",
    "I1 = (1/12)*bf*tf**3 + A1*d1**2\n",
    "\n",
    "A2 = tw*(d-2*tf)      # area of the middle rectangle\n",
    "d2 = 0 # the centroid of the middle rectangle is on the x-axis\n",
    "I2 = (1/12)*tw*(d-2*tf)**3 + A2*d2**2\n",
    "\n",
    "A3 = tf*bf     # area of the bottom rectangle\n",
    "d3 = d/2 - tf/2 # distance between the centroid of the bottom rectangle and the x-axis\n",
    "I3 = (1/12)*bf*tf**3 + A3*d3**2\n",
    "\n",
    "# sum the individual moments of inertia to caclulate the moment of inertia of the entire beam\n",
    "I = I1 + I2 + I3\n",
    "print(f\"The moment of inertia I = {I} mm4\")"
   ]
  },
  {
   "cell_type": "markdown",
   "metadata": {},
   "source": [
    "### Calculate the Maximum elastic moment, My\n",
    "\n",
    "After the moment of inertia, $I$, is calculated, the next step to solve this problem is to compute the _maximum elastic moment_, $M_y$. The maximum bending moment is limited by the yield strength, $\\sigma_y$ of the material.\n",
    "\n",
    "The equation for maximum elastic moment $M_y$ is below:\n",
    "\n",
    "$M_y = \\sigma_y\\frac{I_x}{d/2}$\n",
    "\n",
    "Where $\\sigma_y$ is the yield strength of the material, $I_x$ is the moment of inertia and $d$ is the full-height of the beam.\n",
    "\n",
    "The code below completes this calculation. A Python _f-string_ is used to print out the calculated $M_y$ value. The units of $M_y$ come out to be $N \\cdot mm$"
   ]
  },
  {
   "cell_type": "code",
   "execution_count": 3,
   "metadata": {},
   "outputs": [
    {
     "name": "stdout",
     "output_type": "stream",
     "text": [
      "The maximum elastic moment My = 202050036.90365043 N mm\n"
     ]
    }
   ],
   "source": [
    "My = ys*(I)/(d/2)\n",
    "print(f\"The maximum elastic moment My = {My} N mm\")"
   ]
  },
  {
   "cell_type": "markdown",
   "metadata": {},
   "source": [
    "### Calculate the maximum value of y, called c\n",
    "\n",
    "Since the entire beam is assumed to be elastoplastic, we need to calculate the maximum value of $y$, which is typically denoted $c$. Since our $x$-axis runs runs horizontally through the center of the beam, the maximum value of $y$ is half of the total height of the beam\n",
    "\n",
    "$ c = d/2 $\n",
    "\n",
    "Coding this calculation is pretty simple"
   ]
  },
  {
   "cell_type": "code",
   "execution_count": 4,
   "metadata": {},
   "outputs": [
    {
     "name": "stdout",
     "output_type": "stream",
     "text": [
      "the maximum value of y is c = 175.5 mm\n"
     ]
    }
   ],
   "source": [
    "c = d/2\n",
    "print(f\"the maximum value of y is c = {c} mm\")"
   ]
  },
  {
   "cell_type": "markdown",
   "metadata": {},
   "source": [
    "### Calculate the radius of curvature, p, for a Yy value equal to c\n",
    "\n",
    "Now let's find the radius of curvature $\\rho$ if we just reach the yield stress, $\\sigma_y$ at the very top of the beam. \n",
    "\n",
    "The distance up the beam relative to the neutral axis where the yield strength is reached will be called $y_y$. If the yield strength is only reached at the very top of the beam, that means that $y_y = c = d/2$.\n",
    "\n",
    "For a rectangular elastoplastic material, the distribution of strain across the section remains linear after the onset of yield. Strain is dependent on the bend radius $\\rho$ and how far away from the neutral axis the strain occurs $y_y$.\n",
    "\n",
    "$$ \\epsilon = \\frac{y_y}{\\rho} $$\n",
    "\n",
    "$$ y_y = \\epsilon\\rho $$\n",
    "\n",
    "Now take the standard definition of elastic modulus $E$, stress $\\sigma$ over strain $\\epsilon$ and rearrange it to solve for strain $\\epsilon$ in terms of $E$ and $\\sigma$.\n",
    "\n",
    "$$ E = \\frac{\\sigma}{\\epsilon} $$\n",
    "\n",
    "$$ \\epsilon = \\frac{\\sigma}{E} $$\n",
    "\n",
    "We can multiply both sides of the equation above by $\\rho$.\n",
    "\n",
    "$$ \\epsilon\\rho = \\frac{\\sigma}{E}\\rho $$\n",
    "\n",
    "From above $y_y = \\epsilon\\rho$. Therefore, we can substitute $y_y$ in for $\\epsilon\\rho$ on the left-hand side of the equation.\n",
    "\n",
    "$$ y_y = \\frac{\\sigma}{E}\\rho $$\n",
    "\n",
    "Now we can solve the equation above for $\\rho$ in terms of $y_y$, $E$, and $\\sigma$.\n",
    "\n",
    "$$ \\rho = \\frac{y_yE}{\\sigma} $$\n",
    "\n",
    "This gives us an equation for radius of curvature $\\rho$ in terms of parameters that we know, elastic modulus $E$, yield strength $\\sigma_y$ and location in the beam compared to the neutral axis where plastic elongation starts to occur $y_y$. \n",
    "\n",
    "Remember from before:\n",
    "\n",
    "yield strength $\\sigma_y = 300 \\ MPa$\n",
    "\n",
    "elastic modulus $E = 200 \\ GPa$\n",
    "\n",
    "And we are going to calculate the radius of curvature $\\rho$ when the yield strength is only reached at the very top of the beam.\n",
    "\n",
    "$y_y=c=d/2$\n",
    "\n",
    "This can be coded in Python is just a few lines"
   ]
  },
  {
   "cell_type": "code",
   "execution_count": 5,
   "metadata": {},
   "outputs": [
    {
     "name": "stdout",
     "output_type": "stream",
     "text": [
      "The radius of curvature if the yield strength is only reached\n",
      "at the very end of the beam (y_y=d/2) is p = 117000.0 mm\n"
     ]
    }
   ],
   "source": [
    "yy=d/2\n",
    "p = yy*E/ys\n",
    "print(\"The radius of curvature if the yield strength is only reached\")\n",
    "print(f\"at the very end of the beam (y_y=d/2) is p = {p} mm\")"
   ]
  },
  {
   "cell_type": "markdown",
   "metadata": {},
   "source": [
    "### Iterate through Yy values and calculate radius of curvature p for each Yy\n",
    "\n",
    "We can iterate through the $y_y$ distances (the distance compared to the neutral axis where plastic deformation begins and the stress in the beam has reached the yield strength) and calculate the radius of curvature $\\rho$ for each $y_y$ distance. In Python, this can be accomplished with a _for loop_.\n",
    "\n",
    "The code below iterates through $y_y$ values from $\\frac{1}{2}d$ to $\\frac{1}{6}d$ in increments of $\\frac{1}{2}t_f$ and prints the resulting radius of curvature $\\rho$ for each $y_y$ value. Remember that Python counting starts at zero and ends at n-1, so we need to tack on an extra $\\frac{1}{2}t_f$ to the stop value of our ```np.arange()``` function. Since the $y_y$ values are not integers, we need to use NumPy and NumPy's ```np.arange()``` function instead of Python's build-in ```range()``` function. Make sure ```import numpy as np``` before calling ```np.arange()```."
   ]
  },
  {
   "cell_type": "code",
   "execution_count": 6,
   "metadata": {},
   "outputs": [
    {
     "name": "stdout",
     "output_type": "stream",
     "text": [
      "The radius of curvature at y_y = 175.5 mm is p = 117000.0 mm\n",
      "The radius of curvature at y_y = 170.61 mm is p = 113740.0 mm\n",
      "The radius of curvature at y_y = 165.72 mm is p = 110480.0 mm\n",
      "The radius of curvature at y_y = 160.83 mm is p = 107220.0 mm\n",
      "The radius of curvature at y_y = 155.94 mm is p = 103960.0 mm\n",
      "The radius of curvature at y_y = 151.05 mm is p = 100700.0 mm\n",
      "The radius of curvature at y_y = 146.16 mm is p = 97440.0 mm\n",
      "The radius of curvature at y_y = 141.27 mm is p = 94180.0 mm\n",
      "The radius of curvature at y_y = 136.38 mm is p = 90920.0 mm\n",
      "The radius of curvature at y_y = 131.49 mm is p = 87660.0 mm\n",
      "The radius of curvature at y_y = 126.6 mm is p = 84400.0 mm\n",
      "The radius of curvature at y_y = 121.71 mm is p = 81140.0 mm\n",
      "The radius of curvature at y_y = 116.82 mm is p = 77880.0 mm\n",
      "The radius of curvature at y_y = 111.93 mm is p = 74620.0 mm\n",
      "The radius of curvature at y_y = 107.04 mm is p = 71360.0 mm\n",
      "The radius of curvature at y_y = 102.15 mm is p = 68100.0 mm\n",
      "The radius of curvature at y_y = 97.26 mm is p = 64840.0 mm\n",
      "The radius of curvature at y_y = 92.37 mm is p = 61580.0 mm\n",
      "The radius of curvature at y_y = 87.48 mm is p = 58320.0 mm\n",
      "The radius of curvature at y_y = 82.59 mm is p = 55060.0 mm\n",
      "The radius of curvature at y_y = 77.7 mm is p = 51800.0 mm\n",
      "The radius of curvature at y_y = 72.81 mm is p = 48540.0 mm\n",
      "The radius of curvature at y_y = 67.92 mm is p = 45280.0 mm\n"
     ]
    }
   ],
   "source": [
    "import numpy as np\n",
    "for yy in np.arange((1/2)*d, (1/6)*d + (1/2)*tf, -(1/2)*tf):\n",
    "    p = yy*E/ys\n",
    "    print(f\"The radius of curvature at y_y = {round(yy,2)} mm is p = {round(p,1)} mm\")"
   ]
  },
  {
   "cell_type": "markdown",
   "metadata": {},
   "source": [
    "### Calculate the bending moment M for each value of Yy\n",
    "\n",
    "Now we will finally calculate the bending moment $M$ for each value of $y_y$."
   ]
  },
  {
   "cell_type": "code",
   "execution_count": null,
   "metadata": {},
   "outputs": [],
   "source": []
  }
 ],
 "metadata": {
  "kernelspec": {
   "display_name": "Python 3",
   "language": "python",
   "name": "python3"
  },
  "language_info": {
   "codemirror_mode": {
    "name": "ipython",
    "version": 3
   },
   "file_extension": ".py",
   "mimetype": "text/x-python",
   "name": "python",
   "nbconvert_exporter": "python",
   "pygments_lexer": "ipython3",
   "version": "3.6.8"
  }
 },
 "nbformat": 4,
 "nbformat_minor": 2
}
