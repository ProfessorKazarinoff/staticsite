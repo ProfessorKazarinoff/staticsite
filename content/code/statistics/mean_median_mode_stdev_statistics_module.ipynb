{
 "cells": [
  {
   "cell_type": "markdown",
   "metadata": {},
   "source": [
    "In this post, we will look at a couple of statistics functions in Python. These statistics functions are part of the Python Standard Library in the **statistics** module. The four functions are common in statistics:\n",
    "\n",
    " * mean - average value\n",
    " * median - middle value\n",
    " * mode - most often value\n",
    " * standard deviation - spread of values\n",
    "\n",
    "To access Python's **statistics** functions, we need to import them from the **statistics module** using the statement ```from statistics import mean, median, mode, stdev```. Then the functions ```mean()```, ```median()```, ```mode()``` and ```stdev()```(standard deviation) can be used."
   ]
  },
  {
   "cell_type": "code",
   "execution_count": 1,
   "metadata": {},
   "outputs": [],
   "source": [
    ">>> from statistics import mean, median, mode, stdev\n",
    "\n",
    ">>> test_scores = [ 60 , 83, 83, 91, 100]"
   ]
  },
  {
   "cell_type": "code",
   "execution_count": 2,
   "metadata": {},
   "outputs": [
    {
     "data": {
      "text/plain": [
       "83.4"
      ]
     },
     "execution_count": 2,
     "metadata": {},
     "output_type": "execute_result"
    }
   ],
   "source": [
    ">>> mean(test_scores)\n"
   ]
  },
  {
   "cell_type": "code",
   "execution_count": 3,
   "metadata": {},
   "outputs": [
    {
     "data": {
      "text/plain": [
       "83"
      ]
     },
     "execution_count": 3,
     "metadata": {},
     "output_type": "execute_result"
    }
   ],
   "source": [
    ">>> median(test_scores)\n",
    "83"
   ]
  },
  {
   "cell_type": "code",
   "execution_count": 4,
   "metadata": {},
   "outputs": [
    {
     "data": {
      "text/plain": [
       "83"
      ]
     },
     "execution_count": 4,
     "metadata": {},
     "output_type": "execute_result"
    }
   ],
   "source": [
    ">>> mode(test_scores)\n"
   ]
  },
  {
   "cell_type": "code",
   "execution_count": 5,
   "metadata": {},
   "outputs": [
    {
     "data": {
      "text/plain": [
       "14.842506526863986"
      ]
     },
     "execution_count": 5,
     "metadata": {},
     "output_type": "execute_result"
    }
   ],
   "source": [
    ">>> stdev(test_scores)\n"
   ]
  },
  {
   "cell_type": "markdown",
   "metadata": {},
   "source": [
    "Alternatively, we can import the whole statistics module using the statement import statistics. Then to use the functions, we need to use the names statistics.mean, statistics.median, statistics.mode, and statistics.stdev. See below:"
   ]
  },
  {
   "cell_type": "code",
   "execution_count": 6,
   "metadata": {},
   "outputs": [],
   "source": [
    ">>> import statistics\n",
    "\n",
    ">>> test_scores = [ 60 , 83, 83, 91, 100]"
   ]
  },
  {
   "cell_type": "code",
   "execution_count": 7,
   "metadata": {},
   "outputs": [
    {
     "data": {
      "text/plain": [
       "83.4"
      ]
     },
     "execution_count": 7,
     "metadata": {},
     "output_type": "execute_result"
    }
   ],
   "source": [
    ">>> statistics.mean(test_scores)"
   ]
  },
  {
   "cell_type": "code",
   "execution_count": 8,
   "metadata": {},
   "outputs": [
    {
     "data": {
      "text/plain": [
       "83"
      ]
     },
     "execution_count": 8,
     "metadata": {},
     "output_type": "execute_result"
    }
   ],
   "source": [
    ">>> statistics.median(test_scores)\n"
   ]
  },
  {
   "cell_type": "code",
   "execution_count": 9,
   "metadata": {},
   "outputs": [
    {
     "data": {
      "text/plain": [
       "83"
      ]
     },
     "execution_count": 9,
     "metadata": {},
     "output_type": "execute_result"
    }
   ],
   "source": [
    ">>> statistics.mode(test_scores)\n"
   ]
  },
  {
   "cell_type": "code",
   "execution_count": 10,
   "metadata": {},
   "outputs": [
    {
     "data": {
      "text/plain": [
       "14.842506526863986"
      ]
     },
     "execution_count": 10,
     "metadata": {},
     "output_type": "execute_result"
    }
   ],
   "source": [
    ">>> statistics.stdev(test_scores)"
   ]
  },
  {
   "cell_type": "markdown",
   "metadata": {},
   "source": [
    "## Summary\n",
    "\n",
    "The **statistics** module is part of the Python Standard Library. To use **statistics** module functions, you first have to use the line ```from statistics import <function_name>``` where ```<function_name>``` is the name of the function you want to use. Then you can call the ```<function_name>``` and pass in a list of values.  \n",
    "\n",
    "The following functions are part of Python's **statistics** module:\n",
    "\n",
    "| statistics module function |\tname |\tdescription |\texample |\tresult |\n",
    "| --- | --- | --- | --- | --- |\n",
    "| ```mean()``` |\tmean |\tmean or average | ```mean([1,4,5,5])``` | ```3.75``` |\n",
    "| ```median()``` |\tmedian|\tmiddle value |\t```median([1,4,5,5])``` | ```4.5``` |\n",
    "| ```mode()``` |\tmode | most often |\t```mode([1,4,5,5])``` |\t```5``` |\n",
    "| ```stdev()``` |\tstandard deviation\t| spread of data |\t```stdev([1,4,5,5])```\t| ```1.892``` |\n",
    "| ```variance()``` |\tvariance\t|variance of data\t| ```variance([1,4,5,5])``` |\t```3.583``` |"
   ]
  },
  {
   "cell_type": "code",
   "execution_count": null,
   "metadata": {},
   "outputs": [],
   "source": []
  }
 ],
 "metadata": {
  "kernelspec": {
   "display_name": "Python 3",
   "language": "python",
   "name": "python3"
  },
  "language_info": {
   "codemirror_mode": {
    "name": "ipython",
    "version": 3
   },
   "file_extension": ".py",
   "mimetype": "text/x-python",
   "name": "python",
   "nbconvert_exporter": "python",
   "pygments_lexer": "ipython3",
   "version": "3.6.3"
  }
 },
 "nbformat": 4,
 "nbformat_minor": 2
}
