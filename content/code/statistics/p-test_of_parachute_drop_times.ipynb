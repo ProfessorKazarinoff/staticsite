{
 "cells": [
  {
   "cell_type": "code",
   "execution_count": 2,
   "metadata": {},
   "outputs": [],
   "source": [
    "import numpy as np\n",
    "from scipy import stats\n"
   ]
  },
  {
   "cell_type": "code",
   "execution_count": 3,
   "metadata": {},
   "outputs": [],
   "source": [
    "# Data from parachute drops\n",
    "a = np.array([4.4,4.11,4.7,4.64])\n",
    "b = np.array([3.78,4.1,3.93,4.72,3.56,3.92])\n",
    "# average number of data points per sample\n",
    "N = (len(a)+len(b))/2"
   ]
  },
  {
   "cell_type": "code",
   "execution_count": 12,
   "metadata": {},
   "outputs": [
    {
     "name": "stdout",
     "output_type": "stream",
     "text": [
      " mean of a = 4.4625\n",
      " mean of b = 4.001666666666666\n",
      " stdev of a = 0.23241934084752913\n",
      " stdev of b = 0.3609439784170883\n"
     ]
    }
   ],
   "source": [
    "a_mean = np.mean(a)\n",
    "b_mean = np.mean(b)\n",
    "print(f' mean of a = {a_mean}')\n",
    "print(f' mean of b = {b_mean}')\n",
    "a_std = np.std(a)\n",
    "b_std = np.std(b)\n",
    "print(f' stdev of a = {a_std}')\n",
    "print(f' stdev of b = {b_std}')"
   ]
  },
  {
   "cell_type": "code",
   "execution_count": 3,
   "metadata": {},
   "outputs": [],
   "source": [
    "# Compute the variance\n",
    "var_a = a.var(ddof=1)\n",
    "var_b = b.var(ddof=1)\n"
   ]
  },
  {
   "cell_type": "code",
   "execution_count": 4,
   "metadata": {},
   "outputs": [
    {
     "name": "stdout",
     "output_type": "stream",
     "text": [
      "standard deviation = 0.34 s\n"
     ]
    }
   ],
   "source": [
    "# Compute the standard deviation\n",
    "s = np.sqrt((var_a + var_b)/2)\n",
    "print(f'standard deviation = {round(s,2)} s')"
   ]
  },
  {
   "cell_type": "code",
   "execution_count": 5,
   "metadata": {},
   "outputs": [
    {
     "name": "stdout",
     "output_type": "stream",
     "text": [
      "t-value = 2.16 \n"
     ]
    }
   ],
   "source": [
    "## Calculate the t-statistics\n",
    "t = (a.mean() - b.mean())/(s*np.sqrt(2/N))\n",
    "print(f't-value = {round(t,2)} ')"
   ]
  },
  {
   "cell_type": "code",
   "execution_count": 6,
   "metadata": {},
   "outputs": [
    {
     "name": "stdout",
     "output_type": "stream",
     "text": [
      "degrees of freedom = 8 \n"
     ]
    }
   ],
   "source": [
    "## Compare with the critical t-value\n",
    "#Degrees of freedom\n",
    "df = len(a)+len(b)-2\n",
    "print(f'degrees of freedom = {round(df,0)} ')"
   ]
  },
  {
   "cell_type": "code",
   "execution_count": 7,
   "metadata": {},
   "outputs": [
    {
     "name": "stdout",
     "output_type": "stream",
     "text": [
      "after comparision with t, p-value = 0.032 \n"
     ]
    }
   ],
   "source": [
    "#p-value after comparison with the t \n",
    "p = 1 - stats.t.cdf(t,df=df)\n",
    "print(f'after comparision with t, p-value = {round(p,3)} ')"
   ]
  },
  {
   "cell_type": "code",
   "execution_count": 8,
   "metadata": {},
   "outputs": [
    {
     "name": "stdout",
     "output_type": "stream",
     "text": [
      "t = 2.156340229982052\n",
      "p = 0.0631484553773829\n"
     ]
    }
   ],
   "source": [
    "print(\"t = \" + str(t))\n",
    "print(\"p = \" + str(2*p))\n",
    "#Note that we multiply the p value by 2 because its a twp tail t-test\n",
    "### You can see that after comparing the t statistic with the critical t value (computed internally)\n",
    "### we get a good p value of 0.032 and thus we reject the null hypothesis\n",
    "### and thus it proves that the mean of the two distributions are different and statistically significant."
   ]
  },
  {
   "cell_type": "code",
   "execution_count": 9,
   "metadata": {},
   "outputs": [
    {
     "name": "stdout",
     "output_type": "stream",
     "text": [
      "calculated t = 2.16 is greater than critical t = 1.397 \n",
      "The two samples are statistically different from eachother within a 90% confidence interval\n",
      "p-value of p = 0.06 indicates there is a 6.0 % chance the experiment happend by chance\n"
     ]
    }
   ],
   "source": [
    "#based on chart https://towardsdatascience.com/inferential-statistics-series-t-test-using-numpy-2718f8f9bf2f\n",
    "# t @ 90% confidence and 8 degrees of freedom = 1.397\n",
    "\n",
    "# if calculated t-value (from the data) is greater than critical t-value (from the table), \n",
    "# the two samples are statistically different at a 90% confidence interval\n",
    "\n",
    "t_crit = 1.397\n",
    "if t>t_crit:\n",
    "    print(f'calculated t = {round(t,2)} is greater than critical t = {round(t_crit,3)} ')\n",
    "    print('The two samples are statistically different from eachother within a 90% confidence interval')\n",
    "    print(f'p-value of p = {round(2*p,2)} indicates there is a {100*round(2*p,2)} % chance the experiment happend by chance')\n",
    "else:\n",
    "    print(f'calculated t={round(t,2)} is smaller than critical t= {round(t_crit)} ')\n",
    "    print('The two samples are not statistically different from eachother within a 90% confidence interval')"
   ]
  },
  {
   "cell_type": "code",
   "execution_count": 12,
   "metadata": {},
   "outputs": [
    {
     "name": "stdout",
     "output_type": "stream",
     "text": [
      "2.195381512014234\n",
      "0.059580188807867675\n"
     ]
    }
   ],
   "source": [
    "# use scipy's built in function to claculate t-value and p-value\n",
    "\n",
    "t2, p2 = stats.ttest_ind(a,b, equal_var=False)\n",
    "print(t2)\n",
    "print(p2)"
   ]
  },
  {
   "cell_type": "code",
   "execution_count": null,
   "metadata": {},
   "outputs": [],
   "source": []
  }
 ],
 "metadata": {
  "kernelspec": {
   "display_name": "Python 3",
   "language": "python",
   "name": "python3"
  },
  "language_info": {
   "codemirror_mode": {
    "name": "ipython",
    "version": 3
   },
   "file_extension": ".py",
   "mimetype": "text/x-python",
   "name": "python",
   "nbconvert_exporter": "python",
   "pygments_lexer": "ipython3",
   "version": "3.6.6"
  }
 },
 "nbformat": 4,
 "nbformat_minor": 2
}
