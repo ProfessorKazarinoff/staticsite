{
 "cells": [
  {
   "cell_type": "markdown",
   "metadata": {},
   "source": [
    "## Classes in Python:\n",
    "\n",
    "Object oriented programming languages like Python are powerfull because they allow you create new object types, modifiy object properites and manipulate objects with methods. An object can be resused and built upon to create new objects. So what is an \"object\" anyway? In Python, every instance of a class is an object. \n",
    "\n",
    "Lets take a look at an imaginary example. Pretend your grandmother Helen is created in Python. To create a new grandma we \"instantiate\" or create a new object (Helen) of a class(grandmas). In this case ```grandma``` is the name of the class, and ```Helen``` is a specific instance of that class. Helen is a grandma, but there are a bunch of other grandmas too. Every property that a ```grandma``` can have, our grandma ```Helen``` can have. All of the opperations a grandma can do, our grandma Helen can do too. We need to type encolsed parenthesis ```()``` after the class name ```grandma``` in order to tell Python that we want Helen to be made from the ```grandma``` class (and not just create a variable helen and assign it whatever value is stored in the variable grandma):\n",
    "\n",
    "```\n",
    "# Creat a new Object Helen, a member of the grandma Class\n",
    "Helen = grandma()\n",
    "\n",
    "```\n",
    "\n",
    "Once our awesome grandma Helen has been created, we could imagine our Grandma's attributes like her address. A specific attribute of a class is assigned using the dot ```.``` notation\n",
    "\n",
    "```\n",
    "Helen.address = 'Portland, OR'\n",
    "```\n",
    "\n",
    "Maybe our grandma has a couple children, like our mom Jan and our three aunts, Ellie, Manya and Cookie.\n",
    "\n",
    "```\n",
    "Helen.children = ['Jan','Ellie','Manya','Cookie']\n",
    "```\n",
    "\n",
    "And our grandma as some grandchildren too, like me, my brother Zach and my sister Liza.\n",
    "\n",
    "```\n",
    "Helen.grandchildren = ['me','Zach','Liza']\n",
    "```\n",
    "\n",
    "Once we have assigned these properties to our grandma, we can access them using the dot notation as well.\n",
    "\n",
    "```\n",
    ">> Helen.address\n",
    "'Portland, OR'\n",
    ">> Helen.grandchildren\n",
    "['me','Zach','Liza']\n",
    "```\n"
   ]
  },
  {
   "cell_type": "markdown",
   "metadata": {},
   "source": [
    "We can even imagine doing opperations on our grandma (not gall blatter surgury, arithmetic opperations). Suppose we create two grandmas, Helen and Margret and they each have three grandchildren:\n",
    "\n",
    "```\n",
    ">> Helen = grandma()\n",
    ">> Helen.grandchildren = ['me','Zach','Liza']\n",
    ">> Margret = grandma()\n",
    ">> Margret.grandchildren = ['Sophie','Josh','Seth']\n",
    "```\n",
    "\n",
    "If we add our two grandmas together, we get a super grandma! In Python, we can assign specific ways that arithmetic opperations (like +, -, x, / ) are run on our grandma class. Imagine that when we add two grandmas together we get a super grandma who has all of the grandchildren of both grandmas combined:\n",
    "\n",
    "```\n",
    ">> SuperGrandma = Helen + Margret\n",
    ">> SuperGrandma.grandchildren\n",
    "['me','Zach', 'Liza', 'Sophie', 'Josh', 'Seth']\n",
    "```\n"
   ]
  },
  {
   "cell_type": "markdown",
   "metadata": {},
   "source": [
    "### Create a new class in Python\n",
    "\n",
    "So let's create a new Grandma class in Python. In Python you create new classes by using the ```class``` keyword followed by the class name and a colon ```:```. Class names are usually capitalized, so our first line will be:\n",
    "\n",
    "```\n",
    "class Grandma:\n",
    "```\n",
    "\n",
    "Then we need to indent the set of instructions which detail the properites of our Grandma class. First we will define a special method ```__init___```. This special method is what happens when we create a new instance of our class. It is what happens when we call ```Helen = Grandma()```. "
   ]
  },
  {
   "cell_type": "code",
   "execution_count": 1,
   "metadata": {},
   "outputs": [],
   "source": [
    "class Grandma:\n",
    "    \n",
    "    def __init__(self):\n",
    "        self.address = ' '\n",
    "        self.children = []\n",
    "        self.grandchildren = []"
   ]
  },
  {
   "cell_type": "markdown",
   "metadata": {},
   "source": [
    "Now we can create a new instance of the Grandma class, our grandma Helen"
   ]
  },
  {
   "cell_type": "code",
   "execution_count": 2,
   "metadata": {},
   "outputs": [],
   "source": [
    "Helen = Grandma()"
   ]
  },
  {
   "cell_type": "markdown",
   "metadata": {},
   "source": [
    "Let's see if Helen is part of our Grandma class using Python's ```type()``` function. "
   ]
  },
  {
   "cell_type": "code",
   "execution_count": 3,
   "metadata": {},
   "outputs": [
    {
     "data": {
      "text/plain": [
       "__main__.Grandma"
      ]
     },
     "execution_count": 3,
     "metadata": {},
     "output_type": "execute_result"
    }
   ],
   "source": [
    "type(Helen)"
   ]
  },
  {
   "cell_type": "markdown",
   "metadata": {},
   "source": [
    "Now we can define our grandma's attributes. These are attributes that all grandmas have. But our Grandma has Helen different values for these attributes than other grandmas. All grandmas have grandchildren, but each grandma has different grandchildren."
   ]
  },
  {
   "cell_type": "code",
   "execution_count": 4,
   "metadata": {
    "collapsed": true
   },
   "outputs": [],
   "source": [
    "Helen.address ='Portland, OR'\n",
    "Helen.children = ['Jan','Holly','Manya','Cookie']\n",
    "Helen.grandchildren = ['me', 'Zach','Liza']"
   ]
  },
  {
   "cell_type": "markdown",
   "metadata": {},
   "source": [
    "Now let's access these attributes using the dot ```.``` notation. The general syntax is ```Object.property```"
   ]
  },
  {
   "cell_type": "code",
   "execution_count": 5,
   "metadata": {},
   "outputs": [
    {
     "data": {
      "text/plain": [
       "'Portland, OR'"
      ]
     },
     "execution_count": 5,
     "metadata": {},
     "output_type": "execute_result"
    }
   ],
   "source": [
    "Helen.address"
   ]
  },
  {
   "cell_type": "code",
   "execution_count": 6,
   "metadata": {},
   "outputs": [
    {
     "data": {
      "text/plain": [
       "['Jan', 'Holly', 'Manya', 'Cookie']"
      ]
     },
     "execution_count": 6,
     "metadata": {},
     "output_type": "execute_result"
    }
   ],
   "source": [
    "Helen.children"
   ]
  },
  {
   "cell_type": "code",
   "execution_count": 7,
   "metadata": {},
   "outputs": [
    {
     "data": {
      "text/plain": [
       "['me', 'Zach', 'Liza']"
      ]
     },
     "execution_count": 7,
     "metadata": {},
     "output_type": "execute_result"
    }
   ],
   "source": [
    "Helen.grandchildren"
   ]
  },
  {
   "cell_type": "markdown",
   "metadata": {},
   "source": [
    "Now let's figure out a way to add grandchildren. Imagine we have a new baby cousin who's name is Gabby. Let's create a method in our ```Grandma``` class which adds another name in the list of grandchildren. "
   ]
  },
  {
   "cell_type": "code",
   "execution_count": 8,
   "metadata": {
    "collapsed": true
   },
   "outputs": [],
   "source": [
    "class Grandma:\n",
    "    \n",
    "    def __init__(self):\n",
    "        self.address = ' '\n",
    "        self.children = []\n",
    "        self.grandchildren = []\n",
    "        \n",
    "    def add_grandchild(self,new_grandchild):\n",
    "        current_grandchildren = self.grandchildren\n",
    "        self.granchildren = current_grandchildren.append(new_grandchild)\n",
    "        return self"
   ]
  },
  {
   "cell_type": "code",
   "execution_count": 9,
   "metadata": {
    "collapsed": true
   },
   "outputs": [],
   "source": [
    "Helen = Grandma()\n",
    "Helen.address ='Portland, OR'\n",
    "Helen.children = ['Jan','Holly','Manya','Cookie']\n",
    "Helen.grandchildren = ['me', 'Zach','Liza']"
   ]
  },
  {
   "cell_type": "code",
   "execution_count": 10,
   "metadata": {},
   "outputs": [
    {
     "data": {
      "text/plain": [
       "['me', 'Zach', 'Liza', 'Gabby']"
      ]
     },
     "execution_count": 10,
     "metadata": {},
     "output_type": "execute_result"
    }
   ],
   "source": [
    "Helen.add_grandchild('Gabby')\n",
    "Helen.grandchildren"
   ]
  },
  {
   "cell_type": "markdown",
   "metadata": {},
   "source": [
    "Let's now add one more method to our Grandma class. Let's write a method that produces a super grandma when two grandmas are added together. To do this we need to define the ```__add___``` method. The ```___add___``` method runs when we use the plus sign ```+``` used, as in:\n",
    "\n",
    "```\n",
    "solution = 2 + 2\n",
    "\n",
    "```\n",
    "\n",
    "In the case of our Grandma class, we want to combine the grandchildren of both grandmas to create a new super grandma\n",
    "\n",
    "```\n",
    "supergrandma = Helen + Margret\n",
    "```\n",
    "\n",
    "We do this by defining the ```__add__``` method within our ```Grandma class```\n"
   ]
  },
  {
   "cell_type": "code",
   "execution_count": 11,
   "metadata": {},
   "outputs": [],
   "source": [
    "class Grandma:\n",
    "    \n",
    "    def __init__(self): # what happens when you create a new Grandma\n",
    "        self.address = ' '\n",
    "        self.children = []\n",
    "        self.grandchildren = []\n",
    "        \n",
    "    def add_grandchild(self,new_grandchild):\n",
    "        current_grandchildren = self.grandchildren\n",
    "        self.granchildren = current_grandchildren.append(new_grandchild)\n",
    "        return self\n",
    "    \n",
    "    def __add__(self,other_grandma): # what happens when you + two Grandma's\n",
    "        super_gran = Grandma()\n",
    "        super_gran.grandchildren = self.grandchildren + other_grandma.grandchildren\n",
    "        return super_gran"
   ]
  },
  {
   "cell_type": "code",
   "execution_count": 12,
   "metadata": {
    "collapsed": true
   },
   "outputs": [],
   "source": [
    "Helen = Grandma()\n",
    "Margret = Grandma()\n",
    "Helen.grandchildren = ['me', 'Zach','Liza']\n",
    "Margret.grandchildren = ['Nichole','Mikka','Ari']"
   ]
  },
  {
   "cell_type": "code",
   "execution_count": 13,
   "metadata": {},
   "outputs": [
    {
     "data": {
      "text/plain": [
       "['me', 'Zach', 'Liza', 'Nichole', 'Mikka', 'Ari']"
      ]
     },
     "execution_count": 13,
     "metadata": {},
     "output_type": "execute_result"
    }
   ],
   "source": [
    "SuperGran = Helen + Margret\n",
    "SuperGran.grandchildren"
   ]
  },
  {
   "cell_type": "markdown",
   "metadata": {},
   "source": [
    "## A Vector class\n",
    "\n",
    "I love grandma's, especially Helen and Margret, but how can we use Python classes in engineering? One type of class that would be especiall useful would be a ```Vector``` class. Our ```Vector``` class would have a couple properties: A magnitude, an x-component, a y-compenent, and a z-component. Also some Vectors are unit vectors, which have a magnitude of 1. Other Vectors are not unit vectors and have a magnitude that is anything else besides 1. It would be nice to have a method to quickly figure out whether a given vector is a unit vector or not.\n",
    "\n",
    "To create our new Vector class. We need to use the ```class``` keyword followed by the name of our class, ```Vector``` and a colon ```:```\n",
    "\n",
    "```\n",
    "class Vector:\n",
    "```\n",
    "\n",
    "The first method we need to define is the special ```__init__``` method that runs when a new ```Vector``` is created. When we create a new Vector, we need to define the i, j and k components. We'll make each of these components a different property of each Vector."
   ]
  },
  {
   "cell_type": "code",
   "execution_count": 14,
   "metadata": {
    "collapsed": true
   },
   "outputs": [],
   "source": [
    "class Vector:\n",
    "    \n",
    "    def __init__(self, i, j, k):\n",
    "        self.i = i\n",
    "        self.j = j\n",
    "        self.k = k"
   ]
  },
  {
   "cell_type": "code",
   "execution_count": 15,
   "metadata": {},
   "outputs": [
    {
     "data": {
      "text/plain": [
       "(3, 4, 5)"
      ]
     },
     "execution_count": 15,
     "metadata": {},
     "output_type": "execute_result"
    }
   ],
   "source": [
    "F = Vector(3,4,5)\n",
    "F.i, F.j, F.k"
   ]
  },
  {
   "cell_type": "markdown",
   "metadata": {},
   "source": [
    "I'd like each of the components be a floating point number rather than an integer. We can ensure this as part of our ```__init__``` method. It would also be good to be able to create a vector with two components, just i and j, in case we are working in two dimmesions. To do this we will set the k value to zero by default. If the user doen't list a k value when they create a new vector, the k value will be set to zero."
   ]
  },
  {
   "cell_type": "code",
   "execution_count": 16,
   "metadata": {
    "collapsed": true
   },
   "outputs": [],
   "source": [
    "class Vector:\n",
    "    \n",
    "    def __init__(self, i, j, k=0.0):\n",
    "        self.i = float(i)\n",
    "        self.j = float(j)\n",
    "        self.k = float(k)"
   ]
  },
  {
   "cell_type": "code",
   "execution_count": 17,
   "metadata": {},
   "outputs": [
    {
     "data": {
      "text/plain": [
       "(3.0, 4.0, 0.0)"
      ]
     },
     "execution_count": 17,
     "metadata": {},
     "output_type": "execute_result"
    }
   ],
   "source": [
    "F = Vector(3,4)\n",
    "F.i, F.j, F.k"
   ]
  },
  {
   "cell_type": "markdown",
   "metadata": {},
   "source": [
    "Each ```Vector``` should also have a magnitude. The magnitude of a vector is the square root of the sum of the squares of the vector's components. \n",
    "\n",
    "$$ \\left| \\vec{F} \\right| = \\sqrt{F_x^2 + F_y^2 + F_z^2} $$\n",
    "\n",
    "Remember that to make exponents in Python, you need to use the double asterix ``**`` not the carrot ```^``` symbol. We also need to import the ```sqrt()``` function from Python's **math** module. sqrt() is part of the standard library of Python functions, but it still needs to be imported."
   ]
  },
  {
   "cell_type": "code",
   "execution_count": 18,
   "metadata": {
    "collapsed": true
   },
   "outputs": [],
   "source": [
    "from math import sqrt\n",
    "\n",
    "class Vector:\n",
    "    \n",
    "    def __init__(self, i, j, k=0.0):\n",
    "        self.i = float(i)\n",
    "        self.j = float(j)\n",
    "        self.k = float(k)\n",
    "        self.mag = sqrt(self.i**2 + self.j**2 + self.k**2)"
   ]
  },
  {
   "cell_type": "code",
   "execution_count": 19,
   "metadata": {},
   "outputs": [
    {
     "data": {
      "text/plain": [
       "5.0"
      ]
     },
     "execution_count": 19,
     "metadata": {},
     "output_type": "execute_result"
    }
   ],
   "source": [
    "F = Vector(3,4)\n",
    "F.mag"
   ]
  },
  {
   "cell_type": "markdown",
   "metadata": {},
   "source": [
    "Now let's make a method that will tell us wheather our Vector is a unit vector or not. If our vector is a unit vector, running the method on our vector object will output ```true```, If our vector is not a unit vector, running the method on our vector object will output ```false```. Our vector object is considered a unit vector if it has a magnitude =  1. Because our vector magnitude is going to be a floating point number, we need to be careful with comparison statements. If there is just a little floating point arithmetic error, then the statment ```mag == 1``` may not return ```true```, even if mathmatically the magnitude should be 1. Because of this we will use an upper and lower bound of about 12 significant figures. If the magnitude is within 12 significant figures of 1 we'll call it 1."
   ]
  },
  {
   "cell_type": "code",
   "execution_count": 20,
   "metadata": {
    "collapsed": true
   },
   "outputs": [],
   "source": [
    "from math import sqrt\n",
    "\n",
    "class Vector:\n",
    "    \n",
    "    def __init__(self, i, j, k=0.0):\n",
    "        self.i = float(i)\n",
    "        self.j = float(j)\n",
    "        self.k = float(k)\n",
    "        self.mag = sqrt(self.i**2 + self.j**2 + self.k**2)\n",
    "        \n",
    "    def is_unit_vector(self):\n",
    "        if self.mag < 1.00000000001 and self.mag > 0.999999999999:\n",
    "            return True\n",
    "        else:\n",
    "            return False"
   ]
  },
  {
   "cell_type": "code",
   "execution_count": 21,
   "metadata": {},
   "outputs": [
    {
     "name": "stdout",
     "output_type": "stream",
     "text": [
      "1.0\n"
     ]
    },
    {
     "data": {
      "text/plain": [
       "True"
      ]
     },
     "execution_count": 21,
     "metadata": {},
     "output_type": "execute_result"
    }
   ],
   "source": [
    "from math import sqrt, sin, cos, pi\n",
    "F = Vector(cos(pi/4),sin(pi/4))\n",
    "print(F.mag)\n",
    "F.is_unit_vector()"
   ]
  },
  {
   "cell_type": "markdown",
   "metadata": {},
   "source": [
    "## Vector Algebra\n",
    "\n",
    "Great! What are some other things we would like to be able to do with our Vectors? Adding and subtracting vectors is one of them. To add and vectors, we just sum up the components of each. To subtract vectors, we subtract the components of one from the components of the other.\n",
    "\n",
    "$$ \\vec{P} + \\vec{Q} = ( P_x + Q_x )\\hat{i} + ( P_y + Q_y )\\hat{j} + ( P_z + Q_z )\\hat{k} $$\n",
    "\n",
    "$$ \\vec{P} - \\vec{Q} = ( P_x - Q_x )\\hat{i} + ( P_y - Q_y )\\hat{j} + ( P_z - Q_z )\\hat{k} $$\n",
    "\n",
    "To be able to do this type of Vector addition (use the + symbol) with our Vector objects, we need to modify the ```__add__``` method. This will allow us to access the functionality of the plus ```+``` sign.\n",
    "\n",
    "To use the subtraction sign ( - ) with our Vector objects we need to modify the ```__sub__``` method. This will allow us to access the functionality of the minus ```-``` sign."
   ]
  },
  {
   "cell_type": "code",
   "execution_count": 22,
   "metadata": {
    "collapsed": true
   },
   "outputs": [],
   "source": [
    "from math import sqrt\n",
    "\n",
    "class Vector:\n",
    "    \n",
    "    def __init__(self, i, j, k=0.0):\n",
    "        self.i = float(i)\n",
    "        self.j = float(j)\n",
    "        self.k = float(k)\n",
    "        self.mag = sqrt(self.i**2 + self.j**2 + self.k**2)\n",
    "        \n",
    "    def is_unit_vector(self):\n",
    "        if self.mag < 1.00000000001 and self.mag > 0.999999999999:\n",
    "            return True\n",
    "        else:\n",
    "            return False\n",
    "    \n",
    "    def __add__(self, other): # Vector subtraction: what happens when self + other?\n",
    "        return Vector(self.i + other.i, self.j + other.j, self.k + other.k)\n",
    "    \n",
    "    def __sub__(self, other): # Vector addition: what happens when self - other?\n",
    "        return Vector(self.i - other.i, self.j - other.j, self.k - other.k)"
   ]
  },
  {
   "cell_type": "code",
   "execution_count": 23,
   "metadata": {},
   "outputs": [
    {
     "data": {
      "text/plain": [
       "(4.0, 6.0, 8.0)"
      ]
     },
     "execution_count": 23,
     "metadata": {},
     "output_type": "execute_result"
    }
   ],
   "source": [
    "P = Vector(3,4,5)\n",
    "Q = Vector(1,2,3)\n",
    "R = P + Q\n",
    "R.i, R.j, R.k"
   ]
  },
  {
   "cell_type": "markdown",
   "metadata": {},
   "source": [
    "Now let's create the ability for our Vectors to be multiplied by scalars and divided by scalars. We want to have access to the times symbol ```*``` and the division symbol ```/```. These are defined by the __mul__ and __truediv__ methods."
   ]
  },
  {
   "cell_type": "code",
   "execution_count": 24,
   "metadata": {
    "collapsed": true
   },
   "outputs": [],
   "source": [
    "from math import sqrt\n",
    "\n",
    "class Vector:\n",
    "    \n",
    "    def __init__(self, i, j, k=0.0):\n",
    "        self.i = float(i)\n",
    "        self.j = float(j)\n",
    "        self.k = float(k)\n",
    "        self.mag = sqrt(self.i**2 + self.j**2 + self.k**2)\n",
    "        \n",
    "    def is_unit_vector(self):\n",
    "        if self.mag < 1.00000000001 and self.mag > 0.999999999999:\n",
    "            return True\n",
    "        else:\n",
    "            return False\n",
    "    \n",
    "    def __add__(self, other): # Vector subtraction: what happens when self + other?\n",
    "        return Vector(self.i + other.i, self.j + other.j, self.k + other.k)\n",
    "    \n",
    "    def __sub__(self, other): # Vector addition: what happens when self - other?\n",
    "        return Vector(self.i - other.i, self.j - other.j, self.k - other.k)\n",
    "   \n",
    "    def __mul__(self, other): # Scalar multiplication: what happens when self * other?\n",
    "        return Vector(self.i*other, self.j*other, self.k*other)\n",
    "    \n",
    "    def __truediv__(self, other): # Scalar division: what happens when self / other?\n",
    "        return Vector(self.i/other, self.j/other, self.k/other)"
   ]
  },
  {
   "cell_type": "code",
   "execution_count": 25,
   "metadata": {},
   "outputs": [
    {
     "data": {
      "text/plain": [
       "(6.0, 9.0, 12.0)"
      ]
     },
     "execution_count": 25,
     "metadata": {},
     "output_type": "execute_result"
    }
   ],
   "source": [
    "F = Vector(2,3,4)\n",
    "G = F*3\n",
    "G.i,G.j,G.k"
   ]
  },
  {
   "cell_type": "code",
   "execution_count": 26,
   "metadata": {},
   "outputs": [
    {
     "data": {
      "text/plain": [
       "(1.0, 1.5, 2.0)"
      ]
     },
     "execution_count": 26,
     "metadata": {},
     "output_type": "execute_result"
    }
   ],
   "source": [
    "F = Vector(2,3,4)\n",
    "G = F/2\n",
    "G.i, G.j, G.k"
   ]
  },
  {
   "cell_type": "markdown",
   "metadata": {},
   "source": [
    "Now let's add something special to our class so that when we type just a Vector object into the Python Interpreter, or directly into a code cell in a Jupyter Notebook, the output actually tells us something. Right now, the output isn't very useful. Printing out the Vector doesn't help. We still just get the output that our variable is part of the Vector class."
   ]
  },
  {
   "cell_type": "code",
   "execution_count": 27,
   "metadata": {},
   "outputs": [
    {
     "data": {
      "text/plain": [
       "<__main__.Vector at 0x2199b95e630>"
      ]
     },
     "execution_count": 27,
     "metadata": {},
     "output_type": "execute_result"
    }
   ],
   "source": [
    "F = Vector(2,3,4)\n",
    "F"
   ]
  },
  {
   "cell_type": "code",
   "execution_count": 28,
   "metadata": {},
   "outputs": [
    {
     "name": "stdout",
     "output_type": "stream",
     "text": [
      "<__main__.Vector object at 0x000002199B965358>\n"
     ]
    }
   ],
   "source": [
    "F = Vector(2,3,4)\n",
    "print(F)"
   ]
  },
  {
   "cell_type": "markdown",
   "metadata": {},
   "source": [
    "To change this behavior we need to modifiy the ```__str__``` and ```___repr__``` methods. Let's define each of them to output the vector is i,j,k form:"
   ]
  },
  {
   "cell_type": "code",
   "execution_count": 29,
   "metadata": {
    "collapsed": true
   },
   "outputs": [],
   "source": [
    "from math import sqrt\n",
    "\n",
    "class Vector:\n",
    "    \n",
    "    def __init__(self, i, j, k=0.0):\n",
    "        self.i = float(i)\n",
    "        self.j = float(j)\n",
    "        self.k = float(k)\n",
    "        self.mag = sqrt(self.i**2 + self.j**2 + self.k**2)\n",
    "        \n",
    "    def is_unit_vector(self):\n",
    "        if self.mag < 1.00000000001 and self.mag > 0.999999999999:\n",
    "            return True\n",
    "        else:\n",
    "            return False\n",
    "    \n",
    "    def __add__(self, other): # Vector subtraction: what happens when self + other?\n",
    "        return Vector(self.i + other.i, self.j + other.j, self.k + other.k)\n",
    "    \n",
    "    def __sub__(self, other): # Vector addition: what happens when self - other?\n",
    "        return Vector(self.i - other.i, self.j - other.j, self.k - other.k)\n",
    "   \n",
    "    def __mul__(self, other): # Scalar multiplication: what happens when self * other?\n",
    "        return Vector(self.i*other, self.j*other, self.k*other)\n",
    "    \n",
    "    def __truediv__(self, other): # Scalar division: what happens when self / other?\n",
    "        return Vector(self.i/other, self.j/other, self.k/other)\n",
    "    \n",
    "    def __str__(self):\n",
    "        return('{}i + {}j + {}k'.format(self.i, self.j, self.k))\n",
    "    \n",
    "    def __repr__(self):\n",
    "        return('{}i + {}j + {}k'.format(self.i ,self.j, self.k))"
   ]
  },
  {
   "cell_type": "code",
   "execution_count": 30,
   "metadata": {},
   "outputs": [
    {
     "name": "stdout",
     "output_type": "stream",
     "text": [
      "2.0i + 3.0j + 4.0k\n"
     ]
    },
    {
     "data": {
      "text/plain": [
       "2.0i + 3.0j + 4.0k"
      ]
     },
     "execution_count": 30,
     "metadata": {},
     "output_type": "execute_result"
    }
   ],
   "source": [
    "F = Vector(2,3,4)\n",
    "print(F)\n",
    "F"
   ]
  },
  {
   "cell_type": "markdown",
   "metadata": {},
   "source": [
    "Now we are going to modify our Vector class so that we can iterate through the different term, just like you can iterate through a list. We want to be able to do an opperation like:\n",
    "\n",
    "```\n",
    "for comp in F:\n",
    "    print(comp)\n",
    "```\n",
    "\n",
    "Right now if we try that, we are returned an error:"
   ]
  },
  {
   "cell_type": "code",
   "execution_count": 31,
   "metadata": {},
   "outputs": [
    {
     "ename": "TypeError",
     "evalue": "'Vector' object is not iterable",
     "output_type": "error",
     "traceback": [
      "\u001b[1;31m---------------------------------------------------------------------------\u001b[0m",
      "\u001b[1;31mTypeError\u001b[0m                                 Traceback (most recent call last)",
      "\u001b[1;32m<ipython-input-31-a3d25a53d45f>\u001b[0m in \u001b[0;36m<module>\u001b[1;34m()\u001b[0m\n\u001b[0;32m      1\u001b[0m \u001b[0mF\u001b[0m \u001b[1;33m=\u001b[0m \u001b[0mVector\u001b[0m\u001b[1;33m(\u001b[0m\u001b[1;36m2\u001b[0m\u001b[1;33m,\u001b[0m\u001b[1;36m3\u001b[0m\u001b[1;33m,\u001b[0m\u001b[1;36m4\u001b[0m\u001b[1;33m)\u001b[0m\u001b[1;33m\u001b[0m\u001b[0m\n\u001b[1;32m----> 2\u001b[1;33m \u001b[1;32mfor\u001b[0m \u001b[0mcomp\u001b[0m \u001b[1;32min\u001b[0m \u001b[0mF\u001b[0m\u001b[1;33m:\u001b[0m\u001b[1;33m\u001b[0m\u001b[0m\n\u001b[0m\u001b[0;32m      3\u001b[0m     \u001b[0mprint\u001b[0m\u001b[1;33m(\u001b[0m\u001b[0mF\u001b[0m\u001b[1;33m)\u001b[0m\u001b[1;33m\u001b[0m\u001b[0m\n",
      "\u001b[1;31mTypeError\u001b[0m: 'Vector' object is not iterable"
     ]
    }
   ],
   "source": [
    "F = Vector(2,3,4)\n",
    "for comp in F:\n",
    "    print(F)"
   ]
  },
  {
   "cell_type": "markdown",
   "metadata": {},
   "source": [
    "To make our Vector class iterable, we need to define two methods, the ```__next___``` method and the ```__iter__``` method. The ```__iter__``` method will simply return back the Vector object, but the ```__next__``` method has to tell the iterator which property to access next. We are just going to cycle through the i, j, and k component properites and not include the magnitudue. To do this, we need to insert a property counter when the Vector object is created that is set to zero. This will allow the ```__next__``` method to have a counter to cycle through."
   ]
  },
  {
   "cell_type": "code",
   "execution_count": 32,
   "metadata": {},
   "outputs": [],
   "source": [
    "from math import sqrt\n",
    "\n",
    "class Vector:\n",
    "    \n",
    "    def __init__(self, i, j, k=0.0):\n",
    "        self.i = float(i)\n",
    "        self.j = float(j)\n",
    "        self.k = float(k)\n",
    "        self.mag = sqrt(self.i**2 + self.j**2 + self.k**2)\n",
    "        self.term = 0\n",
    "        \n",
    "    def is_unit_vector(self):\n",
    "        if self.mag < 1.00000000001 and self.mag > 0.999999999999:\n",
    "            return True\n",
    "        else:\n",
    "            return False\n",
    "    \n",
    "    def __add__(self, other): # Vector subtraction: what happens when self + other?\n",
    "        return Vector(self.i + other.i, self.j + other.j, self.k + other.k)\n",
    "    \n",
    "    def __sub__(self, other): # Vector addition: what happens when self - other?\n",
    "        return Vector(self.i - other.i, self.j - other.j, self.k - other.k)\n",
    "   \n",
    "    def __mul__(self, other): # Scalar multiplication: what happens when self * other?\n",
    "        return Vector(self.i*other, self.j*other, self.k*other)\n",
    "    \n",
    "    def __truediv__(self, other): # Scalar division: what happens when self / other?\n",
    "        return Vector(self.i/other, self.j/other, self.k/other)\n",
    "    \n",
    "    def __str__(self):\n",
    "        return('{}i + {}j + {}k'.format(self.i, self.j, self.k))\n",
    "    \n",
    "    def __repr__(self):\n",
    "        return('{}i + {}j + {}k'.format(self.i ,self.j, self.k))\n",
    "    \n",
    "    def __next__(self):\n",
    "        if self.term >= 3:\n",
    "            raise StopIteration\n",
    "        if self.term == 0:\n",
    "            term = self.i\n",
    "        if self.term == 1:\n",
    "            term = self.j\n",
    "        if self.term == 2:\n",
    "            term = self.k\n",
    "        self.term += 1\n",
    "        return term\n",
    "        \n",
    "    def __iter__(self):\n",
    "        return self"
   ]
  },
  {
   "cell_type": "code",
   "execution_count": 33,
   "metadata": {},
   "outputs": [
    {
     "name": "stdout",
     "output_type": "stream",
     "text": [
      "2.0\n",
      "3.0\n",
      "4.0\n"
     ]
    }
   ],
   "source": [
    "F = Vector(2,3,4)\n",
    "for comp in F:\n",
    "    print(comp)"
   ]
  },
  {
   "cell_type": "markdown",
   "metadata": {},
   "source": [
    "Lastly, we are going to add the ability to compare two vectors and see if they are equivalent. To do this we are going to define the ```__eq__`` and ``__ne__``` methods."
   ]
  },
  {
   "cell_type": "code",
   "execution_count": 34,
   "metadata": {
    "collapsed": true
   },
   "outputs": [],
   "source": [
    "from math import sqrt\n",
    "\n",
    "class Vector:\n",
    "    \n",
    "    def __init__(self, i, j, k=0.0):\n",
    "        self.i = float(i)\n",
    "        self.j = float(j)\n",
    "        self.k = float(k)\n",
    "        self.mag = sqrt(self.i**2 + self.j**2 + self.k**2)\n",
    "        self.term = 0\n",
    "        \n",
    "    def is_unit_vector(self):\n",
    "        if self.mag < 1.00000000001 and self.mag > 0.999999999999:\n",
    "            return True\n",
    "        else:\n",
    "            return False\n",
    "    \n",
    "    def __add__(self, other): # Vector subtraction: what happens when self + other?\n",
    "        return Vector(self.i + other.i, self.j + other.j, self.k + other.k)\n",
    "    \n",
    "    def __sub__(self, other): # Vector addition: what happens when self - other?\n",
    "        return Vector(self.i - other.i, self.j - other.j, self.k - other.k)\n",
    "   \n",
    "    def __mul__(self, other): # Scalar multiplication: what happens when self * other?\n",
    "        return Vector(self.i*other, self.j*other, self.k*other)\n",
    "    \n",
    "    def __truediv__(self, other): # Scalar division: what happens when self / other?\n",
    "        return Vector(self.i/other, self.j/other, self.k/other)\n",
    "    \n",
    "    def __eq__(self, other):\n",
    "        if isinstance(other, self.__class__):\n",
    "            return self.__dict__ == other.__dict__\n",
    "        else:\n",
    "            return False\n",
    "\n",
    "    def __ne__(self, other):\n",
    "        return not self.__eq__(other)\n",
    "    \n",
    "    def __str__(self):\n",
    "        return('{}i + {}j + {}k'.format(self.i, self.j, self.k))\n",
    "    \n",
    "    def __repr__(self):\n",
    "        return('{}i + {}j + {}k'.format(self.i ,self.j, self.k))\n",
    "    \n",
    "    def __next__(self):\n",
    "        if self.term >= 3:\n",
    "            raise StopIteration\n",
    "        if self.term == 0:\n",
    "            term = self.i\n",
    "        if self.term == 1:\n",
    "            term = self.j\n",
    "        if self.term == 2:\n",
    "            term = self.k\n",
    "        self.term += 1\n",
    "        return term\n",
    "        \n",
    "    def __iter__(self):\n",
    "        return self\n",
    "    "
   ]
  },
  {
   "cell_type": "code",
   "execution_count": 35,
   "metadata": {},
   "outputs": [
    {
     "data": {
      "text/plain": [
       "True"
      ]
     },
     "execution_count": 35,
     "metadata": {},
     "output_type": "execute_result"
    }
   ],
   "source": [
    "K = Vector(1,1,1)\n",
    "H = Vector(1,1,1)\n",
    "K == H"
   ]
  },
  {
   "cell_type": "code",
   "execution_count": 36,
   "metadata": {},
   "outputs": [
    {
     "data": {
      "text/plain": [
       "False"
      ]
     },
     "execution_count": 36,
     "metadata": {},
     "output_type": "execute_result"
    }
   ],
   "source": [
    "K = Vector(1,1,1)\n",
    "H = Vector(0,1,1)\n",
    "K == H"
   ]
  },
  {
   "cell_type": "code",
   "execution_count": 37,
   "metadata": {},
   "outputs": [
    {
     "data": {
      "text/plain": [
       "True"
      ]
     },
     "execution_count": 37,
     "metadata": {},
     "output_type": "execute_result"
    }
   ],
   "source": [
    "K = Vector(1,1,1)\n",
    "H = Vector(0,1,1)\n",
    "L = Vector(1,0,0)\n",
    "R = H + L\n",
    "R == K"
   ]
  },
  {
   "cell_type": "markdown",
   "metadata": {},
   "source": [
    "I hope from those two examples, you have an idea of how to create new Python Classes. Classes can be very helpful in solving engineering problems with Python\n",
    "\n",
    "The chart below details the methods used in the Vector Class\n",
    "\n",
    "| Method | Operation | Description |\n",
    "| --- | --- | --- |\n",
    "| ```__init__``` | ```object = Class()``` | create a new object of the Class |\n",
    "| ```__add__``` | ```+```| addition |\n",
    "| ```__sub___``` | ```-```| subtraction |\n",
    "| ```__mul___``` | ```*```| multiplication |\n",
    "| ```__truediv___``` | ```/```| division |\n",
    "| ```__eq___``` | ```==```| equivalent |\n",
    "| ```__ne___``` | ```!=```| not equivalent |\n",
    "| ```__str___``` | ```print(object)```| use the print() function |\n",
    "| ```__repr___``` | ```object``` | print in the REPL or notebook |\n",
    "| ```__next___``` | ```for a in object ```| iteration order |\n",
    "| ```__iter___``` | ```for a in object```| iteration |"
   ]
  }
 ],
 "metadata": {
  "kernelspec": {
   "display_name": "Python 3",
   "language": "python",
   "name": "python3"
  },
  "language_info": {
   "codemirror_mode": {
    "name": "ipython",
    "version": 3
   },
   "file_extension": ".py",
   "mimetype": "text/x-python",
   "name": "python",
   "nbconvert_exporter": "python",
   "pygments_lexer": "ipython3",
   "version": "3.6.3"
  }
 },
 "nbformat": 4,
 "nbformat_minor": 2
}
