{
 "cells": [
  {
   "cell_type": "markdown",
   "metadata": {},
   "source": [
    "### Plotting bond energy with Python and matplotlib\n",
    "\n",
    "For an Na<sup>+</sup> Cl<sup>-</sup> pair, attractive and repulsive energies E<sub>a</sub> and E<sub>r</sub> depend on the distance between the  Na<sup>+</sup>\n",
    "and Cl<sup>-</sup> ions. The active engery E<sub>a</sub> and the replusive energy E<sub>r</sub> are defined by:\n",
    "\n",
    "$$E_a = \\frac{- 1.436}{r} $$\n",
    "\n",
    "$$ E_r = \\frac{7.32 \\times 10^{-6}}{r^8} $$\n",
    "\n",
    "The total bond energy, E<sub>n</sub> is the sum of the two terms E<sub>a</sub> and E<sub>r</sub>:\n",
    "\n",
    "$$ E_n = E_a + E_r $$\n",
    "\n",
    "On a single plot, graph E<sub>a</sub>, E<sub>r</sub> and E<sub>n</sub> vs. r.\n",
    "\n",
    "* The range of r valuse should be between 0.01 and 1.00 in increments of 0.01\n",
    "* The x-axis limits should be between r = 0 and r = 1.00\n",
    "* The y-axis limits should be between E = -6 and E = 6\n",
    "\n",
    "Make sure to include a plot title and label the axis with units. Include a legend. \n",
    "\n",
    "As a bonus: Include a text annotation which shows the minimum value on the E<sub>n</sub> curve as E<sub>0</sub> = -5.3 eV. You do not need to include arrows indicating E<sub>a</sub>, E<sub>r</sub> and E<sub>n</sub>, but you can attempt including the arrows if you finish early. You do not need to programmatically write the E<sub>0</sub> value, but you can if you finish early."
   ]
  },
  {
   "cell_type": "code",
   "execution_count": 4,
   "metadata": {},
   "outputs": [],
   "source": [
    "import numpy as np\n",
    "import matplotlib.pyplot as plt\n",
    "%matplotlib inline"
   ]
  },
  {
   "cell_type": "code",
   "execution_count": 9,
   "metadata": {},
   "outputs": [],
   "source": [
    "r = np.arange(0.01,1.01,0.01)  #start, stop(exclusive), step"
   ]
  },
  {
   "cell_type": "code",
   "execution_count": 15,
   "metadata": {},
   "outputs": [],
   "source": [
    "Ea = -1.436/r\n",
    "Er = (7.32e-6)/r**(-6)\n",
    "En = Ea + Er"
   ]
  },
  {
   "cell_type": "code",
   "execution_count": 17,
   "metadata": {},
   "outputs": [
    {
     "data": {
      "image/png": "[encoded data removed]",
      "text/plain": [
       "<matplotlib.figure.Figure at 0x250d5523160>"
      ]
     },
     "metadata": {},
     "output_type": "display_data"
    }
   ],
   "source": [
    "plt.plot(r,Ea,r,Er,r,En)\n",
    "plt.show()"
   ]
  },
  {
   "cell_type": "code",
   "execution_count": null,
   "metadata": {},
   "outputs": [],
   "source": []
  }
 ],
 "metadata": {
  "kernelspec": {
   "display_name": "Python 3",
   "language": "python",
   "name": "python3"
  },
  "language_info": {
   "codemirror_mode": {
    "name": "ipython",
    "version": 3
   },
   "file_extension": ".py",
   "mimetype": "text/x-python",
   "name": "python",
   "nbconvert_exporter": "python",
   "pygments_lexer": "ipython3",
   "version": "3.6.3"
  }
 },
 "nbformat": 4,
 "nbformat_minor": 2
}
