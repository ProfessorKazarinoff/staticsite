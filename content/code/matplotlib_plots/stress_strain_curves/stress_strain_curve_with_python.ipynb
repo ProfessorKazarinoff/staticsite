{
 "cells": [
  {
   "cell_type": "markdown",
   "metadata": {},
   "source": [
    "In this post, we'll use data from a tensile test to build a stress strain curve with Python and Matplotlib."
   ]
  },
  {
   "cell_type": "markdown",
   "metadata": {},
   "source": [
    "A tensile test is a type of mechanical test performed by engineers in order to determine the mechanical properties of a material. Engineering metal alloys such as steel and aluminum alloys are tensile tested in order to determine their strength and stiffness. Tensile tests are performed in a piece of equipment called a mechanical test frame.\n",
    "\n",
    "![instron]({static}/code/matplotlib_plots/stress_strain_curves/images/instron.jpg)"
   ]
  },
  {
   "cell_type": "markdown",
   "metadata": {},
   "source": [
    "After a tensile test is complete, a set of data is produced by the mechanical test frame. Using the data acquired during a tensile test, a stress-strain curve can be produced. "
   ]
  },
  {
   "cell_type": "markdown",
   "metadata": {},
   "source": [
    "In this post, we will create a stress-strain curve (a plot) from a set of tensile test data of a steel 1045 sample and an aluminum 6061 sample. The stress strain curve we construct will have the following features:\n",
    "\n",
    " * A descriptive title\n",
    " * Axes labels with units\n",
    " * Two lines on the same plot. One line for steel 1045 and one line for aluminum 6061\n",
    " * A legend"
   ]
  },
  {
   "cell_type": "markdown",
   "metadata": {},
   "source": [
    "## Install Python\n",
    "\n",
    "We are going to build our stress strain curve with Python and a Jupyter notebook. I suggest engineers and problem-solvers download and install the [Anaconda distribution of Python](https://anaconda.com). See [this post]({filename}/posts/installation/installing_anaconda_on_windows.md) to learn how to install Anaconda on your computer. Alternatively, you can download Python form [Python.org](https://python.org) or download Python the Microsoft Store."
   ]
  },
  {
   "cell_type": "markdown",
   "metadata": {},
   "source": [
    "## Install Jupyter, NumPy, Pandas, and Matplotlib\n",
    "\n",
    "Once Python is installed, the next thing we need to do is install a couple of Python packages. If you are using the Anaconda distribution of Python, the packages we are going to use to build the plot: Jupyter, NumPy, Pandas, and Matplotlib come pre-installed and no additional installation steps are necessary. \n",
    "\n",
    "However, if you downloaded Python from Python.org or installed Python using the Microsoft Store, you will need to install install Jupyter, NumPy, Pandas, and Matplotlib separately.  You can install Jupyter, NumPy, Pandas, and Matplotlib with pip (the Python package manager) or install theses four packages with the Anaconda Prompt.\n",
    "\n",
    "If you are using a terminal and pip, type:\n",
    "\n",
    "```text\n",
    "> pip install jupyter numpy pandas matplotlib \n",
    "```\n",
    "\n",
    "If you have Anaconda installed and use the Anaconda Prompt, type:\n",
    "\n",
    "```text\n",
    "> conda install jupyter numpy pandas matplotlib \n",
    "```"
   ]
  },
  {
   "cell_type": "markdown",
   "metadata": {},
   "source": [
    "## Open a Jupyter notebook\n",
    "\n",
    "We will construct our stress strain curve using a Jupyter notebook. See [this post]({filename}/posts/jupyter/opening_jupyter_notebook.md) to see how to open a Jupyter notebook. \n",
    "\n",
    "Make sure to save your Jupyter notebook with a recognizable name."
   ]
  },
  {
   "cell_type": "markdown",
   "metadata": {},
   "source": [
    "## Download the data and move the data into the same folder as the Jupyter notebook\n",
    "\n",
    "Next, we need to download the two data files that we will use to build our stress-strain curve. You can download sample data using the links below:\n",
    "\n",
    "[aluminum6061.xls](https://github.com/ProfessorKazarinoff/staticsite/raw/master/content/code/matplotlib_plots/stress_strain_curves/aluminum6061.xls)\n",
    "\n",
    "[steel1045.xls](https://github.com/ProfessorKazarinoff/staticsite/raw/master/content/code/matplotlib_plots/stress_strain_curves/steel1045.xls)\n",
    "\n",
    "After these .xls files are downloaded, both .xls files need to be moved into the same folder as our Jupyter notebook."
   ]
  },
  {
   "cell_type": "markdown",
   "metadata": {},
   "source": [
    "## Import NumPy, Pandas, and Matplotlib\n",
    "\n",
    "Now that our Jupyter notebook is open and the two .xls data files are in the same folder as the Jupyter notebook, we can start coding and build our plot.\n",
    "\n",
    "At the top of the Jupyter notebook, import NumPy, Pandas and Matplotlib. The command ```%matplotlib inline``` is included so that our plot will display directly inside our Jupyter notebook. If you are using a .py file instead of a Jupyter notebook, make sure to comment out ```%matplotlib inline``` as this line is not valid Python code.\n",
    "            \n",
    "We will also print out the versions of our NumPy and Pandas packages using the ```.__version__``` attribute. If the versions of NumPy and Pandas prints out, that means that NumPy and Pandas are installed and we can use these packages in our code."
   ]
  },
  {
   "cell_type": "code",
   "execution_count": 1,
   "metadata": {},
   "outputs": [
    {
     "name": "stdout",
     "output_type": "stream",
     "text": [
      "NumPy version: 1.17.2\n",
      "Pandas version: 0.25.1\n"
     ]
    }
   ],
   "source": [
    "import numpy as np\n",
    "import pandas as pd\n",
    "import matplotlib.pyplot as plt\n",
    "%matplotlib inline\n",
    "\n",
    "print(\"NumPy version:\",np.__version__)\n",
    "print(\"Pandas version:\",pd.__version__)"
   ]
  },
  {
   "cell_type": "markdown",
   "metadata": {},
   "source": [
    "## Ensure the two .xls data files are in the same folder as the Jupyter notebook\n",
    "\n",
    "Before we proceed, let's make sure the two .xls data files are in the same folder as our running Jupyter notebook. We'll use a Jupyter notebook magic command to print out the contents of the folder that our notebook is in. The ```%ls``` command lists the contents of the current folder."
   ]
  },
  {
   "cell_type": "code",
   "execution_count": 2,
   "metadata": {},
   "outputs": [
    {
     "name": "stdout",
     "output_type": "stream",
     "text": [
      "aluminum6061.xls         stress_strain_curve_with_inset_elastic_region.ipynb\r\n",
      "\u001b[0m\u001b[01;34mimages\u001b[0m/                  \u001b[01;35mstress_strain_curve_with_inset.png\u001b[0m\r\n",
      "steel1045.xls            stress_strain_curve_with_python.ipynb\r\n",
      "\u001b[01;35mstress-strain_curve.png\u001b[0m\r\n"
     ]
    }
   ],
   "source": [
    "%ls"
   ]
  },
  {
   "cell_type": "markdown",
   "metadata": {},
   "source": [
    "We can see our Jupyter notebook ```stress_strain_curve_with_python.ipynb``` as well as the two .xls data files ```aluminum6061.xls``` and ```steel1045.xls``` are in our current folder. \n",
    "\n",
    "Now that we are sure the two .xls data files are in the same folder as our notebook, we can import the data in the two two .xls files using Panda's ```pd.read_excel()``` function. The data from the two excel files will be stores in two Pandas dataframes called ```steel_df``` and ```al_df```."
   ]
  },
  {
   "cell_type": "code",
   "execution_count": 3,
   "metadata": {},
   "outputs": [
    {
     "name": "stdout",
     "output_type": "stream",
     "text": [
      "WARNING *** OLE2 inconsistency: SSCS size is 0 but SSAT size is non-zero\n",
      "WARNING *** OLE2 inconsistency: SSCS size is 0 but SSAT size is non-zero\n"
     ]
    }
   ],
   "source": [
    "steel_df = pd.read_excel(\"aluminum6061.xls\")\n",
    "al_df = pd.read_excel(\"steel1045.xls\")"
   ]
  },
  {
   "cell_type": "markdown",
   "metadata": {},
   "source": [
    "We can use Pandas ```.head()``` method to view the first five rows of each dataframe. "
   ]
  },
  {
   "cell_type": "code",
   "execution_count": 4,
   "metadata": {},
   "outputs": [
    {
     "data": {
      "text/html": [
       "<div>\n",
       "<style scoped>\n",
       "    .dataframe tbody tr th:only-of-type {\n",
       "        vertical-align: middle;\n",
       "    }\n",
       "\n",
       "    .dataframe tbody tr th {\n",
       "        vertical-align: top;\n",
       "    }\n",
       "\n",
       "    .dataframe thead th {\n",
       "        text-align: right;\n",
       "    }\n",
       "</style>\n",
       "<table border=\"1\" class=\"dataframe\">\n",
       "  <thead>\n",
       "    <tr style=\"text-align: right;\">\n",
       "      <th></th>\n",
       "      <th>TESTNUM</th>\n",
       "      <th>POINTNUM</th>\n",
       "      <th>TIME</th>\n",
       "      <th>POSIT</th>\n",
       "      <th>FORCE</th>\n",
       "      <th>EXT</th>\n",
       "      <th>CH5</th>\n",
       "      <th>CH6</th>\n",
       "      <th>CH7</th>\n",
       "      <th>CH8</th>\n",
       "    </tr>\n",
       "  </thead>\n",
       "  <tbody>\n",
       "    <tr>\n",
       "      <td>0</td>\n",
       "      <td>761</td>\n",
       "      <td>1</td>\n",
       "      <td>6.532</td>\n",
       "      <td>0.01524</td>\n",
       "      <td>201.158508</td>\n",
       "      <td>0.018893</td>\n",
       "      <td>-0.023081</td>\n",
       "      <td>NaN</td>\n",
       "      <td>NaN</td>\n",
       "      <td>NaN</td>\n",
       "    </tr>\n",
       "    <tr>\n",
       "      <td>1</td>\n",
       "      <td>761</td>\n",
       "      <td>2</td>\n",
       "      <td>6.702</td>\n",
       "      <td>0.01600</td>\n",
       "      <td>205.978119</td>\n",
       "      <td>0.000265</td>\n",
       "      <td>-0.013024</td>\n",
       "      <td>NaN</td>\n",
       "      <td>NaN</td>\n",
       "      <td>NaN</td>\n",
       "    </tr>\n",
       "    <tr>\n",
       "      <td>2</td>\n",
       "      <td>761</td>\n",
       "      <td>3</td>\n",
       "      <td>7.098</td>\n",
       "      <td>0.01720</td>\n",
       "      <td>219.295441</td>\n",
       "      <td>-0.000877</td>\n",
       "      <td>-0.024879</td>\n",
       "      <td>NaN</td>\n",
       "      <td>NaN</td>\n",
       "      <td>NaN</td>\n",
       "    </tr>\n",
       "    <tr>\n",
       "      <td>3</td>\n",
       "      <td>761</td>\n",
       "      <td>4</td>\n",
       "      <td>8.697</td>\n",
       "      <td>0.02350</td>\n",
       "      <td>268.505890</td>\n",
       "      <td>0.001453</td>\n",
       "      <td>-0.006798</td>\n",
       "      <td>NaN</td>\n",
       "      <td>NaN</td>\n",
       "      <td>NaN</td>\n",
       "    </tr>\n",
       "    <tr>\n",
       "      <td>4</td>\n",
       "      <td>761</td>\n",
       "      <td>5</td>\n",
       "      <td>10.196</td>\n",
       "      <td>0.03004</td>\n",
       "      <td>322.028168</td>\n",
       "      <td>0.001865</td>\n",
       "      <td>0.012563</td>\n",
       "      <td>NaN</td>\n",
       "      <td>NaN</td>\n",
       "      <td>NaN</td>\n",
       "    </tr>\n",
       "  </tbody>\n",
       "</table>\n",
       "</div>"
      ],
      "text/plain": [
       "   TESTNUM  POINTNUM    TIME    POSIT       FORCE       EXT       CH5  CH6  \\\n",
       "0      761         1   6.532  0.01524  201.158508  0.018893 -0.023081  NaN   \n",
       "1      761         2   6.702  0.01600  205.978119  0.000265 -0.013024  NaN   \n",
       "2      761         3   7.098  0.01720  219.295441 -0.000877 -0.024879  NaN   \n",
       "3      761         4   8.697  0.02350  268.505890  0.001453 -0.006798  NaN   \n",
       "4      761         5  10.196  0.03004  322.028168  0.001865  0.012563  NaN   \n",
       "\n",
       "   CH7  CH8  \n",
       "0  NaN  NaN  \n",
       "1  NaN  NaN  \n",
       "2  NaN  NaN  \n",
       "3  NaN  NaN  \n",
       "4  NaN  NaN  "
      ]
     },
     "execution_count": 4,
     "metadata": {},
     "output_type": "execute_result"
    }
   ],
   "source": [
    "steel_df.head()"
   ]
  },
  {
   "cell_type": "code",
   "execution_count": 5,
   "metadata": {},
   "outputs": [
    {
     "data": {
      "text/html": [
       "<div>\n",
       "<style scoped>\n",
       "    .dataframe tbody tr th:only-of-type {\n",
       "        vertical-align: middle;\n",
       "    }\n",
       "\n",
       "    .dataframe tbody tr th {\n",
       "        vertical-align: top;\n",
       "    }\n",
       "\n",
       "    .dataframe thead th {\n",
       "        text-align: right;\n",
       "    }\n",
       "</style>\n",
       "<table border=\"1\" class=\"dataframe\">\n",
       "  <thead>\n",
       "    <tr style=\"text-align: right;\">\n",
       "      <th></th>\n",
       "      <th>TESTNUM</th>\n",
       "      <th>POINTNUM</th>\n",
       "      <th>TIME</th>\n",
       "      <th>POSIT</th>\n",
       "      <th>FORCE</th>\n",
       "      <th>EXT</th>\n",
       "      <th>CH5</th>\n",
       "      <th>CH6</th>\n",
       "      <th>CH7</th>\n",
       "      <th>CH8</th>\n",
       "    </tr>\n",
       "  </thead>\n",
       "  <tbody>\n",
       "    <tr>\n",
       "      <td>0</td>\n",
       "      <td>762</td>\n",
       "      <td>1</td>\n",
       "      <td>5.969</td>\n",
       "      <td>0.01284</td>\n",
       "      <td>201.030792</td>\n",
       "      <td>0.001572</td>\n",
       "      <td>-0.007133</td>\n",
       "      <td>NaN</td>\n",
       "      <td>NaN</td>\n",
       "      <td>NaN</td>\n",
       "    </tr>\n",
       "    <tr>\n",
       "      <td>1</td>\n",
       "      <td>762</td>\n",
       "      <td>2</td>\n",
       "      <td>6.242</td>\n",
       "      <td>0.01392</td>\n",
       "      <td>215.235886</td>\n",
       "      <td>0.000009</td>\n",
       "      <td>-0.014581</td>\n",
       "      <td>NaN</td>\n",
       "      <td>NaN</td>\n",
       "      <td>NaN</td>\n",
       "    </tr>\n",
       "    <tr>\n",
       "      <td>2</td>\n",
       "      <td>762</td>\n",
       "      <td>3</td>\n",
       "      <td>6.936</td>\n",
       "      <td>0.01646</td>\n",
       "      <td>246.816742</td>\n",
       "      <td>-0.000832</td>\n",
       "      <td>0.006942</td>\n",
       "      <td>NaN</td>\n",
       "      <td>NaN</td>\n",
       "      <td>NaN</td>\n",
       "    </tr>\n",
       "    <tr>\n",
       "      <td>3</td>\n",
       "      <td>762</td>\n",
       "      <td>4</td>\n",
       "      <td>8.632</td>\n",
       "      <td>0.02340</td>\n",
       "      <td>371.870361</td>\n",
       "      <td>0.002203</td>\n",
       "      <td>0.000776</td>\n",
       "      <td>NaN</td>\n",
       "      <td>NaN</td>\n",
       "      <td>NaN</td>\n",
       "    </tr>\n",
       "    <tr>\n",
       "      <td>4</td>\n",
       "      <td>762</td>\n",
       "      <td>5</td>\n",
       "      <td>10.533</td>\n",
       "      <td>0.03110</td>\n",
       "      <td>502.501862</td>\n",
       "      <td>0.001481</td>\n",
       "      <td>0.018102</td>\n",
       "      <td>NaN</td>\n",
       "      <td>NaN</td>\n",
       "      <td>NaN</td>\n",
       "    </tr>\n",
       "  </tbody>\n",
       "</table>\n",
       "</div>"
      ],
      "text/plain": [
       "   TESTNUM  POINTNUM    TIME    POSIT       FORCE       EXT       CH5  CH6  \\\n",
       "0      762         1   5.969  0.01284  201.030792  0.001572 -0.007133  NaN   \n",
       "1      762         2   6.242  0.01392  215.235886  0.000009 -0.014581  NaN   \n",
       "2      762         3   6.936  0.01646  246.816742 -0.000832  0.006942  NaN   \n",
       "3      762         4   8.632  0.02340  371.870361  0.002203  0.000776  NaN   \n",
       "4      762         5  10.533  0.03110  502.501862  0.001481  0.018102  NaN   \n",
       "\n",
       "   CH7  CH8  \n",
       "0  NaN  NaN  \n",
       "1  NaN  NaN  \n",
       "2  NaN  NaN  \n",
       "3  NaN  NaN  \n",
       "4  NaN  NaN  "
      ]
     },
     "execution_count": 5,
     "metadata": {},
     "output_type": "execute_result"
    }
   ],
   "source": [
    "al_df.head()"
   ]
  },
  {
   "cell_type": "markdown",
   "metadata": {},
   "source": [
    "We see a number of columns in each dataframe. The columns we are interested in are **FORCE**, **EXT**, and **CH5**. Below is a description of what these columns mean.\n",
    "\n",
    " * **FORCE** Force measurements from the load cell in pounds (lb)\n",
    " * **EXT** Extension measurements from the mechanical extensometer in percent (%), strain in percent\n",
    " * **CH5** Extension readings from the laser extensometer in percent (%), strain in percent"
   ]
  },
  {
   "cell_type": "markdown",
   "metadata": {},
   "source": [
    "# Create stress and strain series from the **FORCE**, **EXT**, and **CH5** columns\n",
    "\n",
    "Next we'll create a four Pandas series from the ```['CH5']``` and ```['FORCE']``` columns of our ```al_df``` and ```steel_df``` dataframes. The equations below show how to calculate stress, $\\sigma$, and strain, $\\epsilon$, from force $F$ and cross-sectional area $A$. Cross-sectional area $A$ is the formula for the area of a circle. For the steel and aluminum samples we tested, the diameter $d$ was $0.506 \\ in$.\n",
    "\n",
    "$$ \\sigma = \\frac{F}{A_0} $$\n",
    "\n",
    "$$ F \\ (kip) = F \\ (lb) \\times 0.001 $$\n",
    "\n",
    "$$ A_0 = \\pi (d/2)^2 $$\n",
    "\n",
    "$$ d = 0.506 \\ in $$\n",
    "\n",
    "$$ \\epsilon \\ (unitless) = \\epsilon \\ (\\%) \\times 0.01 $$"
   ]
  },
  {
   "cell_type": "code",
   "execution_count": 6,
   "metadata": {},
   "outputs": [],
   "source": [
    "strain_al = al_df['CH5']*0.01\n",
    "d_al = 0.506\n",
    "stress_al = (al_df['FORCE']*0.001)/(np.pi*((d_al/2)**2))\n",
    "\n",
    "strain_steel = steel_df['CH5']*0.01\n",
    "d_steel = 0.506\n",
    "stress_steel = (steel_df['FORCE']*0.001)/(np.pi*((d_steel/2)**2))"
   ]
  },
  {
   "cell_type": "markdown",
   "metadata": {},
   "source": [
    "# Build a quick plot\n",
    "\n",
    "Now that we have the data from the tensile test in four series, we can build a quick plot using Matplotlib's ```plt.plot()``` method. The first x,y pair we pass to ```plt.plot()``` is ```strain_al,stress_al``` and the second x,y pair we pass in is ```strain_steel,stress_steel```. The command ```plt.show()``` shows the plot."
   ]
  },
  {
   "cell_type": "code",
   "execution_count": 7,
   "metadata": {},
   "outputs": [
    {
     "data": {
      "image/png": "[encoded data removed]",
      "text/plain": [
       "<Figure size 432x288 with 1 Axes>"
      ]
     },
     "metadata": {
      "needs_background": "light"
     },
     "output_type": "display_data"
    }
   ],
   "source": [
    "plt.plot(strain_al,stress_al,strain_steel,stress_steel)\n",
    "plt.show()"
   ]
  },
  {
   "cell_type": "markdown",
   "metadata": {},
   "source": [
    "We see a plot with two lines. One line represents the aluminum sample and one line represents the steel sample. We can improve our plot by adding axis labels with units, a title and a legend."
   ]
  },
  {
   "cell_type": "markdown",
   "metadata": {},
   "source": [
    "## Add axis labels, title and a legend\n",
    "\n",
    "Axis labels, titles and a legend are added to our plot with three Matplotlib methods. The methods are summarized in the table below.\n",
    "\n",
    "| Matplotlib method | description | example |\n",
    "| --- | --- | --- |\n",
    "| ```plt.xlabel()``` | x-axis label | ```plt.xlabel('strain (in/in')``` |\n",
    "| ```plt.xlabel()``` | y-axis label | ```plt.ylabel('stress (ksi)``` |\n",
    "| ```plt.title()``` | plot title | ```plt.title('Stress Strain Curve')``` |\n",
    "| ```plt.legend()``` | legend | ```plt.legend(['aluminum','steel'])``` |\n",
    "\n",
    "The code cell below shows these four methods in action and produces a plot."
   ]
  },
  {
   "cell_type": "code",
   "execution_count": 8,
   "metadata": {},
   "outputs": [
    {
     "data": {
      "image/png": "[encoded data removed]",
      "text/plain": [
       "<Figure size 432x288 with 1 Axes>"
      ]
     },
     "metadata": {
      "needs_background": "light"
     },
     "output_type": "display_data"
    }
   ],
   "source": [
    "plt.plot(strain_al,stress_al,strain_steel,stress_steel)\n",
    "plt.xlabel('strain (in/in)')\n",
    "plt.ylabel('stress (ksi)')\n",
    "plt.title('Stress Strain Curve of Aluminum 6061 and Steel 1045 in tension')\n",
    "plt.legend(['Aluminum 6061','Steel 1045'])\n",
    "plt.show()"
   ]
  },
  {
   "cell_type": "markdown",
   "metadata": {},
   "source": [
    "The plot we see has two lines, axis labels, a title and a legend. Next we'll save the plot to a .png image file."
   ]
  },
  {
   "cell_type": "markdown",
   "metadata": {},
   "source": [
    "## Save the plot as a .png image\n",
    " \n",
    "Now we can save the plot as a .png image using Matplotlib's ```plt.savefig()``` method. The code cell below builds the plot and saves an image file called ```stress-strain_curve.png```. The argument ```dpi=300``` inside of Matplotlib's ```plt.savefig()``` method specifies the resolution of our saved image. The image ```stress-strain_curve.png``` will be saved in the same folder as our running Jupyter notebook."
   ]
  },
  {
   "cell_type": "code",
   "execution_count": 9,
   "metadata": {},
   "outputs": [
    {
     "data": {
      "image/png": "[encoded data removed]",
      "text/plain": [
       "<Figure size 432x288 with 1 Axes>"
      ]
     },
     "metadata": {
      "needs_background": "light"
     },
     "output_type": "display_data"
    }
   ],
   "source": [
    "plt.plot(strain_al,stress_al,strain_steel,stress_steel)\n",
    "plt.xlabel('strain (in/in)')\n",
    "plt.ylabel('stress (ksi)')\n",
    "plt.title('Stress Strain Curve of Aluminum 6061 and Steel 1045 in tension')\n",
    "plt.legend(['Aluminum 6061','Steel 1045'])\n",
    "plt.savefig('stress-strain_curve.png', dpi=300, bbox_inches='tight')\n",
    "plt.show()"
   ]
  },
  {
   "cell_type": "markdown",
   "metadata": {},
   "source": [
    "Our complete stress strain curve contains two lines, one for steel and one for aluminum. The plot has axis labels with units, a title and a legend. A copy of the plot is now saved as ```stress-strain_curve.png``` in the same folder as our Jupyter notebook."
   ]
  },
  {
   "cell_type": "markdown",
   "metadata": {},
   "source": [
    "## Summary\n",
    "\n",
    "In this post, we built a stress strain curve using Python. First we installed Python and made sure that NumPy, Pandas, Matplotlib and Jupyter were installed. Next we opened a Jupyter notebook and moved our .xls data files into the same folder as the Jupyter notebook. Inside the Jupyter notebook we entered code into a couple different code cells. \n",
    "\n",
    "In the first Jupyter notebook code cell, we imported NumPy, Pandas, and Matplotlib and printed our their versions. In the next code cell, we saved the data from two .xls data files into two Pandas dataframes. In the third code cell, we created Pandas series for stress and strain from the columns in the dataframes. In the final code cell we built our stress strain curve with Matplotlib and saved the plot to a .png image file."
   ]
  }
 ],
 "metadata": {
  "kernelspec": {
   "display_name": "Python 3",
   "language": "python",
   "name": "python3"
  },
  "language_info": {
   "codemirror_mode": {
    "name": "ipython",
    "version": 3
   },
   "file_extension": ".py",
   "mimetype": "text/x-python",
   "name": "python",
   "nbconvert_exporter": "python",
   "pygments_lexer": "ipython3",
   "version": "3.7.4"
  }
 },
 "nbformat": 4,
 "nbformat_minor": 2
}
