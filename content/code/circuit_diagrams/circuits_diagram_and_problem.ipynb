{
 "cells": [
  {
   "cell_type": "markdown",
   "metadata": {},
   "source": [
    "We are going to solve a circuits diagram problem using Python and the SchemDraw package.  Our circuit has seven resistors and three loops. The table of resistance values are below:\n",
    "\n",
    "| V<sub>t</sub> =| 5.20 V |\n",
    "| --- | --- |\n",
    "| R<sub>1</sub> =| 13.2 m&Omega; |\n",
    "| R<sub>2</sub> =| 21.0 m&Omega; |\n",
    "| R<sub>3</sub> =| 3.60 m&Omega; |\n",
    "| R<sub>4</sub> =| 15.2 m&Omega; |\n",
    "| R<sub>5</sub> =| 11.9 m&Omega; |\n",
    "| R<sub>6</sub> =| 2.20 m&Omega; |\n",
    "| R<sub>7</sub> =| 7.40 m&Omega; |\n",
    "\n",
    "First we will import the necesary packages to build the circuit diagram"
   ]
  },
  {
   "cell_type": "code",
   "execution_count": 1,
   "metadata": {
    "collapsed": true
   },
   "outputs": [],
   "source": [
    "import matplotlib.pyplot as plt\n",
    "#plt.xkcd() #to make the diagram look hand drawn\n",
    "%matplotlib inline\n",
    "%config InlineBackend.figure_format = 'svg'\n",
    "import SchemDraw as schem\n",
    "import SchemDraw.elements as e"
   ]
  },
  {
   "cell_type": "markdown",
   "metadata": {},
   "source": [
    "#### For documentation see:\n",
    "https://cdelker.bitbucket.io/SchemDraw/SchemDraw.html"
   ]
  },
  {
   "cell_type": "markdown",
   "metadata": {},
   "source": [
    "Now we'll build the circuit diagram by creating a SchemDraw Drawing object and adding elements to it"
   ]
  },
  {
   "cell_type": "code",
   "execution_count": 16,
   "metadata": {},
   "outputs": [
    {
     "data": {
      "image/svg+xml": [
       "<?xml version=\"1.0\" encoding=\"utf-8\" standalone=\"no\"?>\r\n",
       "<!DOCTYPE svg PUBLIC \"-//W3C//DTD SVG 1.1//EN\"\r\n",
       "  \"http://www.w3.org/Graphics/SVG/1.1/DTD/svg11.dtd\">\r\n",
       "<!-- Created with matplotlib (http://matplotlib.org/) -->\r\n",
       "<svg height=\"219pt\" version=\"1.1\" viewBox=\"0 0 374 219\" width=\"374pt\" xmlns=\"http://www.w3.org/2000/svg\" xmlns:xlink=\"http://www.w3.org/1999/xlink\">\r\n",
       " <defs>\r\n",
       "  <style type=\"text/css\">\r\n",
       "*{stroke-linecap:butt;stroke-linejoin:round;}\r\n",
       "  </style>\r\n",
       " </defs>\r\n",
       " <g id=\"figure_1\">\r\n",
       "  <g id=\"patch_1\">\r\n",
       "   <path d=\"M 0 219.79 \r\n",
       "L 374.3025 219.79 \r\n",
       "L 374.3025 0 \r\n",
       "L 0 0 \r\n",
       "z\r\n",
       "\" style=\"fill:none;\"/>\r\n",
       "  </g>\r\n",
       "  <g id=\"axes_1\">\r\n",
       "   <g id=\"patch_2\">\r\n",
       "    <path clip-path=\"url(#p20d512fb6d)\" d=\"M 28.87 86.945 \r\n",
       "L 32.11 96.125 \r\n",
       "L 28.8862 96.125 \r\n",
       "L 28.8862 132.845 \r\n",
       "L 28.8538 132.845 \r\n",
       "L 28.8538 96.125 \r\n",
       "L 25.63 96.125 \r\n",
       "z\r\n",
       "\" style=\"stroke:#000000;stroke-linejoin:miter;stroke-width:1.5;\"/>\r\n",
       "   </g>\r\n",
       "   <g id=\"line2d_1\">\r\n",
       "    <path clip-path=\"url(#p20d512fb6d)\" d=\"M 45.07 186.395 \r\n",
       "L 69.37 186.395 \r\n",
       "L 72.07 178.745 \r\n",
       "L 77.47 194.045 \r\n",
       "L 82.87 178.745 \r\n",
       "L 88.27 194.045 \r\n",
       "L 93.67 178.745 \r\n",
       "L 99.07 194.045 \r\n",
       "L 101.77 186.395 \r\n",
       "L 126.07 186.395 \r\n",
       "\" style=\"fill:none;stroke:#000000;stroke-linecap:round;stroke-width:1.5;\"/>\r\n",
       "   </g>\r\n",
       "   <g id=\"line2d_2\">\r\n",
       "    <path clip-path=\"url(#p20d512fb6d)\" d=\"M 126.07 186.395 \r\n",
       "L 150.37 186.395 \r\n",
       "L 153.07 178.745 \r\n",
       "L 158.47 194.045 \r\n",
       "L 163.87 178.745 \r\n",
       "L 169.27 194.045 \r\n",
       "L 174.67 178.745 \r\n",
       "L 180.07 194.045 \r\n",
       "L 182.77 186.395 \r\n",
       "L 207.07 186.395 \r\n",
       "\" style=\"fill:none;stroke:#000000;stroke-linecap:round;stroke-width:1.5;\"/>\r\n",
       "   </g>\r\n",
       "   <g id=\"line2d_3\">\r\n",
       "    <path clip-path=\"url(#p20d512fb6d)\" d=\"M 207.07 186.395 \r\n",
       "L 239.47 186.395 \r\n",
       "L 271.87 186.395 \r\n",
       "\" style=\"fill:none;stroke:#000000;stroke-linecap:round;stroke-width:1.5;\"/>\r\n",
       "   </g>\r\n",
       "   <g id=\"line2d_4\">\r\n",
       "    <path clip-path=\"url(#p20d512fb6d)\" d=\"M 271.87 186.395 \r\n",
       "L 304.27 186.395 \r\n",
       "L 336.67 186.395 \r\n",
       "\" style=\"fill:none;stroke:#000000;stroke-linecap:round;stroke-width:1.5;\"/>\r\n",
       "   </g>\r\n",
       "   <g id=\"line2d_5\">\r\n",
       "    <path clip-path=\"url(#p20d512fb6d)\" d=\"M 336.67 186.395 \r\n",
       "L 336.67 163.445 \r\n",
       "L 328.57 160.895 \r\n",
       "L 344.77 155.795 \r\n",
       "L 328.57 150.695 \r\n",
       "L 344.77 145.595 \r\n",
       "L 328.57 140.495 \r\n",
       "L 344.77 135.395 \r\n",
       "L 336.67 132.845 \r\n",
       "L 336.67 109.895 \r\n",
       "\" style=\"fill:none;stroke:#000000;stroke-linecap:round;stroke-width:1.5;\"/>\r\n",
       "   </g>\r\n",
       "   <g id=\"line2d_6\">\r\n",
       "    <path clip-path=\"url(#p20d512fb6d)\" d=\"M 336.67 109.895 \r\n",
       "L 336.67 86.945 \r\n",
       "L 328.57 84.395 \r\n",
       "L 344.77 79.295 \r\n",
       "L 328.57 74.195 \r\n",
       "L 344.77 69.095 \r\n",
       "L 328.57 63.995 \r\n",
       "L 344.77 58.895 \r\n",
       "L 336.67 56.345 \r\n",
       "L 336.67 33.395 \r\n",
       "\" style=\"fill:none;stroke:#000000;stroke-linecap:round;stroke-width:1.5;\"/>\r\n",
       "   </g>\r\n",
       "   <g id=\"line2d_7\">\r\n",
       "    <path clip-path=\"url(#p20d512fb6d)\" d=\"M 336.67 33.395 \r\n",
       "L 304.27 33.395 \r\n",
       "L 271.87 33.395 \r\n",
       "\" style=\"fill:none;stroke:#000000;stroke-linecap:round;stroke-width:1.5;\"/>\r\n",
       "   </g>\r\n",
       "   <g id=\"line2d_8\">\r\n",
       "    <path clip-path=\"url(#p20d512fb6d)\" d=\"M 271.87 33.395 \r\n",
       "L 271.87 94.595 \r\n",
       "L 279.97 97.145 \r\n",
       "L 263.77 102.245 \r\n",
       "L 279.97 107.345 \r\n",
       "L 263.77 112.445 \r\n",
       "L 279.97 117.545 \r\n",
       "L 263.77 122.645 \r\n",
       "L 271.87 125.195 \r\n",
       "L 271.87 186.395 \r\n",
       "\" style=\"fill:none;stroke:#000000;stroke-linecap:round;stroke-width:1.5;\"/>\r\n",
       "   </g>\r\n",
       "   <g id=\"line2d_9\">\r\n",
       "    <path clip-path=\"url(#p20d512fb6d)\" d=\"M 271.87 33.395 \r\n",
       "L 239.47 33.395 \r\n",
       "L 207.07 33.395 \r\n",
       "\" style=\"fill:none;stroke:#000000;stroke-linecap:round;stroke-width:1.5;\"/>\r\n",
       "   </g>\r\n",
       "   <g id=\"line2d_10\">\r\n",
       "    <path clip-path=\"url(#p20d512fb6d)\" d=\"M 207.07 33.395 \r\n",
       "L 207.07 94.595 \r\n",
       "L 215.17 97.145 \r\n",
       "L 198.97 102.245 \r\n",
       "L 215.17 107.345 \r\n",
       "L 198.97 112.445 \r\n",
       "L 215.17 117.545 \r\n",
       "L 198.97 122.645 \r\n",
       "L 207.07 125.195 \r\n",
       "L 207.07 186.395 \r\n",
       "\" style=\"fill:none;stroke:#000000;stroke-linecap:round;stroke-width:1.5;\"/>\r\n",
       "   </g>\r\n",
       "   <g id=\"line2d_11\">\r\n",
       "    <path clip-path=\"url(#p20d512fb6d)\" d=\"M 207.07 33.395 \r\n",
       "L 142.27 33.395 \r\n",
       "L 139.57 41.045 \r\n",
       "L 134.17 25.745 \r\n",
       "L 128.77 41.045 \r\n",
       "L 123.37 25.745 \r\n",
       "L 117.97 41.045 \r\n",
       "L 112.57 25.745 \r\n",
       "L 109.87 33.395 \r\n",
       "L 45.07 33.395 \r\n",
       "\" style=\"fill:none;stroke:#000000;stroke-linecap:round;stroke-width:1.5;\"/>\r\n",
       "   </g>\r\n",
       "   <g id=\"line2d_12\">\r\n",
       "    <path clip-path=\"url(#p20d512fb6d)\" d=\"M 45.07 186.395 \r\n",
       "L 45.07 118.50125 \r\n",
       "M 45.07 101.28875 \r\n",
       "L 45.07 33.395 \r\n",
       "\" style=\"fill:none;stroke:#000000;stroke-linecap:round;stroke-width:1.5;\"/>\r\n",
       "   </g>\r\n",
       "   <g id=\"line2d_13\">\r\n",
       "    <path clip-path=\"url(#p20d512fb6d)\" d=\"M 32.92 118.50125 \r\n",
       "L 57.22 118.50125 \r\n",
       "\" style=\"fill:none;stroke:#000000;stroke-linecap:round;stroke-width:1.5;\"/>\r\n",
       "   </g>\r\n",
       "   <g id=\"line2d_14\">\r\n",
       "    <path clip-path=\"url(#p20d512fb6d)\" d=\"M 38.995 112.76375 \r\n",
       "L 51.145 112.76375 \r\n",
       "\" style=\"fill:none;stroke:#000000;stroke-linecap:round;stroke-width:1.5;\"/>\r\n",
       "   </g>\r\n",
       "   <g id=\"line2d_15\">\r\n",
       "    <path clip-path=\"url(#p20d512fb6d)\" d=\"M 32.92 107.02625 \r\n",
       "L 57.22 107.02625 \r\n",
       "\" style=\"fill:none;stroke:#000000;stroke-linecap:round;stroke-width:1.5;\"/>\r\n",
       "   </g>\r\n",
       "   <g id=\"line2d_16\">\r\n",
       "    <path clip-path=\"url(#p20d512fb6d)\" d=\"M 38.995 101.28875 \r\n",
       "L 51.145 101.28875 \r\n",
       "\" style=\"fill:none;stroke:#000000;stroke-linecap:round;stroke-width:1.5;\"/>\r\n",
       "   </g>\r\n",
       "   <g id=\"text_1\">\r\n",
       "    <!-- $R_7$ -->\r\n",
       "    <defs>\r\n",
       "     <path d=\"M 44.390625 34.1875 \r\n",
       "Q 47.5625 33.109375 50.5625 29.59375 \r\n",
       "Q 53.5625 26.078125 56.59375 19.921875 \r\n",
       "L 66.609375 0 \r\n",
       "L 56 0 \r\n",
       "L 46.6875 18.703125 \r\n",
       "Q 43.0625 26.03125 39.671875 28.421875 \r\n",
       "Q 36.28125 30.8125 30.421875 30.8125 \r\n",
       "L 19.671875 30.8125 \r\n",
       "L 19.671875 0 \r\n",
       "L 9.8125 0 \r\n",
       "L 9.8125 72.90625 \r\n",
       "L 32.078125 72.90625 \r\n",
       "Q 44.578125 72.90625 50.734375 67.671875 \r\n",
       "Q 56.890625 62.453125 56.890625 51.90625 \r\n",
       "Q 56.890625 45.015625 53.6875 40.46875 \r\n",
       "Q 50.484375 35.9375 44.390625 34.1875 \r\n",
       "z\r\n",
       "M 19.671875 64.796875 \r\n",
       "L 19.671875 38.921875 \r\n",
       "L 32.078125 38.921875 \r\n",
       "Q 39.203125 38.921875 42.84375 42.21875 \r\n",
       "Q 46.484375 45.515625 46.484375 51.90625 \r\n",
       "Q 46.484375 58.296875 42.84375 61.546875 \r\n",
       "Q 39.203125 64.796875 32.078125 64.796875 \r\n",
       "z\r\n",
       "\" id=\"DejaVuSans-52\"/>\r\n",
       "     <path d=\"M 8.203125 72.90625 \r\n",
       "L 55.078125 72.90625 \r\n",
       "L 55.078125 68.703125 \r\n",
       "L 28.609375 0 \r\n",
       "L 18.3125 0 \r\n",
       "L 43.21875 64.59375 \r\n",
       "L 8.203125 64.59375 \r\n",
       "z\r\n",
       "\" id=\"DejaVuSans-37\"/>\r\n",
       "    </defs>\r\n",
       "    <g transform=\"translate(76.13 209.2625)scale(0.16 -0.16)\">\r\n",
       "     <use transform=\"translate(0 0.09375)\" xlink:href=\"#DejaVuSans-52\"/>\r\n",
       "     <use transform=\"translate(70.439453 -16.3125)scale(0.7)\" xlink:href=\"#DejaVuSans-37\"/>\r\n",
       "    </g>\r\n",
       "   </g>\r\n",
       "   <g id=\"text_2\">\r\n",
       "    <!-- $R_6$ -->\r\n",
       "    <defs>\r\n",
       "     <path d=\"M 33.015625 40.375 \r\n",
       "Q 26.375 40.375 22.484375 35.828125 \r\n",
       "Q 18.609375 31.296875 18.609375 23.390625 \r\n",
       "Q 18.609375 15.53125 22.484375 10.953125 \r\n",
       "Q 26.375 6.390625 33.015625 6.390625 \r\n",
       "Q 39.65625 6.390625 43.53125 10.953125 \r\n",
       "Q 47.40625 15.53125 47.40625 23.390625 \r\n",
       "Q 47.40625 31.296875 43.53125 35.828125 \r\n",
       "Q 39.65625 40.375 33.015625 40.375 \r\n",
       "z\r\n",
       "M 52.59375 71.296875 \r\n",
       "L 52.59375 62.3125 \r\n",
       "Q 48.875 64.0625 45.09375 64.984375 \r\n",
       "Q 41.3125 65.921875 37.59375 65.921875 \r\n",
       "Q 27.828125 65.921875 22.671875 59.328125 \r\n",
       "Q 17.53125 52.734375 16.796875 39.40625 \r\n",
       "Q 19.671875 43.65625 24.015625 45.921875 \r\n",
       "Q 28.375 48.1875 33.59375 48.1875 \r\n",
       "Q 44.578125 48.1875 50.953125 41.515625 \r\n",
       "Q 57.328125 34.859375 57.328125 23.390625 \r\n",
       "Q 57.328125 12.15625 50.6875 5.359375 \r\n",
       "Q 44.046875 -1.421875 33.015625 -1.421875 \r\n",
       "Q 20.359375 -1.421875 13.671875 8.265625 \r\n",
       "Q 6.984375 17.96875 6.984375 36.375 \r\n",
       "Q 6.984375 53.65625 15.1875 63.9375 \r\n",
       "Q 23.390625 74.21875 37.203125 74.21875 \r\n",
       "Q 40.921875 74.21875 44.703125 73.484375 \r\n",
       "Q 48.484375 72.75 52.59375 71.296875 \r\n",
       "z\r\n",
       "\" id=\"DejaVuSans-36\"/>\r\n",
       "    </defs>\r\n",
       "    <g transform=\"translate(157.13 209.2625)scale(0.16 -0.16)\">\r\n",
       "     <use transform=\"translate(0 0.09375)\" xlink:href=\"#DejaVuSans-52\"/>\r\n",
       "     <use transform=\"translate(70.439453 -16.3125)scale(0.7)\" xlink:href=\"#DejaVuSans-36\"/>\r\n",
       "    </g>\r\n",
       "   </g>\r\n",
       "   <g id=\"text_3\">\r\n",
       "    <!-- $R_5$ -->\r\n",
       "    <defs>\r\n",
       "     <path d=\"M 10.796875 72.90625 \r\n",
       "L 49.515625 72.90625 \r\n",
       "L 49.515625 64.59375 \r\n",
       "L 19.828125 64.59375 \r\n",
       "L 19.828125 46.734375 \r\n",
       "Q 21.96875 47.46875 24.109375 47.828125 \r\n",
       "Q 26.265625 48.1875 28.421875 48.1875 \r\n",
       "Q 40.625 48.1875 47.75 41.5 \r\n",
       "Q 54.890625 34.8125 54.890625 23.390625 \r\n",
       "Q 54.890625 11.625 47.5625 5.09375 \r\n",
       "Q 40.234375 -1.421875 26.90625 -1.421875 \r\n",
       "Q 22.3125 -1.421875 17.546875 -0.640625 \r\n",
       "Q 12.796875 0.140625 7.71875 1.703125 \r\n",
       "L 7.71875 11.625 \r\n",
       "Q 12.109375 9.234375 16.796875 8.0625 \r\n",
       "Q 21.484375 6.890625 26.703125 6.890625 \r\n",
       "Q 35.15625 6.890625 40.078125 11.328125 \r\n",
       "Q 45.015625 15.765625 45.015625 23.390625 \r\n",
       "Q 45.015625 31 40.078125 35.4375 \r\n",
       "Q 35.15625 39.890625 26.703125 39.890625 \r\n",
       "Q 22.75 39.890625 18.8125 39.015625 \r\n",
       "Q 14.890625 38.140625 10.796875 36.28125 \r\n",
       "z\r\n",
       "\" id=\"DejaVuSans-35\"/>\r\n",
       "    </defs>\r\n",
       "    <g transform=\"translate(348.01 152.56)scale(0.16 -0.16)\">\r\n",
       "     <use transform=\"translate(0 0.09375)\" xlink:href=\"#DejaVuSans-52\"/>\r\n",
       "     <use transform=\"translate(70.439453 -16.3125)scale(0.7)\" xlink:href=\"#DejaVuSans-35\"/>\r\n",
       "    </g>\r\n",
       "   </g>\r\n",
       "   <g id=\"text_4\">\r\n",
       "    <!-- $R_4$ -->\r\n",
       "    <defs>\r\n",
       "     <path d=\"M 37.796875 64.3125 \r\n",
       "L 12.890625 25.390625 \r\n",
       "L 37.796875 25.390625 \r\n",
       "z\r\n",
       "M 35.203125 72.90625 \r\n",
       "L 47.609375 72.90625 \r\n",
       "L 47.609375 25.390625 \r\n",
       "L 58.015625 25.390625 \r\n",
       "L 58.015625 17.1875 \r\n",
       "L 47.609375 17.1875 \r\n",
       "L 47.609375 0 \r\n",
       "L 37.796875 0 \r\n",
       "L 37.796875 17.1875 \r\n",
       "L 4.890625 17.1875 \r\n",
       "L 4.890625 26.703125 \r\n",
       "z\r\n",
       "\" id=\"DejaVuSans-34\"/>\r\n",
       "    </defs>\r\n",
       "    <g transform=\"translate(348.01 76.06)scale(0.16 -0.16)\">\r\n",
       "     <use transform=\"translate(0 0.09375)\" xlink:href=\"#DejaVuSans-52\"/>\r\n",
       "     <use transform=\"translate(70.439453 -16.3125)scale(0.7)\" xlink:href=\"#DejaVuSans-34\"/>\r\n",
       "    </g>\r\n",
       "   </g>\r\n",
       "   <g id=\"text_5\">\r\n",
       "    <!-- $R_3$ -->\r\n",
       "    <defs>\r\n",
       "     <path d=\"M 40.578125 39.3125 \r\n",
       "Q 47.65625 37.796875 51.625 33 \r\n",
       "Q 55.609375 28.21875 55.609375 21.1875 \r\n",
       "Q 55.609375 10.40625 48.1875 4.484375 \r\n",
       "Q 40.765625 -1.421875 27.09375 -1.421875 \r\n",
       "Q 22.515625 -1.421875 17.65625 -0.515625 \r\n",
       "Q 12.796875 0.390625 7.625 2.203125 \r\n",
       "L 7.625 11.71875 \r\n",
       "Q 11.71875 9.328125 16.59375 8.109375 \r\n",
       "Q 21.484375 6.890625 26.8125 6.890625 \r\n",
       "Q 36.078125 6.890625 40.9375 10.546875 \r\n",
       "Q 45.796875 14.203125 45.796875 21.1875 \r\n",
       "Q 45.796875 27.640625 41.28125 31.265625 \r\n",
       "Q 36.765625 34.90625 28.71875 34.90625 \r\n",
       "L 20.21875 34.90625 \r\n",
       "L 20.21875 43.015625 \r\n",
       "L 29.109375 43.015625 \r\n",
       "Q 36.375 43.015625 40.234375 45.921875 \r\n",
       "Q 44.09375 48.828125 44.09375 54.296875 \r\n",
       "Q 44.09375 59.90625 40.109375 62.90625 \r\n",
       "Q 36.140625 65.921875 28.71875 65.921875 \r\n",
       "Q 24.65625 65.921875 20.015625 65.03125 \r\n",
       "Q 15.375 64.15625 9.8125 62.3125 \r\n",
       "L 9.8125 71.09375 \r\n",
       "Q 15.4375 72.65625 20.34375 73.4375 \r\n",
       "Q 25.25 74.21875 29.59375 74.21875 \r\n",
       "Q 40.828125 74.21875 47.359375 69.109375 \r\n",
       "Q 53.90625 64.015625 53.90625 55.328125 \r\n",
       "Q 53.90625 49.265625 50.4375 45.09375 \r\n",
       "Q 46.96875 40.921875 40.578125 39.3125 \r\n",
       "z\r\n",
       "\" id=\"DejaVuSans-33\"/>\r\n",
       "    </defs>\r\n",
       "    <g transform=\"translate(283.21 114.31)scale(0.16 -0.16)\">\r\n",
       "     <use transform=\"translate(0 0.09375)\" xlink:href=\"#DejaVuSans-52\"/>\r\n",
       "     <use transform=\"translate(70.439453 -16.3125)scale(0.7)\" xlink:href=\"#DejaVuSans-33\"/>\r\n",
       "    </g>\r\n",
       "   </g>\r\n",
       "   <g id=\"text_6\">\r\n",
       "    <!-- $R_2$ -->\r\n",
       "    <defs>\r\n",
       "     <path d=\"M 19.1875 8.296875 \r\n",
       "L 53.609375 8.296875 \r\n",
       "L 53.609375 0 \r\n",
       "L 7.328125 0 \r\n",
       "L 7.328125 8.296875 \r\n",
       "Q 12.9375 14.109375 22.625 23.890625 \r\n",
       "Q 32.328125 33.6875 34.8125 36.53125 \r\n",
       "Q 39.546875 41.84375 41.421875 45.53125 \r\n",
       "Q 43.3125 49.21875 43.3125 52.78125 \r\n",
       "Q 43.3125 58.59375 39.234375 62.25 \r\n",
       "Q 35.15625 65.921875 28.609375 65.921875 \r\n",
       "Q 23.96875 65.921875 18.8125 64.3125 \r\n",
       "Q 13.671875 62.703125 7.8125 59.421875 \r\n",
       "L 7.8125 69.390625 \r\n",
       "Q 13.765625 71.78125 18.9375 73 \r\n",
       "Q 24.125 74.21875 28.421875 74.21875 \r\n",
       "Q 39.75 74.21875 46.484375 68.546875 \r\n",
       "Q 53.21875 62.890625 53.21875 53.421875 \r\n",
       "Q 53.21875 48.921875 51.53125 44.890625 \r\n",
       "Q 49.859375 40.875 45.40625 35.40625 \r\n",
       "Q 44.1875 33.984375 37.640625 27.21875 \r\n",
       "Q 31.109375 20.453125 19.1875 8.296875 \r\n",
       "z\r\n",
       "\" id=\"DejaVuSans-32\"/>\r\n",
       "    </defs>\r\n",
       "    <g transform=\"translate(218.41 114.31)scale(0.16 -0.16)\">\r\n",
       "     <use transform=\"translate(0 0.09375)\" xlink:href=\"#DejaVuSans-52\"/>\r\n",
       "     <use transform=\"translate(70.439453 -16.3125)scale(0.7)\" xlink:href=\"#DejaVuSans-32\"/>\r\n",
       "    </g>\r\n",
       "   </g>\r\n",
       "   <g id=\"text_7\">\r\n",
       "    <!-- $R_1$ -->\r\n",
       "    <defs>\r\n",
       "     <path d=\"M 12.40625 8.296875 \r\n",
       "L 28.515625 8.296875 \r\n",
       "L 28.515625 63.921875 \r\n",
       "L 10.984375 60.40625 \r\n",
       "L 10.984375 69.390625 \r\n",
       "L 28.421875 72.90625 \r\n",
       "L 38.28125 72.90625 \r\n",
       "L 38.28125 8.296875 \r\n",
       "L 54.390625 8.296875 \r\n",
       "L 54.390625 0 \r\n",
       "L 12.40625 0 \r\n",
       "z\r\n",
       "\" id=\"DejaVuSans-31\"/>\r\n",
       "    </defs>\r\n",
       "    <g transform=\"translate(116.63 19.3575)scale(0.16 -0.16)\">\r\n",
       "     <use transform=\"translate(0 0.09375)\" xlink:href=\"#DejaVuSans-52\"/>\r\n",
       "     <use transform=\"translate(70.439453 -16.3125)scale(0.7)\" xlink:href=\"#DejaVuSans-31\"/>\r\n",
       "    </g>\r\n",
       "   </g>\r\n",
       "   <g id=\"text_8\">\r\n",
       "    <!-- $V_t$ -->\r\n",
       "    <defs>\r\n",
       "     <path d=\"M 28.609375 0 \r\n",
       "L 0.78125 72.90625 \r\n",
       "L 11.078125 72.90625 \r\n",
       "L 34.1875 11.53125 \r\n",
       "L 57.328125 72.90625 \r\n",
       "L 67.578125 72.90625 \r\n",
       "L 39.796875 0 \r\n",
       "z\r\n",
       "\" id=\"DejaVuSans-56\"/>\r\n",
       "     <path d=\"M 18.3125 70.21875 \r\n",
       "L 18.3125 54.6875 \r\n",
       "L 36.8125 54.6875 \r\n",
       "L 36.8125 47.703125 \r\n",
       "L 18.3125 47.703125 \r\n",
       "L 18.3125 18.015625 \r\n",
       "Q 18.3125 11.328125 20.140625 9.421875 \r\n",
       "Q 21.96875 7.515625 27.59375 7.515625 \r\n",
       "L 36.8125 7.515625 \r\n",
       "L 36.8125 0 \r\n",
       "L 27.59375 0 \r\n",
       "Q 17.1875 0 13.234375 3.875 \r\n",
       "Q 9.28125 7.765625 9.28125 18.015625 \r\n",
       "L 9.28125 47.703125 \r\n",
       "L 2.6875 47.703125 \r\n",
       "L 2.6875 54.6875 \r\n",
       "L 9.28125 54.6875 \r\n",
       "L 9.28125 70.21875 \r\n",
       "z\r\n",
       "\" id=\"DejaVuSans-74\"/>\r\n",
       "    </defs>\r\n",
       "    <g transform=\"translate(7.2 114.31)scale(0.16 -0.16)\">\r\n",
       "     <use transform=\"translate(0 0.09375)\" xlink:href=\"#DejaVuSans-56\"/>\r\n",
       "     <use transform=\"translate(69.365234 -16.3125)scale(0.7)\" xlink:href=\"#DejaVuSans-74\"/>\r\n",
       "    </g>\r\n",
       "   </g>\r\n",
       "  </g>\r\n",
       " </g>\r\n",
       " <defs>\r\n",
       "  <clipPath id=\"p20d512fb6d\">\r\n",
       "   <rect height=\"191.25\" width=\"349.515\" x=\"14.0875\" y=\"14.27\"/>\r\n",
       "  </clipPath>\r\n",
       " </defs>\r\n",
       "</svg>\r\n"
      ],
      "text/plain": [
       "<matplotlib.figure.Figure at 0x1d0f1479320>"
      ]
     },
     "metadata": {},
     "output_type": "display_data"
    }
   ],
   "source": [
    "d = schem.Drawing(unit=2.5)\n",
    "R7 = d.add(e.RES, d='right', botlabel='$R_7$')\n",
    "R6 = d.add(e.RES, d='right', botlabel='$R_6$')\n",
    "d.add(e.LINE, d='right', l=2)\n",
    "d.add(e.LINE, d='right', l=2)\n",
    "R5 = d.add(e.RES, d='up' , botlabel='$R_5$')\n",
    "R4 = d.add(e.RES, d='up', botlabel='$R_4$')\n",
    "d.add(e.LINE, d='left', l=2)\n",
    "d.push()\n",
    "R3 = d.add(e.RES, d='down', toy=R6.end, botlabel='$R_3$')\n",
    "d.pop()\n",
    "d.add(e.LINE, d='left', l=2)\n",
    "d.push()\n",
    "R2 = d.add(e.RES, d='down', toy=R6.end, botlabel='$R_2$')\n",
    "d.pop()\n",
    "R1 = d.add(e.RES, d='left', tox=R7.start, label='$R_1$')\n",
    "Vt = d.add(e.BATTERY, d='up', xy=R7.start, toy=R1.end, label='$V_t$', lblofst=0.3)\n",
    "d.labelI(Vt, arrowlen=1.5, arrowofst=0.5)\n",
    "d.draw()\n",
    "d.save('7_resistors_3_loops.pdf')\n",
    "d.save('7_resistors_3_loops.png')"
   ]
  },
  {
   "cell_type": "markdown",
   "metadata": {
    "collapsed": true
   },
   "source": [
    "Now we'll find the total resistance of the circuit R<sub>t</sub> using the individual resistances."
   ]
  },
  {
   "cell_type": "code",
   "execution_count": 32,
   "metadata": {},
   "outputs": [
    {
     "data": {
      "text/plain": [
       "(0.0271, 0.009600000000000001)"
      ]
     },
     "execution_count": 32,
     "metadata": {},
     "output_type": "execute_result"
    }
   ],
   "source": [
    "Vt = 5.2\n",
    "\n",
    "R1 = 0.0132\n",
    "R2 = 0.021\n",
    "R3 = 0.00360\n",
    "R4 = 0.0152\n",
    "R5 = 0.0119\n",
    "R6 = 0.0022\n",
    "R7 = 0.00740\n",
    "\n",
    "R45 = R4 + R5\n",
    "R67 = R6 + R7\n",
    "\n",
    "R45, R67"
   ]
  },
  {
   "cell_type": "code",
   "execution_count": 33,
   "metadata": {},
   "outputs": [
    {
     "data": {
      "text/plain": [
       "0.002760164901786436"
      ]
     },
     "execution_count": 33,
     "metadata": {},
     "output_type": "execute_result"
    }
   ],
   "source": [
    "R2345 = ((1/R2)+(1/R3)+(1/R45))**(-1)\n",
    "R2345"
   ]
  },
  {
   "cell_type": "code",
   "execution_count": 34,
   "metadata": {},
   "outputs": [
    {
     "data": {
      "text/plain": [
       "0.025560164901786437"
      ]
     },
     "execution_count": 34,
     "metadata": {},
     "output_type": "execute_result"
    }
   ],
   "source": [
    "Rt = R1 + R2345 + R67\n",
    "Rt"
   ]
  },
  {
   "cell_type": "markdown",
   "metadata": {},
   "source": [
    "Find V<sub>6</sub> and V<sub>7</sub>"
   ]
  },
  {
   "cell_type": "code",
   "execution_count": 35,
   "metadata": {},
   "outputs": [
    {
     "data": {
      "text/plain": [
       "203.4415669844354"
      ]
     },
     "execution_count": 35,
     "metadata": {},
     "output_type": "execute_result"
    }
   ],
   "source": [
    "It = Vt/Rt\n",
    "It"
   ]
  },
  {
   "cell_type": "code",
   "execution_count": 36,
   "metadata": {},
   "outputs": [
    {
     "data": {
      "text/plain": [
       "(0.44757144736575794, 1.505467595684822)"
      ]
     },
     "execution_count": 36,
     "metadata": {},
     "output_type": "execute_result"
    }
   ],
   "source": [
    "V6 = It * R6\n",
    "V7 = It * R7\n",
    "V6, V7"
   ]
  },
  {
   "cell_type": "markdown",
   "metadata": {},
   "source": [
    "Find I<sub>3</sub> and I<sub>6</sub>"
   ]
  },
  {
   "cell_type": "code",
   "execution_count": 37,
   "metadata": {},
   "outputs": [
    {
     "data": {
      "text/plain": [
       "0.5615322727548728"
      ]
     },
     "execution_count": 37,
     "metadata": {},
     "output_type": "execute_result"
    }
   ],
   "source": [
    "I2345 = It\n",
    "V2345 = I2345 * R2345\n",
    "V2345"
   ]
  },
  {
   "cell_type": "code",
   "execution_count": 39,
   "metadata": {},
   "outputs": [
    {
     "data": {
      "text/plain": [
       "(155.98118687635358, 203.4415669844354)"
      ]
     },
     "execution_count": 39,
     "metadata": {},
     "output_type": "execute_result"
    }
   ],
   "source": [
    "V3 = V2345\n",
    "I3 = V3 / R3\n",
    "\n",
    "I6 = It\n",
    "\n",
    "I3, I6"
   ]
  },
  {
   "cell_type": "markdown",
   "metadata": {},
   "source": [
    "Find P<sub>7</sub> and P<sub>4</sub>"
   ]
  },
  {
   "cell_type": "code",
   "execution_count": 40,
   "metadata": {},
   "outputs": [
    {
     "data": {
      "text/plain": [
       "306.27468671041066"
      ]
     },
     "execution_count": 40,
     "metadata": {},
     "output_type": "execute_result"
    }
   ],
   "source": [
    "P7 = R7 * It**2\n",
    "P7"
   ]
  },
  {
   "cell_type": "code",
   "execution_count": 41,
   "metadata": {},
   "outputs": [
    {
     "data": {
      "text/plain": [
       "20.720748072135528"
      ]
     },
     "execution_count": 41,
     "metadata": {},
     "output_type": "execute_result"
    }
   ],
   "source": [
    "V45 = V2345\n",
    "I45 = V45/R45\n",
    "I45"
   ]
  },
  {
   "cell_type": "code",
   "execution_count": 45,
   "metadata": {},
   "outputs": [
    {
     "data": {
      "text/plain": [
       "6.526110890167405"
      ]
     },
     "execution_count": 45,
     "metadata": {},
     "output_type": "execute_result"
    }
   ],
   "source": [
    "I4 = I45\n",
    "P4 = R4 * I4**2\n",
    "P4"
   ]
  },
  {
   "cell_type": "code",
   "execution_count": null,
   "metadata": {
    "collapsed": true
   },
   "outputs": [],
   "source": []
  }
 ],
 "metadata": {
  "kernelspec": {
   "display_name": "Python 3",
   "language": "python",
   "name": "python3"
  },
  "language_info": {
   "codemirror_mode": {
    "name": "ipython",
    "version": 3
   },
   "file_extension": ".py",
   "mimetype": "text/x-python",
   "name": "python",
   "nbconvert_exporter": "python",
   "pygments_lexer": "ipython3",
   "version": "3.6.2"
  }
 },
 "nbformat": 4,
 "nbformat_minor": 2
}
