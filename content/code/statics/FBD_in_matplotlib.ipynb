{
 "cells": [
  {
   "cell_type": "code",
   "execution_count": 3,
   "metadata": {
    "collapsed": true
   },
   "outputs": [],
   "source": [
    "import matplotlib.pyplot as plt\n",
    "from numpy import sin as sin\n",
    "from numpy import cos as cos\n",
    "from numpy import pi as pi\n",
    "% matplotlib inline"
   ]
  },
  {
   "cell_type": "code",
   "execution_count": 4,
   "metadata": {},
   "outputs": [
    {
     "data": {
      "image/png": "[encoded data removed]",
      "text/plain": [
       "<matplotlib.figure.Figure at 0x7f4c14ea0748>"
      ]
     },
     "metadata": {},
     "output_type": "display_data"
    }
   ],
   "source": [
    "ax = plt.axes()\n",
    "ax.arrow(0, 0, 0.5, 0.5, head_width=0.05, head_length=0.1, fc='k', ec='k')\n",
    "plt.show()"
   ]
  },
  {
   "cell_type": "code",
   "execution_count": 5,
   "metadata": {
    "collapsed": true
   },
   "outputs": [],
   "source": [
    "alpha = (90+45)*pi/180\n",
    "Cx = 11.4*cos(alpha)\n",
    "Cy = 11.4*sin(alpha)\n",
    "\n",
    "\n",
    "beta = (60)*pi/180\n",
    "Bx = 16.1*cos(beta)\n",
    "By = 16.1*sin(beta)\n",
    "\n",
    "Mx = 0.0\n",
    "My = -22.0"
   ]
  },
  {
   "cell_type": "code",
   "execution_count": 6,
   "metadata": {},
   "outputs": [
    {
     "data": {
      "image/png": "[encoded data removed]",
      "text/plain": [
       "<matplotlib.figure.Figure at 0x7f4c14ea56d8>"
      ]
     },
     "metadata": {},
     "output_type": "display_data"
    }
   ],
   "source": [
    "fig,ax = plt.subplots()\n",
    "ax.arrow(0, 0, Cx, Cy, head_width=1, head_length=2, fc='k', ec='k')\n",
    "ax.arrow(0, 0, Bx, By, head_width=1, head_length=2, fc='k', ec='k')\n",
    "ax.arrow(0, 0, Mx, My, head_width=1, head_length=2, fc='k', ec='k')\n",
    "ax.set_xlim(-25,20)\n",
    "ax.set_ylim(-25,20)\n",
    "ax.text(Cx-2, Cy, r'$F_C$',verticalalignment='bottom', horizontalalignment='right', fontsize=15)\n",
    "ax.text(Bx+2, By, r'$F_B$',verticalalignment='bottom', horizontalalignment='left', fontsize=15)\n",
    "ax.text(Mx+2, My, r'$M$',verticalalignment='bottom', horizontalalignment='left', fontsize=15)\n",
    "plt.show()"
   ]
  },
  {
   "cell_type": "code",
   "execution_count": null,
   "metadata": {
    "collapsed": true
   },
   "outputs": [],
   "source": []
  }
 ],
 "metadata": {
  "kernelspec": {
   "display_name": "Python 3",
   "language": "python",
   "name": "python3"
  },
  "language_info": {
   "codemirror_mode": {
    "name": "ipython",
    "version": 3
   },
   "file_extension": ".py",
   "mimetype": "text/x-python",
   "name": "python",
   "nbconvert_exporter": "python",
   "pygments_lexer": "ipython3",
   "version": "3.6.1"
  }
 },
 "nbformat": 4,
 "nbformat_minor": 2
}
