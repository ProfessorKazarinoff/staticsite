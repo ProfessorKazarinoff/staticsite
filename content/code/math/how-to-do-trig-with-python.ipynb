{
 "cells": [
  {
   "cell_type": "markdown",
   "metadata": {},
   "source": [
    "Python can be used for trigonometric calculations. In this post, you'll learn how to do trig with Python. (This post is addapted from my book Problem Solving with Python.)"
   ]
  },
  {
   "cell_type": "markdown",
   "metadata": {},
   "source": [
    "## The Python REPL\n",
    "\n",
    "Calculations can be completed at the Python Prompt, also called the Python REPL. REPL stands for _Read Evaluate Print Loop_. The Python REPL shows three arrow symbols >>> followed by a blinking cursor. Programmers type commands at the >>> prompt then hit ```[ENTER]``` to see the results.\n",
    "\n",
    "Commands typed into the Python REPL are _read_ by the interpreter, results of running the commands are _evaluated_, then _printed_ to the command window. After the output is printed, the >>> prompt appears on a new line. This process _repeats_ over and over again in a continuous loop."
   ]
  },
  {
   "cell_type": "markdown",
   "metadata": {},
   "source": [
    "## Trigonometry: sine, cosine, and tangent"
   ]
  },
  {
   "cell_type": "markdown",
   "metadata": {},
   "source": [
    "Trigonometry functions such as sine, cosine, and tangent can also be calculated using the Python REPL or typed into a Jupyter notebook.. \n",
    "\n",
    "To use Python's trig functions, we need to introduce a new concept: _importing modules_. \n",
    "\n",
    "In Python, there are many operations built into the language when the REPL or a Jupyter notebook starts. These include ```+``` , ```-```, ```*```, ```/``` like we saw in the previous post. However, not all functions will work right away when Python starts. Say we want to find the sine of an angle. Try the following:\n",
    "\n",
    "```python\n",
    ">>> sin(60)\n",
    "Traceback (most recent call last):\n",
    "  File \"<stdin>\", line 1, in <module>\n",
    "NameError: name 'sin' is not defined\n",
    "```\n",
    "\n",
    "This error results because we have not told Python to include the ```sin``` function. The ```sin``` function is part of the _Python Standard Library_. The Python Standard Library comes with every Python installation and includes many functions, but not all of these functions are available to us when we start a new Python REPL session or Jupyter notebook."
   ]
  },
  {
   "cell_type": "markdown",
   "metadata": {},
   "source": [
    "### Importing Modules"
   ]
  },
  {
   "cell_type": "markdown",
   "metadata": {},
   "source": [
    "To use Python's ```sin``` function, first import the ```sin``` function from the ```math``` _module_ which is part of the Python Standard Library. \n",
    "\n",
    "Importing modules and functions is easy. Use the following syntax: \n",
    "\n",
    "```text\n",
    "from module import function\n",
    "```\n",
    "\n",
    "To import the ```sin()``` function from the ```math``` module try:\n",
    "\n",
    "```python\n",
    ">>> from math import sin\n",
    ">>> sin(60)\n",
    "-0.3048106211022167\n",
    "```\n"
   ]
  },
  {
   "cell_type": "markdown",
   "metadata": {},
   "source": [
    "### Importing Multiple Modules"
   ]
  },
  {
   "cell_type": "markdown",
   "metadata": {},
   "source": [
    "Multiple modules can be imported at the same time. Say we want to use a bunch of different trig functions to solve the following problem.\n",
    "\n",
    "An angle has a value of $\\pi$/6 radians. What is the sine, cos, and tangent of the angle?\n",
    "\n",
    "To solve this problem we need to import the ```sin()```, ```cos()```, and ```tan()``` functions. It is also useful to have the value of $\\pi$, rather than having to write ```3.14....``` We can import all of these functions at the same time using the syntax:\n",
    "\n",
    "```text\n",
    "from module import function1, function2, function3\n",
    "```\n",
    "\n",
    "Note the commas in between the function names. \n",
    "\n",
    "Try:\n",
    "\n",
    "```python\n",
    ">>> from math import sin, cos, tan, pi\n",
    ">>> pi\n",
    "3.141592653589793\n",
    ">>> sin(pi/6)\n",
    "0.49999999999999994\n",
    ">>> cos(pi/6)\n",
    "0.8660254037844387\n",
    ">>> tan(pi/6)\n",
    "0.5773502691896257\n",
    "```"
   ]
  },
  {
   "cell_type": "markdown",
   "metadata": {},
   "source": [
    "## Summary\n",
    "\n",
    "The following trig functions are part of Python's **math** module:\n",
    "\n",
    "| Trig function | Name | Description | Example | Result |\n",
    "| --- | --- | --- | --- | --- |\n",
    "| ```math.pi``` | pi | mathematical constant $\\pi$ | ```math.pi``` | ```3.14``` |\n",
    "| ```math.sin()``` | sine | sine of an angle in radians | ```math.sin(4)``` | ```9.025``` |\n",
    "| ```math.cos()``` | cosine | cosine of an angle in radians | ```cos(3.1)``` | ```400``` |\n",
    "| ```math.tan()``` | tangent | tangent of an angle in radians | ``` tan(100)``` | ```2.0``` |\n",
    "| ```math.asin()``` | arc sine | inverse sine, ouput in radians | ``` math.sin(4)``` | ```9.025``` |\n",
    "| ```math.acos()``` | arc cosine | inverse cosine, ouput in radians | ```log(3.1)``` | ```400``` |\n",
    "| ```math.atan()``` | arc tangent | inverse tangent, ouput in radians | ```atan(100)``` | ```2.0``` |\n",
    "| ```math.radians()``` | radians conversion | degrees to radians | ```math.radians(90)``` | ```1.57 ``` |\n",
    "| ```math.degrees()``` | degree conversion | radians to degrees | ```math.degrees(2)``` | ```114.59``` |\n"
   ]
  }
 ],
 "metadata": {
  "kernelspec": {
   "display_name": "Python 3",
   "language": "python",
   "name": "python3"
  },
  "language_info": {
   "codemirror_mode": {
    "name": "ipython",
    "version": 3
   },
   "file_extension": ".py",
   "mimetype": "text/x-python",
   "name": "python",
   "nbconvert_exporter": "python",
   "pygments_lexer": "ipython3",
   "version": "3.8.5"
  }
 },
 "nbformat": 4,
 "nbformat_minor": 2
}
