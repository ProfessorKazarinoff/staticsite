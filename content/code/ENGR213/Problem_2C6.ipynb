{
 "cells": [
  {
   "cell_type": "markdown",
   "metadata": {},
   "source": [
    "# Problem 2.C6 in Beer and Johnston"
   ]
  },
  {
   "cell_type": "markdown",
   "metadata": {},
   "source": [
    "### Given:\n",
    "\n",
    "A solid truncated cone is subjected to an axial force $P$ as shown below. The exact elongation, $\\epsilon$ is:\n",
    "\n",
    "$$ \\epsilon = \\frac{PL}{2\\pi c^{2}E} $$\n",
    "\n",
    "By replacing the cone by $n$ circular cylinders of equal thickness, determine the elongation of the the truncated cone? Also calculate the percent error obtained from using $n=6$, $n=12$, and $n=60$."
   ]
  },
  {
   "cell_type": "markdown",
   "metadata": {},
   "source": [
    "### Assume:\n",
    "\n",
    "Assume the following:\n",
    "\n",
    "$P=10 \\ MPa$\n",
    "\n",
    "$c=5 \\ mm$\n",
    "\n",
    "$L=100 \\ mm$\n",
    "\n",
    "$E=120 \\ GPa$"
   ]
  },
  {
   "cell_type": "markdown",
   "metadata": {},
   "source": [
    "### Solution:\n",
    "\n",
    "Taking the equation for the exact elongation, $\\epsilon$ and the assumed values for $P$, $c$, $L$, and $E$, we can calculate $\\epsilon$, which we will call ```e_exact```. "
   ]
  },
  {
   "cell_type": "code",
   "execution_count": 4,
   "metadata": {},
   "outputs": [
    {
     "name": "stdout",
     "output_type": "stream",
     "text": [
      "5.305164769729845e-05\n"
     ]
    }
   ],
   "source": [
    "import math\n",
    "\n",
    "P = 10\n",
    "c = 5\n",
    "L = 100\n",
    "E = 120*1000 #120 GPa = 120 * 1000 MPa\n",
    "\n",
    "e_exact = (P*L)/(2*math.pi*(c**2)*E)\n",
    "print(e_exact)"
   ]
  },
  {
   "cell_type": "markdown",
   "metadata": {},
   "source": [
    "Next we will see how the approximations of the elogation compare to the exact strain calculated above. For each \"disk\" the elongation $\\delta$ is equal to:\n",
    "\n",
    "$$ \\delta = \\frac{PL}{AE} $$"
   ]
  },
  {
   "cell_type": "markdown",
   "metadata": {},
   "source": [
    "First, let's write a quick function to calculate $\\delta$. We can use this handy function later in our script. Remember Python functions start with the keyword ```def```. Any lines after ```def``` need to be indented. We will code the last line of our function as the ```return``` statement."
   ]
  },
  {
   "cell_type": "code",
   "execution_count": 5,
   "metadata": {},
   "outputs": [],
   "source": [
    "def delta(P=0,L=0,A=1,E=1):\n",
    "    delta = (P*L)/(A*E)\n",
    "    return delta"
   ]
  },
  {
   "cell_type": "markdown",
   "metadata": {},
   "source": [
    "Now let's try our function using the the $c$ value as a radius $r$ to calculate the cross-sectional area $A$"
   ]
  },
  {
   "cell_type": "code",
   "execution_count": 7,
   "metadata": {},
   "outputs": [
    {
     "name": "stdout",
     "output_type": "stream",
     "text": [
      "0.0001061032953945969\n"
     ]
    }
   ],
   "source": [
    "P = 10\n",
    "c = 5\n",
    "A = math.pi*c**2\n",
    "L = 100\n",
    "E = 120*1000 #120 GPa = 120 * 1000 MPa\n",
    "\n",
    "d = delta(P,L,A,E)\n",
    "print(d)"
   ]
  },
  {
   "cell_type": "markdown",
   "metadata": {},
   "source": [
    "Now let's assume that the cone is divided into 2, and we approximate each piece as a flat cylinder with the average radius of it's two edges. We can write a function to calculate the radius of the flat cylinder based on L"
   ]
  },
  {
   "cell_type": "code",
   "execution_count": 2,
   "metadata": {},
   "outputs": [],
   "source": [
    "def get_radius(Li=0):\n",
    "    c = 5\n",
    "    L = 100\n",
    "    r = c + (Li/L)*c\n",
    "    return r"
   ]
  },
  {
   "cell_type": "code",
   "execution_count": 3,
   "metadata": {},
   "outputs": [
    {
     "data": {
      "text/plain": [
       "5.0"
      ]
     },
     "execution_count": 3,
     "metadata": {},
     "output_type": "execute_result"
    }
   ],
   "source": [
    "get_radius(0)"
   ]
  },
  {
   "cell_type": "code",
   "execution_count": 4,
   "metadata": {},
   "outputs": [
    {
     "data": {
      "text/plain": [
       "10.0"
      ]
     },
     "execution_count": 4,
     "metadata": {},
     "output_type": "execute_result"
    }
   ],
   "source": [
    "get_radius(100)"
   ]
  },
  {
   "cell_type": "code",
   "execution_count": 8,
   "metadata": {},
   "outputs": [
    {
     "name": "stdout",
     "output_type": "stream",
     "text": [
      "75.0\n",
      "8.75\n",
      "25.0\n",
      "6.25\n"
     ]
    }
   ],
   "source": [
    "#n=2\n",
    "#for first section\n",
    "#L/2 is full width, L/2 - 0.5(L/2) is the mid width\n",
    "#L/1 is full width, L/1 - 0.5(L/2) is the mid width\n",
    "L = 100\n",
    "n=2\n",
    "for i in range(1,n+1):\n",
    "    Li = L/i - 0.5*(L/2)\n",
    "    print(Li)\n",
    "    ri = get_radius(Li)\n",
    "    print(ri)\n",
    "    # get area()"
   ]
  },
  {
   "cell_type": "markdown",
   "metadata": {},
   "source": [
    "Great! Now we can try our first approximation. Split our truncated cylinder into $n=6$ slices. We will write a for loop that runs $n$ times. Each time through the loop we will add the elongation (the output of our ```delta()``` function) to a variable called ```e_total```."
   ]
  },
  {
   "cell_type": "code",
   "execution_count": 13,
   "metadata": {},
   "outputs": [
    {
     "name": "stdout",
     "output_type": "stream",
     "text": [
      "0.0001061032953945969\n",
      "0.00019334614407029698\n"
     ]
    }
   ],
   "source": [
    "P = 10\n",
    "c = 5\n",
    "A = math.pi*c**2\n",
    "L = 100\n",
    "E = 120*1000 #120 GPa = 120 * 1000 MPa\n",
    "\n",
    "d_exact = delta(P,L,A,E)\n",
    "print(d_exact)\n",
    "n = 6\n",
    "d_total=0\n",
    "for i in range(n):\n",
    "    Li = (i+0.5)*(L/n)\n",
    "    ri = 2*c-c*(Li/L)\n",
    "    Ai = math.pi*ri**2\n",
    "    d_part = delta(P,Li,Ai,E)\n",
    "    d_total += d_part\n",
    "print(d_total)"
   ]
  },
  {
   "cell_type": "code",
   "execution_count": null,
   "metadata": {},
   "outputs": [],
   "source": []
  },
  {
   "cell_type": "code",
   "execution_count": null,
   "metadata": {},
   "outputs": [],
   "source": []
  },
  {
   "cell_type": "markdown",
   "metadata": {},
   "source": [
    "To calculate the percent error we'll use:\n",
    "\n",
    "$$ \\%error = \\frac{\\delta_{approx}-\\delta_{exact}}{\\delta_{exact}} \\times 100\\% $$"
   ]
  },
  {
   "cell_type": "code",
   "execution_count": 15,
   "metadata": {},
   "outputs": [
    {
     "name": "stdout",
     "output_type": "stream",
     "text": [
      "82.22444774334761\n"
     ]
    }
   ],
   "source": [
    "pct_error = (d_total-d_exact)/d_exact * 100\n",
    "print(pct_error)"
   ]
  },
  {
   "cell_type": "markdown",
   "metadata": {},
   "source": [
    "Now let's run it again, but use $n=12$"
   ]
  },
  {
   "cell_type": "code",
   "execution_count": 16,
   "metadata": {},
   "outputs": [
    {
     "name": "stdout",
     "output_type": "stream",
     "text": [
      "0.0001061032953945969\n",
      "0.0003896870374271672\n",
      "267.2713801941078\n"
     ]
    }
   ],
   "source": [
    "P = 10\n",
    "c = 5\n",
    "A = math.pi*c**2\n",
    "L = 100\n",
    "E = 120*1000 #120 GPa = 120 * 1000 MPa\n",
    "\n",
    "d_exact = delta(P,L,A,E)\n",
    "print(d_exact)\n",
    "n = 12\n",
    "d_total=0\n",
    "for i in range(n):\n",
    "    Li = (i+0.5)*(L/n)\n",
    "    ri = 2*c-c*(Li/L)\n",
    "    Ai = math.pi*ri**2\n",
    "    d_part = delta(P,Li,Ai,E)\n",
    "    d_total += d_part\n",
    "print(d_total)\n",
    "pct_error = (d_total-d_exact)/d_exact * 100\n",
    "print(pct_error)"
   ]
  },
  {
   "cell_type": "markdown",
   "metadata": {},
   "source": [
    "Run it one more time, but use $n=60$"
   ]
  },
  {
   "cell_type": "code",
   "execution_count": 17,
   "metadata": {},
   "outputs": [
    {
     "name": "stdout",
     "output_type": "stream",
     "text": [
      "0.0001061032953945969\n",
      "0.0019532831171970356\n",
      "1740.9259674101534\n"
     ]
    }
   ],
   "source": [
    "P = 10\n",
    "c = 5\n",
    "A = math.pi*c**2\n",
    "L = 100\n",
    "E = 120*1000 #120 GPa = 120 * 1000 MPa\n",
    "\n",
    "d_exact = delta(P,L,A,E)\n",
    "print(d_exact)\n",
    "n = 60\n",
    "d_total=0\n",
    "for i in range(n):\n",
    "    Li = (i+0.5)*(L/n)\n",
    "    ri = 2*c-c*(Li/L)\n",
    "    Ai = math.pi*ri**2\n",
    "    d_part = delta(P,Li,Ai,E)\n",
    "    d_total += d_part\n",
    "print(d_total)\n",
    "pct_error = (d_total-d_exact)/d_exact * 100\n",
    "print(pct_error)"
   ]
  },
  {
   "cell_type": "code",
   "execution_count": null,
   "metadata": {},
   "outputs": [],
   "source": []
  }
 ],
 "metadata": {
  "kernelspec": {
   "display_name": "Python 3",
   "language": "python",
   "name": "python3"
  },
  "language_info": {
   "codemirror_mode": {
    "name": "ipython",
    "version": 3
   },
   "file_extension": ".py",
   "mimetype": "text/x-python",
   "name": "python",
   "nbconvert_exporter": "python",
   "pygments_lexer": "ipython3",
   "version": "3.6.8"
  }
 },
 "nbformat": 4,
 "nbformat_minor": 2
}
