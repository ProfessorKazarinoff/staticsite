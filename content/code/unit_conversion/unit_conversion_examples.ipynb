{
 "cells": [
  {
   "cell_type": "code",
   "execution_count": 6,
   "metadata": {},
   "outputs": [],
   "source": [
    "import pint\n",
    "ureg = pint.UnitRegistry()"
   ]
  },
  {
   "cell_type": "code",
   "execution_count": 7,
   "metadata": {},
   "outputs": [],
   "source": [
    "v = 65 * ureg.mile/ureg.hr"
   ]
  },
  {
   "cell_type": "code",
   "execution_count": 8,
   "metadata": {},
   "outputs": [
    {
     "data": {
      "text/html": [
       "29.0576 meter/second"
      ],
      "text/latex": [
       "$29.0576\\ \\frac{\\mathrm{meter}}{\\mathrm{second}}$"
      ],
      "text/plain": [
       "<Quantity(29.0576, 'meter / second')>"
      ]
     },
     "execution_count": 8,
     "metadata": {},
     "output_type": "execute_result"
    }
   ],
   "source": [
    "v.ito(ureg.m/ureg.s)\n",
    "v"
   ]
  },
  {
   "cell_type": "code",
   "execution_count": 15,
   "metadata": {},
   "outputs": [
    {
     "data": {
      "text/html": [
       "0.0002588 kilopascal/hour<sup>3</sup>"
      ],
      "text/latex": [
       "$0.0002588\\ \\frac{\\mathrm{kilopascal}}{\\mathrm{hour}^{3}}$"
      ],
      "text/plain": [
       "<Quantity(0.0002588, 'kilopascal / hour ** 3')>"
      ]
     },
     "execution_count": 15,
     "metadata": {},
     "output_type": "execute_result"
    }
   ],
   "source": [
    "p = 2.588e-4*ureg.kPa/(ureg.hr**3)\n",
    "p"
   ]
  },
  {
   "cell_type": "code",
   "execution_count": 32,
   "metadata": {},
   "outputs": [
    {
     "name": "stdout",
     "output_type": "stream",
     "text": [
      "5.55e-17 bar / second ** 3\n"
     ]
    }
   ],
   "source": [
    "p.ito(ureg.bar/(ureg.s**3))\n",
    "print('{0:1.2e}'.format(p))"
   ]
  },
  {
   "cell_type": "code",
   "execution_count": 17,
   "metadata": {},
   "outputs": [
    {
     "data": {
      "text/html": [
       "450.0 newton/meter<sup>2</sup>"
      ],
      "text/latex": [
       "$450.0\\ \\frac{\\mathrm{newton}}{\\mathrm{meter}^{2}}$"
      ],
      "text/plain": [
       "<Quantity(450.0, 'newton / meter ** 2')>"
      ]
     },
     "execution_count": 17,
     "metadata": {},
     "output_type": "execute_result"
    }
   ],
   "source": [
    "ps = 450 * ureg.N/(ureg.m**2)\n",
    "ps"
   ]
  },
  {
   "cell_type": "code",
   "execution_count": 19,
   "metadata": {},
   "outputs": [
    {
     "data": {
      "text/html": [
       "0.06526698197859415 pound_force_per_square_inch"
      ],
      "text/latex": [
       "$0.06526698197859415\\ \\mathrm{pound_force_per_square_inch}$"
      ],
      "text/plain": [
       "<Quantity(0.06526698197859415, 'pound_force_per_square_inch')>"
      ]
     },
     "execution_count": 19,
     "metadata": {},
     "output_type": "execute_result"
    }
   ],
   "source": [
    "ps.ito(ureg.psi)\n",
    "ps"
   ]
  },
  {
   "cell_type": "code",
   "execution_count": 25,
   "metadata": {},
   "outputs": [
    {
     "data": {
      "text/html": [
       "22100000.0 pound/inch<sup>2</sup>"
      ],
      "text/latex": [
       "$22100000.0\\ \\frac{\\mathrm{pound}}{\\mathrm{inch}^{2}}$"
      ],
      "text/plain": [
       "<Quantity(22100000.0, 'pound / inch ** 2')>"
      ]
     },
     "execution_count": 25,
     "metadata": {},
     "output_type": "execute_result"
    }
   ],
   "source": [
    "pr = 221e5 * ureg.lb/ureg.inch**2\n",
    "pr"
   ]
  },
  {
   "cell_type": "code",
   "execution_count": 31,
   "metadata": {},
   "outputs": [
    {
     "name": "stdout",
     "output_type": "stream",
     "text": [
      "1.55e+09 gram / centimeter ** 2\n"
     ]
    }
   ],
   "source": [
    "pr.ito(ureg.g/ureg.cm**2)\n",
    "print('{0:1.2e}'.format(pr))"
   ]
  },
  {
   "cell_type": "code",
   "execution_count": null,
   "metadata": {},
   "outputs": [],
   "source": []
  }
 ],
 "metadata": {
  "kernelspec": {
   "display_name": "Python 3",
   "language": "python",
   "name": "python3"
  },
  "language_info": {
   "codemirror_mode": {
    "name": "ipython",
    "version": 3
   },
   "file_extension": ".py",
   "mimetype": "text/x-python",
   "name": "python",
   "nbconvert_exporter": "python",
   "pygments_lexer": "ipython3",
   "version": "3.6.2"
  }
 },
 "nbformat": 4,
 "nbformat_minor": 2
}
