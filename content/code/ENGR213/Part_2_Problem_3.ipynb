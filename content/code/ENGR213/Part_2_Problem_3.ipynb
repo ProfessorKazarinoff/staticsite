{
 "cells": [
  {
   "cell_type": "code",
   "execution_count": 66,
   "metadata": {},
   "outputs": [],
   "source": [
    "from math import pi\n",
    "import pint\n",
    "u = pint.UnitRegistry()"
   ]
  },
  {
   "cell_type": "code",
   "execution_count": 67,
   "metadata": {},
   "outputs": [],
   "source": [
    "L = 1800*u.mm\n",
    "Le = 0.5*L\n",
    "Le = 1800*u.mm\n",
    "b = 12*u.mm\n",
    "d = 20*u.mm"
   ]
  },
  {
   "cell_type": "code",
   "execution_count": 68,
   "metadata": {},
   "outputs": [
    {
     "data": {
      "text/html": [
       "8000.0 millimeter<sup>4</sup>"
      ],
      "text/latex": [
       "$8000.0\\ \\mathrm{millimeter}^{4}$"
      ],
      "text/plain": [
       "<Quantity(8000.0, 'millimeter ** 4')>"
      ]
     },
     "execution_count": 68,
     "metadata": {},
     "output_type": "execute_result"
    }
   ],
   "source": [
    "I = (1/12)*b*d**3\n",
    "I"
   ]
  },
  {
   "cell_type": "code",
   "execution_count": 69,
   "metadata": {},
   "outputs": [],
   "source": [
    "E = 15e6*u.psi"
   ]
  },
  {
   "cell_type": "code",
   "execution_count": 70,
   "metadata": {},
   "outputs": [
    {
     "data": {
      "text/html": [
       "103421.35939752543 megapascal"
      ],
      "text/latex": [
       "$103421.35939752543\\ \\mathrm{megapascal}$"
      ],
      "text/plain": [
       "<Quantity(103421.35939752543, 'megapascal')>"
      ]
     },
     "execution_count": 70,
     "metadata": {},
     "output_type": "execute_result"
    }
   ],
   "source": [
    "E.ito(u.MPa)\n",
    "E"
   ]
  },
  {
   "cell_type": "code",
   "execution_count": 71,
   "metadata": {},
   "outputs": [
    {
     "data": {
      "text/html": [
       "2520.3158120406447 newton"
      ],
      "text/latex": [
       "$2520.3158120406447\\ \\mathrm{newton}$"
      ],
      "text/plain": [
       "<Quantity(2520.3158120406447, 'newton')>"
      ]
     },
     "execution_count": 71,
     "metadata": {},
     "output_type": "execute_result"
    }
   ],
   "source": [
    "Pcr = ((pi**2)*E*I)/(Le**2)\n",
    "Pcr.to(u.N)"
   ]
  },
  {
   "cell_type": "code",
   "execution_count": 72,
   "metadata": {},
   "outputs": [],
   "source": [
    "Pallow=Pcr/5"
   ]
  },
  {
   "cell_type": "code",
   "execution_count": 73,
   "metadata": {},
   "outputs": [
    {
     "data": {
      "text/html": [
       "504.06316240812896 megapascal millimeter<sup>2</sup>"
      ],
      "text/latex": [
       "$504.06316240812896\\ \\mathrm{megapascal} \\cdot \\mathrm{millimeter}^{2}$"
      ],
      "text/plain": [
       "<Quantity(504.06316240812896, 'megapascal * millimeter ** 2')>"
      ]
     },
     "execution_count": 73,
     "metadata": {},
     "output_type": "execute_result"
    }
   ],
   "source": [
    "Pallow"
   ]
  },
  {
   "cell_type": "code",
   "execution_count": 75,
   "metadata": {},
   "outputs": [
    {
     "data": {
      "text/html": [
       "0.019220076880230648 inch<sup>4</sup>"
      ],
      "text/latex": [
       "$0.019220076880230648\\ \\mathrm{inch}^{4}$"
      ],
      "text/plain": [
       "<Quantity(0.019220076880230648, 'inch ** 4')>"
      ]
     },
     "execution_count": 75,
     "metadata": {},
     "output_type": "execute_result"
    }
   ],
   "source": [
    "I.to(u.inch**4)"
   ]
  },
  {
   "cell_type": "code",
   "execution_count": 76,
   "metadata": {},
   "outputs": [
    {
     "data": {
      "text/html": [
       "70.86614173228347 inch"
      ],
      "text/latex": [
       "$70.86614173228347\\ \\mathrm{inch}$"
      ],
      "text/plain": [
       "<Quantity(70.86614173228347, 'inch')>"
      ]
     },
     "execution_count": 76,
     "metadata": {},
     "output_type": "execute_result"
    }
   ],
   "source": [
    "L.to(u.inch)"
   ]
  },
  {
   "cell_type": "code",
   "execution_count": null,
   "metadata": {},
   "outputs": [],
   "source": []
  }
 ],
 "metadata": {
  "kernelspec": {
   "display_name": "Python 3",
   "language": "python",
   "name": "python3"
  },
  "language_info": {
   "codemirror_mode": {
    "name": "ipython",
    "version": 3
   },
   "file_extension": ".py",
   "mimetype": "text/x-python",
   "name": "python",
   "nbconvert_exporter": "python",
   "pygments_lexer": "ipython3",
   "version": "3.6.8"
  }
 },
 "nbformat": 4,
 "nbformat_minor": 2
}
