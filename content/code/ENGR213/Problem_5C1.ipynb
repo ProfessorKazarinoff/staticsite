{
 "cells": [
  {
   "cell_type": "markdown",
   "metadata": {},
   "source": [
    "Below is an engineering mechanics problem that can be solved with Python. Follow along to see how to solve the problem with code.\n",
    "\n",
    "## Problem\n",
    "\n",
    "### Given:\n",
    "\n",
    "A cantilever beam of total length $a$+$L$+$b$ and loads $P_1$ to $P_n$ at distances $x_1$ to $x_n$\n",
    "\n",
    "![cantilever beam](loaded_beam.png)\n",
    "\n",
    "\n",
    "### Find:\n",
    "\n",
    "The shear, bending moment and normal stress at any point along the beam"
   ]
  },
  {
   "cell_type": "markdown",
   "metadata": {},
   "source": [
    "## Solution\n",
    "\n",
    "### Start the solution: install Python\n",
    "\n",
    "We are going to use Python to code the solution to the problem. If you don't already have Python installed on your computer, I recommend installing the [Anaconda](https://www.anaconda.com/distribution/) distribution of Python. See [this post](https://pythonforundergradengineers.com/installing-anaconda-on-windows.html) to learn how to install Anaconda on your computer. \n",
    "\n",
    "I am coding this solution in a [Jupyter Notebook](https://jupyter.org/). Once you install Anaconda, you can open a Jupyter notebook from the Windows Start Menu or the Anaconda Prompt. See [this post](https://pythonforundergradengineers.com/opening-a-jupyter-notebook-on-windows.html) to learn about 3 ways to open a Jupyter notebook.\n",
    "\n",
    "Alternatively, instead of using a Jupyter notebook, you could code your solution in a ```.py``` file and use a code editor such as [Visual Studio Code](https://code.visualstudio.com/download) or [Sublime Text](https://www.sublimetext.com/3).\n",
    "\n",
    "**Alright. Let's get coding....** We will start our solution by asking the user for input."
   ]
  },
  {
   "cell_type": "markdown",
   "metadata": {},
   "source": [
    "### Ask the user for input\n",
    "\n",
    "In the first part of our program, we need to ask the user for input. The user will input the dimensions of the beam, $a$, $L$, and $b$. The user will also enter the point loads $P_1$, P_2$, ... $P_n$ and the distance between the point loads and the end of the beam $x_1$, $x_2$, ... $x_n$\n",
    "\n",
    "We will collect the user's input with Python's ```input()``` function. Note that Python's ```input()``` function outputs a string by default, so we need to convert the user's input from a string into a float (a floating point number or a decimal) before we do any further calculations. The general structure of using ```input()``` is below:\n",
    "\n",
    "```text\n",
    "<string_var> = input(\"What the user sees at the prompt\")\n",
    "```\n",
    "\n",
    "Where ```\"What the user sees at the prompt\"``` is the prompt shown to the user when the ```input()``` statement runs. This statement is what the ```input()``` function prints to the user. ```<string_var>``` is a variable to store whatever the user types.  Note that the ```input()``` function outputs a _string_ (a text variable) not a number.\n",
    "\n",
    "The ```input()``` function can be wrapped with Python's ```float()``` function. The ```float()``` function turns the user's _string_ input into a _float_ (a floating point number or decimal).\n",
    "\n",
    "Let's try a couple of ```input()``` statements wrapped by ```float()```. When we ask the user for the number of point loads, we'll wrap the ```input(\"how may points to load\")``` with Python's ```int()``` function. The number of points must be an integer, so we will convert the _string_ (the output of the ```input()``` function) to an _integer_ with the ```int()``` function."
   ]
  },
  {
   "cell_type": "code",
   "execution_count": 1,
   "metadata": {},
   "outputs": [
    {
     "name": "stdout",
     "output_type": "stream",
     "text": [
      "What is length a? 1\n",
      "What is length L? 4\n",
      "What is length b? 2\n",
      "How many point loads? 3\n"
     ]
    }
   ],
   "source": [
    "import numpy as np\n",
    "a = float(input(\"What is length a? \"))\n",
    "L = float(input(\"What is length L? \"))\n",
    "b = float(input(\"What is length b? \"))\n",
    "n = int(input(\"How many point loads? \"))"
   ]
  },
  {
   "cell_type": "markdown",
   "metadata": {},
   "source": [
    "We see four questions. After entering in a number after each question, push the [Enter] key. Now that we have the beam dimensions and number of point loads, we need to ask the user for the magnitude and distance of each point load."
   ]
  },
  {
   "cell_type": "markdown",
   "metadata": {},
   "source": [
    "### Ask the user for the point loads\n",
    "\n",
    "Next, we need to ask the user for the point loads $P_1$, $P_2$, $P_3$, ... $P_n$ and the corresponding distances $x_1$, $x_2$, $x_3$, ... $x_n$.\n",
    "\n",
    "We'll collect the point loads and distances with a _for loop_. The _for loop_ will run the same number of times as the number of point loads the user indicated. \n",
    "\n",
    "Because we are going to do some computation using the loads and distances the user enters, we will store the user's input in a _NumPy array_ that we'll call ```P```. A NumPy array is sort of like a Python list, but mathematical operations can be done on arrays, while mathematical operations on Python lists can be problematic (or require more code than if a NumPy array is used).\n",
    "\n",
    "Because we know how many loads the user will enter, we also know the size of the array that the loads and distances will be stored in. We will use one row and two columns for each set of load-distance the user inputs. We can use NumPy's ```np.zeros()``` function to create an array of a given size that contains all ```0```'s. As the user enters loads and distances, we will save these values in different rows in the array. Note that we need to pass a tuple in parenthesis to the ```np.zeros()``` function as in ```P = np.zeros((2,4))```. (There are two sets of parenthesis.)\n",
    "\n",
    "The general syntax for putting a value in a specific location in a NumPy array is below:\n",
    "\n",
    "```text\n",
    "A[row][col] = var\n",
    "```\n",
    "\n",
    "Where ```A``` is the array, and ```row``` and ```col``` correspond to the locations in the array where ```var``` will be stored. For example, the code line below will store the value ```9``` in the first row, 2nd column of array ```A```. (Remember Python counting starts at ```0```).\n",
    "\n",
    "```text\n",
    "A[0][1] = 9\n",
    "```\n",
    "\n",
    "The code below asks the user for loads and distances, saves these in the pre-created array ```P``` and then prints out the load/distance pairs back to the user."
   ]
  },
  {
   "cell_type": "code",
   "execution_count": 2,
   "metadata": {},
   "outputs": [
    {
     "name": "stdout",
     "output_type": "stream",
     "text": [
      "what is load P_1?1\n",
      "what is distance x_1?2\n",
      "what is load P_2?2\n",
      "what is distance x_2?4\n",
      "what is load P_3?5\n",
      "what is distance x_3?4.5\n",
      "The loads and distances you entered are:\n",
      "[[1.  2. ]\n",
      " [2.  4. ]\n",
      " [5.  4.5]]\n"
     ]
    }
   ],
   "source": [
    "P = np.zeros((n,2))\n",
    "for i in range(n):\n",
    "    p = float(input(f\"what is load P_{i+1}?\"))\n",
    "    x = float(input(f\"what is distance x_{i+1}?\"))\n",
    "    P[i][0]=p\n",
    "    P[i][1]=x\n",
    "print(\"The loads and distances you entered are:\")\n",
    "print(P)"
   ]
  },
  {
   "cell_type": "markdown",
   "metadata": {},
   "source": [
    "We were asked for three pairs of loads and distances. We can see the loads and distances we entered as rows in the array that is printed out. The next step in solving this mechanics problem is to solve for the reaction forces at point $A$ and point $B$."
   ]
  },
  {
   "cell_type": "markdown",
   "metadata": {},
   "source": [
    "## Solve for the reaction forces Ra and Rb\n",
    "\n",
    "Now that we have all of the distances and all of the applied loads saved into variables, we need to solve for the reaction forces at the supports $A$ and $B$.\n",
    "\n",
    "### Find reaction force Rb\n",
    "\n",
    "To find $R_B$, the reaction force at $B$, we will sum the moments about point $A$. Since we are summing the moments about point $A$, the reaction force $R_A$ produces zero moment. Each of the point load moments are are at a distance relative to point $A$ equal to $x-a$ where $a$ is the distance between the end of the beam and the support at point $A$. The equation for the sum of the moments about point $A$ is below.\n",
    "\n",
    "$$ \\sum{M_A} = 0 $$\n",
    "\n",
    "$$ \\sum{M_A} = M_1 + M_2 + M_3 + ... + M_n + M_B = 0 $$\n",
    "\n",
    "Each individual moment $M_1$, $M_2$, $M_3$ to $M_n$ are due to the point loads $P_1$, $P_2$, $P_3$, $P_n$. Each one of these point loads is at a distance $r = (x - a)$ from point $A$. The equations below show how each moment in the series is calculated.\n",
    "\n",
    "$$ M_1 = P_1r_1 \\ where \\ r_1 = x_1 - a$$\n",
    "\n",
    "$$ M_1 = P_1(x_1 - a) $$\n",
    "\n",
    "$$ M_n = P_n(x_n - a) $$\n",
    "\n",
    "Substituting the loads and distances into the sum of moments equation yields the following. Note that we don't know the load at $B$ yet (that's what we are solving for), so that term stays as $M_B$:\n",
    "\n",
    "$$ \\sum{M_A} = P_1(x_1-a) + P_2(x_2-a) + P_3(x_3-a) + ... + P_n(x_n-a) + M_B = 0 $$\n",
    "\n",
    "Solving for $M_B$ produces:\n",
    "\n",
    "$$ M_B = - P_1(x_1-a) - P_2(x_2-a) - P_3(x_3-a) - ... - P_n(x_n-a) $$\n",
    "\n",
    "We can code this into Python using a _for loop_ and array indexing. The point load $P$ is the first column of the array, the distance $x$ is in the second column of the array. Remember that Python counting starts at ```0```, so the first column is column ```0```. \n",
    "\n",
    "Reaction force $R_B$ is at a distance $L$ relative to point $A$. Since $M_B = P_br_b$ and $r_b = L$, We can solve for reaction force R_B using:\n",
    "\n",
    "$$ M_B = P_Br_B $$\n",
    "\n",
    "$$ M_B = P_BL $$\n",
    "\n",
    "$$ P_B = \\frac{M_B}{L} $$\n",
    "\n",
    "The code below creates a variable ```Mb``` (the moment due to the reaction force at $B$), then iterates through the point load/distance pairs and calculates the moment due to each pair and assigns it to a variable ```Mi```. In the last line of the _for loop_, ```Mi``` is added to ```Mb```. The ```+=``` operator does _in place_ addition, meaning ```+=``` just adds onto whatever number is already stored in ```Mb```. At the end of the code block, the moment and reaction force are printed to the user using a Python _f-string_."
   ]
  },
  {
   "cell_type": "code",
   "execution_count": 3,
   "metadata": {},
   "outputs": [
    {
     "name": "stdout",
     "output_type": "stream",
     "text": [
      "The momement at due to reaction force at B, M_B = 24.5\n",
      "The reaction force at B, R_b = 6.125\n"
     ]
    }
   ],
   "source": [
    "Mb = 0\n",
    "for i in range(n):\n",
    "    pi = P[i][0]\n",
    "    ri = P[i][1]-a\n",
    "    Mi = pi*ri\n",
    "    Mb += Mi\n",
    "print(f\"The momement at due to reaction force at B, M_B = {Mb}\")\n",
    "Rb = Mb/L\n",
    "print(f\"The reaction force at B, R_b = {Rb}\")"
   ]
  },
  {
   "cell_type": "markdown",
   "metadata": {},
   "source": [
    "We see the moment and reaction force at point $B$ is calculated. Next we will calculate the reaction force at point $A$."
   ]
  },
  {
   "cell_type": "markdown",
   "metadata": {},
   "source": [
    "### Find reaction force Ra\n",
    "\n",
    "To find $R_A$, the reaction force at $A$, we will sum the forces in the $y$-direction. All of the point loads $P_1$, $P_2$, P_n$ point down, so they count as negative force, the reaction forces $R_A$ and $R_B$ point up, so they count as positive force.\n",
    "\n",
    "$$ \\sum{F_y} = 0 $$\n",
    "\n",
    "$$ \\sum{M_y} = - P_1 - P_2 - P_3 - ... - P_n + R_A + R_B = 0 $$\n",
    "\n",
    "$$ R_A = P_1 + P_2 + P_3 + ... + P_n - R_B $$\n",
    "\n",
    "We can code this into Python using another _for loop_."
   ]
  },
  {
   "cell_type": "code",
   "execution_count": 4,
   "metadata": {},
   "outputs": [
    {
     "name": "stdout",
     "output_type": "stream",
     "text": [
      "The sum of the applied point loads is P_n = 8.0\n",
      "The reaction force at A, R_a = 1.875\n"
     ]
    }
   ],
   "source": [
    "Pn = 0\n",
    "for i in range(n):\n",
    "    pi = P[i][0]\n",
    "    Pn += pi\n",
    "print(f\"The sum of the applied point loads is P_n = {Pn}\")\n",
    "Ra = Pn - Rb\n",
    "print(f\"The reaction force at A, R_a = {Ra}\")"
   ]
  },
  {
   "cell_type": "markdown",
   "metadata": {},
   "source": [
    "The sum of the point loads is displayed as well as the reaction force at $A$. Note how the reaction force at $A$ and the reaction force at $B$ sum to total of the applied point loads.\n",
    "\n",
    "Now that all of the forces on the beam are known, we can work on the next part of the problem which is calculating the shear along the beam."
   ]
  },
  {
   "cell_type": "markdown",
   "metadata": {},
   "source": [
    "## Calculate the shear along the beam\n",
    "\n",
    "Next we will calculate the shear along the beam. Since all of the loads and support reaction are point loads, the shear along the beam is composed of constant shear segments in between the point loads. We need to calculate the shear in between each applied load or reaction force.\n",
    "\n",
    "We will start this process by creating an array that holds the applied point loads and distances as well as the reaction forces and their distance from the end of the beam. We will set all the applied point loads as negative because they point down and all the reaction forces as positive because they point up."
   ]
  },
  {
   "cell_type": "code",
   "execution_count": 11,
   "metadata": {},
   "outputs": [
    {
     "data": {
      "text/plain": [
       "array([[-1.   ,  2.   ],\n",
       "       [-2.   ,  4.   ],\n",
       "       [-5.   ,  4.5  ],\n",
       "       [ 1.875,  1.   ],\n",
       "       [ 6.125,  5.   ]])"
      ]
     },
     "execution_count": 11,
     "metadata": {},
     "output_type": "execute_result"
    }
   ],
   "source": [
    "P = np.array([[1.,  2. ],\n",
    " [2. , 4. ],\n",
    " [5.,  4.5]])\n",
    "P[:,0] *= -1      # multiply [all rows, first column] by -1 in place\n",
    "P = np.append(P,[[Ra,a],[Rb,a+L]], axis=0)\n",
    "P\n"
   ]
  },
  {
   "cell_type": "code",
   "execution_count": 12,
   "metadata": {},
   "outputs": [
    {
     "data": {
      "text/plain": [
       "array([[(-1.   , 2. )],\n",
       "       [(-2.   , 4. )],\n",
       "       [(-5.   , 4.5)],\n",
       "       [( 1.875, 1. )],\n",
       "       [( 6.125, 5. )]], dtype=[('load', '<f8'), ('distance', '<f8')])"
      ]
     },
     "execution_count": 12,
     "metadata": {},
     "output_type": "execute_result"
    }
   ],
   "source": [
    "dtype = [('load', float), ('distance', float)]\n",
    "P.dtype=dtype\n",
    "P"
   ]
  },
  {
   "cell_type": "code",
   "execution_count": 13,
   "metadata": {},
   "outputs": [
    {
     "data": {
      "text/plain": [
       "array([[(-1.   , 2. )],\n",
       "       [(-2.   , 4. )],\n",
       "       [(-5.   , 4.5)],\n",
       "       [( 1.875, 1. )],\n",
       "       [( 6.125, 5. )]], dtype=[('load', '<f8'), ('distance', '<f8')])"
      ]
     },
     "execution_count": 13,
     "metadata": {},
     "output_type": "execute_result"
    }
   ],
   "source": [
    "np.sort(P, order='distance')"
   ]
  },
  {
   "cell_type": "code",
   "execution_count": 20,
   "metadata": {},
   "outputs": [
    {
     "data": {
      "text/plain": [
       "array([[(-1.   , 2. )],\n",
       "       [(-2.   , 4. )],\n",
       "       [(-5.   , 4.5)],\n",
       "       [( 1.875, 1. )],\n",
       "       [( 6.125, 5. )]], dtype=[('load', '<f8'), ('distance', '<f8')])"
      ]
     },
     "execution_count": 20,
     "metadata": {},
     "output_type": "execute_result"
    }
   ],
   "source": [
    "np.flip(P,1)"
   ]
  },
  {
   "cell_type": "code",
   "execution_count": 21,
   "metadata": {},
   "outputs": [
    {
     "ename": "IndexError",
     "evalue": "index 1 is out of bounds for axis 1 with size 1",
     "output_type": "error",
     "traceback": [
      "\u001b[1;31m------------------------------------------------------------------------\u001b[0m",
      "\u001b[1;31mIndexError\u001b[0m                             Traceback (most recent call last)",
      "\u001b[1;32m<ipython-input-21-662ded2c2cdb>\u001b[0m in \u001b[0;36m<module>\u001b[1;34m\u001b[0m\n\u001b[0;32m      1\u001b[0m \u001b[0mcol0\u001b[0m \u001b[1;33m=\u001b[0m \u001b[0mP\u001b[0m\u001b[1;33m[\u001b[0m\u001b[1;33m:\u001b[0m\u001b[1;33m,\u001b[0m\u001b[1;36m0\u001b[0m\u001b[1;33m]\u001b[0m\u001b[1;33m\u001b[0m\u001b[1;33m\u001b[0m\u001b[0m\n\u001b[1;32m----> 2\u001b[1;33m \u001b[0mcol1\u001b[0m \u001b[1;33m=\u001b[0m \u001b[0mP\u001b[0m\u001b[1;33m[\u001b[0m\u001b[1;33m:\u001b[0m\u001b[1;33m,\u001b[0m\u001b[1;36m1\u001b[0m\u001b[1;33m]\u001b[0m\u001b[1;33m\u001b[0m\u001b[1;33m\u001b[0m\u001b[0m\n\u001b[0m\u001b[0;32m      3\u001b[0m \u001b[0mnewP\u001b[0m \u001b[1;33m=\u001b[0m \u001b[0mnp\u001b[0m\u001b[1;33m.\u001b[0m\u001b[0marray\u001b[0m\u001b[1;33m(\u001b[0m\u001b[1;33m[\u001b[0m\u001b[0mcol0\u001b[0m\u001b[1;33m]\u001b[0m\u001b[1;33m,\u001b[0m\u001b[1;33m[\u001b[0m\u001b[0mcol1\u001b[0m\u001b[1;33m]\u001b[0m\u001b[1;33m)\u001b[0m\u001b[1;33m\u001b[0m\u001b[1;33m\u001b[0m\u001b[0m\n\u001b[0;32m      4\u001b[0m \u001b[0mnewP\u001b[0m\u001b[1;33m\u001b[0m\u001b[1;33m\u001b[0m\u001b[0m\n",
      "\u001b[1;31mIndexError\u001b[0m: index 1 is out of bounds for axis 1 with size 1"
     ]
    }
   ],
   "source": [
    "col0 = P[:,0]\n",
    "col1 = P[:,1]\n",
    "newP = np.array([col0],[col1])\n",
    "newP"
   ]
  },
  {
   "cell_type": "code",
   "execution_count": null,
   "metadata": {},
   "outputs": [],
   "source": []
  }
 ],
 "metadata": {
  "kernelspec": {
   "display_name": "Python 3",
   "language": "python",
   "name": "python3"
  },
  "language_info": {
   "codemirror_mode": {
    "name": "ipython",
    "version": 3
   },
   "file_extension": ".py",
   "mimetype": "text/x-python",
   "name": "python",
   "nbconvert_exporter": "python",
   "pygments_lexer": "ipython3",
   "version": "3.7.3"
  }
 },
 "nbformat": 4,
 "nbformat_minor": 2
}
