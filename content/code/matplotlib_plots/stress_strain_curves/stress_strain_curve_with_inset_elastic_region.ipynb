{
 "cells": [
  {
   "cell_type": "markdown",
   "metadata": {},
   "source": [
    "This post is the second post in a series of posts on how to plot stress strain curves with Python and Matplotlib. In the [previous post in the series]({filename}/posts/matplotlib/stress_strain_curve_with_python_and_matplotlib.md) we built a stress strain curve from the data in two .xls data files. The plot built in the previous post included two lines, axes labels, a title and legend. The data in the plot came from two .xls excel files and was from a tensile test of two metal samples.\n",
    "\n",
    "The code below builds the plot in the previous post."
   ]
  },
  {
   "cell_type": "code",
   "execution_count": 1,
   "metadata": {},
   "outputs": [
    {
     "name": "stdout",
     "output_type": "stream",
     "text": [
      "WARNING *** OLE2 inconsistency: SSCS size is 0 but SSAT size is non-zero\n",
      "WARNING *** OLE2 inconsistency: SSCS size is 0 but SSAT size is non-zero\n"
     ]
    },
    {
     "data": {
      "image/png": "[encoded data removed]",
      "text/plain": [
       "<Figure size 432x288 with 1 Axes>"
      ]
     },
     "metadata": {
      "needs_background": "light"
     },
     "output_type": "display_data"
    }
   ],
   "source": [
    "import numpy as np\n",
    "import pandas as pd\n",
    "import matplotlib.pyplot as plt\n",
    "%matplotlib inline\n",
    "\n",
    "steel_df = pd.read_excel(\"aluminum6061.xls\")\n",
    "al_df = pd.read_excel(\"steel1045.xls\")\n",
    "\n",
    "strain_al = al_df['CH5']*0.01\n",
    "d_al = 0.506\n",
    "stress_al = (al_df['FORCE']*0.001)/(np.pi*((d_al/2)**2))\n",
    "strain_steel = steel_df['CH5']*0.01\n",
    "d_steel = 0.506\n",
    "stress_steel = (steel_df['FORCE']*0.001)/(np.pi*((d_steel/2)**2))\n",
    "\n",
    "plt.plot(strain_al,stress_al,strain_steel,stress_steel)\n",
    "plt.xlabel('strain (in/in)')\n",
    "plt.ylabel('stress (ksi)')\n",
    "plt.title('Stress Strain Curve of Aluminum 6061 and Steel 1045 in tension')\n",
    "plt.legend(['Aluminum 6061','Steel 1045'])\n",
    "plt.show()"
   ]
  },
  {
   "cell_type": "markdown",
   "metadata": {},
   "source": [
    "In this post, we are going to add an inset curve to the plot that shows the linear elastic region. An inset curve is a small plot that is placed within a plot that shows a zoomed-in view of the larger plot. On a stress-strain cuve, an inset curve is used to zoom-in on the linear elastic region on the plot. \n",
    "\n",
    "To build our inset curve, we will use Python and Matplotlib's object-oriented interface. The plot above, from the previous post, was constructed using the pyplot interface. For a simple plot, the pyplot interface above is sufficient. \n",
    "\n",
    "But our plot with an inset curve is more complicated than the plot above. Matplotlib's object-oriented interface allows us to access individual components of the plot, like axes, and set specific attributes on these components. This added versitility means we can include an inset curve within another plot.\n",
    "\n",
    "To build the plot with an inset curve, first we need to import a couple modules: NumPy, Pandas, and Matplotlib. These three modules have common import aliases ```np```, ```pd```, and ```plt```. The line ```%matplotlib inline``` is a Jupyter notebook magic command that will show plots directly in a Jupyter notebook. If you are coding your inset curve in a .py file, leave ```%matplotlib inline``` out, as it is not valid Python code."
   ]
  },
  {
   "cell_type": "code",
   "execution_count": 2,
   "metadata": {},
   "outputs": [],
   "source": [
    "import numpy as np\n",
    "import pandas as pd\n",
    "import matplotlib.pyplot as plt\n",
    "%matplotlib inline"
   ]
  },
  {
   "cell_type": "markdown",
   "metadata": {},
   "source": [
    "Next we need to bring in the data from two external files into variables in our script. The two external files that contain the data we are going to plot are linked below:\n",
    "\n",
    "[aluminum6061.xls](https://github.com/ProfessorKazarinoff/staticsite/raw/master/content/code/matplotlib_plots/stress_strain_curves/aluminum6061.xls)\n",
    "\n",
    "[steel1045.xls](https://github.com/ProfessorKazarinoff/staticsite/raw/master/content/code/matplotlib_plots/stress_strain_curves/steel1045.xls)\n",
    "\n",
    "If you are following along and building an inset curve yourself, make sure to download the .xls data files and place these data files in the same directory as you Jupyter notebook or Python script.\n",
    "\n",
    "A conveniant Jupyter notebook magic command, ```%ls```, lists the contents of the current directory (the directory where the notebook is saved). Make sure you can see the two .xls data files in this directory."
   ]
  },
  {
   "cell_type": "code",
   "execution_count": 3,
   "metadata": {},
   "outputs": [
    {
     "name": "stdout",
     "output_type": "stream",
     "text": [
      "aluminum6061.xls         stress_strain_curve_with_inset_elastic_region.ipynb\r\n",
      "\u001b[0m\u001b[01;34mimages\u001b[0m/                  \u001b[01;35mstress_strain_curve_with_inset.png\u001b[0m\r\n",
      "steel1045.xls            stress_strain_curve_with_python.ipynb\r\n",
      "\u001b[01;35mstress-strain_curve.png\u001b[0m\r\n"
     ]
    }
   ],
   "source": [
    "%ls"
   ]
  },
  {
   "cell_type": "markdown",
   "metadata": {},
   "source": [
    "We can see the two data files ```aluminum6061.xls``` and ```steel1045.xls``` in the same folder as our Jupyter notebook ```stress_strain_curve_with_inset_elastic_region.ipynb```\n",
    "\n",
    "Next, we will read in the two .xls data files using Pandas ```pd.read_excel()``` function. The result is two Pandas dataframes ```steel_df``` and ```al_df```. "
   ]
  },
  {
   "cell_type": "code",
   "execution_count": 4,
   "metadata": {},
   "outputs": [
    {
     "name": "stdout",
     "output_type": "stream",
     "text": [
      "WARNING *** OLE2 inconsistency: SSCS size is 0 but SSAT size is non-zero\n",
      "WARNING *** OLE2 inconsistency: SSCS size is 0 but SSAT size is non-zero\n"
     ]
    }
   ],
   "source": [
    "steel_df = pd.read_excel(\"aluminum6061.xls\")\n",
    "al_df = pd.read_excel(\"steel1045.xls\")"
   ]
  },
  {
   "cell_type": "markdown",
   "metadata": {},
   "source": [
    "We can use Pandas ```df.head()``` method to view the first five rows of each dataframe."
   ]
  },
  {
   "cell_type": "code",
   "execution_count": 5,
   "metadata": {},
   "outputs": [
    {
     "data": {
      "text/html": [
       "<div>\n",
       "<style scoped>\n",
       "    .dataframe tbody tr th:only-of-type {\n",
       "        vertical-align: middle;\n",
       "    }\n",
       "\n",
       "    .dataframe tbody tr th {\n",
       "        vertical-align: top;\n",
       "    }\n",
       "\n",
       "    .dataframe thead th {\n",
       "        text-align: right;\n",
       "    }\n",
       "</style>\n",
       "<table border=\"1\" class=\"dataframe\">\n",
       "  <thead>\n",
       "    <tr style=\"text-align: right;\">\n",
       "      <th></th>\n",
       "      <th>TESTNUM</th>\n",
       "      <th>POINTNUM</th>\n",
       "      <th>TIME</th>\n",
       "      <th>POSIT</th>\n",
       "      <th>FORCE</th>\n",
       "      <th>EXT</th>\n",
       "      <th>CH5</th>\n",
       "      <th>CH6</th>\n",
       "      <th>CH7</th>\n",
       "      <th>CH8</th>\n",
       "    </tr>\n",
       "  </thead>\n",
       "  <tbody>\n",
       "    <tr>\n",
       "      <th>0</th>\n",
       "      <td>761</td>\n",
       "      <td>1</td>\n",
       "      <td>6.532</td>\n",
       "      <td>0.01524</td>\n",
       "      <td>201.158508</td>\n",
       "      <td>0.018893</td>\n",
       "      <td>-0.023081</td>\n",
       "      <td>NaN</td>\n",
       "      <td>NaN</td>\n",
       "      <td>NaN</td>\n",
       "    </tr>\n",
       "    <tr>\n",
       "      <th>1</th>\n",
       "      <td>761</td>\n",
       "      <td>2</td>\n",
       "      <td>6.702</td>\n",
       "      <td>0.01600</td>\n",
       "      <td>205.978119</td>\n",
       "      <td>0.000265</td>\n",
       "      <td>-0.013024</td>\n",
       "      <td>NaN</td>\n",
       "      <td>NaN</td>\n",
       "      <td>NaN</td>\n",
       "    </tr>\n",
       "    <tr>\n",
       "      <th>2</th>\n",
       "      <td>761</td>\n",
       "      <td>3</td>\n",
       "      <td>7.098</td>\n",
       "      <td>0.01720</td>\n",
       "      <td>219.295441</td>\n",
       "      <td>-0.000877</td>\n",
       "      <td>-0.024879</td>\n",
       "      <td>NaN</td>\n",
       "      <td>NaN</td>\n",
       "      <td>NaN</td>\n",
       "    </tr>\n",
       "    <tr>\n",
       "      <th>3</th>\n",
       "      <td>761</td>\n",
       "      <td>4</td>\n",
       "      <td>8.697</td>\n",
       "      <td>0.02350</td>\n",
       "      <td>268.505890</td>\n",
       "      <td>0.001453</td>\n",
       "      <td>-0.006798</td>\n",
       "      <td>NaN</td>\n",
       "      <td>NaN</td>\n",
       "      <td>NaN</td>\n",
       "    </tr>\n",
       "    <tr>\n",
       "      <th>4</th>\n",
       "      <td>761</td>\n",
       "      <td>5</td>\n",
       "      <td>10.196</td>\n",
       "      <td>0.03004</td>\n",
       "      <td>322.028168</td>\n",
       "      <td>0.001865</td>\n",
       "      <td>0.012563</td>\n",
       "      <td>NaN</td>\n",
       "      <td>NaN</td>\n",
       "      <td>NaN</td>\n",
       "    </tr>\n",
       "  </tbody>\n",
       "</table>\n",
       "</div>"
      ],
      "text/plain": [
       "   TESTNUM  POINTNUM    TIME    POSIT       FORCE       EXT       CH5  CH6  \\\n",
       "0      761         1   6.532  0.01524  201.158508  0.018893 -0.023081  NaN   \n",
       "1      761         2   6.702  0.01600  205.978119  0.000265 -0.013024  NaN   \n",
       "2      761         3   7.098  0.01720  219.295441 -0.000877 -0.024879  NaN   \n",
       "3      761         4   8.697  0.02350  268.505890  0.001453 -0.006798  NaN   \n",
       "4      761         5  10.196  0.03004  322.028168  0.001865  0.012563  NaN   \n",
       "\n",
       "   CH7  CH8  \n",
       "0  NaN  NaN  \n",
       "1  NaN  NaN  \n",
       "2  NaN  NaN  \n",
       "3  NaN  NaN  \n",
       "4  NaN  NaN  "
      ]
     },
     "execution_count": 5,
     "metadata": {},
     "output_type": "execute_result"
    }
   ],
   "source": [
    "steel_df.head()"
   ]
  },
  {
   "cell_type": "code",
   "execution_count": 6,
   "metadata": {},
   "outputs": [
    {
     "data": {
      "text/html": [
       "<div>\n",
       "<style scoped>\n",
       "    .dataframe tbody tr th:only-of-type {\n",
       "        vertical-align: middle;\n",
       "    }\n",
       "\n",
       "    .dataframe tbody tr th {\n",
       "        vertical-align: top;\n",
       "    }\n",
       "\n",
       "    .dataframe thead th {\n",
       "        text-align: right;\n",
       "    }\n",
       "</style>\n",
       "<table border=\"1\" class=\"dataframe\">\n",
       "  <thead>\n",
       "    <tr style=\"text-align: right;\">\n",
       "      <th></th>\n",
       "      <th>TESTNUM</th>\n",
       "      <th>POINTNUM</th>\n",
       "      <th>TIME</th>\n",
       "      <th>POSIT</th>\n",
       "      <th>FORCE</th>\n",
       "      <th>EXT</th>\n",
       "      <th>CH5</th>\n",
       "      <th>CH6</th>\n",
       "      <th>CH7</th>\n",
       "      <th>CH8</th>\n",
       "    </tr>\n",
       "  </thead>\n",
       "  <tbody>\n",
       "    <tr>\n",
       "      <th>0</th>\n",
       "      <td>762</td>\n",
       "      <td>1</td>\n",
       "      <td>5.969</td>\n",
       "      <td>0.01284</td>\n",
       "      <td>201.030792</td>\n",
       "      <td>0.001572</td>\n",
       "      <td>-0.007133</td>\n",
       "      <td>NaN</td>\n",
       "      <td>NaN</td>\n",
       "      <td>NaN</td>\n",
       "    </tr>\n",
       "    <tr>\n",
       "      <th>1</th>\n",
       "      <td>762</td>\n",
       "      <td>2</td>\n",
       "      <td>6.242</td>\n",
       "      <td>0.01392</td>\n",
       "      <td>215.235886</td>\n",
       "      <td>0.000009</td>\n",
       "      <td>-0.014581</td>\n",
       "      <td>NaN</td>\n",
       "      <td>NaN</td>\n",
       "      <td>NaN</td>\n",
       "    </tr>\n",
       "    <tr>\n",
       "      <th>2</th>\n",
       "      <td>762</td>\n",
       "      <td>3</td>\n",
       "      <td>6.936</td>\n",
       "      <td>0.01646</td>\n",
       "      <td>246.816742</td>\n",
       "      <td>-0.000832</td>\n",
       "      <td>0.006942</td>\n",
       "      <td>NaN</td>\n",
       "      <td>NaN</td>\n",
       "      <td>NaN</td>\n",
       "    </tr>\n",
       "    <tr>\n",
       "      <th>3</th>\n",
       "      <td>762</td>\n",
       "      <td>4</td>\n",
       "      <td>8.632</td>\n",
       "      <td>0.02340</td>\n",
       "      <td>371.870361</td>\n",
       "      <td>0.002203</td>\n",
       "      <td>0.000776</td>\n",
       "      <td>NaN</td>\n",
       "      <td>NaN</td>\n",
       "      <td>NaN</td>\n",
       "    </tr>\n",
       "    <tr>\n",
       "      <th>4</th>\n",
       "      <td>762</td>\n",
       "      <td>5</td>\n",
       "      <td>10.533</td>\n",
       "      <td>0.03110</td>\n",
       "      <td>502.501862</td>\n",
       "      <td>0.001481</td>\n",
       "      <td>0.018102</td>\n",
       "      <td>NaN</td>\n",
       "      <td>NaN</td>\n",
       "      <td>NaN</td>\n",
       "    </tr>\n",
       "  </tbody>\n",
       "</table>\n",
       "</div>"
      ],
      "text/plain": [
       "   TESTNUM  POINTNUM    TIME    POSIT       FORCE       EXT       CH5  CH6  \\\n",
       "0      762         1   5.969  0.01284  201.030792  0.001572 -0.007133  NaN   \n",
       "1      762         2   6.242  0.01392  215.235886  0.000009 -0.014581  NaN   \n",
       "2      762         3   6.936  0.01646  246.816742 -0.000832  0.006942  NaN   \n",
       "3      762         4   8.632  0.02340  371.870361  0.002203  0.000776  NaN   \n",
       "4      762         5  10.533  0.03110  502.501862  0.001481  0.018102  NaN   \n",
       "\n",
       "   CH7  CH8  \n",
       "0  NaN  NaN  \n",
       "1  NaN  NaN  \n",
       "2  NaN  NaN  \n",
       "3  NaN  NaN  \n",
       "4  NaN  NaN  "
      ]
     },
     "execution_count": 6,
     "metadata": {},
     "output_type": "execute_result"
    }
   ],
   "source": [
    "al_df.head()"
   ]
  },
  {
   "cell_type": "markdown",
   "metadata": {},
   "source": [
    "We see a couple of columns in each dataframe. The columns we are interest in are below:\n",
    "    \n",
    " * **FORCE** Force measurements from the load cell in pounds (lb)\n",
    " * **EXT** Extension measurements from the mechanical extensometer in percent (%), strain in percent\n",
    " * **CH5** Extension readings from the laser extensometer in percent (%), strain in percent\n",
    "\n",
    "We will use these columns from the dataframes in the following ways\n",
    "\n",
    " * **FORCE** will be converted to stress using the cross-sectional area of our test samples\n",
    " \n",
    " $$ \\sigma = \\frac{F}{A_0} $$\n",
    " \n",
    " * **EXT** (mechanical exstensometer readings) will be converted into strain on our inset cuve\n",
    " \n",
    " $$ \\epsilon_{unitless} = \\epsilon_{\\%} \\times 0.01 $$\n",
    " \n",
    " * **CH5** (laser extensometer readings) will be converted into strain on the overall, large stress strain curve\n",
    " \n",
    " $$ \\epsilon_{unitless} = \\epsilon_{\\%} \\times 0.01 $$"
   ]
  },
  {
   "cell_type": "code",
   "execution_count": 7,
   "metadata": {},
   "outputs": [],
   "source": [
    "strain_al_plastic = al_df['CH5']*0.01\n",
    "strain_al_elastic = al_df['EXT']*0.01\n",
    "d_al = 0.506\n",
    "stress_al = (al_df['FORCE']*0.001)/(np.pi*((d_al/2)**2))\n",
    "\n",
    "strain_steel_plastic = steel_df['CH5']*0.01\n",
    "strain_steel_elastic = steel_df['EXT']*0.01\n",
    "d_steel = 0.506\n",
    "stress_steel = (steel_df['FORCE']*0.001)/(np.pi*((d_steel/2)**2))"
   ]
  },
  {
   "cell_type": "markdown",
   "metadata": {},
   "source": [
    "Now that we have the data in 6 pandas series, we can build a simple plot. We'll use Matplotlib's object-oriented interface to create to objects, a figure object called ```fig``` and an axes object ```ax1```. Then we can run the ```.plot()``` method on our ```ax1``` object and pass in two sets of series. The command ```plt.show()``` shows the plot."
   ]
  },
  {
   "cell_type": "code",
   "execution_count": 9,
   "metadata": {},
   "outputs": [
    {
     "data": {
      "image/png": "[encoded data removed]",
      "text/plain": [
       "<Figure size 432x288 with 1 Axes>"
      ]
     },
     "metadata": {
      "needs_background": "light"
     },
     "output_type": "display_data"
    }
   ],
   "source": [
    "fig, ax1 = plt.subplots()\n",
    "ax1.plot(strain_al_plastic,stress_al,strain_steel_plastic,stress_steel)\n",
    "plt.show()"
   ]
  },
  {
   "cell_type": "code",
   "execution_count": 10,
   "metadata": {},
   "outputs": [
    {
     "data": {
      "image/png": "[encoded data removed]",
      "text/plain": [
       "<Figure size 648x648 with 2 Axes>"
      ]
     },
     "metadata": {
      "needs_background": "light"
     },
     "output_type": "display_data"
    }
   ],
   "source": [
    "fig, ax1 = plt.subplots()\n",
    "fig.set_size_inches([9,9])\n",
    "ax1.plot(strain_al_plastic,stress_al,strain_steel_plastic,stress_steel)\n",
    "ax1.legend(['Al6061','Steel1045'])\n",
    "ax1.set_xlabel('Strain (in/in)')\n",
    "ax1.set_ylabel('Stress (ksi)')\n",
    "ax1.set_title('Stress Strain Curve of Al6061 and Steel1045 in Tension \\n with inset curve of elastic region')\n",
    "left, bottom, width, height = [0.5, 0.5, 0.25, 0.25]\n",
    "ax2 = fig.add_axes([left, bottom, width, height])\n",
    "ax2.plot(strain_al_elastic,stress_al,strain_steel_elastic, stress_steel)\n",
    "ax2.set_xlabel('Strain (in/in)')\n",
    "ax2.set_ylabel('Stress (ksi)')\n",
    "ax2.set_title('Inset of Elastic Region')\n",
    "ax2.set_xlim([0,0.008])\n",
    "ax2.set_ylim([0,100])\n",
    "fig.savefig('stress_strain_curve_with_inset.png')\n",
    "\n",
    "plt.show()"
   ]
  },
  {
   "cell_type": "code",
   "execution_count": null,
   "metadata": {},
   "outputs": [],
   "source": []
  }
 ],
 "metadata": {
  "kernelspec": {
   "display_name": "Python 3",
   "language": "python",
   "name": "python3"
  },
  "language_info": {
   "codemirror_mode": {
    "name": "ipython",
    "version": 3
   },
   "file_extension": ".py",
   "mimetype": "text/x-python",
   "name": "python",
   "nbconvert_exporter": "python",
   "pygments_lexer": "ipython3",
   "version": "3.7.3"
  }
 },
 "nbformat": 4,
 "nbformat_minor": 2
}
