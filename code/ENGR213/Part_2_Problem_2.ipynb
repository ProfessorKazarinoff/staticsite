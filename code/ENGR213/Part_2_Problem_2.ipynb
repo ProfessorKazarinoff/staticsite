{
 "cells": [
  {
   "cell_type": "markdown",
   "metadata": {},
   "source": [
    "# Part 2 Problem 2"
   ]
  },
  {
   "cell_type": "code",
   "execution_count": 113,
   "metadata": {},
   "outputs": [],
   "source": [
    "import pint"
   ]
  },
  {
   "cell_type": "code",
   "execution_count": 114,
   "metadata": {},
   "outputs": [],
   "source": [
    "u = pint.UnitRegistry()"
   ]
  },
  {
   "cell_type": "code",
   "execution_count": 115,
   "metadata": {},
   "outputs": [],
   "source": [
    "P = 1*u.kilopound\n",
    "w = 1*u.kilopound/u.foot\n",
    "AB = 2*u.foot\n",
    "BC = 3*u.foot\n",
    "AC = AB + BC\n",
    "Lp = AC\n",
    "Ld = BC\n",
    "b = 2*u.inch\n",
    "h= 4*u.inch\n",
    "E = 29e6*(u.pound/u.inch**2)\n",
    "I = (1/12)*b*h**3"
   ]
  },
  {
   "cell_type": "code",
   "execution_count": 116,
   "metadata": {},
   "outputs": [
    {
     "data": {
      "text/html": [
       "-0.00581896551724138 dimensionless"
      ],
      "text/latex": [
       "$-0.00581896551724138\\ dimensionless$"
      ],
      "text/plain": [
       "<Quantity(-0.00581896551724138, 'dimensionless')>"
      ]
     },
     "execution_count": 116,
     "metadata": {},
     "output_type": "execute_result"
    }
   ],
   "source": [
    "t_Ap = (-P*Lp**2)/(2*E*I)\n",
    "t_Ap = t_Ap.to_base_units().to_compact()\n",
    "t_Ap"
   ]
  },
  {
   "cell_type": "code",
   "execution_count": 117,
   "metadata": {},
   "outputs": [
    {
     "data": {
      "text/html": [
       "-0.23275862068965514 inch"
      ],
      "text/latex": [
       "$-0.23275862068965514\\ \\mathrm{inch}$"
      ],
      "text/plain": [
       "<Quantity(-0.23275862068965514, 'inch')>"
      ]
     },
     "execution_count": 117,
     "metadata": {},
     "output_type": "execute_result"
    }
   ],
   "source": [
    "y_Ap = (-P*Lp**3)/(3*E*I)\n",
    "y_Ap.ito(u.inch)\n",
    "y_Ap"
   ]
  },
  {
   "cell_type": "code",
   "execution_count": 130,
   "metadata": {},
   "outputs": [
    {
     "data": {
      "text/html": [
       "-0.0020948275862068965 dimensionless"
      ],
      "text/latex": [
       "$-0.0020948275862068965\\ dimensionless$"
      ],
      "text/plain": [
       "<Quantity(-0.0020948275862068965, 'dimensionless')>"
      ]
     },
     "execution_count": 130,
     "metadata": {},
     "output_type": "execute_result"
    }
   ],
   "source": [
    "t_Bd = -(w*Ld**3)/(6*E*I)\n",
    "#t_Bd = t_Ad.to_base_units().to_compact()\n",
    "t_Bd = t_Bd.to_base_units()\n",
    "t_Bd"
   ]
  },
  {
   "cell_type": "code",
   "execution_count": 131,
   "metadata": {},
   "outputs": [
    {
     "data": {
      "text/html": [
       "-0.0020948275862068965 dimensionless"
      ],
      "text/latex": [
       "$-0.0020948275862068965\\ dimensionless$"
      ],
      "text/plain": [
       "<Quantity(-0.0020948275862068965, 'dimensionless')>"
      ]
     },
     "execution_count": 131,
     "metadata": {},
     "output_type": "execute_result"
    }
   ],
   "source": [
    "t_Ad = t_Bd\n",
    "t_Ad"
   ]
  },
  {
   "cell_type": "code",
   "execution_count": 133,
   "metadata": {},
   "outputs": [
    {
     "data": {
      "text/html": [
       "-0.007913793103448277 dimensionless"
      ],
      "text/latex": [
       "$-0.007913793103448277\\ dimensionless$"
      ],
      "text/plain": [
       "<Quantity(-0.007913793103448277, 'dimensionless')>"
      ]
     },
     "execution_count": 133,
     "metadata": {},
     "output_type": "execute_result"
    }
   ],
   "source": [
    "t_At = t_Ap + t_Ad\n",
    "t_At"
   ]
  },
  {
   "cell_type": "code",
   "execution_count": 134,
   "metadata": {},
   "outputs": [
    {
     "data": {
      "text/html": [
       "-0.056560344827586206 inch"
      ],
      "text/latex": [
       "$-0.056560344827586206\\ \\mathrm{inch}$"
      ],
      "text/plain": [
       "<Quantity(-0.056560344827586206, 'inch')>"
      ]
     },
     "execution_count": 134,
     "metadata": {},
     "output_type": "execute_result"
    }
   ],
   "source": [
    "y_Bd = (-w*Ld**4)/(8*E*I)\n",
    "y_Bd.ito(u.inch)\n",
    "y_Bd"
   ]
  },
  {
   "cell_type": "code",
   "execution_count": 135,
   "metadata": {},
   "outputs": [
    {
     "data": {
      "text/html": [
       "-0.10683620689655172 inch"
      ],
      "text/latex": [
       "$-0.10683620689655172\\ \\mathrm{inch}$"
      ],
      "text/plain": [
       "<Quantity(-0.10683620689655172, 'inch')>"
      ]
     },
     "execution_count": 135,
     "metadata": {},
     "output_type": "execute_result"
    }
   ],
   "source": [
    "y_Ad = y_Bd + t_Bd*AB\n",
    "y_Ad"
   ]
  },
  {
   "cell_type": "code",
   "execution_count": 136,
   "metadata": {},
   "outputs": [
    {
     "data": {
      "text/html": [
       "-0.33959482758620685 inch"
      ],
      "text/latex": [
       "$-0.33959482758620685\\ \\mathrm{inch}$"
      ],
      "text/plain": [
       "<Quantity(-0.33959482758620685, 'inch')>"
      ]
     },
     "execution_count": 136,
     "metadata": {},
     "output_type": "execute_result"
    }
   ],
   "source": [
    "y_At = y_Ap + y_Ad\n",
    "y_At"
   ]
  },
  {
   "cell_type": "code",
   "execution_count": 54,
   "metadata": {},
   "outputs": [
    {
     "data": {
      "text/html": [
       "309333333.3333333 inch<sup>2</sup> pound"
      ],
      "text/latex": [
       "$309333333.3333333\\ \\mathrm{inch}^{2} \\cdot \\mathrm{pound}$"
      ],
      "text/plain": [
       "<Quantity(309333333.3333333, 'inch ** 2 * pound')>"
      ]
     },
     "execution_count": 54,
     "metadata": {},
     "output_type": "execute_result"
    }
   ],
   "source": [
    "E*I"
   ]
  },
  {
   "cell_type": "code",
   "execution_count": 58,
   "metadata": {},
   "outputs": [
    {
     "data": {
      "text/html": [
       "10.666666666666666 inch<sup>4</sup>"
      ],
      "text/latex": [
       "$10.666666666666666\\ \\mathrm{inch}^{4}$"
      ],
      "text/plain": [
       "<Quantity(10.666666666666666, 'inch ** 4')>"
      ]
     },
     "execution_count": 58,
     "metadata": {},
     "output_type": "execute_result"
    }
   ],
   "source": [
    "I"
   ]
  },
  {
   "cell_type": "code",
   "execution_count": 64,
   "metadata": {},
   "outputs": [],
   "source": [
    "I_ft = I.to(u.foot**4)"
   ]
  },
  {
   "cell_type": "code",
   "execution_count": 65,
   "metadata": {},
   "outputs": [
    {
     "data": {
      "text/html": [
       "29000000.0 pound/inch<sup>2</sup>"
      ],
      "text/latex": [
       "$29000000.0\\ \\frac{\\mathrm{pound}}{\\mathrm{inch}^{2}}$"
      ],
      "text/plain": [
       "<Quantity(29000000.0, 'pound / inch ** 2')>"
      ]
     },
     "execution_count": 65,
     "metadata": {},
     "output_type": "execute_result"
    }
   ],
   "source": [
    "E"
   ]
  },
  {
   "cell_type": "code",
   "execution_count": 66,
   "metadata": {},
   "outputs": [],
   "source": [
    "E_ft = E.to(u.lb/u.ft**2)"
   ]
  },
  {
   "cell_type": "code",
   "execution_count": 67,
   "metadata": {},
   "outputs": [
    {
     "data": {
      "text/html": [
       "2148148.1481481483 foot<sup>2</sup> pound"
      ],
      "text/latex": [
       "$2148148.1481481483\\ \\mathrm{foot}^{2} \\cdot \\mathrm{pound}$"
      ],
      "text/plain": [
       "<Quantity(2148148.1481481483, 'foot ** 2 * pound')>"
      ]
     },
     "execution_count": 67,
     "metadata": {},
     "output_type": "execute_result"
    }
   ],
   "source": [
    "E_ft*I_ft"
   ]
  },
  {
   "cell_type": "code",
   "execution_count": 68,
   "metadata": {},
   "outputs": [
    {
     "data": {
      "text/html": [
       "-0.23275862068965514 inch"
      ],
      "text/latex": [
       "$-0.23275862068965514\\ \\mathrm{inch}$"
      ],
      "text/plain": [
       "<Quantity(-0.23275862068965514, 'inch')>"
      ]
     },
     "execution_count": 68,
     "metadata": {},
     "output_type": "execute_result"
    }
   ],
   "source": [
    "y_Ap"
   ]
  },
  {
   "cell_type": "code",
   "execution_count": 69,
   "metadata": {},
   "outputs": [
    {
     "data": {
      "text/html": [
       "-0.019396551724137928 foot"
      ],
      "text/latex": [
       "$-0.019396551724137928\\ \\mathrm{foot}$"
      ],
      "text/plain": [
       "<Quantity(-0.019396551724137928, 'foot')>"
      ]
     },
     "execution_count": 69,
     "metadata": {},
     "output_type": "execute_result"
    }
   ],
   "source": [
    "y_Ap.to(u.ft)"
   ]
  },
  {
   "cell_type": "code",
   "execution_count": 70,
   "metadata": {},
   "outputs": [
    {
     "data": {
      "text/html": [
       "-0.056560344827586206 inch"
      ],
      "text/latex": [
       "$-0.056560344827586206\\ \\mathrm{inch}$"
      ],
      "text/plain": [
       "<Quantity(-0.056560344827586206, 'inch')>"
      ]
     },
     "execution_count": 70,
     "metadata": {},
     "output_type": "execute_result"
    }
   ],
   "source": [
    "y_Bd"
   ]
  },
  {
   "cell_type": "code",
   "execution_count": 71,
   "metadata": {},
   "outputs": [
    {
     "data": {
      "text/html": [
       "-0.004713362068965517 foot"
      ],
      "text/latex": [
       "$-0.004713362068965517\\ \\mathrm{foot}$"
      ],
      "text/plain": [
       "<Quantity(-0.004713362068965517, 'foot')>"
      ]
     },
     "execution_count": 71,
     "metadata": {},
     "output_type": "execute_result"
    }
   ],
   "source": [
    "y_Bd.to(u.ft)"
   ]
  },
  {
   "cell_type": "code",
   "execution_count": 72,
   "metadata": {},
   "outputs": [
    {
     "data": {
      "text/html": [
       "-0.23904310344827584 inch"
      ],
      "text/latex": [
       "$-0.23904310344827584\\ \\mathrm{inch}$"
      ],
      "text/plain": [
       "<Quantity(-0.23904310344827584, 'inch')>"
      ]
     },
     "execution_count": 72,
     "metadata": {},
     "output_type": "execute_result"
    }
   ],
   "source": [
    "y_At"
   ]
  },
  {
   "cell_type": "code",
   "execution_count": 73,
   "metadata": {},
   "outputs": [
    {
     "data": {
      "text/html": [
       "-0.019920258620689652 foot"
      ],
      "text/latex": [
       "$-0.019920258620689652\\ \\mathrm{foot}$"
      ],
      "text/plain": [
       "<Quantity(-0.019920258620689652, 'foot')>"
      ]
     },
     "execution_count": 73,
     "metadata": {},
     "output_type": "execute_result"
    }
   ],
   "source": [
    "y_At.to(u.ft)"
   ]
  },
  {
   "cell_type": "code",
   "execution_count": null,
   "metadata": {},
   "outputs": [],
   "source": []
  }
 ],
 "metadata": {
  "kernelspec": {
   "display_name": "Python 3",
   "language": "python",
   "name": "python3"
  },
  "language_info": {
   "codemirror_mode": {
    "name": "ipython",
    "version": 3
   },
   "file_extension": ".py",
   "mimetype": "text/x-python",
   "name": "python",
   "nbconvert_exporter": "python",
   "pygments_lexer": "ipython3",
   "version": "3.6.8"
  }
 },
 "nbformat": 4,
 "nbformat_minor": 2
}
