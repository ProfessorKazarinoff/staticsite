{
 "cells": [
  {
   "cell_type": "markdown",
   "metadata": {},
   "source": [
    "Histograms are a useful type of statistics plot for engineers. A histogram is a type of bar plot that shows the frequency or number of values compared to a set of value ranges. Histogram plots can be created with Python and the plotting package **matplotlib**. The ```plt.hist()``` function creates histogram plots."
   ]
  },
  {
   "cell_type": "markdown",
   "metadata": {},
   "source": [
    "Before **matplotlib** can be used, **matplotlib** must first be installed. To install **matplotlib** open the **Anaconda Prompt** (or use a terminal and **pip**) and type:\n",
    "\n",
    "```text\n",
    "> conda install matplotlib\n",
    "```\n",
    "\n",
    "or\n",
    "\n",
    "```text\n",
    "$ pip install matplotlib\n",
    "```\n",
    "\n",
    "If you are using the Anaconda distribution of Python, **matplotlib** is already installed. "
   ]
  },
  {
   "cell_type": "markdown",
   "metadata": {},
   "source": [
    "To create a histogram with **matplotlib**, first import **matplotlib** with the standard line:\n",
    "\n",
    "```python\n",
    "import matplotlib.pyplot as plt\n",
    "```\n",
    "\n",
    "The alias ```plt``` is commonly used for **matplotlib's** ```pyplot``` library and will look familiar to other programmers.\n",
    "\n",
    "In our first example, we will also import **numpy** with the line ```import numpy as np```. We'll use **numpy's** random number generator to create a dataset for us to plot. If using a Jupyter notebook, include the line ```%matplotlib inline``` below the imports."
   ]
  },
  {
   "cell_type": "code",
   "execution_count": 1,
   "metadata": {},
   "outputs": [],
   "source": [
    "import matplotlib.pyplot as plt\n",
    "import numpy as np\n",
    "# if using a Jupyter notebook, includue:\n",
    "%matplotlib inline"
   ]
  },
  {
   "cell_type": "markdown",
   "metadata": {},
   "source": [
    "For our dataset, let's define a mean (average) ```mu = 80``` and a standard deviation (spread) ```sigma = 7```. Then we'll use **numpy's** ```np.random.normal()``` function to produce an array of random numbers with a normal distribution. 200 random numbers is a sufficient quantity to plot. The general format of the ```np.random.normal()``` function is below:\n",
    "\n",
    "```python\n",
    "var = np.random.normal(mean, stdev, size=<number of values>)\n",
    "```"
   ]
  },
  {
   "cell_type": "code",
   "execution_count": 2,
   "metadata": {},
   "outputs": [],
   "source": [
    "mu = 80\n",
    "sigma = 7\n",
    "x = np.random.normal(mu, sigma, size=200)"
   ]
  },
  {
   "cell_type": "markdown",
   "metadata": {},
   "source": [
    "**Matplotlib's** ```plt.hist()``` function produces histogram plots. The first positional argument passed to ```plt.hist()``` is a list or array of values, the second positional argument denotes the number of bins on the histogram. \n",
    "\n",
    "```python\n",
    "plt.hist(values, num_bins)\n",
    "```\n",
    "\n",
    "Similar to **matplotlib** line plots, bar plots and pie charts, a set of keyword arguments can be included in the ```plt.hist()``` function call. Specifying values for the keyword arguments customizes the histogram. Some keyword arguments we can use with ```plt.hist()``` are:\n",
    " * ```density=```\n",
    " * ```histtype=```\n",
    " * ```facecolor=```\n",
    " * ```alpha=```(opacity)."
   ]
  },
  {
   "cell_type": "code",
   "execution_count": 3,
   "metadata": {},
   "outputs": [
    {
     "data": {
      "image/png": "[encoded data removed]",
      "text/plain": [
       "<matplotlib.figure.Figure at 0x197c1e3c518>"
      ]
     },
     "metadata": {},
     "output_type": "display_data"
    }
   ],
   "source": [
    "plt.hist(x, 20,\n",
    "         density=True,\n",
    "         histtype='bar',\n",
    "         facecolor='b',\n",
    "         alpha=0.5)\n",
    "\n",
    "plt.show()"
   ]
  },
  {
   "cell_type": "markdown",
   "metadata": {},
   "source": [
    "Our next histogram example involves a list of commute times. Suppose the following commute times were recorded in a survey:\n",
    "\n",
    "```text\n",
    "23, 25, 40, 35, 36, 47, 33, 28, 48, 34,\n",
    "20, 37, 36, 23, 33, 36, 20, 27, 50, 34,\n",
    "47, 18, 28, 52, 21, 44, 34, 13, 40, 49\n",
    "```\n",
    "\n",
    "Let's plot a histogram of these commute times. First, import **matplotlib** as in the previous example, and include ```%matplotib inline``` if using a Jupyter notebook. Then build a Python list of commute times from the survey data above."
   ]
  },
  {
   "cell_type": "code",
   "execution_count": 4,
   "metadata": {},
   "outputs": [],
   "source": [
    "import matplotlib.pyplot as plt\n",
    "# if using a Jupyter notebook, include:\n",
    "%matplotlib inline\n",
    "\n",
    "commute_times = [23, 25, 40, 35, 36, 47, 33, 28, 48, 34,\n",
    "                 20, 37, 36, 23, 33, 36, 20, 27, 50, 34,\n",
    "                 47, 18, 28, 52, 21, 44, 34, 13, 40, 49]"
   ]
  },
  {
   "cell_type": "markdown",
   "metadata": {},
   "source": [
    "Now we'll call ```plt.hist()``` and include our ```commute_times``` list and specify ```5``` bins."
   ]
  },
  {
   "cell_type": "code",
   "execution_count": 5,
   "metadata": {},
   "outputs": [
    {
     "data": {
      "image/png": "[encoded data removed]",
      "text/plain": [
       "<matplotlib.figure.Figure at 0x197c2147940>"
      ]
     },
     "metadata": {},
     "output_type": "display_data"
    }
   ],
   "source": [
    "plt.hist(commute_times, 5)\n",
    "\n",
    "plt.show()"
   ]
  },
  {
   "cell_type": "markdown",
   "metadata": {},
   "source": [
    "If we want our bins to have specific bin ranges, we can specify a list or array of bin edges in the keyword argument ```bins=```. Let's also add some axis labels and a title to the histogram. A table of some keyword arguments used with ```plt.hist()``` is below:\n",
    "\n",
    "| keyword argument | description | example |\n",
    "| --- | --- | --- |\n",
    "| ```bins=``` | list of bin edges | ```bins=[5, 10, 20, 30]``` |\n",
    "| ```density=``` | if ```true```, data is normalized | ```density=false``` |\n",
    "| ```histtype=``` | type of histogram: bar, stacked, step or step-filled | ```histtype='bar'``` |\n",
    "| ```color=``` | bar color | ```color='b'``` |\n",
    "| ```edgecolor=``` | bar edge color | ```color='k'``` |\n",
    "| ```alpha=``` | bar opacity | ```alpha=0.5``` |\n",
    "\n",
    "Let's specify our bins in 15 min increments. This means our bin edges are ```[0,15,30,45,60]```. We'll also specify ```density=False```, ```color='b'```(blue), ```edgecolor='k'```(black), and ```alpha=0.5```(half transparent). The lines ```plt.xlabel()```, ```plt.ylabel()```, and ```plt.title()``` give our histogram axis labels and a title. ```plt.xticks()``` defines the location of the x-axis tick labels. If the bins are spaced out at 15 minute intervals, it makes sense to label the x-axis at these same intervals."
   ]
  },
  {
   "cell_type": "code",
   "execution_count": 6,
   "metadata": {},
   "outputs": [
    {
     "data": {
      "image/png": "[encoded data removed]",
      "text/plain": [
       "<matplotlib.figure.Figure at 0x197c2247780>"
      ]
     },
     "metadata": {},
     "output_type": "display_data"
    }
   ],
   "source": [
    "bin_edges = [0,15,30,45,60]\n",
    "\n",
    "plt.hist(commute_times,\n",
    "         bins=bin_edges,\n",
    "         density=False,\n",
    "         histtype='bar',\n",
    "         color='b',\n",
    "         edgecolor='k',\n",
    "         alpha=0.5)\n",
    "\n",
    "plt.xlabel('Commute time (min)')\n",
    "plt.xticks([0,15,30,45,60])\n",
    "plt.ylabel('Number of commuters')\n",
    "plt.title('Histogram of commute times')\n",
    "\n",
    "plt.show()\n"
   ]
  },
  {
   "cell_type": "markdown",
   "metadata": {},
   "source": [
    "## Summary\n",
    "\n",
    "In this post we built two histograms with the **matplotlib** plotting package and Python. The first histogram contained an array of random numbers with a normal distribution. The second histogram was constructed from a list of commute times. The ```plt.hist()``` function takes a number of keyword arguments that allows us to customize the histogram."
   ]
  }
 ],
 "metadata": {
  "kernelspec": {
   "display_name": "Python 3",
   "language": "python",
   "name": "python3"
  },
  "language_info": {
   "codemirror_mode": {
    "name": "ipython",
    "version": 3
   },
   "file_extension": ".py",
   "mimetype": "text/x-python",
   "name": "python",
   "nbconvert_exporter": "python",
   "pygments_lexer": "ipython3",
   "version": "3.7.4"
  }
 },
 "nbformat": 4,
 "nbformat_minor": 2
}
