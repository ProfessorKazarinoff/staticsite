{
 "cells": [
  {
   "cell_type": "code",
   "execution_count": 85,
   "metadata": {
    "collapsed": true
   },
   "outputs": [],
   "source": [
    "import numpy as np\n",
    "import pint"
   ]
  },
  {
   "cell_type": "code",
   "execution_count": 86,
   "metadata": {
    "collapsed": true
   },
   "outputs": [],
   "source": [
    "ureg = pint.UnitRegistry()"
   ]
  },
  {
   "cell_type": "markdown",
   "metadata": {},
   "source": [
    "Convert 65 miles/hr to m/s"
   ]
  },
  {
   "cell_type": "code",
   "execution_count": 87,
   "metadata": {
    "collapsed": true
   },
   "outputs": [],
   "source": [
    "speed = 65 * ureg.miles / ureg.hours"
   ]
  },
  {
   "cell_type": "code",
   "execution_count": 88,
   "metadata": {},
   "outputs": [
    {
     "name": "stdout",
     "output_type": "stream",
     "text": [
      "65.0 mile / hour\n"
     ]
    }
   ],
   "source": [
    "print(speed)"
   ]
  },
  {
   "cell_type": "code",
   "execution_count": 89,
   "metadata": {},
   "outputs": [
    {
     "name": "stdout",
     "output_type": "stream",
     "text": [
      "29.0576 meter / second\n"
     ]
    }
   ],
   "source": [
    "speed_in_metric = speed.to(ureg.meters/ureg.seconds)\n",
    "print(speed_in_metric)"
   ]
  },
  {
   "cell_type": "markdown",
   "metadata": {},
   "source": [
    "Convert 2.588 x 10<sup>-4</sup> kPa/hr<sup>3</sup> to bar/s<sup>3</sup>"
   ]
  },
  {
   "cell_type": "code",
   "execution_count": 90,
   "metadata": {},
   "outputs": [
    {
     "name": "stdout",
     "output_type": "stream",
     "text": [
      "0.0002588 kilopascal / hour ** 3\n"
     ]
    }
   ],
   "source": [
    "pressure_rate = 2.588e-4 * ureg.kPa / (ureg.hour**3)\n",
    "print(pressure_rate)"
   ]
  },
  {
   "cell_type": "code",
   "execution_count": 91,
   "metadata": {},
   "outputs": [
    {
     "name": "stdout",
     "output_type": "stream",
     "text": [
      "5.5469821673525374e-17 bar / second ** 3\n"
     ]
    }
   ],
   "source": [
    "pressure_rate_us = pressure_rate.to(ureg.bar/(ureg.second**3))\n",
    "print(pressure_rate_us)"
   ]
  },
  {
   "cell_type": "markdown",
   "metadata": {},
   "source": [
    "Convert 450 N/m<sup>2</sup> to psi"
   ]
  },
  {
   "cell_type": "code",
   "execution_count": 92,
   "metadata": {},
   "outputs": [
    {
     "name": "stdout",
     "output_type": "stream",
     "text": [
      "450.0 newton / meter ** 2\n"
     ]
    }
   ],
   "source": [
    "pressure = 450*ureg.newtons / ureg.meters**2\n",
    "print(pressure)"
   ]
  },
  {
   "cell_type": "code",
   "execution_count": 93,
   "metadata": {},
   "outputs": [
    {
     "name": "stdout",
     "output_type": "stream",
     "text": [
      "6.53e-02 pound_force_per_square_inch\n"
     ]
    }
   ],
   "source": [
    "pressure_us = pressure.to(ureg.psi)\n",
    "print('{:6.2e}'.format(pressure_us))"
   ]
  },
  {
   "cell_type": "markdown",
   "metadata": {},
   "source": [
    "Convert 22 lb/in<sup>2</sup> to g/cm<sup>2</sup>"
   ]
  },
  {
   "cell_type": "code",
   "execution_count": 94,
   "metadata": {},
   "outputs": [
    {
     "name": "stdout",
     "output_type": "stream",
     "text": [
      "2.21e+07 pound / inch ** 2\n"
     ]
    }
   ],
   "source": [
    "dense_area_us = 221e5 * ureg.pounds / ureg.inches**2\n",
    "print('{:6.2e}'.format(dense_area_us))"
   ]
  },
  {
   "cell_type": "code",
   "execution_count": 95,
   "metadata": {},
   "outputs": [
    {
     "name": "stdout",
     "output_type": "stream",
     "text": [
      "1.55e+09 gram / centimeter ** 2\n"
     ]
    }
   ],
   "source": [
    "dense_area = dense_area_us.to(ureg.g / ureg.cm**2)\n",
    "print('{:6.2e}'.format(dense_area))"
   ]
  },
  {
   "cell_type": "code",
   "execution_count": 96,
   "metadata": {},
   "outputs": [
    {
     "name": "stdout",
     "output_type": "stream",
     "text": [
      "The pretty representation is 1553783771.0025423 gram/centimeter²\n"
     ]
    }
   ],
   "source": [
    "print('The pretty representation is {:P}'.format(dense_area))"
   ]
  },
  {
   "cell_type": "code",
   "execution_count": 97,
   "metadata": {},
   "outputs": [
    {
     "name": "stdout",
     "output_type": "stream",
     "text": [
      "The pretty representation is 1.55e+09 gram / centimeter ** 2\n"
     ]
    }
   ],
   "source": [
    "print('The pretty representation is {:P6.2e}'.format(dense_area))"
   ]
  },
  {
   "cell_type": "code",
   "execution_count": null,
   "metadata": {
    "collapsed": true
   },
   "outputs": [],
   "source": [
    ""
   ]
  }
 ],
 "metadata": {
  "kernelspec": {
   "display_name": "Python 3",
   "language": "python",
   "name": "python3"
  },
  "language_info": {
   "codemirror_mode": {
    "name": "ipython",
    "version": 3.0
   },
   "file_extension": ".py",
   "mimetype": "text/x-python",
   "name": "python",
   "nbconvert_exporter": "python",
   "pygments_lexer": "ipython3",
   "version": "3.6.3"
  }
 },
 "nbformat": 4,
 "nbformat_minor": 0
}