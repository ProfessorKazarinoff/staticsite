{
 "cells": [
  {
   "cell_type": "markdown",
   "metadata": {},
   "source": [
    "# ENGR213 2019Q3 Ch 5 and Ch 6 Quiz"
   ]
  },
  {
   "cell_type": "code",
   "execution_count": 1,
   "metadata": {},
   "outputs": [],
   "source": [
    "import pint\n",
    "u = pint.UnitRegistry()"
   ]
  },
  {
   "cell_type": "code",
   "execution_count": 2,
   "metadata": {},
   "outputs": [
    {
     "name": "stdout",
     "output_type": "stream",
     "text": [
      "750000.0 millimeter ** 3\n",
      "0.00075 meter ** 3\n"
     ]
    }
   ],
   "source": [
    "Aa = 50*u.mm*100*u.mm\n",
    "ya = (100*u.mm+(100/2)*u.mm)\n",
    "Qa = Aa*ya\n",
    "print(Qa)\n",
    "Qa.ito(u.m**3)\n",
    "print(Qa)"
   ]
  },
  {
   "cell_type": "code",
   "execution_count": 3,
   "metadata": {},
   "outputs": [
    {
     "name": "stdout",
     "output_type": "stream",
     "text": [
      "2625000.0 millimeter ** 3\n",
      "0.002625 meter ** 3\n"
     ]
    }
   ],
   "source": [
    "Am = 50*u.mm*300*u.mm\n",
    "ym = (200-(50/2))*u.mm\n",
    "Qm = Am*ym\n",
    "print(Qm)\n",
    "Qm.ito(u.m**3)\n",
    "print(Qm)"
   ]
  },
  {
   "cell_type": "code",
   "execution_count": 4,
   "metadata": {},
   "outputs": [
    {
     "data": {
      "text/html": [
       "0.004125 meter<sup>3</sup>"
      ],
      "text/latex": [
       "$0.004125\\ \\mathrm{meter}^{3}$"
      ],
      "text/plain": [
       "<Quantity(0.004125, 'meter ** 3')>"
      ]
     },
     "execution_count": 4,
     "metadata": {},
     "output_type": "execute_result"
    }
   ],
   "source": [
    "Qb = 2*Qa + Qm\n",
    "Qb"
   ]
  },
  {
   "cell_type": "code",
   "execution_count": 5,
   "metadata": {},
   "outputs": [
    {
     "data": {
      "text/html": [
       "5984.042553191488 newton/meter"
      ],
      "text/latex": [
       "$5984.042553191488\\ \\frac{\\mathrm{newton}}{\\mathrm{meter}}$"
      ],
      "text/plain": [
       "<Quantity(5984.042553191488, 'newton / meter')>"
      ]
     },
     "execution_count": 5,
     "metadata": {},
     "output_type": "execute_result"
    }
   ],
   "source": [
    "V = 12.0*1000*u.newtons\n",
    "I = (1.504*(10**9))*(u.mm**4)\n",
    "I.ito(u.m**4)\n",
    "qa = (V*Qa)/I\n",
    "qa"
   ]
  },
  {
   "cell_type": "code",
   "execution_count": 6,
   "metadata": {},
   "outputs": [
    {
     "data": {
      "text/html": [
       "32912.23404255319 newton/meter"
      ],
      "text/latex": [
       "$32912.23404255319\\ \\frac{\\mathrm{newton}}{\\mathrm{meter}}$"
      ],
      "text/plain": [
       "<Quantity(32912.23404255319, 'newton / meter')>"
      ]
     },
     "execution_count": 6,
     "metadata": {},
     "output_type": "execute_result"
    }
   ],
   "source": [
    "qb = (V*Qb)/I\n",
    "qb"
   ]
  },
  {
   "cell_type": "code",
   "execution_count": 7,
   "metadata": {},
   "outputs": [
    {
     "data": {
      "text/html": [
       "299.2021276595744 newton"
      ],
      "text/latex": [
       "$299.2021276595744\\ \\mathrm{newton}$"
      ],
      "text/plain": [
       "<Quantity(299.2021276595744, 'newton')>"
      ]
     },
     "execution_count": 7,
     "metadata": {},
     "output_type": "execute_result"
    }
   ],
   "source": [
    "s = 50*u.mm\n",
    "s.ito(u.m)\n",
    "va = qa*s\n",
    "va"
   ]
  },
  {
   "cell_type": "code",
   "execution_count": 8,
   "metadata": {},
   "outputs": [
    {
     "data": {
      "text/html": [
       "1645.6117021276596 newton"
      ],
      "text/latex": [
       "$1645.6117021276596\\ \\mathrm{newton}$"
      ],
      "text/plain": [
       "<Quantity(1645.6117021276596, 'newton')>"
      ]
     },
     "execution_count": 8,
     "metadata": {},
     "output_type": "execute_result"
    }
   ],
   "source": [
    "vb = qb*s\n",
    "vb"
   ]
  },
  {
   "cell_type": "code",
   "execution_count": null,
   "metadata": {},
   "outputs": [],
   "source": []
  },
  {
   "cell_type": "code",
   "execution_count": 9,
   "metadata": {},
   "outputs": [
    {
     "data": {
      "text/plain": [
       "750000.0"
      ]
     },
     "execution_count": 9,
     "metadata": {},
     "output_type": "execute_result"
    }
   ],
   "source": [
    "Qa = 50*100*(200-100/2)\n",
    "Qa"
   ]
  },
  {
   "cell_type": "code",
   "execution_count": 10,
   "metadata": {},
   "outputs": [
    {
     "data": {
      "text/plain": [
       "2625000.0"
      ]
     },
     "execution_count": 10,
     "metadata": {},
     "output_type": "execute_result"
    }
   ],
   "source": [
    "Qm = (300*50)*(200-(50/2))\n",
    "Qm"
   ]
  },
  {
   "cell_type": "code",
   "execution_count": 11,
   "metadata": {},
   "outputs": [
    {
     "data": {
      "text/plain": [
       "4125000.0"
      ]
     },
     "execution_count": 11,
     "metadata": {},
     "output_type": "execute_result"
    }
   ],
   "source": [
    "Qb = 2*Qa + Qm\n",
    "Qb"
   ]
  },
  {
   "cell_type": "code",
   "execution_count": 12,
   "metadata": {},
   "outputs": [
    {
     "data": {
      "text/plain": [
       "5.98404255319149"
      ]
     },
     "execution_count": 12,
     "metadata": {},
     "output_type": "execute_result"
    }
   ],
   "source": [
    "V = 12000\n",
    "I = 1.504e9\n",
    "qa = V*Qa/I\n",
    "qa"
   ]
  },
  {
   "cell_type": "code",
   "execution_count": 13,
   "metadata": {},
   "outputs": [
    {
     "data": {
      "text/plain": [
       "299.2021276595745"
      ]
     },
     "execution_count": 13,
     "metadata": {},
     "output_type": "execute_result"
    }
   ],
   "source": [
    "s = 50\n",
    "va = qa*s\n",
    "va"
   ]
  },
  {
   "cell_type": "code",
   "execution_count": 14,
   "metadata": {},
   "outputs": [
    {
     "data": {
      "text/plain": [
       "32.912234042553195"
      ]
     },
     "execution_count": 14,
     "metadata": {},
     "output_type": "execute_result"
    }
   ],
   "source": [
    "qb = V*Qb/I\n",
    "qb"
   ]
  },
  {
   "cell_type": "code",
   "execution_count": 15,
   "metadata": {},
   "outputs": [
    {
     "data": {
      "text/plain": [
       "1645.6117021276598"
      ]
     },
     "execution_count": 15,
     "metadata": {},
     "output_type": "execute_result"
    }
   ],
   "source": [
    "vb = qb*s\n",
    "vb"
   ]
  },
  {
   "cell_type": "markdown",
   "metadata": {},
   "source": [
    "# starting all over again"
   ]
  },
  {
   "cell_type": "code",
   "execution_count": 16,
   "metadata": {},
   "outputs": [
    {
     "data": {
      "text/html": [
       "750000.0 millimeter<sup>3</sup>"
      ],
      "text/latex": [
       "$750000.0\\ \\mathrm{millimeter}^{3}$"
      ],
      "text/plain": [
       "<Quantity(750000.0, 'millimeter ** 3')>"
      ]
     },
     "execution_count": 16,
     "metadata": {},
     "output_type": "execute_result"
    }
   ],
   "source": [
    "h = 400*u.mm\n",
    "c = h/2\n",
    "ha = 100*u.mm\n",
    "ba = 50*u.mm\n",
    "Aa = ha*ba\n",
    "ya = c-ha/2\n",
    "Qa = Aa*ya\n",
    "Qa"
   ]
  },
  {
   "cell_type": "code",
   "execution_count": 17,
   "metadata": {},
   "outputs": [
    {
     "data": {
      "text/html": [
       "2625000.0 millimeter<sup>3</sup>"
      ],
      "text/latex": [
       "$2625000.0\\ \\mathrm{millimeter}^{3}$"
      ],
      "text/plain": [
       "<Quantity(2625000.0, 'millimeter ** 3')>"
      ]
     },
     "execution_count": 17,
     "metadata": {},
     "output_type": "execute_result"
    }
   ],
   "source": [
    "ht = 50*u.mm\n",
    "bt = 300*u.mm\n",
    "At = bt*ht\n",
    "yt = c-ht/2\n",
    "Qt = At*yt\n",
    "Qt"
   ]
  },
  {
   "cell_type": "code",
   "execution_count": 18,
   "metadata": {},
   "outputs": [
    {
     "data": {
      "text/html": [
       "4125000.0 millimeter<sup>3</sup>"
      ],
      "text/latex": [
       "$4125000.0\\ \\mathrm{millimeter}^{3}$"
      ],
      "text/plain": [
       "<Quantity(4125000.0, 'millimeter ** 3')>"
      ]
     },
     "execution_count": 18,
     "metadata": {},
     "output_type": "execute_result"
    }
   ],
   "source": [
    "Qb = 2*Qa + Qt\n",
    "Qb"
   ]
  },
  {
   "cell_type": "code",
   "execution_count": 19,
   "metadata": {},
   "outputs": [
    {
     "data": {
      "text/html": [
       "5.98404255319149 newton/millimeter"
      ],
      "text/latex": [
       "$5.98404255319149\\ \\frac{\\mathrm{newton}}{\\mathrm{millimeter}}$"
      ],
      "text/plain": [
       "<Quantity(5.98404255319149, 'newton / millimeter')>"
      ]
     },
     "execution_count": 19,
     "metadata": {},
     "output_type": "execute_result"
    }
   ],
   "source": [
    "V = 12.0*1000*u.newtons\n",
    "I = 1.504e9*(u.mm**4)\n",
    "qa = V*Qa/I\n",
    "qa"
   ]
  },
  {
   "cell_type": "code",
   "execution_count": 20,
   "metadata": {},
   "outputs": [
    {
     "data": {
      "text/html": [
       "299.2021276595745 newton"
      ],
      "text/latex": [
       "$299.2021276595745\\ \\mathrm{newton}$"
      ],
      "text/plain": [
       "<Quantity(299.2021276595745, 'newton')>"
      ]
     },
     "execution_count": 20,
     "metadata": {},
     "output_type": "execute_result"
    }
   ],
   "source": [
    "s = 50*u.mm\n",
    "va = qa*s\n",
    "va"
   ]
  },
  {
   "cell_type": "code",
   "execution_count": 21,
   "metadata": {},
   "outputs": [
    {
     "data": {
      "text/html": [
       "32.912234042553195 newton/millimeter"
      ],
      "text/latex": [
       "$32.912234042553195\\ \\frac{\\mathrm{newton}}{\\mathrm{millimeter}}$"
      ],
      "text/plain": [
       "<Quantity(32.912234042553195, 'newton / millimeter')>"
      ]
     },
     "execution_count": 21,
     "metadata": {},
     "output_type": "execute_result"
    }
   ],
   "source": [
    "qb = (V*Qb)/I\n",
    "qb"
   ]
  },
  {
   "cell_type": "code",
   "execution_count": 22,
   "metadata": {},
   "outputs": [
    {
     "data": {
      "text/html": [
       "1645.6117021276598 newton"
      ],
      "text/latex": [
       "$1645.6117021276598\\ \\mathrm{newton}$"
      ],
      "text/plain": [
       "<Quantity(1645.6117021276598, 'newton')>"
      ]
     },
     "execution_count": 22,
     "metadata": {},
     "output_type": "execute_result"
    }
   ],
   "source": [
    "vb = qb*s\n",
    "vb"
   ]
  },
  {
   "cell_type": "code",
   "execution_count": null,
   "metadata": {},
   "outputs": [],
   "source": []
  }
 ],
 "metadata": {
  "kernelspec": {
   "display_name": "Python 3",
   "language": "python",
   "name": "python3"
  },
  "language_info": {
   "codemirror_mode": {
    "name": "ipython",
    "version": 3
   },
   "file_extension": ".py",
   "mimetype": "text/x-python",
   "name": "python",
   "nbconvert_exporter": "python",
   "pygments_lexer": "ipython3",
   "version": "3.7.3"
  }
 },
 "nbformat": 4,
 "nbformat_minor": 2
}
