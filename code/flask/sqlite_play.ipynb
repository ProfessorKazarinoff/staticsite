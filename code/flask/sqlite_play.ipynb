{
 "cells": [
  {
   "cell_type": "markdown",
   "metadata": {},
   "source": [
    "To create a new database, we first ```import sqlite3``` and then instantiate a new database object with the ```sqlite3.connect()``` method."
   ]
  },
  {
   "cell_type": "code",
   "execution_count": 1,
   "metadata": {
    "slideshow": {
     "slide_type": "slide"
    }
   },
   "outputs": [],
   "source": [
    "import sqlite3\n",
    "db = sqlite3.connect(\"name_database.db\")"
   ]
  },
  {
   "cell_type": "markdown",
   "metadata": {},
   "source": [
    "Next, we connect to the database with the ```sqlite3.connect()``` method and create a connection object called ```conn```. Then, from the connection object ```conn```, we create a cursor object called ```cur```. The cursor object executes the database commands. The commands the cursor object ```cur``` executes are written in a database query language. Learning database query language is sort of like learning a whole new programming language. I am still note really familiar with the database language query commands or syntax. Before we can add records to the database, we need to create a table in the database. "
   ]
  },
  {
   "cell_type": "code",
   "execution_count": 2,
   "metadata": {},
   "outputs": [],
   "source": [
    "# create a database called name_database.db\n",
    "# add one table to the database called names_table\n",
    "# add columns to the database table: Id, first_name, last_name, age \n",
    "conn = sqlite3.connect('name_database.db')\n",
    "cur = conn.cursor()\n",
    "cur.execute(\"\"\"CREATE TABLE IF NOT EXISTS names_table (\n",
    "    Id INTEGER PRIMARY KEY AUTOINCREMENT,\n",
    "    first_name text,\n",
    "    last_name text,\n",
    "    age integer\n",
    "    )\"\"\")\n",
    "conn.commit()\n",
    "\n",
    "cur.close()\n",
    "conn.close()\n",
    "db.close()"
   ]
  },
  {
   "cell_type": "markdown",
   "metadata": {},
   "source": [
    "Now to add a new record to the database, we need to:\n",
    "\n",
    " * connect to the database, creating a connection object ```conn```\n",
    " * create a cursor object ```cur``` based on the connection object\n",
    " * execute commands on the cursor object ```cur``` to add a new record to the database\n",
    " * commit the changes to the connection object ```conn```\n",
    " * close the cursor object\n",
    " * close the connection object"
   ]
  },
  {
   "cell_type": "code",
   "execution_count": 3,
   "metadata": {},
   "outputs": [],
   "source": [
    "conn = sqlite3.connect('name_database.db')\n",
    "cur = conn.cursor()\n",
    "cur.execute(\"INSERT INTO names_table VALUES(:Id, :first_name, :last_name, :age)\",\n",
    "              {'Id': None,\n",
    "               'first_name': 'Gabriella',\n",
    "               'last_name': 'Louise',\n",
    "               'age': int(8)\n",
    "              })\n",
    "conn.commit()\n",
    "cur.close()\n",
    "conn.close()"
   ]
  },
  {
   "cell_type": "markdown",
   "metadata": {},
   "source": [
    "Now let's see if we can retrieve the record we just added to the database."
   ]
  },
  {
   "cell_type": "code",
   "execution_count": 4,
   "metadata": {},
   "outputs": [
    {
     "name": "stdout",
     "output_type": "stream",
     "text": [
      "('Gabriella', 'Louise', 8, 1)\n"
     ]
    }
   ],
   "source": [
    "conn = sqlite3.connect('name_database.db')\n",
    "cur = conn.cursor()\n",
    "cur.execute(\"SELECT first_name, last_name, age, MAX(rowid) FROM names_table\")\n",
    "record = cur.fetchone()\n",
    "print(record)\n",
    "cur.close()\n",
    "conn.close()"
   ]
  },
  {
   "cell_type": "markdown",
   "metadata": {},
   "source": [
    "Let's add another record to the database"
   ]
  },
  {
   "cell_type": "code",
   "execution_count": 5,
   "metadata": {},
   "outputs": [],
   "source": [
    "conn = sqlite3.connect('name_database.db')\n",
    "cur = conn.cursor()\n",
    "cur.execute(\"INSERT INTO names_table VALUES(:Id, :first_name, :last_name, :age)\",\n",
    "              {'Id': None,\n",
    "               'first_name': 'Maelle',\n",
    "               'last_name': 'Levin',\n",
    "               'age': int(5)\n",
    "              })\n",
    "conn.commit()\n",
    "cur.close()\n",
    "conn.close()"
   ]
  },
  {
   "cell_type": "markdown",
   "metadata": {},
   "source": [
    "And again let's see the most recent record:"
   ]
  },
  {
   "cell_type": "code",
   "execution_count": 6,
   "metadata": {},
   "outputs": [
    {
     "name": "stdout",
     "output_type": "stream",
     "text": [
      "('Maelle', 'Levin', 5, 2)\n"
     ]
    }
   ],
   "source": [
    "conn = sqlite3.connect('name_database.db')\n",
    "cur = conn.cursor()\n",
    "cur.execute(\"SELECT first_name, last_name, age, MAX(rowid) FROM names_table\")\n",
    "record = cur.fetchone()\n",
    "print(record)\n",
    "cur.close()\n",
    "conn.close()"
   ]
  },
  {
   "cell_type": "code",
   "execution_count": null,
   "metadata": {},
   "outputs": [],
   "source": []
  }
 ],
 "metadata": {
  "celltoolbar": "Slideshow",
  "kernelspec": {
   "display_name": "Python 3",
   "language": "python",
   "name": "python3"
  },
  "language_info": {
   "codemirror_mode": {
    "name": "ipython",
    "version": 3
   },
   "file_extension": ".py",
   "mimetype": "text/x-python",
   "name": "python",
   "nbconvert_exporter": "python",
   "pygments_lexer": "ipython3",
   "version": "3.6.3"
  }
 },
 "nbformat": 4,
 "nbformat_minor": 2
}
