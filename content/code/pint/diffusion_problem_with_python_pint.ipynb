{
 "cells": [
  {
   "cell_type": "markdown",
   "metadata": {},
   "source": [
    "I was working through a diffusion problem and thought that **Python** and a package for dealing with units and unit conversions called **pint** would be usefull."
   ]
  },
  {
   "cell_type": "markdown",
   "metadata": {},
   "source": [
    "I'm using the **Anaconda** distribution **Python**. To use **pint**, I needed to install it using the **Anaconda Prompt**.\n",
    "\n",
    "```\n",
    "> pip install pint\n",
    "```"
   ]
  },
  {
   "cell_type": "markdown",
   "metadata": {},
   "source": [
    "The problem I am working on solving involes the diffusion of nitrogen gas (N<sub>2</sub>) into a thin plate of iron. \n",
    "\n",
    "When &alpha;-iron put in a nitrogen atmosphere, the conventration of nitrogen in the iron, _C<sub>N</sub>_ is a function of the nitrogen pressure $P_{N_2}$ accoding to the relationship:\n",
    "\n",
    "$$C_{N} = 4.9 \\times 10^{-6} \\sqrt{P_{N_2}} exp{\\frac{Qn}{RT}} $$\n",
    "\n",
    "Where:\n",
    "\n",
    "$Q_n = 37,600 \\frac{J}{mol}$\n",
    "\n",
    "$R=8.31 \\frac{J}{mol-K}$\n",
    "\n",
    "$T$ is the temperature in Kelvin.\n",
    "\n",
    "At 300 &deg;C the nitrogen gas pressure on one side of an iron plate is 0.10 MPa. On the other side of the iron plate, the nitrogen gas pressure is 5.0 MPa. The iron plate is a 1.5 mm thick.  Assume the pre-exponential term _D<sub>0</sub>_ and the activation energy of diffusion of nitrogen in carbon, _Q<sub>d</sub>_ are equal to the values below:\n",
    "\n",
    "$D_0 = 5 \\times 10^{-7} \\frac{m^2}{s}$\n",
    "\n",
    "$Q_d = 77,000 \\frac{J}{mol} $\n",
    "\n",
    "Calculate the diffusion flux, _J_ through the plate using Fick's First Law of Diffusion:\n",
    "\n",
    "$$ J = -D \\frac{dC}{dx} $$"
   ]
  },
  {
   "cell_type": "markdown",
   "metadata": {},
   "source": [
    "We have a couple different quantities and a couple of different units to handle to solve this problem. I started out importing **pint** and creating a ```UnitRegistry``` object. I'm also going to need the ```exp``` (e raised to a power) and ```sqrt``` (square root) functions from the math module."
   ]
  },
  {
   "cell_type": "code",
   "execution_count": 1,
   "metadata": {},
   "outputs": [],
   "source": [
    "import pint\n",
    "from math import exp, sqrt\n",
    "u = pint.UnitRegistry()"
   ]
  },
  {
   "cell_type": "markdown",
   "metadata": {},
   "source": [
    "Let's start with the temperature, T = 300 &deg;C.\n",
    "\n",
    "Temperature units in &deg;F and &deg;C are relative units with an off-set scale. They are not _multiplicative units_.  _Non-multiplicatve units_ are handled by **pint** a little differently compared to regular _multiplicative_ units.  \n",
    "\n",
    "To create a variable with  a degree C units we instantiate a ```Quantity``` object and pass in the temperature in &deg;C along with the unit (```u.degC```). We can convert the temperature to Kelvin(K) using the ```.ito``` method. \n",
    "\n",
    "Since we want to do some mulipication, division and exponentiation with our temperature, we need to convert the temperature to _multiplicative_ unit. **Pint** has two versions of the temperature unit in Kelvin. There is the _non-multiplicative_ type ```degK``` and the _multiplicative_ type ```kelvin```. \n",
    "\n",
    "We convert the temperature to the _multiplicative_ type ```kelvin``` by pulling out the magnitude (the number part without the ```degK``` unit) from the ```T``` variable and multiplying it by the ```kevlin``` unit from **pint**."
   ]
  },
  {
   "cell_type": "code",
   "execution_count": 2,
   "metadata": {},
   "outputs": [
    {
     "name": "stdout",
     "output_type": "stream",
     "text": [
      "300 degC\n",
      "T = 573.15 kelvin\n",
      "573.15 kelvin\n"
     ]
    }
   ],
   "source": [
    "Q_ = u.Quantity\n",
    "T = Q_(300, u.degC)\n",
    "print(T)\n",
    "T.ito('degK')\n",
    "print('T = {}'.format(T))\n",
    "T = T.magnitude * u.kelvin\n",
    "print(T)"
   ]
  },
  {
   "cell_type": "markdown",
   "metadata": {},
   "source": [
    "Next we'll create variables for $Q_n = 37,600 \\frac{J}{mol}$ and the universal gas contant $R=8.31 \\frac{J}{mol-K}$."
   ]
  },
  {
   "cell_type": "code",
   "execution_count": 3,
   "metadata": {},
   "outputs": [],
   "source": [
    "Qn = 37600 * u.J/u.mol\n",
    "R = 8.31 * u.J/(u.mol*u.kelvin)"
   ]
  },
  {
   "cell_type": "markdown",
   "metadata": {},
   "source": [
    "Our first nitrogen pressure is 0.10 MPa and our second nitrogen pressure is 5.0 MPa, we'll make variables for both"
   ]
  },
  {
   "cell_type": "code",
   "execution_count": 4,
   "metadata": {},
   "outputs": [],
   "source": [
    "PN1 = 0.10\n",
    "PN2 = 5.0"
   ]
  },
  {
   "cell_type": "markdown",
   "metadata": {},
   "source": [
    "Now we can calculate the two nitrogren concentrations in wt% using the equation:\n",
    "\n",
    "$$C_{N} = 4.9 \\times 10^{-6} \\sqrt{P_{N_2}} exp{\\frac{Qn}{RT}} $$\n",
    "\n"
   ]
  },
  {
   "cell_type": "code",
   "execution_count": 5,
   "metadata": {},
   "outputs": [
    {
     "data": {
      "text/plain": [
       "5.777054779474043e-07"
      ]
     },
     "execution_count": 5,
     "metadata": {},
     "output_type": "execute_result"
    }
   ],
   "source": [
    "CN1 = (4.9e-3)*sqrt(PN1)*exp(-Qn/(R*T))\n",
    "CN1"
   ]
  },
  {
   "cell_type": "code",
   "execution_count": 6,
   "metadata": {},
   "outputs": [
    {
     "data": {
      "text/plain": [
       "4.084994609852251e-06"
      ]
     },
     "execution_count": 6,
     "metadata": {},
     "output_type": "execute_result"
    }
   ],
   "source": [
    "CN2 = (4.9e-3)*sqrt(PN2)*exp(-Qn/(R*T))\n",
    "CN2"
   ]
  },
  {
   "cell_type": "markdown",
   "metadata": {},
   "source": [
    "These values ```CN1``` and ```CN2``` are in units of wt% N in an iron-nitrogen \"alloy\" where almost all of the alloy is iron with only a small amount of nitrogen. To use Fick's first law of diffusion:\n",
    "\n",
    "$$ J = -D \\frac{dC}{dx} $$\n",
    "\n",
    "We need our concentrations C1 and C2 in units of mass per unit volume like kg/m<sup>3</sup> or g/cm<sup>3</sup> not in units of wt %.\n",
    "\n",
    "To make the conversion between wt % and mass per unit volume we have to pick a mass of iron. This mass of iron will contain a mass of nitrogen. We can divide this mass of nitrogen by the volume of iron that corresponds to the mass of iron we picked. As long as we divide the mass of nitrogen by the volume of iron that contains that mass of nitrogen, we will end up with a unit conversion from wt% to kg/m<sup>3</sup> that works. So let's pick 1 kilogram of iron, and use the density of iron as 7.874 g/cm<sup>3</sup>"
   ]
  },
  {
   "cell_type": "code",
   "execution_count": 7,
   "metadata": {},
   "outputs": [],
   "source": [
    "p=7.874*u.g/u.cm**3\n",
    "p.ito(u.kg/u.m**3)\n",
    "mFe = 1*u.kg\n",
    "vFe = mFe/p"
   ]
  },
  {
   "cell_type": "code",
   "execution_count": 8,
   "metadata": {},
   "outputs": [
    {
     "name": "stdout",
     "output_type": "stream",
     "text": [
      "4.5488529333578606e-05 kilogram / meter ** 3\n",
      "0.0003216524755797662 kilogram / meter ** 3\n"
     ]
    }
   ],
   "source": [
    "mN1 = mFe*CN1*0.01\n",
    "CN1 = mN1/vFe\n",
    "print(CN1)\n",
    "\n",
    "mN2 = mFe*CN2*0.01\n",
    "CN2 = mN2/vFe\n",
    "print(CN2)"
   ]
  },
  {
   "cell_type": "markdown",
   "metadata": {},
   "source": [
    "The difference in concentration dC, is just the difference between the two concentrations. dx the change in distance is the thickness of the plate, 1.5 mm."
   ]
  },
  {
   "cell_type": "code",
   "execution_count": 9,
   "metadata": {},
   "outputs": [],
   "source": [
    "dC = CN2-CN1\n",
    "dx = 1.5 *u.mm\n",
    "dx.ito(u.m)"
   ]
  },
  {
   "cell_type": "markdown",
   "metadata": {},
   "source": [
    "Next we need to find the diffusion coefficient _D_. To do this we need the pre-exponential term _D<sub>0</sub>_ and the activating envery of diffusion _Q<sub>d</sub>_\n",
    "\n",
    "From the beginning of the problem:\n",
    "\n",
    "$D_0 = 5 \\times 10^{-7} \\frac{m^2}{s}$\n",
    "\n",
    "$Q_d = 77,000 \\frac{J}{mol} $\n",
    "\n",
    "Let's assign these to variables with the applicable units."
   ]
  },
  {
   "cell_type": "code",
   "execution_count": 10,
   "metadata": {},
   "outputs": [],
   "source": [
    "D0 = 5e-7 * u.m**2/u.s\n",
    "Qd = 77000 * u.J/u.mol"
   ]
  },
  {
   "cell_type": "markdown",
   "metadata": {},
   "source": [
    "calculate diffusion constant _D_, according to:\n",
    "\n",
    "$$ D = D_0e^{\\frac{-Q_d}{RT}} $$"
   ]
  },
  {
   "cell_type": "code",
   "execution_count": 11,
   "metadata": {},
   "outputs": [],
   "source": [
    "D = D0 * exp(-Qd/(R*T))"
   ]
  },
  {
   "cell_type": "markdown",
   "metadata": {},
   "source": [
    "Calculate _J_ according to:\n",
    "\n",
    "$$ J = -D \\frac{dC}{dx} $$"
   ]
  },
  {
   "cell_type": "code",
   "execution_count": 12,
   "metadata": {},
   "outputs": [
    {
     "data": {
      "text/html": [
       "-8.768730355898267e-15 kilogram/(meter<sup>2</sup> second)"
      ],
      "text/latex": [
       "$-8.768730355898267e-15\\ \\frac{\\mathrm{kilogram}}{\\left(\\mathrm{meter}^{2} \\cdot \\mathrm{second}\\right)}$"
      ],
      "text/plain": [
       "<Quantity(-8.768730355898267e-15, 'kilogram / meter ** 2 / second')>"
      ]
     },
     "execution_count": 12,
     "metadata": {},
     "output_type": "execute_result"
    }
   ],
   "source": [
    "J = -D*(dC/dx)\n",
    "J"
   ]
  },
  {
   "cell_type": "code",
   "execution_count": null,
   "metadata": {},
   "outputs": [],
   "source": []
  }
 ],
 "metadata": {
  "kernelspec": {
   "display_name": "Python 3",
   "language": "python",
   "name": "python3"
  },
  "language_info": {
   "codemirror_mode": {
    "name": "ipython",
    "version": 3
   },
   "file_extension": ".py",
   "mimetype": "text/x-python",
   "name": "python",
   "nbconvert_exporter": "python",
   "pygments_lexer": "ipython3",
   "version": "3.6.3"
  }
 },
 "nbformat": 4,
 "nbformat_minor": 2
}
