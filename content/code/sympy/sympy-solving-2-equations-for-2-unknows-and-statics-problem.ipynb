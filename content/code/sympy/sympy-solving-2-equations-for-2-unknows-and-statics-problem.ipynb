{
 "cells": [
  {
   "cell_type": "markdown",
   "metadata": {},
   "source": [
    "**SymPy** [(http://www.sympy.org)](http://www.sympy.org) is a Python library for __symbolic math__.  \n",
    "\n",
    "In symbolic math, symbols represent mathematical expressions. In a _numeric calculation_, the value of ```pi``` is stored as an estimate of ```pi```, a floating point number close to ```3.14...```. In a _symbolic math expression_, the value of ```pi``` is exact. "
   ]
  },
  {
   "cell_type": "markdown",
   "metadata": {},
   "source": [
    "**SymPy** can be used to solve two equations for two unknowns. Consider the following set of two equations with two variables:"
   ]
  },
  {
   "cell_type": "markdown",
   "metadata": {},
   "source": [
    "$$ x + y - 5 = 0 $$\n",
    "\n",
    "$$ x - y + 3 = 0 $$"
   ]
  },
  {
   "cell_type": "markdown",
   "metadata": {},
   "source": [
    "To solve this system of two equations for the two unknows $x$ and $y$, first the **SymPy** package needs to be imported. From the **SymPy** package, we'll use the functions ```symbols```, ```Eq```, and ```solve```."
   ]
  },
  {
   "cell_type": "code",
   "execution_count": 2,
   "metadata": {
    "collapsed": true
   },
   "outputs": [],
   "source": [
    "import numpy as np\n",
    "from sympy import symbols, Eq, solve"
   ]
  },
  {
   "cell_type": "markdown",
   "metadata": {},
   "source": [
    "Next, we create two **SymPy** symbols objects, $x$ and $y$. Note, the string passed as an argument to the ```symbols()``` function, ```'x y'```, does not have any commas. The outputs of the ```symbols()``` function are the two symbols objects ```x``` and ```y```. These outputs must be separated by a comma and are not surrounded by quotes. \n",
    "\n",
    "Be careful with syntax when you create **SymPy** symbols objects."
   ]
  },
  {
   "cell_type": "code",
   "execution_count": 3,
   "metadata": {
    "collapsed": true
   },
   "outputs": [],
   "source": [
    "x, y = symbols('x y')"
   ]
  },
  {
   "cell_type": "markdown",
   "metadata": {},
   "source": [
    "Now let's define the two equations as **SymPy** equation objects using **SymPy's** ```Eq``` equation class."
   ]
  },
  {
   "cell_type": "code",
   "execution_count": 4,
   "metadata": {
    "collapsed": true
   },
   "outputs": [],
   "source": [
    "eq1 = Eq(x + y - 5)\n",
    "eq2 = Eq(x - y + 3)"
   ]
  },
  {
   "cell_type": "markdown",
   "metadata": {},
   "source": [
    "After the symbols and equations are defined, we can use **SymPy's** ```solve()``` function to compute the value of $x$ and $y$. The first argument passed to the ```solve()``` function is a tuple of the two equations ```(eq1, eq2)```. The second argument passed to the ```solve()``` function is a tuple of the variables we want to solve for ```(x, y)```."
   ]
  },
  {
   "cell_type": "code",
   "execution_count": 5,
   "metadata": {},
   "outputs": [
    {
     "data": {
      "text/plain": [
       "{x: 1, y: 4}"
      ]
     },
     "execution_count": 5,
     "metadata": {},
     "output_type": "execute_result"
    }
   ],
   "source": [
    "solve((eq1,eq2), (x, y))"
   ]
  },
  {
   "cell_type": "markdown",
   "metadata": {},
   "source": [
    "The solution is stored in a Python dictionary. The dictionary keys are the symbols objects (the variables), and the dictionary values are the numerical solution. We can access the solution out of the dictionary using regular Python dictionary indexing."
   ]
  },
  {
   "cell_type": "code",
   "execution_count": 6,
   "metadata": {},
   "outputs": [
    {
     "name": "stdout",
     "output_type": "stream",
     "text": [
      "x = 1\n",
      "y = 4\n"
     ]
    }
   ],
   "source": [
    "sol_dict = solve((eq1,eq2), (x, y))\n",
    "print(f'x = {sol_dict[x]}')\n",
    "print(f'y = {sol_dict[y]}')"
   ]
  },
  {
   "cell_type": "markdown",
   "metadata": {},
   "source": [
    "**SymPy** can be used to solve engineering problems. Consider the following engineering statics problem:\n",
    "\n",
    "GIVEN:\n",
    "\n",
    "A mass of 22 lbs is hung from a ring. The ring is supported by two cords, cord AC is 45 degrees above the horizontal to the left, and cord BC is 30 degrees to the right above the horizontal. \n",
    "\n",
    "$m$ = 22 lb\n",
    "\n",
    "$T_{AC}$ @ +45 degrees CCW relative to -x-axis\n",
    "\n",
    "$T_{BC}$ @ +30 degress CW relative to +x-axis\n",
    "\n",
    "![Statics Problem Given](statics_problem_given.png)\n",
    "\n",
    "FIND:\n",
    "\n",
    "The magnitude of tension in the cords AC and BC.  ($T_{CE}$ and $T_{BD}$)"
   ]
  },
  {
   "cell_type": "markdown",
   "metadata": {},
   "source": [
    "SOLUTION:\n",
    "\n",
    "After constructing a _Free Body Diagram_ of ring C, we see three forces acting on ring C: \n",
    "\n",
    " * One force from cord AC, which we call T<sub>AC</sub>. \n",
    " * A second force is from cord BC, which we call and T<sub>BC</sub>. \n",
    " * The third and final force acting on ring C is the force from cord CD, which is due to the box hanging down and equal to 22 lbs, which we call m.\n",
    "\n",
    "![Statics_Problem_Free Body Diagram](statics_problem_FBD.png)\n",
    "\n",
    "To solve for the magnitude of T<sub>AC</sub> and T<sub>BC</sub>, need to solve to two equations for two unknowns. To accomplish this with **SymPy**, first we need to import **numpy** and **sympy**.  The **SymPy** functions ```symbols```, ```Eq``` and ```solve``` are all needed."
   ]
  },
  {
   "cell_type": "code",
   "execution_count": 7,
   "metadata": {
    "collapsed": true
   },
   "outputs": [],
   "source": [
    "import numpy as np\n",
    "from sympy import symbols, Eq, solve"
   ]
  },
  {
   "cell_type": "markdown",
   "metadata": {},
   "source": [
    "Next, we'll define the symbolic math variables (that will be used in the equations) as **SymPy** ```symbols``` objects. Multiple symbolic math variables can be defined at the same time. Note the argument names (on the right-hand side of the assignment operator ```=```) need to be enclosed in quotes``` ' ' ``` and separated by spaces, no commas. The object names (on the left-hand side of the assignment operator ```=```) are separated with commas, no quotes."
   ]
  },
  {
   "cell_type": "code",
   "execution_count": 8,
   "metadata": {
    "collapsed": true
   },
   "outputs": [],
   "source": [
    "Tac, Tbc = symbols('Tac Tbc')"
   ]
  },
  {
   "cell_type": "markdown",
   "metadata": {},
   "source": [
    "Next two equations based on the sum of the forces need to be defined. Assuming the ring C is in static equilibrium:\n",
    "\n",
    "$$ \\Sigma \\vec{F} = 0 $$\n",
    "\n",
    "$$ \\Sigma F_{x} = 0 $$\n",
    "\n",
    "$$ \\Sigma F_{y} = 0 $$\n",
    "\n",
    "The three forces opperating on the ring are defined as:\n",
    "\n",
    "$$ {T_{ac}} = tension \\ in \\ cable \\ AC \\ $$\n",
    "\n",
    "$$ \\vec{T_{ac}} = - T_{ac} cos(45)\\hat{i} + T_{ac} sin(45)\\hat{j} $$\n",
    "\n",
    "$$ {T_{bc}} = tension \\ in \\ cable \\ BC $$\n",
    "\n",
    "$$ \\vec{T_{bc}} = T_{bc} cos(30)\\hat{i} + T_{bc} sin(30)\\hat{j} $$\n",
    "\n",
    "$$ \\vec{m} = 0 \\hat{i} - 22 \\hat{j} $$\n",
    "\n",
    "Taking $\\Sigma F_{x} = 0$ (sum of the $\\hat{i}$ terms) produces:\n",
    "\n",
    "$$ - T_{ac} cos(45) + T_{bc} cos(30) = 0 $$\n",
    "\n",
    "Taking $\\Sigma F_{y} = 0$ (sum of the $\\hat{j}$ terms) produces:\n",
    "\n",
    "$$ T_{ac} sin(45) + T_{bc} sin(30) - 22 = 0 $$\n",
    "\n"
   ]
  },
  {
   "cell_type": "markdown",
   "metadata": {},
   "source": [
    "Our first equation, based on the sum of the forces in the x-direction (the $\\hat{i}$ terms) is:\n",
    "\n",
    "$$ - T_{ce} cos(45) + T_{bc} cos(30) = 0 $$\n",
    "\n",
    "This equation can be represented as a **Sympy** equation object. Note the right-hand side of the equation is equal to ```0```. **Sympy** equation objects are instantiated with expressions equal to zero. If the expression on the left-hand side of the equation was not equal to zero, we would simply subtract both sides of the equation by the term on the right-hand side of the equals sign, then use the resulting expression (equal to zero) to create the **Sympy** equation object."
   ]
  },
  {
   "cell_type": "code",
   "execution_count": 9,
   "metadata": {},
   "outputs": [
    {
     "name": "stdout",
     "output_type": "stream",
     "text": [
      "Eq(-0.707106781186548*Tac + 0.866025403784439*Tbc, 0)\n"
     ]
    }
   ],
   "source": [
    "eq1=Eq(-Tac*np.cos(np.radians(45)) + Tbc*np.cos(np.radians(30)))\n",
    "print(eq1)"
   ]
  },
  {
   "cell_type": "markdown",
   "metadata": {},
   "source": [
    "The second equation, based on the sum of the forces in the y-direction is:\n",
    "\n",
    "$$ T_{ac} sin(45) + T_{bc} sin(30) - 22 = 0 $$\n",
    "\n",
    "We can define this second equation as a **Sympy** equation object as well:"
   ]
  },
  {
   "cell_type": "code",
   "execution_count": 10,
   "metadata": {},
   "outputs": [
    {
     "name": "stdout",
     "output_type": "stream",
     "text": [
      "Eq(0.707106781186548*Tac + 0.5*Tbc - 22, 0)\n"
     ]
    }
   ],
   "source": [
    "eq2=Eq(Tac*np.sin(np.radians(45)) + Tbc*np.sin(np.radians(30))-22)\n",
    "print(eq2)"
   ]
  },
  {
   "cell_type": "markdown",
   "metadata": {},
   "source": [
    "Finally, to solve the two equations for the two unknowns, $T_{ac}$ and $T_{bc}$, we use sympy's ```solve()``` method. The first argument passed to ```solve()``` is a tuple of the equations we want to solve ```(eq1, eq2)```, the second argument passed to ```solve()``` is a tuple of the variables we want to solve for ```(Tac, Tbc)```."
   ]
  },
  {
   "cell_type": "code",
   "execution_count": 11,
   "metadata": {},
   "outputs": [
    {
     "data": {
      "text/plain": [
       "{Tac: 19.7246603876972, Tbc: 16.1051177665153}"
      ]
     },
     "execution_count": 11,
     "metadata": {},
     "output_type": "execute_result"
    }
   ],
   "source": [
    "solve((eq1, eq2),(Tac, Tbc))"
   ]
  },
  {
   "cell_type": "markdown",
   "metadata": {},
   "source": [
    "The solution is saved in a Python dictionary. The dictionary keys are the variable names, and the dictionary values are the numeric solution. Note, when we access the solution dictionary, we need to use the **SymPy** symbol object names ```Tac``` and ```Tbc``` as the dictionary keys (as compared to using the strings ```'Tac'``` and ```'Tbc'``` as the dictionary keys)."
   ]
  },
  {
   "cell_type": "code",
   "execution_count": 12,
   "metadata": {},
   "outputs": [
    {
     "name": "stdout",
     "output_type": "stream",
     "text": [
      "Tac = 19.7 lb\n",
      "Tbc = 16.1 lb\n"
     ]
    }
   ],
   "source": [
    "sol_dict = solve((eq1,eq2), (Tac, Tbc))\n",
    "print(f'Tac = {round(sol_dict[Tac],1)} lb')\n",
    "print(f'Tbc = {round(sol_dict[Tbc],1)} lb')"
   ]
  },
  {
   "cell_type": "markdown",
   "metadata": {},
   "source": [
    "## Summary\n",
    "\n",
    "**SymPy** is a Python package for symbolic math. In this post, we solved a system of two equations for two unknows using **SymPy**. To do this, we created **SymPy** symbols objects and put these symbol objects into **SymPy** equation objects. We used **SymPy's** ```solve()``` method to calculate the solution. The solution is stored in a Python dictionary where the keys are the **SymPy** symbols objects and the values are the numeric solution. "
   ]
  },
  {
   "cell_type": "code",
   "execution_count": null,
   "metadata": {
    "collapsed": true
   },
   "outputs": [],
   "source": []
  }
 ],
 "metadata": {
  "kernelspec": {
   "display_name": "Python 3",
   "language": "python",
   "name": "python3"
  },
  "language_info": {
   "codemirror_mode": {
    "name": "ipython",
    "version": 3
   },
   "file_extension": ".py",
   "mimetype": "text/x-python",
   "name": "python",
   "nbconvert_exporter": "python",
   "pygments_lexer": "ipython3",
   "version": "3.6.4"
  }
 },
 "nbformat": 4,
 "nbformat_minor": 2
}
