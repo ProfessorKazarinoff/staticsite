{
 "cells": [
  {
   "cell_type": "code",
   "execution_count": 6,
   "metadata": {
    "collapsed": true
   },
   "outputs": [],
   "source": [
    "import matplotlib.pyplot as plt\n",
    "%matplotlib inline"
   ]
  },
  {
   "cell_type": "markdown",
   "metadata": {},
   "source": [
    "### Mechanics Problems in Python\n",
    "\n",
    "A steel bar with a cross-section of 130 mm2 and a length of 50.8 mm is axially loaded with a\n",
    "force of 57.0 kN. The modulus of elasticity of the steel is 210 GPa.\n",
    "\n",
    " a. Draw a sketch of the bar showing the cross-sectional area and the direction and\n",
    "magnitude of the applied force.\n",
    " b. What is the axial stress in the bar?\n",
    " c. What is the resulting strain?\n",
    " d. What is the change in length of the bar?\n",
    " e. What is the final length of the bar?"
   ]
  },
  {
   "cell_type": "code",
   "execution_count": 1,
   "metadata": {
    "collapsed": true
   },
   "outputs": [],
   "source": [
    "A0 = 130\n",
    "L0 = 50.8\n",
    "F = 57000\n",
    "E = 210000"
   ]
  },
  {
   "cell_type": "markdown",
   "metadata": {},
   "source": [
    "Stress is equal to force divided by cross-sectional area\n",
    "\n",
    "$$\\sigma = \\frac{F}{A_0} $$\n",
    "\n"
   ]
  },
  {
   "cell_type": "code",
   "execution_count": 2,
   "metadata": {},
   "outputs": [
    {
     "name": "stdout",
     "output_type": "stream",
     "text": [
      "438.46153846153845\n"
     ]
    }
   ],
   "source": [
    "stress = F/A0\n",
    "print(stress)"
   ]
  },
  {
   "cell_type": "markdown",
   "metadata": {},
   "source": [
    "Strain and stress are related by elastic modulus. Elastic modulus is the constant that relates the two.\n",
    "\n",
    "$$ E = \\frac{\\Delta\\sigma}{\\Delta\\epsilon} $$\n",
    "\n",
    "$$ \\epsilon = \\frac{\\sigma}{E} $$"
   ]
  },
  {
   "cell_type": "code",
   "execution_count": 3,
   "metadata": {},
   "outputs": [
    {
     "name": "stdout",
     "output_type": "stream",
     "text": [
      "0.0020879120879120877\n"
     ]
    }
   ],
   "source": [
    "strain = stress/E\n",
    "print(strain)"
   ]
  },
  {
   "cell_type": "markdown",
   "metadata": {},
   "source": [
    "Strain is equal to the change in length divided by the originol length\n",
    "\n",
    "$$ \\epsilon = \\frac{\\Delta L}{L_0} $$\n",
    "\n",
    "$$ \\Delta L = \\epsilon L_0 $$\n",
    "\n",
    "Final length is equal to the originol lenght plus the change in length\n",
    "\n",
    "$$ L_f = L_0 + \\Delta L $$\n"
   ]
  },
  {
   "cell_type": "code",
   "execution_count": 12,
   "metadata": {},
   "outputs": [
    {
     "name": "stdout",
     "output_type": "stream",
     "text": [
      "50.90606593406593\n"
     ]
    }
   ],
   "source": [
    "dL = strain*L0\n",
    "Lf = L0 + dL\n",
    "print(Lf)"
   ]
  },
  {
   "cell_type": "code",
   "execution_count": null,
   "metadata": {
    "collapsed": true
   },
   "outputs": [],
   "source": []
  }
 ],
 "metadata": {
  "kernelspec": {
   "display_name": "Python 3",
   "language": "python",
   "name": "python3"
  },
  "language_info": {
   "codemirror_mode": {
    "name": "ipython",
    "version": 3
   },
   "file_extension": ".py",
   "mimetype": "text/x-python",
   "name": "python",
   "nbconvert_exporter": "python",
   "pygments_lexer": "ipython3",
   "version": "3.6.3"
  }
 },
 "nbformat": 4,
 "nbformat_minor": 1
}
