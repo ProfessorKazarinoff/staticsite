{
 "cells": [
  {
   "cell_type": "markdown",
   "metadata": {},
   "source": [
    "# Problem 4.C2 in Beer and Johnson"
   ]
  },
  {
   "cell_type": "markdown",
   "metadata": {},
   "source": [
    "yield strength $\\sigma_y = 300 MPa $\n",
    "\n",
    "elastic modulus $E = 200 GPa $\n",
    "\n",
    "half thickness of the elastic core $d = 120 + 10 + 10$"
   ]
  },
  {
   "cell_type": "code",
   "execution_count": 4,
   "metadata": {},
   "outputs": [
    {
     "name": "stdout",
     "output_type": "stream",
     "text": [
      "Enter the value for y_y: 4\n",
      "Enter the value for tf: 54\n",
      "Enter the value for tw: 2\n",
      "Enter the value for bf: 1\n",
      "y_y = 4\n",
      "tf = 54\n",
      "tw = 2\n",
      "bf = 1\n",
      "calculating bending moment M and radius of curvature p for values of y_y from 1/2d to 1/6d in increments of 1/2tf\n",
      "Bending moment M = 7\n",
      "Radius of curvature r_c = 6\n"
     ]
    }
   ],
   "source": [
    "y_y = input(\"Enter the value for y_y: \")\n",
    "tf = input(\"Enter the value for tf: \")\n",
    "tw = input(\"Enter the value for tw: \")\n",
    "bf = input(\"Enter the value for bf: \")\n",
    "print(f\"y_y = {y_y}\")\n",
    "print(f\"tf = {tf}\")\n",
    "print(f\"tw = {tw}\")\n",
    "print(f\"bf = {bf}\")\n",
    "print(f\"calculating bending moment M and radius of curvature p for values of y_y from 1/2d to 1/6d in increments of 1/2tf\")\n",
    "\n",
    "M = int(y_y) + 3\n",
    "print(f\"Bending moment M = {M}\")\n",
    "r_c = int(y_y) + 2\n",
    "print(f\"Radius of curvature r_c = {r_c}\")"
   ]
  },
  {
   "cell_type": "code",
   "execution_count": null,
   "metadata": {},
   "outputs": [],
   "source": []
  }
 ],
 "metadata": {
  "kernelspec": {
   "display_name": "Python 3",
   "language": "python",
   "name": "python3"
  },
  "language_info": {
   "codemirror_mode": {
    "name": "ipython",
    "version": 3
   },
   "file_extension": ".py",
   "mimetype": "text/x-python",
   "name": "python",
   "nbconvert_exporter": "python",
   "pygments_lexer": "ipython3",
   "version": "3.6.8"
  }
 },
 "nbformat": 4,
 "nbformat_minor": 2
}
