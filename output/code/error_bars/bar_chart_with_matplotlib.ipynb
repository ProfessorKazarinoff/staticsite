{
 "cells": [
  {
   "cell_type": "markdown",
   "metadata": {},
   "source": [
    "Building bar charts is a useful skill for engineers."
   ]
  },
  {
   "cell_type": "markdown",
   "metadata": {},
   "source": [
    "#### Import matplotlib and numpy"
   ]
  },
  {
   "cell_type": "code",
   "execution_count": 2,
   "metadata": {},
   "outputs": [],
   "source": [
    "import matplotlib.pyplot as plt\n",
    "import numpy as np\n",
    "\n",
    "#if using a jupyter notebook\n",
    "%matplotlib inline             "
   ]
  },
  {
   "cell_type": "markdown",
   "metadata": {},
   "source": [
    "#### Coefficient of thermal expansion of three metals (units: /  &#176;C) \n",
    "\n",
    " Sample | Aluminum | Copper | Steel \n",
    " ----- | ------------- | ------------- | ------------- \n",
    " 1 | 6.4e-5  | 4.5e-5  | 3.3e-5  \n",
    " 2 | 3.01e-5  | 1.97e-5  | 1.21e-5  \n",
    " 3 | 2.36e-5  | 1.6e-5  | 0.9e-5  \n",
    " 4 | 3.0e-5  | 1.97e-5 | 1.2e-5  \n",
    " 5 | 7.0e-5  | 4.0e-5  | 1.3e-5  \n",
    " 6 | 4.5e-5  | 2.4e-5  | 1.6e-5  \n",
    " 7 | 3.8e-5 | 1.9e-5  | 1.4e-5 \n",
    " 8 | 4.2e-5  | 2.41e-5  | 1.58e-5  \n",
    " 9 | 2.62e-5  | 1.85e-5  | 1.32e-5  \n",
    " 10 | 3.6e-5  | 3.3e-5  | 2.1e-5  \n",
    "\n",
    "We'll put this data into three different **numpy** arrays, one array for each metal. Notice the syntax ```np.array([ ... ])``` has a parenthesis ```(``` followed by a square bracket ```[```. We are passing a Python list, \\[ denoted with square brackets \\] into a the numpy array function (argument enclosed in parenthesis)."
   ]
  },
  {
   "cell_type": "code",
   "execution_count": 3,
   "metadata": {
    "collapsed": true
   },
   "outputs": [],
   "source": [
    "# Enter in the raw data\n",
    "aluminum = np.array([6.4e-5 , 3.01e-5 , 2.36e-5, 3.0e-5, 7.0e-5, 4.5e-5, 3.8e-5, 4.2e-5, 2.62e-5, 3.6e-5])\n",
    "copper = np.array([4.5e-5 , 1.97e-5 , 1.6e-5, 1.97e-5, 4.0e-5, 2.4e-5, 1.9e-5, 2.41e-5 , 1.85e-5, 3.3e-5 ])\n",
    "steel = np.array([3.3e-5 , 1.2e-5 , 0.9e-5, 1.2e-5, 1.3e-5, 1.6e-5, 1.4e-5, 1.58e-5, 1.32e-5 , 2.1e-5])"
   ]
  },
  {
   "cell_type": "code",
   "execution_count": 9,
   "metadata": {},
   "outputs": [],
   "source": [
    "# Calculate the average\n",
    "Aluminum_mean = np.mean(aluminum)\n",
    "Copper_mean = np.mean(copper)\n",
    "Steel_mean = np.mean(steel)\n",
    "CTEs =np.array([Aluminum_mean, Copper_mean, Steel_mean])\n",
    "x_pos =['Al','Cu','Steel']"
   ]
  },
  {
   "cell_type": "markdown",
   "metadata": {},
   "source": [
    "Now it's time to build the plot. We are going to build a bar chart with three different bars, one bar for each material: Aluminum, Copper and Steel. \n",
    "\n",
    "First we will create a figure object called ```fig``` and an axis object in that figure called ```ax``` using **matplotlib's** ```plt.subplots()``` function. Everything in our plot will be added to the ```ax``` (axis) object.  Next we put a bar chart on our ```ax``` (axis) with the ```ax.bar()``` method.  Note the arguments that go into this method: ```(x_pos, CTEs, yerr=error)```.  ```x_pos``` is the array with the count of the number of bars. ```CTEs``` is our array which contains the means or heights of the bars. ```yerr=error``` sets the heights of the error bars and the standard deviations. The subsequent arguments ```(align='center', alpha=0.5, ecolor='black', capsize=10)``` styles the plot.\n",
    "\n",
    "We'll put a label on the y-axis with the title \"Coefficient of thermal expansion (&#176;C<sup>-1</sup>)\" using ```ax.set_ylabel```. We use ```ax.set_xticks()``` to feed in our number array to set the bars as numbers 1, 2, 3.  Then we add labels to these numbered bars with ```ax.set_ticklabels()```. ```ax.set_title()``` and ```ax.yaxis.grid(True)``` adds a title and horizontal grid lines.\n",
    "\n",
    "Finally, we we'll save the figure to a file called **_bar_plot_with_error_bars.png_** using matplotlib's ```plt.savefig()``` function. The ```plt.thight_layout()``` line ensures that the labels for our bars and axis don't get cut off and are visible. "
   ]
  },
  {
   "cell_type": "code",
   "execution_count": 12,
   "metadata": {},
   "outputs": [
    {
     "ename": "NameError",
     "evalue": "name 'materials' is not defined",
     "output_type": "error",
     "traceback": [
      "\u001b[1;31m---------------------------------------------------------------------------\u001b[0m",
      "\u001b[1;31mNameError\u001b[0m                                 Traceback (most recent call last)",
      "\u001b[1;32m<ipython-input-12-efdbb5e26a97>\u001b[0m in \u001b[0;36m<module>\u001b[1;34m()\u001b[0m\n\u001b[0;32m      4\u001b[0m \u001b[0max\u001b[0m\u001b[1;33m.\u001b[0m\u001b[0mset_ylabel\u001b[0m\u001b[1;33m(\u001b[0m\u001b[1;34m'Coefficient of Thermal Expansion ($\\degree C^{-1}$)'\u001b[0m\u001b[1;33m)\u001b[0m\u001b[1;33m\u001b[0m\u001b[0m\n\u001b[0;32m      5\u001b[0m \u001b[1;33m\u001b[0m\u001b[0m\n\u001b[1;32m----> 6\u001b[1;33m \u001b[0max\u001b[0m\u001b[1;33m.\u001b[0m\u001b[0mset_xticklabels\u001b[0m\u001b[1;33m(\u001b[0m\u001b[0mmaterials\u001b[0m\u001b[1;33m)\u001b[0m\u001b[1;33m\u001b[0m\u001b[0m\n\u001b[0m\u001b[0;32m      7\u001b[0m \u001b[0max\u001b[0m\u001b[1;33m.\u001b[0m\u001b[0mset_title\u001b[0m\u001b[1;33m(\u001b[0m\u001b[1;34m'Coefficent of Thermal Expansion (CTE) of Three Metals'\u001b[0m\u001b[1;33m)\u001b[0m\u001b[1;33m\u001b[0m\u001b[0m\n\u001b[0;32m      8\u001b[0m \u001b[0max\u001b[0m\u001b[1;33m.\u001b[0m\u001b[0myaxis\u001b[0m\u001b[1;33m.\u001b[0m\u001b[0mgrid\u001b[0m\u001b[1;33m(\u001b[0m\u001b[1;32mTrue\u001b[0m\u001b[1;33m)\u001b[0m\u001b[1;33m\u001b[0m\u001b[0m\n",
      "\u001b[1;31mNameError\u001b[0m: name 'materials' is not defined"
     ]
    },
    {
     "data": {
      "image/png": "[encoded data removed]",
      "text/plain": [
       "<matplotlib.figure.Figure at 0x22055800710>"
      ]
     },
     "metadata": {},
     "output_type": "display_data"
    }
   ],
   "source": [
    "# Build the plot\n",
    "fig, ax = plt.subplots()\n",
    "ax.bar(x_pos, CTEs, align='center', alpha=0.5)\n",
    "ax.set_ylabel('Coefficient of Thermal Expansion ($\\degree C^{-1}$)')\n",
    "\n",
    "ax.set_xticklabels(materials)\n",
    "ax.set_title('Coefficent of Thermal Expansion (CTE) of Three Metals')\n",
    "ax.yaxis.grid(True)"
   ]
  },
  {
   "cell_type": "code",
   "execution_count": null,
   "metadata": {
    "collapsed": true
   },
   "outputs": [],
   "source": []
  }
 ],
 "metadata": {
  "kernelspec": {
   "display_name": "Python 3",
   "language": "python",
   "name": "python3"
  },
  "language_info": {
   "codemirror_mode": {
    "name": "ipython",
    "version": 3
   },
   "file_extension": ".py",
   "mimetype": "text/x-python",
   "name": "python",
   "nbconvert_exporter": "python",
   "pygments_lexer": "ipython3",
   "version": "3.6.3"
  }
 },
 "nbformat": 4,
 "nbformat_minor": 2
}
