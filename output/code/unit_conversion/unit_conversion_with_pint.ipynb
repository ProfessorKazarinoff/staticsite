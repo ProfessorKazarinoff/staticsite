{
 "cells": [
  {
   "cell_type": "markdown",
   "metadata": {},
   "source": [
    "Unit Conversions with Python and Pint \n",
    "See the ([Pint documentation](http://pint.readthedocs.io/en/latest/)) for more examples."
   ]
  },
  {
   "cell_type": "markdown",
   "metadata": {},
   "source": [
    "import pint and the UnitRegistry object. The UnitRegistry object has contains all the units used in the examples below."
   ]
  },
  {
   "cell_type": "code",
   "execution_count": 1,
   "metadata": {},
   "outputs": [],
   "source": [
    "import pint\n",
    "ureg = pint.UnitRegistry()"
   ]
  },
  {
   "cell_type": "markdown",
   "metadata": {},
   "source": [
    "#### Convert 252 kW to Btu/day"
   ]
  },
  {
   "cell_type": "code",
   "execution_count": 2,
   "metadata": {},
   "outputs": [],
   "source": [
    "power = 252*ureg.kW"
   ]
  },
  {
   "cell_type": "code",
   "execution_count": 10,
   "metadata": {},
   "outputs": [
    {
     "data": {
      "text/html": [
       "20636632.5971578 btu/day"
      ],
      "text/latex": [
       "$20636632.5971578\\ \\frac{\\mathrm{btu}}{\\mathrm{day}}$"
      ],
      "text/plain": [
       "<Quantity(20636632.5971578, 'btu / day')>"
      ]
     },
     "execution_count": 10,
     "metadata": {},
     "output_type": "execute_result"
    }
   ],
   "source": [
    "power.to(ureg.Btu / ureg.day )"
   ]
  },
  {
   "cell_type": "markdown",
   "metadata": {},
   "source": [
    "#### Convert 722 MPa to ksi"
   ]
  },
  {
   "cell_type": "code",
   "execution_count": 11,
   "metadata": {},
   "outputs": [],
   "source": [
    "stress = 722*ureg.MPa"
   ]
  },
  {
   "cell_type": "code",
   "execution_count": 12,
   "metadata": {},
   "outputs": [
    {
     "data": {
      "text/html": [
       "104.71724664121106 kip_per_square_inch"
      ],
      "text/latex": [
       "$104.71724664121106\\ \\mathrm{kip_per_square_inch}$"
      ],
      "text/plain": [
       "<Quantity(104.71724664121106, 'kip_per_square_inch')>"
      ]
     },
     "execution_count": 12,
     "metadata": {},
     "output_type": "execute_result"
    }
   ],
   "source": [
    "stress.to(ureg.ksi)"
   ]
  },
  {
   "cell_type": "markdown",
   "metadata": {},
   "source": [
    "#### Convert 1.620 m/s<sup>2</sup> to ft/min<sup>2</sup>"
   ]
  },
  {
   "cell_type": "code",
   "execution_count": 13,
   "metadata": {},
   "outputs": [
    {
     "data": {
      "text/html": [
       "1.62 meter/second<sup>2</sup>"
      ],
      "text/latex": [
       "$1.62\\ \\frac{\\mathrm{meter}}{\\mathrm{second}^{2}}$"
      ],
      "text/plain": [
       "<Quantity(1.62, 'meter / second ** 2')>"
      ]
     },
     "execution_count": 13,
     "metadata": {},
     "output_type": "execute_result"
    }
   ],
   "source": [
    "accel = 1.620 *ureg.m/(ureg.s**2)\n",
    "accel"
   ]
  },
  {
   "cell_type": "code",
   "execution_count": 14,
   "metadata": {},
   "outputs": [
    {
     "data": {
      "text/html": [
       "19133.85826771654 foot/minute<sup>2</sup>"
      ],
      "text/latex": [
       "$19133.85826771654\\ \\frac{\\mathrm{foot}}{\\mathrm{minute}^{2}}$"
      ],
      "text/plain": [
       "<Quantity(19133.85826771654, 'foot / minute ** 2')>"
      ]
     },
     "execution_count": 14,
     "metadata": {},
     "output_type": "execute_result"
    }
   ],
   "source": [
    "accel.to(ureg.ft/(ureg.min**2))"
   ]
  },
  {
   "cell_type": "markdown",
   "metadata": {},
   "source": [
    "#### Convert 14.31 x 10<sup>8</sup> kJ kg mm<sup>-3</sup> to cal lb<sub>m</sub> / in<sup>3</sup>"
   ]
  },
  {
   "cell_type": "code",
   "execution_count": 15,
   "metadata": {},
   "outputs": [
    {
     "data": {
      "text/html": [
       "1431000000.0 kilogram kilojoule/millimeter<sup>3</sup>"
      ],
      "text/latex": [
       "$1431000000.0\\ \\frac{\\mathrm{kilogram} \\cdot \\mathrm{kilojoule}}{\\mathrm{millimeter}^{3}}$"
      ],
      "text/plain": [
       "<Quantity(1431000000.0, 'kilogram * kilojoule / millimeter ** 3')>"
      ]
     },
     "execution_count": 15,
     "metadata": {},
     "output_type": "execute_result"
    }
   ],
   "source": [
    "quant = 14.31e8 * ureg.kJ * ureg.kg * ureg.mm**(-3)\n",
    "quant"
   ]
  },
  {
   "cell_type": "code",
   "execution_count": 16,
   "metadata": {},
   "outputs": [
    {
     "data": {
      "text/html": [
       "1.2356155557389996e+16 calorie pound/inch<sup>3</sup>"
      ],
      "text/latex": [
       "$1.2356155557389996e+16\\ \\frac{\\mathrm{calorie} \\cdot \\mathrm{pound}}{\\mathrm{inch}^{3}}$"
      ],
      "text/plain": [
       "<Quantity(1.2356155557389996e+16, 'calorie * pound / inch ** 3')>"
      ]
     },
     "execution_count": 16,
     "metadata": {},
     "output_type": "execute_result"
    }
   ],
   "source": [
    "quant.to( ureg.cal*ureg.lb / (ureg.inch**3))"
   ]
  },
  {
   "cell_type": "code",
   "execution_count": null,
   "metadata": {},
   "outputs": [],
   "source": []
  }
 ],
 "metadata": {
  "kernelspec": {
   "display_name": "Python 3",
   "language": "python",
   "name": "python3"
  },
  "language_info": {
   "codemirror_mode": {
    "name": "ipython",
    "version": 3
   },
   "file_extension": ".py",
   "mimetype": "text/x-python",
   "name": "python",
   "nbconvert_exporter": "python",
   "pygments_lexer": "ipython3",
   "version": "3.6.2"
  }
 },
 "nbformat": 4,
 "nbformat_minor": 2
}
