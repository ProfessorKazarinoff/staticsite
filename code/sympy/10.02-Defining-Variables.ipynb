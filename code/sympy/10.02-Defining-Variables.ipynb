{
 "cells": [
  {
   "cell_type": "markdown",
   "metadata": {},
   "source": [
    "## Defining Variables"
   ]
  },
  {
   "cell_type": "markdown",
   "metadata": {},
   "source": [
    "To define variables with **SymPy**,  first import the ```symbols()``` function from the **SymPy** module:"
   ]
  },
  {
   "cell_type": "code",
   "execution_count": 1,
   "metadata": {},
   "outputs": [],
   "source": [
    "from sympy import symbols"
   ]
  },
  {
   "cell_type": "markdown",
   "metadata": {},
   "source": [
    "Symbolic math symbols are declared using **SymPy's** ```symbols()``` function. Note that in the arguments of the ```symbols()``` function, symbol names are separated by a space (no comma) and surrounded by quotes. The output of the ```symbols()``` function are **SymPy** symbol objects. These output objects need to be separated by comas with no quotation marks."
   ]
  },
  {
   "cell_type": "code",
   "execution_count": 2,
   "metadata": {},
   "outputs": [],
   "source": [
    "x, y = symbols('x y')"
   ]
  },
  {
   "cell_type": "markdown",
   "metadata": {},
   "source": [
    "### Substitution"
   ]
  },
  {
   "cell_type": "markdown",
   "metadata": {},
   "source": [
    "Now that the symbols ```x``` and ```y``` are instantiated, a _symbolic math expression_ using ```x``` and ```y``` can be created. \n",
    "\n",
    "A symbolic math expression is a combination of symbolic math variables with numbers and mathematical opporators (such as ```+```,```-```,```/``` and ```*```. The standard Python rules for calculating numbers apply in **SymPy** symbolic math expressions.  "
   ]
  },
  {
   "cell_type": "code",
   "execution_count": 3,
   "metadata": {},
   "outputs": [],
   "source": [
    "expr = 2*x + y"
   ]
  },
  {
   "cell_type": "markdown",
   "metadata": {},
   "source": [
    "Use the ```.subs()``` method to insert a numerical value into a symbolic math expression, . The first argument of the ```.subs()``` method is the variable and the second argument is the numerical value. In the expression above:\n",
    "\n",
    "$$ 2x +y $$\n",
    "\n",
    "If we substitute\n",
    "\n",
    "$$ x = 2 $$\n",
    "\n",
    "The resulting expression should be\n",
    "\n",
    "$$ 2(2) + y $$\n",
    "$$ 4 +y $$"
   ]
  },
  {
   "cell_type": "code",
   "execution_count": 4,
   "metadata": {},
   "outputs": [
    {
     "data": {
      "text/plain": [
       "y + 4"
      ]
     },
     "execution_count": 4,
     "metadata": {},
     "output_type": "execute_result"
    }
   ],
   "source": [
    "expr.subs(x, 2)"
   ]
  },
  {
   "cell_type": "markdown",
   "metadata": {},
   "source": [
    "The ```.subs()``` method does not replace variables in place, it only completes a one-time substitution. If ```expr``` is called after the ```.subs()``` method is applied, the originol ```expr``` expression is returned."
   ]
  },
  {
   "cell_type": "code",
   "execution_count": 5,
   "metadata": {},
   "outputs": [
    {
     "data": {
      "text/plain": [
       "2*x + y"
      ]
     },
     "execution_count": 5,
     "metadata": {},
     "output_type": "execute_result"
    }
   ],
   "source": [
    "expr"
   ]
  },
  {
   "cell_type": "markdown",
   "metadata": {},
   "source": [
    "In order to make the substitution permanent, a new expression object needs to be instantiated as the output of the ```.subs()``` method."
   ]
  },
  {
   "cell_type": "code",
   "execution_count": 6,
   "metadata": {},
   "outputs": [
    {
     "data": {
      "text/plain": [
       "y + 4"
      ]
     },
     "execution_count": 6,
     "metadata": {},
     "output_type": "execute_result"
    }
   ],
   "source": [
    "expr = 2*x + y\n",
    "expr2 = expr.subs(x, 2)\n",
    "expr2"
   ]
  },
  {
   "cell_type": "markdown",
   "metadata": {},
   "source": [
    "**SymPy** variables can also be substituted into **SymPy** expressions"
   ]
  },
  {
   "cell_type": "code",
   "execution_count": 7,
   "metadata": {},
   "outputs": [
    {
     "data": {
      "text/plain": [
       "y + 2*z"
      ]
     },
     "execution_count": 7,
     "metadata": {},
     "output_type": "execute_result"
    }
   ],
   "source": [
    "x, y, z = symbols('x y z')\n",
    "expr = 2*x + y\n",
    "expr2 = expr.subs(x, z)\n",
    "expr2"
   ]
  },
  {
   "cell_type": "markdown",
   "metadata": {},
   "source": [
    "More complex substitutions can also be used. Consider the following:\n",
    "\n",
    "$$ 2x + y $$\n",
    "\n",
    "substitute in \n",
    "\n",
    "$$ y = 2x^2 + z^{-3} $$\n",
    "\n",
    "results in\n",
    "\n",
    "$$ 2x + 2x^2 + z^{-3} $$\n",
    "    "
   ]
  },
  {
   "cell_type": "code",
   "execution_count": 8,
   "metadata": {},
   "outputs": [
    {
     "data": {
      "text/plain": [
       "2*x**2 + 2*x + z**(-3)"
      ]
     },
     "execution_count": 8,
     "metadata": {},
     "output_type": "execute_result"
    }
   ],
   "source": [
    "x, y, z = symbols('x y z')\n",
    "expr = 2*x + y\n",
    "expr2 = expr.subs(y, 2*x**2 + z**(-3))\n",
    "expr2"
   ]
  },
  {
   "cell_type": "markdown",
   "metadata": {},
   "source": [
    "A more practical example could involve a large equation and several variable substitutions\n",
    "\n",
    "$$ n_0e^{-Q_v/RT} $$\n",
    "\n",
    "$$ n_0 = 3.48 \\times 10^-6 $$\n",
    "\n",
    "$$ Q_v = 12,700 $$\n",
    "\n",
    "$$ R = 8.31 $$\n",
    "\n",
    "$$ T = 1000 + 273 $$"
   ]
  },
  {
   "cell_type": "code",
   "execution_count": 9,
   "metadata": {},
   "outputs": [],
   "source": [
    "from sympy import symbols, exp\n",
    "n0, Qv, R, T = symbols('n0 Qv R T')\n",
    "expr = n0*exp(-Qv/(R*T))"
   ]
  },
  {
   "cell_type": "markdown",
   "metadata": {},
   "source": [
    "Multiply **SymPy** ```subs()``` methods can be chained together to substitue multiple variables in one line of code"
   ]
  },
  {
   "cell_type": "code",
   "execution_count": 10,
   "metadata": {},
   "outputs": [
    {
     "data": {
      "text/plain": [
       "3.48e-6*exp(-12700/10223463)"
      ]
     },
     "execution_count": 10,
     "metadata": {},
     "output_type": "execute_result"
    }
   ],
   "source": [
    "expr.subs(n0, 3.48e-6).subs(Qv,12700).subs(R, 8031).subs(T, 1000+273)"
   ]
  },
  {
   "cell_type": "markdown",
   "metadata": {},
   "source": [
    "To evaluate an expression as a floating point number, use the ```.evalf()``` method."
   ]
  },
  {
   "cell_type": "code",
   "execution_count": 11,
   "metadata": {},
   "outputs": [],
   "source": [
    "expr2 = expr.subs(n0, 3.48e-6).subs(Qv,12700).subs(R, 8031).subs(T, 1000+273)"
   ]
  },
  {
   "cell_type": "code",
   "execution_count": 12,
   "metadata": {},
   "outputs": [
    {
     "data": {
      "text/plain": [
       "3.47567968697765e-6"
      ]
     },
     "execution_count": 12,
     "metadata": {},
     "output_type": "execute_result"
    }
   ],
   "source": [
    "expr2.evalf()"
   ]
  },
  {
   "cell_type": "code",
   "execution_count": null,
   "metadata": {},
   "outputs": [],
   "source": []
  }
 ],
 "metadata": {
  "kernelspec": {
   "display_name": "Python 3",
   "language": "python",
   "name": "python3"
  },
  "language_info": {
   "codemirror_mode": {
    "name": "ipython",
    "version": 3
   },
   "file_extension": ".py",
   "mimetype": "text/x-python",
   "name": "python",
   "nbconvert_exporter": "python",
   "pygments_lexer": "ipython3",
   "version": "3.6.3"
  }
 },
 "nbformat": 4,
 "nbformat_minor": 2
}
