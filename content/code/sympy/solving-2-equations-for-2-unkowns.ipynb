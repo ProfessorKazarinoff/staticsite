{
 "cells": [
  {
   "cell_type": "markdown",
   "metadata": {},
   "source": [
    "SymPy [http://www.sympy.org](http://www.sympy.org) is a Python library for __symbolic math__.  \n",
    "\n",
    "Symbolic Math is using symbols to represent mathematical expressions. An example symbolic math expression is below:"
   ]
  },
  {
   "cell_type": "markdown",
   "metadata": {},
   "source": [
    "$$ x^{2} + y^{2} = z $$"
   ]
  },
  {
   "cell_type": "markdown",
   "metadata": {},
   "source": [
    "In the expression, we have the variables $x$, $y$ and $z$. "
   ]
  },
  {
   "cell_type": "markdown",
   "metadata": {},
   "source": [
    "If we define a second symbolic math expression as:"
   ]
  },
  {
   "cell_type": "markdown",
   "metadata": {},
   "source": [
    "$$ x = a + b $$"
   ]
  },
  {
   "cell_type": "markdown",
   "metadata": {},
   "source": [
    "then we can substitue in $a + b$ for $x$."
   ]
  },
  {
   "cell_type": "markdown",
   "metadata": {},
   "source": [
    "This would result in the expression:"
   ]
  },
  {
   "cell_type": "markdown",
   "metadata": {},
   "source": [
    "$$ (a + b)^{2} + y^{2} = z $$\n",
    "\n",
    "$$ a^{2} + 2ab + b^{2} + y^{2} = z $$"
   ]
  },
  {
   "cell_type": "markdown",
   "metadata": {},
   "source": [
    "Now to solve for $y$ in terms of $a$,$b$ and $z$, would result in:\n",
    "    \n",
    "$$ y = \\sqrt{z - a^{2} - 2ab - b^{2}} $$"
   ]
  },
  {
   "cell_type": "markdown",
   "metadata": {},
   "source": [
    "If we have numerical values for $z$, $a$ and $b$, we can use Python to calculate the value of $y$. But if we don't have numberical values for $z$, $a$ and $b$, Python can also be used to rearrange terms and solve for one variable $y$ in terms of the other variables $z$, $a$ and $b$. Working with mathemtical symbols in a programatic way instead of working with numerical values in a programatic way is call symbolic math."
   ]
  },
  {
   "cell_type": "markdown",
   "metadata": {},
   "source": [
    "To work with symbolic math, the **SymPy** library needs to be installed. Using the **Anaconda Prompt** this can be accomplished with the command:\n",
    "\n",
    "```bash\n",
    "> conda install sympy\n",
    "```"
   ]
  },
  {
   "cell_type": "markdown",
   "metadata": {},
   "source": [
    "Sympy is included with the Anaconda distribution of Python, so if you have the full Anaconda distrobution, you will be notified that the **Sympy** library is already installed."
   ]
  },
  {
   "cell_type": "markdown",
   "metadata": {},
   "source": [
    "## Defining Variables in Sympy"
   ]
  },
  {
   "cell_type": "markdown",
   "metadata": {},
   "source": [
    "To define variables with **SymPy**,  first import the ```symbols()``` function from the **SymPy** module:"
   ]
  },
  {
   "cell_type": "code",
   "execution_count": 1,
   "metadata": {},
   "outputs": [],
   "source": [
    "from sympy import symbols"
   ]
  },
  {
   "cell_type": "markdown",
   "metadata": {},
   "source": [
    "Symbolic math variables are declared using **SymPy's** ```symbols()``` function. Note that in the arguments of the ```symbols()``` function, symbol names are separated by a space (no comma) and surrounded by quotes. The output of the ```symbols()``` function are **SymPy** symbol objects. These output objects need to be separated by comas with no quotation marks."
   ]
  },
  {
   "cell_type": "code",
   "execution_count": 2,
   "metadata": {},
   "outputs": [],
   "source": [
    "x, y = symbols('x y')"
   ]
  },
  {
   "cell_type": "markdown",
   "metadata": {},
   "source": [
    "Now that the symbols ```x``` and ```y``` are instantiated, a _symbolic math expression_ using ```x``` and ```y``` can be created. \n",
    "\n",
    "A symbolic math expression is a combination of symbolic math variables with numbers and mathematical opporators (such as ```+```,```-```,```/``` and ```*```. The standard Python rules for calculating numbers apply in **SymPy** symbolic math expressions.  "
   ]
  },
  {
   "cell_type": "code",
   "execution_count": 3,
   "metadata": {},
   "outputs": [],
   "source": [
    "expr = 2*x + y"
   ]
  },
  {
   "cell_type": "markdown",
   "metadata": {},
   "source": [
    "Use the ```.subs()``` method to insert a numerical value into a symbolic math expression. The first argument of the ```.subs()``` method is the variable and the second argument is the numerical value. In the expression above:\n",
    "\n",
    "$$ 2x + y $$\n",
    "\n",
    "If we substitute\n",
    "\n",
    "$$ x = 2 $$\n",
    "\n",
    "The resulting expression should be\n",
    "\n",
    "$$ 2(2) + y $$\n",
    "$$ 4 +y $$"
   ]
  },
  {
   "cell_type": "code",
   "execution_count": 4,
   "metadata": {},
   "outputs": [
    {
     "data": {
      "text/plain": [
       "y + 4"
      ]
     },
     "execution_count": 4,
     "metadata": {},
     "output_type": "execute_result"
    }
   ],
   "source": [
    "expr.subs(x, 2)"
   ]
  },
  {
   "cell_type": "markdown",
   "metadata": {},
   "source": [
    "The ```.subs()``` method does not replace variables in place, it only completes a one-time substitution. If ```expr``` is called after the ```.subs()``` method is applied, the originol ```expr``` expression is returned"
   ]
  },
  {
   "cell_type": "code",
   "execution_count": 5,
   "metadata": {},
   "outputs": [
    {
     "data": {
      "text/plain": [
       "2*x + y"
      ]
     },
     "execution_count": 5,
     "metadata": {},
     "output_type": "execute_result"
    }
   ],
   "source": [
    "expr"
   ]
  },
  {
   "cell_type": "markdown",
   "metadata": {},
   "source": [
    "In order to make the substitution permanent, a new expression object needs to be instantiated as the output of the ```.subs()``` method."
   ]
  },
  {
   "cell_type": "code",
   "execution_count": 6,
   "metadata": {},
   "outputs": [
    {
     "data": {
      "text/plain": [
       "y + 4"
      ]
     },
     "execution_count": 6,
     "metadata": {},
     "output_type": "execute_result"
    }
   ],
   "source": [
    "expr = 2*x + y\n",
    "expr2 = expr.subs(x, 2)\n",
    "expr2"
   ]
  },
  {
   "cell_type": "markdown",
   "metadata": {},
   "source": [
    "**SymPy** variables can also be substituted into **SymPy** expressions"
   ]
  },
  {
   "cell_type": "code",
   "execution_count": 7,
   "metadata": {},
   "outputs": [
    {
     "data": {
      "text/plain": [
       "y + 2*z"
      ]
     },
     "execution_count": 7,
     "metadata": {},
     "output_type": "execute_result"
    }
   ],
   "source": [
    "x, y, z = symbols('x y z')\n",
    "expr = 2*x + y\n",
    "expr2 = expr.subs(x, z)\n",
    "expr2"
   ]
  },
  {
   "cell_type": "markdown",
   "metadata": {},
   "source": [
    "More complex substitutions can also be used. Consider the following:\n",
    "\n",
    "$$ 2x + y $$\n",
    "\n",
    "substitute in \n",
    "\n",
    "$$ y = 2x^2 + z^{-3} $$\n",
    "\n",
    "results in\n",
    "\n",
    "$$ 2x + 2x^2 + z^{-3} $$\n",
    "    "
   ]
  },
  {
   "cell_type": "code",
   "execution_count": 8,
   "metadata": {},
   "outputs": [
    {
     "data": {
      "text/plain": [
       "2*x**2 + 2*x + z**(-3)"
      ]
     },
     "execution_count": 8,
     "metadata": {},
     "output_type": "execute_result"
    }
   ],
   "source": [
    "x, y, z = symbols('x y z')\n",
    "expr = 2*x + y\n",
    "expr2 = expr.subs(y, 2*x**2 + z**(-3))\n",
    "expr2"
   ]
  },
  {
   "cell_type": "markdown",
   "metadata": {},
   "source": [
    "A more practical example could involve a large expression and several variable substitutions.\n",
    "\n",
    "$$ n_0e^{-Q_v/RT} $$\n",
    "\n",
    "$$ n_0 = 3.48 \\times 10^-6 $$\n",
    "\n",
    "$$ Q_v = 12,700 $$\n",
    "\n",
    "$$ R = 8.31 $$\n",
    "\n",
    "$$ T = 1000 + 273 $$"
   ]
  },
  {
   "cell_type": "code",
   "execution_count": 9,
   "metadata": {},
   "outputs": [],
   "source": [
    "from sympy import symbols, exp\n",
    "n0, Qv, R, T = symbols('n0 Qv R T')\n",
    "expr = n0*exp(-Qv/(R*T))"
   ]
  },
  {
   "cell_type": "markdown",
   "metadata": {},
   "source": [
    "Multiply **SymPy** ```subs()``` methods can be chained together to substitue multiple variables in one line of code"
   ]
  },
  {
   "cell_type": "code",
   "execution_count": 10,
   "metadata": {},
   "outputs": [
    {
     "data": {
      "text/plain": [
       "3.48e-6*exp(-12700/10223463)"
      ]
     },
     "execution_count": 10,
     "metadata": {},
     "output_type": "execute_result"
    }
   ],
   "source": [
    "expr.subs(n0, 3.48e-6).subs(Qv,12700).subs(R, 8031).subs(T, 1000+273)"
   ]
  },
  {
   "cell_type": "markdown",
   "metadata": {},
   "source": [
    "To evaluate an expression as a floating point number (get the numerical answer out), use the ```.evalf()``` method"
   ]
  },
  {
   "cell_type": "code",
   "execution_count": 11,
   "metadata": {},
   "outputs": [
    {
     "data": {
      "text/plain": [
       "3.47567968697765e-6"
      ]
     },
     "execution_count": 11,
     "metadata": {},
     "output_type": "execute_result"
    }
   ],
   "source": [
    "expr2 = expr.subs(n0, 3.48e-6).subs(Qv,12700).subs(R, 8031).subs(T, 1000+273)\n",
    "expr2.evalf()"
   ]
  },
  {
   "cell_type": "markdown",
   "metadata": {},
   "source": [
    "## Defining Equations in Sympy"
   ]
  },
  {
   "cell_type": "markdown",
   "metadata": {},
   "source": [
    "Using symbolic math variables, we can define equations using **SymPy**. _Equations_ in **SymPy** are different than _expressions_. An expression does not have equality. An equation has equality."
   ]
  },
  {
   "cell_type": "code",
   "execution_count": 12,
   "metadata": {},
   "outputs": [],
   "source": [
    "from sympy import symbols, Eq, solveset, solve\n",
    "from sympy.solvers.solveset import linsolve"
   ]
  },
  {
   "cell_type": "code",
   "execution_count": 13,
   "metadata": {},
   "outputs": [],
   "source": [
    "x, y = symbols('x y')"
   ]
  },
  {
   "cell_type": "markdown",
   "metadata": {},
   "source": [
    "**SymPy** equations are instantiated as an object of the ```Eq``` class. Once Sympy symbols are created, they can be passed into an equation object. Let's create the equation:\n",
    "\n",
    "$$ 2x + y - 1 = 0 $$"
   ]
  },
  {
   "cell_type": "code",
   "execution_count": 14,
   "metadata": {},
   "outputs": [],
   "source": [
    "eq1 = Eq(2*x - y - 1)"
   ]
  },
  {
   "cell_type": "markdown",
   "metadata": {},
   "source": [
    "Now let's create a second equation:\n",
    "\n",
    "$$ x + y - 5 = 0 $$"
   ]
  },
  {
   "cell_type": "code",
   "execution_count": 15,
   "metadata": {},
   "outputs": [],
   "source": [
    "eq2 = Eq(x + y - 5)"
   ]
  },
  {
   "cell_type": "markdown",
   "metadata": {},
   "source": [
    "To solve the two equations for the two variables ```x``` and ```y```, we'll use **SymPy's** ```solve()``` function. The function takes two arguments, a tuple of the equations ```(eq1, eq2)``` and a tuple of the variables to solve for ```(x, y)```."
   ]
  },
  {
   "cell_type": "code",
   "execution_count": 16,
   "metadata": {},
   "outputs": [
    {
     "data": {
      "text/plain": [
       "{x: 2, y: 3}"
      ]
     },
     "execution_count": 16,
     "metadata": {},
     "output_type": "execute_result"
    }
   ],
   "source": [
    "sol = solve((eq1, eq2),(x, y))\n",
    "sol"
   ]
  },
  {
   "cell_type": "markdown",
   "metadata": {},
   "source": [
    "The **SymPy** solution object is a dictionary. The keys are the **SymPy** variable objects and the values are the numerical values these variables correspond to."
   ]
  },
  {
   "cell_type": "code",
   "execution_count": 17,
   "metadata": {},
   "outputs": [
    {
     "name": "stdout",
     "output_type": "stream",
     "text": [
      "The solution is x = 2, y = 3\n"
     ]
    }
   ],
   "source": [
    "print(f'The solution is x = {sol[x]}, y = {sol[y]}')"
   ]
  },
  {
   "cell_type": "markdown",
   "metadata": {},
   "source": [
    "## Summary\n",
    "\n",
    "In this post we looked at a Python package for symbolic math called **SymPy**.  Using symbolic math in programming we can define expressions and equations exactly in terms of symbolic variables. We reviewed how to create a SymPy expression and substitue values and variables into the expression. Then we created to **SymPy** equation objects and solved these two equations for two unknowns using **SymPy's** solve function."
   ]
  },
  {
   "cell_type": "code",
   "execution_count": null,
   "metadata": {},
   "outputs": [],
   "source": []
  }
 ],
 "metadata": {
  "kernelspec": {
   "display_name": "Python 3",
   "language": "python",
   "name": "python3"
  },
  "language_info": {
   "codemirror_mode": {
    "name": "ipython",
    "version": 3
   },
   "file_extension": ".py",
   "mimetype": "text/x-python",
   "name": "python",
   "nbconvert_exporter": "python",
   "pygments_lexer": "ipython3",
   "version": "3.6.3"
  }
 },
 "nbformat": 4,
 "nbformat_minor": 2
}
