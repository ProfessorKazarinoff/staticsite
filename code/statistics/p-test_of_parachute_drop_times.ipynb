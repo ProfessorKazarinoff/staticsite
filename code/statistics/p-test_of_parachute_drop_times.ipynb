{
 "cells": [
  {
   "cell_type": "markdown",
   "metadata": {},
   "source": [
    "# A statistical t-test of parachute drop times using Python and numpy"
   ]
  },
  {
   "cell_type": "markdown",
   "metadata": {},
   "source": [
    "In this post, we'll review how to complete of t-test using Python and **numpy**. A statistical _t-test_ is one type of test used by to determine whether two different samples are statistically different or two different samples are statistically the same.\n",
    "\n",
    "The data for two samples comes from the measured drop times of parachutes built as part of a group project in an introductory Engineering class. Each group needed to build a parachute and then there was a competition to determine which parachute slowed the fall of a bean bag the most. The group with the slowest parachute fall is given extra credit.\n",
    "\n",
    "Two of the parachutes in the class had pretty close drop times. We are going to use Python and **numpy** to determine if the parachute drop times are statistically different (only one group gets extra credit) or statistically the same (both groups get extra credit).\n",
    "\n",
    "Each parachute was timed by at least 4 people. The recorded drop times for parachute a and parachute b are below. The drop times were measured in seconds. The longer the time (highest number of seconds), the slower the parachute descended. \n",
    "\n",
    "| parachute a | parachute b |\n",
    "| --- | --- |\n",
    "| 4.4 s | 3.78 s |\n",
    "| 4.11 s | 4.1 s |\n",
    "| 4.7 s | 3.93 s |\n",
    "| 4.64 s | 4.72 s |\n",
    "| | 3.56 s |\n",
    "| | 3.92 s |\n",
    "\n",
    "Let's use Python to quickly compute the mean (average) drop time of each parachute. Remember the mean is the sum of the measurements divided by the number of measurements. We can create a list of drop times, then use Python's ```sum()``` function and ```len()``` function to compute the mean. ```sum()``` sums the values in a list, ```len()``` outputs the number of values in a list."
   ]
  },
  {
   "cell_type": "code",
   "execution_count": 6,
   "metadata": {},
   "outputs": [
    {
     "name": "stdout",
     "output_type": "stream",
     "text": [
      " mean a = 4.5, mean b = 4.0\n"
     ]
    }
   ],
   "source": [
    "a = [4.4, 4.11, 4.7, 4.64]\n",
    "b = [3.78, 4.1, 3.93, 4.72, 3.56, 3.92]\n",
    "mean_a = sum(a)/len(a)\n",
    "mean_b = sum(b)/len(b)\n",
    "print(f' mean a = {round(mean_a,1)}, mean b = {round(mean_b,1)}')"
   ]
  },
  {
   "cell_type": "markdown",
   "metadata": {},
   "source": [
    "If we just use the means, it seems like parachute a and parachute b are different and have different fall times.\n",
    "\n",
    "The mean of ```a``` is ```4.5``` and the mean of ```b``` is ```4.0```\n",
    "\n",
    "But note that ```b``` has the value ```4.71``` in it, which is higher than the mean of a (```4.0```). Also note that ```a``` has the value ```4.11``` in it, which is very close to the mean of ```b```. \n",
    "\n",
    "So are the two samples different or the same? Time to build our t-test.\n",
    "\n",
    "As part of a t-test we need to construct a hypothesis and a null hypothesis. \n",
    "\n",
    "Hypothesis: The two parachutes have statistically different drop times\n",
    "\n",
    "Null Hypothesis: The two parachutes do not have different drop times\n",
    "\n",
    "Next we need to set a confidence interval. How sure do we want to be that the two sets of drop times are different? For me, I'd take a 90% confidence interval.\n",
    "\n",
    "We also should specify what probability is acceptable that the two sets of drop times were just random. I am comfortable with a 10% chance the two samples are just random."
   ]
  },
  {
   "cell_type": "code",
   "execution_count": 8,
   "metadata": {},
   "outputs": [],
   "source": [
    "import numpy as np\n",
    "from scipy import stats\n"
   ]
  },
  {
   "cell_type": "markdown",
   "metadata": {},
   "source": [
    "Next we input the data as **numpy** arrays. Then we calculate the average number of data points per sample. Since parachute a has 4 measurements and parachute b has 6 measurements, the mean number of measurements is 5."
   ]
  },
  {
   "cell_type": "code",
   "execution_count": 9,
   "metadata": {},
   "outputs": [],
   "source": [
    "# Data from parachute drops\n",
    "a = np.array([4.4,4.11,4.7,4.64])\n",
    "b = np.array([3.78,4.1,3.93,4.72,3.56,3.92])\n",
    "# average number of data points per sample\n",
    "N = (len(a)+len(b))/2"
   ]
  },
  {
   "cell_type": "markdown",
   "metadata": {},
   "source": [
    "We'll use **numpy's** ```np.mean()``` function to calculate the mean of each sample, and we'll use **numpy's** ```np.stdev()``` function to calculate the standard deviation of each sample. Printing them out as an _f-string_ rounded to a small number of decimal places makes the means and standard deviations easier to read."
   ]
  },
  {
   "cell_type": "code",
   "execution_count": 11,
   "metadata": {},
   "outputs": [
    {
     "name": "stdout",
     "output_type": "stream",
     "text": [
      " mean of a = 4.5\n",
      " mean of b = 4.0\n",
      " stdev of a = 0.23\n",
      " stdev of b = 0.36\n"
     ]
    }
   ],
   "source": [
    "a_mean = np.mean(a)\n",
    "b_mean = np.mean(b)\n",
    "print(f' mean of a = {round(a_mean,1)}')\n",
    "print(f' mean of b = {round(b_mean,1)}')\n",
    "a_std = np.std(a)\n",
    "b_std = np.std(b)\n",
    "print(f' stdev of a = {round(a_std,2)}')\n",
    "print(f' stdev of b = {round(b_std,2)}')"
   ]
  },
  {
   "cell_type": "code",
   "execution_count": 12,
   "metadata": {},
   "outputs": [],
   "source": [
    "# Compute the variance\n",
    "var_a = a.var(ddof=1)\n",
    "var_b = b.var(ddof=1)\n"
   ]
  },
  {
   "cell_type": "code",
   "execution_count": 13,
   "metadata": {},
   "outputs": [
    {
     "name": "stdout",
     "output_type": "stream",
     "text": [
      "standard deviation = 0.34 s\n"
     ]
    }
   ],
   "source": [
    "# Compute the standard deviation\n",
    "s = np.sqrt((var_a + var_b)/2)\n",
    "print(f'standard deviation = {round(s,2)} s')"
   ]
  },
  {
   "cell_type": "code",
   "execution_count": 14,
   "metadata": {},
   "outputs": [
    {
     "name": "stdout",
     "output_type": "stream",
     "text": [
      "t-value = 2.16 \n"
     ]
    }
   ],
   "source": [
    "## Calculate the t-statistics\n",
    "t = (a.mean() - b.mean())/(s*np.sqrt(2/N))\n",
    "print(f't-value = {round(t,2)} ')"
   ]
  },
  {
   "cell_type": "code",
   "execution_count": 15,
   "metadata": {},
   "outputs": [
    {
     "name": "stdout",
     "output_type": "stream",
     "text": [
      "degrees of freedom = 8 \n"
     ]
    }
   ],
   "source": [
    "## Compare with the critical t-value\n",
    "#Degrees of freedom\n",
    "df = len(a)+len(b)-2\n",
    "print(f'degrees of freedom = {round(df,0)} ')"
   ]
  },
  {
   "cell_type": "code",
   "execution_count": 16,
   "metadata": {},
   "outputs": [
    {
     "name": "stdout",
     "output_type": "stream",
     "text": [
      "after comparision with t, p-value = 0.032 \n"
     ]
    }
   ],
   "source": [
    "#p-value after comparison with the t \n",
    "p = 1 - stats.t.cdf(t,df=df)\n",
    "print(f'after comparision with t, p-value = {round(p,3)} ')"
   ]
  },
  {
   "cell_type": "code",
   "execution_count": 17,
   "metadata": {},
   "outputs": [
    {
     "name": "stdout",
     "output_type": "stream",
     "text": [
      "t = 2.156340229982052\n",
      "p = 0.0631484553773829\n"
     ]
    }
   ],
   "source": [
    "print(\"t = \" + str(t))\n",
    "print(\"p = \" + str(2*p))\n",
    "#Note that we multiply the p value by 2 because its a twp tail t-test\n",
    "### You can see that after comparing the t statistic with the critical t value (computed internally)\n",
    "### we get a good p value of 0.032 and thus we reject the null hypothesis\n",
    "### and thus it proves that the mean of the two distributions are different and statistically significant."
   ]
  },
  {
   "cell_type": "code",
   "execution_count": 18,
   "metadata": {},
   "outputs": [
    {
     "name": "stdout",
     "output_type": "stream",
     "text": [
      "calculated t = 2.16 is greater than critical t = 1.397 \n",
      "The two samples are statistically different from eachother within a 90% confidence interval\n",
      "p-value of p = 0.06 indicates there is a 6.0 % chance the experiment happend by chance\n"
     ]
    }
   ],
   "source": [
    "#based on chart https://towardsdatascience.com/inferential-statistics-series-t-test-using-numpy-2718f8f9bf2f\n",
    "# t @ 90% confidence and 8 degrees of freedom = 1.397\n",
    "\n",
    "# if calculated t-value (from the data) is greater than critical t-value (from the table), \n",
    "# the two samples are statistically different at a 90% confidence interval\n",
    "\n",
    "t_crit = 1.397\n",
    "if t>t_crit:\n",
    "    print(f'calculated t = {round(t,2)} is greater than critical t = {round(t_crit,3)} ')\n",
    "    print('The two samples are statistically different from eachother within a 90% confidence interval')\n",
    "    print(f'p-value of p = {round(2*p,2)} indicates there is a {100*round(2*p,2)} % chance the experiment happend by chance')\n",
    "else:\n",
    "    print(f'calculated t={round(t,2)} is smaller than critical t= {round(t_crit)} ')\n",
    "    print('The two samples are not statistically different from eachother within a 90% confidence interval')"
   ]
  },
  {
   "cell_type": "code",
   "execution_count": 25,
   "metadata": {},
   "outputs": [
    {
     "name": "stdout",
     "output_type": "stream",
     "text": [
      "2.195\n",
      "0.06\n"
     ]
    }
   ],
   "source": [
    "# use scipy's built in function to claculate t-value and p-value. We get a very similar result.\n",
    "\n",
    "t2, p2 = stats.ttest_ind(a,b, equal_var=False)\n",
    "print(round(t2,3))\n",
    "print(round(p2,3))"
   ]
  },
  {
   "cell_type": "code",
   "execution_count": null,
   "metadata": {},
   "outputs": [],
   "source": []
  }
 ],
 "metadata": {
  "kernelspec": {
   "display_name": "Python 3",
   "language": "python",
   "name": "python3"
  },
  "language_info": {
   "codemirror_mode": {
    "name": "ipython",
    "version": 3
   },
   "file_extension": ".py",
   "mimetype": "text/x-python",
   "name": "python",
   "nbconvert_exporter": "python",
   "pygments_lexer": "ipython3",
   "version": "3.6.5"
  }
 },
 "nbformat": 4,
 "nbformat_minor": 2
}
