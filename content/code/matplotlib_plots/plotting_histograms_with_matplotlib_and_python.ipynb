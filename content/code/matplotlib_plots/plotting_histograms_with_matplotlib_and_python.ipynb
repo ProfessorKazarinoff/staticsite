{
 "cells": [
  {
   "cell_type": "markdown",
   "metadata": {},
   "source": [
    "Historgram plots can be created with Python and the plotting package **matplotlib**. The ```plt.hist()``` function creates histogram plots."
   ]
  },
  {
   "cell_type": "markdown",
   "metadata": {},
   "source": [
    "Before **matplotlib** can be used, **matplotlib** must first be installed. To install **matplotlib** open the **Anaconda Prompt** (or use a terminal and **pip**) and type:\n",
    "\n",
    "```bash\n",
    "> conda install matplotlib\n",
    "```\n",
    "\n",
    "If you are using the Anaconda distribution of Python, **matplotlib** is already installed. "
   ]
  },
  {
   "cell_type": "markdown",
   "metadata": {},
   "source": [
    "To create a histogram with **matplotlib**, first import **matplotlib** with the standard line \n",
    "\n",
    "```python\n",
    "import matplotlib.pyplot as plt\n",
    "```\n",
    "\n",
    "In our first example, we will also ```import numpy as np``` becuase we will use **numpy's** random number generator. If using a jupyter notebook, include the line ```%matplotlib inline``` below the imports."
   ]
  },
  {
   "cell_type": "code",
   "execution_count": 1,
   "metadata": {},
   "outputs": [],
   "source": [
    "import matplotlib.pyplot as plt\n",
    "import numpy as np\n",
    "%matplotlib inline"
   ]
  },
  {
   "cell_type": "markdown",
   "metadata": {},
   "source": [
    "In our first example, we'll set a mean ```mu = 80``` and a standard deviation ```sigma = 7```. Then we'll use **numpy's** ```np.random.normal()``` function to produce an array of random numbers with a normal distribution. The general format is:\n",
    "\n",
    "```python\n",
    "var = np.random.normal(mean, stdev, size=<number of values>)\n",
    "```"
   ]
  },
  {
   "cell_type": "code",
   "execution_count": 2,
   "metadata": {},
   "outputs": [],
   "source": [
    "mu = 80\n",
    "sigma = 7\n",
    "x = np.random.normal(mu, sigma, size=200)"
   ]
  },
  {
   "cell_type": "markdown",
   "metadata": {},
   "source": [
    "The ```plt.hist()``` function produces a histogram plot. The first positional argument passed to ```plt.hist()``` is a list or array of values, the second positional argument denotes the number of bins on the plot. \n",
    "\n",
    "```python\n",
    "plt.hist(values, num_bins)\n",
    "```\n",
    "\n",
    "Similar to matplotlib line plots, bar plots and pie charts, a set of keyword arguments can be included in the ```plt.hist()``` function call. Specifying values for the keyword arguments customizes the histogram plot. Some keyword arguments we can use with ```plt.hist()``` are ```density=```, ```histtype=```, ```facecolor=```, and ```alpha=```(opacity)."
   ]
  },
  {
   "cell_type": "code",
   "execution_count": 3,
   "metadata": {},
   "outputs": [
    {
     "data": {
      "image/png": "[encoded data removed]",
      "text/plain": [
       "<matplotlib.figure.Figure at 0x21dfd95c940>"
      ]
     },
     "metadata": {},
     "output_type": "display_data"
    }
   ],
   "source": [
    "plt.hist(x, 20,\n",
    "         density=True,\n",
    "         histtype='bar',\n",
    "         facecolor='b',\n",
    "         alpha=0.5)\n",
    "\n",
    "plt.title('Historgram')\n",
    "plt.xlabel('x-axis')\n",
    "plt.ylabel('y-axis')\n",
    "\n",
    "plt.show()"
   ]
  },
  {
   "cell_type": "markdown",
   "metadata": {},
   "source": [
    "Our next histogram example will involve a list of commute times. The following commute times were recorded from a survey:\n",
    "\n",
    "30, 20, 20, 15, 50, 20, 25, 30, 31, 25, 30, 30, 60, 40, 45, 35, 27, 32, 47\n",
    "\n",
    "Let's plot a histogram of these commute times. First, we import **matplotlib** as before and include ```%matplotib inline``` if using a jupyter notebook. Then we build a Python list of commute times from the survey data above."
   ]
  },
  {
   "cell_type": "code",
   "execution_count": 4,
   "metadata": {},
   "outputs": [],
   "source": [
    "import matplotlib.pyplot as plt\n",
    "%matplotlib inline\n",
    "\n",
    "commute_times = [30, 20, 20, 15, 50, 20, 25, 30, 31, 25, 30, 30, 60, 40, 45, 35, 27, 32, 47]"
   ]
  },
  {
   "cell_type": "markdown",
   "metadata": {},
   "source": [
    "Now we'll call ```plt.hist()``` and include our ```commute_times``` list and ```5``` bins."
   ]
  },
  {
   "cell_type": "code",
   "execution_count": 5,
   "metadata": {},
   "outputs": [
    {
     "data": {
      "image/png": "[encoded data removed]",
      "text/plain": [
       "<matplotlib.figure.Figure at 0x21dfda1c2b0>"
      ]
     },
     "metadata": {},
     "output_type": "display_data"
    }
   ],
   "source": [
    "plt.hist(commute_times, 5)\n",
    "\n",
    "plt.show()"
   ]
  },
  {
   "cell_type": "markdown",
   "metadata": {},
   "source": [
    "If we want our bins to have specific ranges, we can specify a list or array of bin edges for the keyword argument ```bins=```. We are also going to add some axis labels and a title to the plot. A chart of some possible keyword arguments used with ```plt.hist()``` is below:\n",
    "\n",
    "| keyword argument | description | example |\n",
    "| --- | --- | --- |\n",
    "| ```bins=``` | list of bin edges | ```bins=[5, 10, 20, 30]``` |\n",
    "| ```density=``` | if ```true```, data is normalized | ```density=false``` |\n",
    "| ```histtype=``` | type of histogram: bar, stacked, step or stepfilled | ```histtype='bar'``` |\n",
    "| ```color=``` | bar color | ```color='b'``` |\n",
    "| ```edgecolor=``` | bar edge color | ```color='k'``` |\n",
    "| ```alpha=``` | bar opacity | ```alpha=0.5``` |\n",
    "\n",
    "Let's speficy our bins in 15 min increments. This means our bin edges are ```[0,15,30,45,60]```. We'll also specify ```density=False```, ```color='b'```(blue), ```edgecolor='k'```(black), and ```alpha=0.5```(half transparent). The lines ```plt.xlabel()```, ```plt.ylabel()```, and ```plt.title()``` give the histogram axis labels and a title. "
   ]
  },
  {
   "cell_type": "code",
   "execution_count": 6,
   "metadata": {},
   "outputs": [
    {
     "data": {
      "image/png": "[encoded data removed]",
      "text/plain": [
       "<matplotlib.figure.Figure at 0x21dfda24470>"
      ]
     },
     "metadata": {},
     "output_type": "display_data"
    }
   ],
   "source": [
    "bin_edges = [0,15,30,45,60]\n",
    "\n",
    "plt.hist(commute_times,\n",
    "         bins=bin_edges,\n",
    "         density=False,\n",
    "         histtype='bar',\n",
    "         color='b',\n",
    "         edgecolor='k',\n",
    "         alpha=0.5)\n",
    "plt.xlabel('Commute time (min)')\n",
    "plt.ylabel('Number of commuters')\n",
    "plt.title('Histogram of commute times')\n",
    "\n",
    "plt.show()\n"
   ]
  },
  {
   "cell_type": "markdown",
   "metadata": {},
   "source": [
    "## Summary\n",
    "\n",
    "In this post we built two histograms with the plotting package **matplotlib** and Python. The first histogram we built contained an array of random numbers with a normal distribution. The second histogram we built came from a survey of commute times. The ```plt.hist()``` function takes a number of keyword arguments that allow us to customize the histogram."
   ]
  },
  {
   "cell_type": "code",
   "execution_count": null,
   "metadata": {},
   "outputs": [],
   "source": []
  }
 ],
 "metadata": {
  "kernelspec": {
   "display_name": "Python 3",
   "language": "python",
   "name": "python3"
  },
  "language_info": {
   "codemirror_mode": {
    "name": "ipython",
    "version": 3
   },
   "file_extension": ".py",
   "mimetype": "text/x-python",
   "name": "python",
   "nbconvert_exporter": "python",
   "pygments_lexer": "ipython3",
   "version": "3.6.3"
  }
 },
 "nbformat": 4,
 "nbformat_minor": 2
}
