{
 "cells": [
  {
   "cell_type": "markdown",
   "metadata": {},
   "source": [
    "# Part 2 Problem 1"
   ]
  },
  {
   "cell_type": "code",
   "execution_count": 1,
   "metadata": {},
   "outputs": [],
   "source": [
    "import pint\n",
    "from math import pi"
   ]
  },
  {
   "cell_type": "code",
   "execution_count": 2,
   "metadata": {},
   "outputs": [],
   "source": [
    "u = pint.UnitRegistry()"
   ]
  },
  {
   "cell_type": "code",
   "execution_count": 3,
   "metadata": {},
   "outputs": [],
   "source": [
    "P = 13*u.kN"
   ]
  },
  {
   "cell_type": "code",
   "execution_count": 4,
   "metadata": {},
   "outputs": [],
   "source": [
    "Fy = (-300/325)*P\n",
    "Fz = (-125/325)*P"
   ]
  },
  {
   "cell_type": "code",
   "execution_count": 5,
   "metadata": {},
   "outputs": [
    {
     "data": {
      "text/html": [
       "-12.0 kilonewton"
      ],
      "text/latex": [
       "$-12.0\\ \\mathrm{kilonewton}$"
      ],
      "text/plain": [
       "<Quantity(-12.0, 'kilonewton')>"
      ]
     },
     "execution_count": 5,
     "metadata": {},
     "output_type": "execute_result"
    }
   ],
   "source": [
    "Fy"
   ]
  },
  {
   "cell_type": "code",
   "execution_count": 6,
   "metadata": {},
   "outputs": [
    {
     "data": {
      "text/html": [
       "-5.0 kilonewton"
      ],
      "text/latex": [
       "$-5.0\\ \\mathrm{kilonewton}$"
      ],
      "text/plain": [
       "<Quantity(-5.0, 'kilonewton')>"
      ]
     },
     "execution_count": 6,
     "metadata": {},
     "output_type": "execute_result"
    }
   ],
   "source": [
    "Fz"
   ]
  },
  {
   "cell_type": "code",
   "execution_count": 7,
   "metadata": {},
   "outputs": [],
   "source": [
    "Mx = 0.2*u.m*Fz\n",
    "My = 0.15*u.m*Fz\n",
    "Mz = 0.15*u.m*Fy"
   ]
  },
  {
   "cell_type": "code",
   "execution_count": 8,
   "metadata": {},
   "outputs": [
    {
     "data": {
      "text/html": [
       "-1.0 kilonewton meter"
      ],
      "text/latex": [
       "$-1.0\\ \\mathrm{kilonewton} \\cdot \\mathrm{meter}$"
      ],
      "text/plain": [
       "<Quantity(-1.0, 'kilonewton * meter')>"
      ]
     },
     "execution_count": 8,
     "metadata": {},
     "output_type": "execute_result"
    }
   ],
   "source": [
    "Mx"
   ]
  },
  {
   "cell_type": "code",
   "execution_count": 9,
   "metadata": {},
   "outputs": [
    {
     "data": {
      "text/html": [
       "-0.75 kilonewton meter"
      ],
      "text/latex": [
       "$-0.75\\ \\mathrm{kilonewton} \\cdot \\mathrm{meter}$"
      ],
      "text/plain": [
       "<Quantity(-0.75, 'kilonewton * meter')>"
      ]
     },
     "execution_count": 9,
     "metadata": {},
     "output_type": "execute_result"
    }
   ],
   "source": [
    "My"
   ]
  },
  {
   "cell_type": "code",
   "execution_count": 10,
   "metadata": {},
   "outputs": [
    {
     "data": {
      "text/html": [
       "-1.7999999999999998 kilonewton meter"
      ],
      "text/latex": [
       "$-1.7999999999999998\\ \\mathrm{kilonewton} \\cdot \\mathrm{meter}$"
      ],
      "text/plain": [
       "<Quantity(-1.7999999999999998, 'kilonewton * meter')>"
      ]
     },
     "execution_count": 10,
     "metadata": {},
     "output_type": "execute_result"
    }
   ],
   "source": [
    "Mz"
   ]
  },
  {
   "cell_type": "code",
   "execution_count": 11,
   "metadata": {},
   "outputs": [],
   "source": [
    "d = 50*u.mm\n",
    "c = 0.5*d\n",
    "A = pi*c**2"
   ]
  },
  {
   "cell_type": "code",
   "execution_count": 12,
   "metadata": {},
   "outputs": [
    {
     "data": {
      "text/html": [
       "25.0 millimeter"
      ],
      "text/latex": [
       "$25.0\\ \\mathrm{millimeter}$"
      ],
      "text/plain": [
       "<Quantity(25.0, 'millimeter')>"
      ]
     },
     "execution_count": 12,
     "metadata": {},
     "output_type": "execute_result"
    }
   ],
   "source": [
    "c"
   ]
  },
  {
   "cell_type": "code",
   "execution_count": 13,
   "metadata": {},
   "outputs": [
    {
     "data": {
      "text/html": [
       "1963.4954084936207 millimeter<sup>2</sup>"
      ],
      "text/latex": [
       "$1963.4954084936207\\ \\mathrm{millimeter}^{2}$"
      ],
      "text/plain": [
       "<Quantity(1963.4954084936207, 'millimeter ** 2')>"
      ]
     },
     "execution_count": 13,
     "metadata": {},
     "output_type": "execute_result"
    }
   ],
   "source": [
    "A"
   ]
  },
  {
   "cell_type": "code",
   "execution_count": 14,
   "metadata": {},
   "outputs": [],
   "source": [
    "I = (pi/4)*c**4"
   ]
  },
  {
   "cell_type": "code",
   "execution_count": 15,
   "metadata": {},
   "outputs": [
    {
     "data": {
      "text/html": [
       "306796.1575771282 millimeter<sup>4</sup>"
      ],
      "text/latex": [
       "$306796.1575771282\\ \\mathrm{millimeter}^{4}$"
      ],
      "text/plain": [
       "<Quantity(306796.1575771282, 'millimeter ** 4')>"
      ]
     },
     "execution_count": 15,
     "metadata": {},
     "output_type": "execute_result"
    }
   ],
   "source": [
    "I"
   ]
  },
  {
   "cell_type": "code",
   "execution_count": 16,
   "metadata": {},
   "outputs": [
    {
     "data": {
      "text/html": [
       "3.067961575771283e-07 meter<sup>4</sup>"
      ],
      "text/latex": [
       "$3.067961575771283e-07\\ \\mathrm{meter}^{4}$"
      ],
      "text/plain": [
       "<Quantity(3.067961575771283e-07, 'meter ** 4')>"
      ]
     },
     "execution_count": 16,
     "metadata": {},
     "output_type": "execute_result"
    }
   ],
   "source": [
    "I.to(u.m**4)"
   ]
  },
  {
   "cell_type": "code",
   "execution_count": 17,
   "metadata": {},
   "outputs": [
    {
     "data": {
      "text/html": [
       "306796.1575771282 millimeter<sup>4</sup>"
      ],
      "text/latex": [
       "$306796.1575771282\\ \\mathrm{millimeter}^{4}$"
      ],
      "text/plain": [
       "<Quantity(306796.1575771282, 'millimeter ** 4')>"
      ]
     },
     "execution_count": 17,
     "metadata": {},
     "output_type": "execute_result"
    }
   ],
   "source": [
    "I"
   ]
  },
  {
   "cell_type": "code",
   "execution_count": 18,
   "metadata": {},
   "outputs": [],
   "source": [
    "J = 2*I"
   ]
  },
  {
   "cell_type": "code",
   "execution_count": 19,
   "metadata": {},
   "outputs": [
    {
     "data": {
      "text/html": [
       "613592.3151542564 millimeter<sup>4</sup>"
      ],
      "text/latex": [
       "$613592.3151542564\\ \\mathrm{millimeter}^{4}$"
      ],
      "text/plain": [
       "<Quantity(613592.3151542564, 'millimeter ** 4')>"
      ]
     },
     "execution_count": 19,
     "metadata": {},
     "output_type": "execute_result"
    }
   ],
   "source": [
    "J"
   ]
  },
  {
   "cell_type": "code",
   "execution_count": 20,
   "metadata": {},
   "outputs": [
    {
     "data": {
      "text/html": [
       "6.135923151542566e-07 meter<sup>4</sup>"
      ],
      "text/latex": [
       "$6.135923151542566e-07\\ \\mathrm{meter}^{4}$"
      ],
      "text/plain": [
       "<Quantity(6.135923151542566e-07, 'meter ** 4')>"
      ]
     },
     "execution_count": 20,
     "metadata": {},
     "output_type": "execute_result"
    }
   ],
   "source": [
    "J.to(u.m**4)"
   ]
  },
  {
   "cell_type": "code",
   "execution_count": 21,
   "metadata": {},
   "outputs": [
    {
     "data": {
      "text/html": [
       "1963.4954084936207 millimeter<sup>2</sup>"
      ],
      "text/latex": [
       "$1963.4954084936207\\ \\mathrm{millimeter}^{2}$"
      ],
      "text/plain": [
       "<Quantity(1963.4954084936207, 'millimeter ** 2')>"
      ]
     },
     "execution_count": 21,
     "metadata": {},
     "output_type": "execute_result"
    }
   ],
   "source": [
    "A"
   ]
  },
  {
   "cell_type": "code",
   "execution_count": 22,
   "metadata": {},
   "outputs": [
    {
     "data": {
      "text/html": [
       "0.001963495408493621 meter<sup>2</sup>"
      ],
      "text/latex": [
       "$0.001963495408493621\\ \\mathrm{meter}^{2}$"
      ],
      "text/plain": [
       "<Quantity(0.001963495408493621, 'meter ** 2')>"
      ]
     },
     "execution_count": 22,
     "metadata": {},
     "output_type": "execute_result"
    }
   ],
   "source": [
    "A.to(u.m**2)"
   ]
  },
  {
   "cell_type": "code",
   "execution_count": 23,
   "metadata": {},
   "outputs": [],
   "source": [
    "Q = (2/3)*c**3"
   ]
  },
  {
   "cell_type": "code",
   "execution_count": 24,
   "metadata": {},
   "outputs": [
    {
     "data": {
      "text/html": [
       "10416.666666666666 millimeter<sup>3</sup>"
      ],
      "text/latex": [
       "$10416.666666666666\\ \\mathrm{millimeter}^{3}$"
      ],
      "text/plain": [
       "<Quantity(10416.666666666666, 'millimeter ** 3')>"
      ]
     },
     "execution_count": 24,
     "metadata": {},
     "output_type": "execute_result"
    }
   ],
   "source": [
    "Q"
   ]
  },
  {
   "cell_type": "code",
   "execution_count": 25,
   "metadata": {},
   "outputs": [
    {
     "data": {
      "text/html": [
       "1.0416666666666666e-05 meter<sup>3</sup>"
      ],
      "text/latex": [
       "$1.0416666666666666e-05\\ \\mathrm{meter}^{3}$"
      ],
      "text/plain": [
       "<Quantity(1.0416666666666666e-05, 'meter ** 3')>"
      ]
     },
     "execution_count": 25,
     "metadata": {},
     "output_type": "execute_result"
    }
   ],
   "source": [
    "Q.to(u.m**3)"
   ]
  },
  {
   "cell_type": "code",
   "execution_count": 26,
   "metadata": {},
   "outputs": [
    {
     "data": {
      "text/html": [
       "-0.006111549814728781 kilonewton/millimeter<sup>2</sup>"
      ],
      "text/latex": [
       "$-0.006111549814728781\\ \\frac{\\mathrm{kilonewton}}{\\mathrm{millimeter}^{2}}$"
      ],
      "text/plain": [
       "<Quantity(-0.006111549814728781, 'kilonewton / millimeter ** 2')>"
      ]
     },
     "execution_count": 26,
     "metadata": {},
     "output_type": "execute_result"
    }
   ],
   "source": [
    "s_n = Fy/A\n",
    "s_n"
   ]
  },
  {
   "cell_type": "code",
   "execution_count": 27,
   "metadata": {},
   "outputs": [
    {
     "data": {
      "text/html": [
       "-0.00014667719555349072 kilonewton meter/millimeter<sup>3</sup>"
      ],
      "text/latex": [
       "$-0.00014667719555349072\\ \\frac{\\mathrm{kilonewton} \\cdot \\mathrm{meter}}{\\mathrm{millimeter}^{3}}$"
      ],
      "text/plain": [
       "<Quantity(-0.00014667719555349072, 'kilonewton * meter / millimeter ** 3')>"
      ]
     },
     "execution_count": 27,
     "metadata": {},
     "output_type": "execute_result"
    }
   ],
   "source": [
    "s_b = Mz*c/I\n",
    "s_b"
   ]
  },
  {
   "cell_type": "code",
   "execution_count": 28,
   "metadata": {},
   "outputs": [],
   "source": [
    "s_h = s_n + s_b"
   ]
  },
  {
   "cell_type": "code",
   "execution_count": 29,
   "metadata": {},
   "outputs": [
    {
     "data": {
      "text/html": [
       "-0.15278874536821951 kilonewton/millimeter<sup>2</sup>"
      ],
      "text/latex": [
       "$-0.15278874536821951\\ \\frac{\\mathrm{kilonewton}}{\\mathrm{millimeter}^{2}}$"
      ],
      "text/plain": [
       "<Quantity(-0.15278874536821951, 'kilonewton / millimeter ** 2')>"
      ]
     },
     "execution_count": 29,
     "metadata": {},
     "output_type": "execute_result"
    }
   ],
   "source": [
    "s_h"
   ]
  },
  {
   "cell_type": "code",
   "execution_count": 30,
   "metadata": {},
   "outputs": [
    {
     "data": {
      "text/html": [
       "-152.7887453682195 newton/millimeter<sup>2</sup>"
      ],
      "text/latex": [
       "$-152.7887453682195\\ \\frac{\\mathrm{newton}}{\\mathrm{millimeter}^{2}}$"
      ],
      "text/plain": [
       "<Quantity(-152.7887453682195, 'newton / millimeter ** 2')>"
      ]
     },
     "execution_count": 30,
     "metadata": {},
     "output_type": "execute_result"
    }
   ],
   "source": [
    "s_h.ito(u.N/u.mm**2)\n",
    "s_h"
   ]
  },
  {
   "cell_type": "code",
   "execution_count": 31,
   "metadata": {},
   "outputs": [],
   "source": [
    "t = 50*u.mm\n",
    "t_h = ((My*c)/J) + (Fz*Q)/(I*t)"
   ]
  },
  {
   "cell_type": "code",
   "execution_count": 32,
   "metadata": {},
   "outputs": [
    {
     "data": {
      "text/html": [
       "-3.395305452627101e-05 kilonewton meter/millimeter<sup>3</sup>"
      ],
      "text/latex": [
       "$-3.395305452627101e-05\\ \\frac{\\mathrm{kilonewton} \\cdot \\mathrm{meter}}{\\mathrm{millimeter}^{3}}$"
      ],
      "text/plain": [
       "<Quantity(-3.395305452627101e-05, 'kilonewton * meter / millimeter ** 3')>"
      ]
     },
     "execution_count": 32,
     "metadata": {},
     "output_type": "execute_result"
    }
   ],
   "source": [
    "t_h"
   ]
  },
  {
   "cell_type": "code",
   "execution_count": 33,
   "metadata": {},
   "outputs": [
    {
     "data": {
      "text/html": [
       "-33.95305452627101 newton/millimeter<sup>2</sup>"
      ],
      "text/latex": [
       "$-33.95305452627101\\ \\frac{\\mathrm{newton}}{\\mathrm{millimeter}^{2}}$"
      ],
      "text/plain": [
       "<Quantity(-33.95305452627101, 'newton / millimeter ** 2')>"
      ]
     },
     "execution_count": 33,
     "metadata": {},
     "output_type": "execute_result"
    }
   ],
   "source": [
    "t_h.ito(u.N/u.mm**2)\n",
    "t_h"
   ]
  },
  {
   "cell_type": "code",
   "execution_count": 34,
   "metadata": {},
   "outputs": [],
   "source": [
    "s_ave = s_h/2"
   ]
  },
  {
   "cell_type": "code",
   "execution_count": 35,
   "metadata": {},
   "outputs": [
    {
     "data": {
      "text/html": [
       "-76.39437268410975 newton/millimeter<sup>2</sup>"
      ],
      "text/latex": [
       "$-76.39437268410975\\ \\frac{\\mathrm{newton}}{\\mathrm{millimeter}^{2}}$"
      ],
      "text/plain": [
       "<Quantity(-76.39437268410975, 'newton / millimeter ** 2')>"
      ]
     },
     "execution_count": 35,
     "metadata": {},
     "output_type": "execute_result"
    }
   ],
   "source": [
    "s_ave"
   ]
  },
  {
   "cell_type": "code",
   "execution_count": 36,
   "metadata": {},
   "outputs": [],
   "source": [
    "from math import sqrt"
   ]
  },
  {
   "cell_type": "code",
   "execution_count": 37,
   "metadata": {},
   "outputs": [
    {
     "data": {
      "text/html": [
       "83.59970149146818 newton/millimeter<sup>2</sup>"
      ],
      "text/latex": [
       "$83.59970149146818\\ \\frac{\\mathrm{newton}}{\\mathrm{millimeter}^{2}}$"
      ],
      "text/plain": [
       "<Quantity(83.59970149146818, 'newton / millimeter ** 2')>"
      ]
     },
     "execution_count": 37,
     "metadata": {},
     "output_type": "execute_result"
    }
   ],
   "source": [
    "R = sqrt( (s_h.m/2   )**2 + (t_h.m   )**2    )*(u.N/u.mm**2)\n",
    "R"
   ]
  },
  {
   "cell_type": "code",
   "execution_count": 38,
   "metadata": {},
   "outputs": [],
   "source": [
    "s_max = s_ave + R\n",
    "s_min = s_ave - R\n",
    "t_max = R"
   ]
  },
  {
   "cell_type": "code",
   "execution_count": 39,
   "metadata": {},
   "outputs": [
    {
     "data": {
      "text/html": [
       "7.205328807358427 newton/millimeter<sup>2</sup>"
      ],
      "text/latex": [
       "$7.205328807358427\\ \\frac{\\mathrm{newton}}{\\mathrm{millimeter}^{2}}$"
      ],
      "text/plain": [
       "<Quantity(7.205328807358427, 'newton / millimeter ** 2')>"
      ]
     },
     "execution_count": 39,
     "metadata": {},
     "output_type": "execute_result"
    }
   ],
   "source": [
    "s_max"
   ]
  },
  {
   "cell_type": "code",
   "execution_count": 40,
   "metadata": {},
   "outputs": [
    {
     "data": {
      "text/html": [
       "-159.99407417557794 newton/millimeter<sup>2</sup>"
      ],
      "text/latex": [
       "$-159.99407417557794\\ \\frac{\\mathrm{newton}}{\\mathrm{millimeter}^{2}}$"
      ],
      "text/plain": [
       "<Quantity(-159.99407417557794, 'newton / millimeter ** 2')>"
      ]
     },
     "execution_count": 40,
     "metadata": {},
     "output_type": "execute_result"
    }
   ],
   "source": [
    "s_min"
   ]
  },
  {
   "cell_type": "code",
   "execution_count": 41,
   "metadata": {},
   "outputs": [
    {
     "name": "stdout",
     "output_type": "stream",
     "text": [
      "s_m = -152.7887453682195 newton/millimeter²\n",
      "t_m = -33.95305452627101 newton/millimeter²\n",
      "s_max = 7.205328807358427 newton/millimeter²\n",
      "s_mim = -159.99407417557794 newton/millimeter²\n",
      "t_max = 83.59970149146818 newton/millimeter²\n"
     ]
    }
   ],
   "source": [
    "print('s_m = {:P}'.format(s_h))\n",
    "print('t_m = {:P}'.format(t_h))\n",
    "print('s_max = {:P}'.format(s_max))\n",
    "print('s_mim = {:P}'.format(s_min))\n",
    "print('t_max = {:P}'.format(t_max))"
   ]
  },
  {
   "cell_type": "code",
   "execution_count": null,
   "metadata": {},
   "outputs": [],
   "source": []
  }
 ],
 "metadata": {
  "kernelspec": {
   "display_name": "Python 3",
   "language": "python",
   "name": "python3"
  },
  "language_info": {
   "codemirror_mode": {
    "name": "ipython",
    "version": 3
   },
   "file_extension": ".py",
   "mimetype": "text/x-python",
   "name": "python",
   "nbconvert_exporter": "python",
   "pygments_lexer": "ipython3",
   "version": "3.7.3"
  }
 },
 "nbformat": 4,
 "nbformat_minor": 2
}
