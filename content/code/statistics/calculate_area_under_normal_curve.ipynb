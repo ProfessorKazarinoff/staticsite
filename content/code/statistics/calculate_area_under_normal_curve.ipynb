{
 "cells": [
  {
   "cell_type": "markdown",
   "metadata": {},
   "source": [
    "# Area under the normal curve"
   ]
  },
  {
   "cell_type": "code",
   "execution_count": 13,
   "metadata": {},
   "outputs": [
    {
     "name": "stdout",
     "output_type": "stream",
     "text": [
      "\n",
      " Lower Bound: -0.3625\n",
      "\n",
      " Upper Bound: 0.4499\n",
      "\n",
      "\n",
      "mean = 979.8    std dev = 73.1 \n",
      "\n",
      "Calculating probability of occuring between 900 <--> 1100 \n",
      "\n",
      "inside interval Pin = 81.2%\n",
      "outside interval Pout = 18.8% \n",
      "\n",
      "\n",
      "\n"
     ]
    }
   ],
   "source": [
    "\n",
    "# stats.py\n",
    "\n",
    "from math import erf, sqrt\n",
    "\n",
    "# define constants\n",
    "\n",
    "mu = 979.8    # mean = 978.8 kΩ\n",
    "sigma = 73.1  # standard deviation = 73.1 kΩ\n",
    "x1 = 900      # lower bound = 900 kΩ\n",
    "x2 = 1100     # upper bound = 1100 kΩ\n",
    "\n",
    "# calculate probability\n",
    "\n",
    "# Probability from 0 to lower bound\n",
    "double_prob = erf( (x1-mu) / (sigma*sqrt(2)) )\n",
    "p_lower = double_prob/2\n",
    "print(f'\\n Lower Bound: {round(p_lower,4)}')\n",
    "\n",
    "# Probability from 0 to upper bound\n",
    "double_prob = erf( (x2-mu) / (sigma*sqrt(2)) )\n",
    "p_upper = double_prob/2\n",
    "print(f'\\n Upper Bound: {round(p_upper,4)}')\n",
    "\n",
    "\n",
    "Pin= (p_upper) - (p_lower)\n",
    "print('\\n')\n",
    "print(f'mean = {mu}    std dev = {sigma} \\n')\n",
    "print(f'Calculating probability of occuring between {x1} <--> {x2} \\n')\n",
    "print(f'inside interval Pin = {round(Pin*100,1)}%')\n",
    "print(f'outside interval Pout = {round((1-Pin)*100,1)}% \\n')\n",
    "print('\\n')"
   ]
  },
  {
   "cell_type": "code",
   "execution_count": null,
   "metadata": {},
   "outputs": [],
   "source": []
  }
 ],
 "metadata": {
  "kernelspec": {
   "display_name": "Python 3",
   "language": "python",
   "name": "python3"
  },
  "language_info": {
   "codemirror_mode": {
    "name": "ipython",
    "version": 3
   },
   "file_extension": ".py",
   "mimetype": "text/x-python",
   "name": "python",
   "nbconvert_exporter": "python",
   "pygments_lexer": "ipython3",
   "version": "3.6.3"
  }
 },
 "nbformat": 4,
 "nbformat_minor": 2
}
