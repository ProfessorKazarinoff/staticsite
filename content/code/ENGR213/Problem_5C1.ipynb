{
 "cells": [
  {
   "cell_type": "markdown",
   "metadata": {},
   "source": [
    "Below is an engineering mechanics problem that can be solved with Python. Follow along to see how to solve the problem with code.\n",
    "\n",
    "## Problem\n",
    "\n",
    "### Given:\n",
    "\n",
    "A cantilever beam of total length $a$+$L$+$b$ and loads $P_1$, $P_2$, $P_3$ to $P_n$ at distances $x_1$, $x_2$, $x_3$ to $x_n$.\n",
    "\n",
    "![cantilever beam](loaded_beam.png)\n",
    "\n",
    "\n",
    "### Find:\n",
    "\n",
    "The shear, bending moment and normal stress at any point along the beam"
   ]
  },
  {
   "cell_type": "markdown",
   "metadata": {},
   "source": [
    "## Solution\n",
    "\n",
    "### Start the solution: install Python\n",
    "\n",
    "We are going to use Python to code the solution to the problem. If you don't already have Python installed on your computer, I recommend installing the [Anaconda](https://www.anaconda.com/distribution/) distribution of Python. See [this post](https://pythonforundergradengineers.com/installing-anaconda-on-windows.html) to learn how to install Anaconda on your computer. \n",
    "\n",
    "I am coding this solution in a [Jupyter Notebook](https://jupyter.org/). Once you install Anaconda, you can open a Jupyter notebook from the Windows Start Menu or the Anaconda Prompt. See [this post](https://pythonforundergradengineers.com/opening-a-jupyter-notebook-on-windows.html) to learn about 3 ways to open a Jupyter notebook.\n",
    "\n",
    "Alternatively, instead of using a Jupyter notebook, you could code your solution in a ```.py``` file and use a code editor such as [Visual Studio Code](https://code.visualstudio.com/download) or [Sublime Text](https://www.sublimetext.com/3).\n",
    "\n",
    "**Alright. Let's get coding....** We will start our solution by asking the user for input."
   ]
  },
  {
   "cell_type": "markdown",
   "metadata": {},
   "source": [
    "### Ask the user for input\n",
    "\n",
    "In the first part of our program, we need to ask the user for input. The user will input the dimensions of the beam, $a$, $L$, and $b$. The user will also enter the point loads $P_1$, $P_2$, ... $P_n$ and the distance between the point loads and the end of the beam $x_1$, $x_2$, ... $x_n$.\n",
    "\n",
    "We will collect the user's input with Python's ```input()``` function. Note that Python's ```input()``` function outputs a _string_ by default. So we need to convert the user's input from a _string_ into a _float_ (a floating point number or a decimal) before we do any further calculations. The general structure of using ```input()``` is below:\n",
    "\n",
    "```text\n",
    "<string_var> = input(\"What the user sees at the prompt\")\n",
    "```\n",
    "\n",
    "Where ```\"What the user sees at the prompt\"``` is the prompt shown to the user when the ```input()``` statement runs. This statement is what the ```input()``` function prints to the user. ```<string_var>``` is a variable to store whatever the user types.  Remember the ```input()``` function outputs a _string_ (a text variable) not a number.\n",
    "\n",
    "The ```input()``` function can be wrapped with Python's ```float()``` function. The ```float()``` function turns the user's _string_ input into a _float_ (a floating point number or decimal).\n",
    "\n",
    "Let's try a couple of ```input()``` statements wrapped by ```float()```. When we ask the user for the number of point loads, we'll wrap the ```input(\"how may points to load\")``` with Python's ```int()``` function. The number of point loads must be an integer (can you have half a point load?...), so we will convert the _string_ (the output of the ```input()``` function) to an _integer_ with the ```int()``` function."
   ]
  },
  {
   "cell_type": "code",
   "execution_count": 1,
   "metadata": {},
   "outputs": [
    {
     "name": "stdout",
     "output_type": "stream",
     "text": [
      "What is length a? 1\n",
      "What is length L? 4\n",
      "What is length b? 2\n",
      "How many point loads? 3\n"
     ]
    }
   ],
   "source": [
    "import numpy as np\n",
    "a = float(input(\"What is length a? \"))\n",
    "L = float(input(\"What is length L? \"))\n",
    "b = float(input(\"What is length b? \"))\n",
    "n = int(input(\"How many point loads? \"))"
   ]
  },
  {
   "cell_type": "markdown",
   "metadata": {},
   "source": [
    "We see four questions. After entering in a number after each question, push the [Enter] key. Now that we have the beam dimensions and number of point loads, we need to ask the user for the magnitude of each point load and distance each point load is applied at compared to the end of the beam."
   ]
  },
  {
   "cell_type": "markdown",
   "metadata": {},
   "source": [
    "### Ask the user for the point loads\n",
    "\n",
    "Next, we need to ask the user for the point loads $P_1$, $P_2$, $P_3$, ... $P_n$ and the corresponding distances $x_1$, $x_2$, $x_3$, ... $x_n$.\n",
    "\n",
    "We'll collect the point loads and distances with a _for loop_. Our _for loop_ will run the same number of times as the number of point loads ```n``` the user indicated. \n",
    "\n",
    "Because we are going to do some computation using the loads and distances the user enters, we will store the user's input in a _NumPy array_ that we'll call ```P```. A NumPy array is a data structure sort of like a Python list. The difference is mathematical operations can be completed on arrays, while mathematical operations on Python lists can be problematic (or require more code than if a NumPy array is used).\n",
    "\n",
    "Because we know how many loads the user will enter, we also know the size of the array that the loads and distances will be stored in. We will use one row and two columns for each set of load and distance the user inputs. We can use NumPy's ```np.zeros()``` function to create an array of a given size that contains all ```0```'s. As the user enters loads and distances, we will save these values in different rows in the array. Note that we need to pass a tuple in parenthesis to the ```np.zeros()``` function as in ```P = np.zeros((2,4))```. ((There are two sets of parenthesis.))\n",
    "\n",
    "The general syntax for putting a value in a specific location in a NumPy array is below:\n",
    "\n",
    "```text\n",
    "A[row][col] = var\n",
    "```\n",
    "\n",
    "Where ```A``` is the array, and ```row``` and ```col``` correspond to the locations in the array where ```var``` will be stored. For example, the code line below will store the value ```9``` in the first row, 2nd column of array ```A```. (Remember Python counting starts at ```0```).\n",
    "\n",
    "```text\n",
    "A[0][1] = 9\n",
    "```\n",
    "\n",
    "The code below asks the user for loads and distances, saves these in the pre-created array ```P``` and then prints out the load/distance pairs back to the user. We are putting the distances in the first column of the array and the loads in the second column of the array. Later in the program, we'll order the forces acting on the beam by distance. Having the distances in the first column makes this operation a little easier."
   ]
  },
  {
   "cell_type": "code",
   "execution_count": 2,
   "metadata": {},
   "outputs": [
    {
     "name": "stdout",
     "output_type": "stream",
     "text": [
      "what is distance x_1?2\n",
      "what is load P_1?1\n",
      "what is distance x_2?4\n",
      "what is load P_2?2\n",
      "what is distance x_3?4.5\n",
      "what is load P_3?5\n",
      "The distances and loads you entered are:\n",
      "[[2.  1. ]\n",
      " [4.  2. ]\n",
      " [4.5 5. ]]\n"
     ]
    }
   ],
   "source": [
    "P = np.zeros((n,2))\n",
    "for i in range(n):\n",
    "    x = float(input(f\"what is distance x_{i+1}?\"))\n",
    "    p = float(input(f\"what is load P_{i+1}?\"))\n",
    "    P[i][0]=x\n",
    "    P[i][1]=p\n",
    "print(\"The distances and loads you entered are:\")\n",
    "print(P)"
   ]
  },
  {
   "cell_type": "markdown",
   "metadata": {},
   "source": [
    "We were asked for three pairs of loads and distances. We can see the loads and distances we entered as rows in the array that is printed out. The next step in solving this mechanics problem is to solve for the reaction forces at point $A$ and point $B$."
   ]
  },
  {
   "cell_type": "markdown",
   "metadata": {},
   "source": [
    "## Solve for the reaction forces Ra and Rb\n",
    "\n",
    "Now that we have all of the distances and all of the applied loads saved into variables, we need to solve for the reaction forces at the supports $A$ and $B$.\n",
    "\n",
    "### Find reaction force Rb\n",
    "\n",
    "To find $R_B$, the reaction force at $B$, we will sum the moments about point $A$. Since we are summing the moments about point $A$, the reaction force $R_A$ produces zero moment. Each of the point load moments are are at a distance relative to point $A$ equal to $x-a$ where $a$ is the distance between the end of the beam and the support at point $A$. The equation for the sum of the moments about point $A$ is below.\n",
    "\n",
    "$$ \\sum{M_A} = 0 $$\n",
    "\n",
    "$$ \\sum{M_A} = M_1 + M_2 + M_3 + ... + M_n + M_B = 0 $$\n",
    "\n",
    "Each individual moment $M_1$, $M_2$, $M_3$ to $M_n$ are due to the point loads $P_1$, $P_2$, $P_3$, $P_n$. Each one of these point loads is at a distance $r = (x - a)$ from point $A$. The equations below show how each moment in the series is calculated.\n",
    "\n",
    "$$ M_1 = P_1r_1 \\ where \\ r_1 = x_1 - a$$\n",
    "\n",
    "$$ M_1 = P_1(x_1 - a) $$\n",
    "\n",
    "$$ M_n = P_n(x_n - a) $$\n",
    "\n",
    "Substituting the loads and distances into the sum of moments equation yields the following. Note that we don't know the load at $B$ yet (that's what we are solving for), so that term stays as $M_B$:\n",
    "\n",
    "$$ \\sum{M_A} = P_1(x_1-a) + P_2(x_2-a) + P_3(x_3-a) + ... + P_n(x_n-a) + M_B = 0 $$\n",
    "\n",
    "Solving for $M_B$ produces:\n",
    "\n",
    "$$ M_B = - P_1(x_1-a) - P_2(x_2-a) - P_3(x_3-a) - ... - P_n(x_n-a) $$\n",
    "\n",
    "We can code this into Python using a _for loop_ and array indexing. The point load $P$ is the first column of the array, the distance $x$ is in the second column of the array. Remember that Python counting starts at ```0```, so the first column is column ```0```. \n",
    "\n",
    "Reaction force $R_B$ is at a distance $L$ relative to point $A$. Since $M_B = P_br_b$ and $r_b = L$, We can solve for reaction force R_B using:\n",
    "\n",
    "$$ M_B = P_Br_B $$\n",
    "\n",
    "$$ M_B = P_BL $$\n",
    "\n",
    "$$ P_B = \\frac{M_B}{L} $$\n",
    "\n",
    "The code below creates a variable ```Mb``` (the moment due to the reaction force at $B$), then iterates through the point load/distance pairs and calculates the moment due to each pair and assigns it to a variable ```Mi```. In the last line of the _for loop_, ```Mi``` is added to ```Mb```. The ```+=``` operator does _in place_ addition, meaning ```+=``` just adds onto whatever number is already stored in ```Mb```. At the end of the code block, the moment and reaction force are printed to the user using a Python _f-string_."
   ]
  },
  {
   "cell_type": "code",
   "execution_count": 3,
   "metadata": {},
   "outputs": [
    {
     "name": "stdout",
     "output_type": "stream",
     "text": [
      "The momement at due to reaction force at B, M_B = 24.5\n",
      "The reaction force at B, R_b = 6.125\n"
     ]
    }
   ],
   "source": [
    "Mb = 0\n",
    "for i in range(n):\n",
    "    pi = P[i][1]\n",
    "    ri = P[i][0]-a\n",
    "    Mi = pi*ri\n",
    "    Mb += Mi\n",
    "print(f\"The momement at due to reaction force at B, M_B = {Mb}\")\n",
    "Rb = Mb/L\n",
    "print(f\"The reaction force at B, R_b = {Rb}\")"
   ]
  },
  {
   "cell_type": "markdown",
   "metadata": {},
   "source": [
    "We see the moment and reaction force at point $B$ is calculated. Next we will calculate the reaction force at point $A$."
   ]
  },
  {
   "cell_type": "markdown",
   "metadata": {},
   "source": [
    "### Find reaction force Ra\n",
    "\n",
    "To find $R_A$, the reaction force at $A$, we will sum the forces in the $y$-direction. All of the point loads $P_1$, $P_2$, P_n$ point down, so they count as negative force, the reaction forces $R_A$ and $R_B$ point up, so they count as positive force.\n",
    "\n",
    "$$ \\sum{F_y} = 0 $$\n",
    "\n",
    "$$ \\sum{M_y} = - P_1 - P_2 - P_3 - ... - P_n + R_A + R_B = 0 $$\n",
    "\n",
    "$$ R_A = P_1 + P_2 + P_3 + ... + P_n - R_B $$\n",
    "\n",
    "We can code this into Python using another _for loop_."
   ]
  },
  {
   "cell_type": "code",
   "execution_count": 4,
   "metadata": {},
   "outputs": [
    {
     "name": "stdout",
     "output_type": "stream",
     "text": [
      "The sum of the applied point loads is P_n = 8.0\n",
      "The reaction force at A, R_a = 1.875\n"
     ]
    }
   ],
   "source": [
    "Pn = 0\n",
    "for i in range(n):\n",
    "    pi = P[i][1]\n",
    "    Pn += pi\n",
    "print(f\"The sum of the applied point loads is P_n = {Pn}\")\n",
    "Ra = Pn - Rb\n",
    "print(f\"The reaction force at A, R_a = {Ra}\")"
   ]
  },
  {
   "cell_type": "markdown",
   "metadata": {},
   "source": [
    "The sum of the point loads is displayed as well as the reaction force at $A$. Note how the reaction force at $A$ and the reaction force at $B$ sum to total of the applied point loads.\n",
    "\n",
    "Now that all of the forces on the beam are known, we can work on the next part of the problem which is calculating the shear along the beam."
   ]
  },
  {
   "cell_type": "markdown",
   "metadata": {},
   "source": [
    "## Calculate the shear along the beam\n",
    "\n",
    "Next we will calculate the shear along the beam. Since all of the loads and support reaction are point loads, the shear along the beam is composed of constant shear segments in between the point loads. We need to calculate the shear in between each applied load or reaction force.\n",
    "\n",
    "### Sort the distance / load pairs by distance\n",
    "\n",
    "We will start this process by creating an array that holds the applied point loads and distances as well as the reaction forces and their distance from the end of the beam. We will set all the applied point loads as negative because they point down and all the reaction forces as positive because they point up.\n",
    "\n",
    "The code block below contains a tricky little line: ```P_sort = P[P[:,0].argsort()]```. Let's break this line down into it's component parts.\n",
    "\n",
    "```P``` - the array that contains the distances and loads. The distances in the first column, the loads in the second column.\n",
    "\n",
    "```P[:,0]``` - pull out all rows (```:```), the first column (```0```). This pull out the distances\n",
    "\n",
    "```P[:,0].argsort()``` - creates an array of the indexes of the distance column from smallest to largest\n",
    "\n",
    "```P[P[:,0].argsort()]``` - re-order ```P``` based on the array of indexes of distances that was sorted smallest to largest\n",
    "\n",
    "```P_sort = P[P[:,0].argsort()]``` - save the re-ordered array that is based on distance to a new variable ```P_sort```\n",
    "\n",
    "The code block also prints out the unsorted array ```P``` and the array sorted by distance ```P_sort```."
   ]
  },
  {
   "cell_type": "code",
   "execution_count": 6,
   "metadata": {},
   "outputs": [
    {
     "name": "stdout",
     "output_type": "stream",
     "text": [
      "The distances and forces acting on the beam are: \n",
      "[[ 2.    -1.   ]\n",
      " [ 4.    -2.   ]\n",
      " [ 4.5   -5.   ]\n",
      " [ 1.     1.875]\n",
      " [ 5.     6.125]]\n",
      "Sorted by distance, all of the distances and forces acting on the beam are: \n",
      "[[ 1.     1.875]\n",
      " [ 2.    -1.   ]\n",
      " [ 4.    -2.   ]\n",
      " [ 4.5   -5.   ]\n",
      " [ 5.     6.125]]\n"
     ]
    }
   ],
   "source": [
    "P = np.array([[2.,  1. ], [4. , 2. ], [4.5,  5.]])\n",
    "P[:,1] *= -1      # multiply [all rows, second column] by -1 in place\n",
    "P = np.append(P,[[a,Ra],[a+L,Rb]], axis=0)\n",
    "print(\"The distances and forces acting on the beam are: \")\n",
    "print(P)\n",
    "P_sort = P[P[:,0].argsort()] #P[:,0].argsort() produces an array of indicies based on smallest to largest distance\n",
    "print(\"Sorted by distance, all of the distances and forces acting on the beam are: \")\n",
    "print(P_sort)"
   ]
  },
  {
   "cell_type": "markdown",
   "metadata": {},
   "source": [
    "We see the array that contains the distances and loads which isn't sorted by distance (the reaction forces $R_B$ and $R_A$, are listed last). Then we see the sorted array that has loads and reaction forces based on distance $x$ from smallest to largest.\n",
    "\n",
    "### Calculate the internal shear at small intervals along the beam"
   ]
  },
  {
   "cell_type": "code",
   "execution_count": 7,
   "metadata": {},
   "outputs": [
    {
     "name": "stdout",
     "output_type": "stream",
     "text": [
      "[0.         0.07070707 0.14141414 0.21212121 0.28282828 0.35353535\n",
      " 0.42424242 0.49494949 0.56565657 0.63636364 0.70707071 0.77777778\n",
      " 0.84848485 0.91919192 0.98989899 1.06060606 1.13131313 1.2020202\n",
      " 1.27272727 1.34343434 1.41414141 1.48484848 1.55555556 1.62626263\n",
      " 1.6969697  1.76767677 1.83838384 1.90909091 1.97979798 2.05050505\n",
      " 2.12121212 2.19191919 2.26262626 2.33333333 2.4040404  2.47474747\n",
      " 2.54545455 2.61616162 2.68686869 2.75757576 2.82828283 2.8989899\n",
      " 2.96969697 3.04040404 3.11111111 3.18181818 3.25252525 3.32323232\n",
      " 3.39393939 3.46464646 3.53535354 3.60606061 3.67676768 3.74747475\n",
      " 3.81818182 3.88888889 3.95959596 4.03030303 4.1010101  4.17171717\n",
      " 4.24242424 4.31313131 4.38383838 4.45454545 4.52525253 4.5959596\n",
      " 4.66666667 4.73737374 4.80808081 4.87878788 4.94949495 5.02020202\n",
      " 5.09090909 5.16161616 5.23232323 5.3030303  5.37373737 5.44444444\n",
      " 5.51515152 5.58585859 5.65656566 5.72727273 5.7979798  5.86868687\n",
      " 5.93939394 6.01010101 6.08080808 6.15151515 6.22222222 6.29292929\n",
      " 6.36363636 6.43434343 6.50505051 6.57575758 6.64646465 6.71717172\n",
      " 6.78787879 6.85858586 6.92929293 7.        ]\n",
      "[0. 0. 0. 0. 0. 0. 0. 0. 0. 0. 0. 0. 0. 0. 0. 0. 0. 0. 0. 0. 0. 0. 0. 0.\n",
      " 0. 0. 0. 0. 0. 0. 0. 0. 0. 0. 0. 0. 0. 0. 0. 0. 0. 0. 0. 0. 0. 0. 0. 0.\n",
      " 0. 0. 0. 0. 0. 0. 0. 0. 0. 0. 0. 0. 0. 0. 0. 0. 0. 0. 0. 0. 0. 0. 0. 0.\n",
      " 0. 0. 0. 0. 0. 0. 0. 0. 0. 0. 0. 0. 0. 0. 0. 0. 0. 0. 0. 0. 0. 0. 0. 0.\n",
      " 0. 0. 0. 0.]\n",
      "[ 0.     0.     0.     0.     0.     0.     0.     0.     0.     0.\n",
      "  0.     0.     0.     0.     0.    -1.875 -1.875 -1.875 -1.875 -1.875\n",
      " -1.875 -1.875 -1.875 -1.875 -1.875 -1.875 -1.875 -1.875 -1.875 -0.875\n",
      " -0.875 -0.875 -0.875 -0.875 -0.875 -0.875 -0.875 -0.875 -0.875 -0.875\n",
      " -0.875 -0.875 -0.875 -0.875 -0.875 -0.875 -0.875 -0.875 -0.875 -0.875\n",
      " -0.875 -0.875 -0.875 -0.875 -0.875 -0.875 -0.875  1.125  1.125  1.125\n",
      "  1.125  1.125  1.125  1.125  6.125  6.125  6.125  6.125  6.125  6.125\n",
      "  6.125  0.     0.     0.     0.     0.     0.     0.     0.     0.\n",
      "  0.     0.     0.     0.     0.     0.     0.     0.     0.     0.\n",
      "  0.     0.     0.     0.     0.     0.     0.     0.     0.     0.   ]\n"
     ]
    }
   ],
   "source": [
    "X = np.linspace(0,a+L+b,100) # create an array of 100 x values from 0 to the length of the beam\n",
    "V = np.zeros(X.size) # create an array for the shear at each x values, make it the same size as the array of x values\n",
    "print(X)\n",
    "print(V)\n",
    "for i,x in enumerate(X):     #loop through the x values, keep track of the number of times through the loop with enumerate\n",
    "    v = 0                    # for each x value, start off by assuming 0 shear\n",
    "    for p in P_sort:         # loop through each load\n",
    "        if p[0]<x:           # if the x-value of the load is less than the x value we are trying to find the shear at....\n",
    "            v-=p[1]          # shear counteracts the loads, so we subtract each load from the shear  \n",
    "    V[i]=v                   # add the shear to the array of shear values\n",
    "print(V)"
   ]
  },
  {
   "cell_type": "code",
   "execution_count": 8,
   "metadata": {},
   "outputs": [
    {
     "data": {
      "image/png": "[encoded data removed]",
      "text/plain": [
       "<Figure size 432x288 with 1 Axes>"
      ]
     },
     "metadata": {
      "needs_background": "light"
     },
     "output_type": "display_data"
    }
   ],
   "source": [
    "import matplotlib.pyplot as plt\n",
    "%matplotlib inline\n",
    "plt.plot(X,V)\n",
    "plt.xlabel(\"x - distance from end of beam\")\n",
    "plt.ylabel(\"shear v\")\n",
    "plt.title(\"Shear diagram of loaded beam\")\n",
    "plt.show()"
   ]
  },
  {
   "cell_type": "code",
   "execution_count": 9,
   "metadata": {},
   "outputs": [
    {
     "name": "stdout",
     "output_type": "stream",
     "text": [
      "[0.         0.07070707 0.14141414 0.21212121 0.28282828 0.35353535\n",
      " 0.42424242 0.49494949 0.56565657 0.63636364 0.70707071 0.77777778\n",
      " 0.84848485 0.91919192 0.98989899 1.06060606 1.13131313 1.2020202\n",
      " 1.27272727 1.34343434 1.41414141 1.48484848 1.55555556 1.62626263\n",
      " 1.6969697  1.76767677 1.83838384 1.90909091 1.97979798 2.05050505\n",
      " 2.12121212 2.19191919 2.26262626 2.33333333 2.4040404  2.47474747\n",
      " 2.54545455 2.61616162 2.68686869 2.75757576 2.82828283 2.8989899\n",
      " 2.96969697 3.04040404 3.11111111 3.18181818 3.25252525 3.32323232\n",
      " 3.39393939 3.46464646 3.53535354 3.60606061 3.67676768 3.74747475\n",
      " 3.81818182 3.88888889 3.95959596 4.03030303 4.1010101  4.17171717\n",
      " 4.24242424 4.31313131 4.38383838 4.45454545 4.52525253 4.5959596\n",
      " 4.66666667 4.73737374 4.80808081 4.87878788 4.94949495 5.02020202\n",
      " 5.09090909 5.16161616 5.23232323 5.3030303  5.37373737 5.44444444\n",
      " 5.51515152 5.58585859 5.65656566 5.72727273 5.7979798  5.86868687\n",
      " 5.93939394 6.01010101 6.08080808 6.15151515 6.22222222 6.29292929\n",
      " 6.36363636 6.43434343 6.50505051 6.57575758 6.64646465 6.71717172\n",
      " 6.78787879 6.85858586 6.92929293 7.        ]\n",
      "[0. 0. 0. 0. 0. 0. 0. 0. 0. 0. 0. 0. 0. 0. 0. 0. 0. 0. 0. 0. 0. 0. 0. 0.\n",
      " 0. 0. 0. 0. 0. 0. 0. 0. 0. 0. 0. 0. 0. 0. 0. 0. 0. 0. 0. 0. 0. 0. 0. 0.\n",
      " 0. 0. 0. 0. 0. 0. 0. 0. 0. 0. 0. 0. 0. 0. 0. 0. 0. 0. 0. 0. 0. 0. 0. 0.\n",
      " 0. 0. 0. 0. 0. 0. 0. 0. 0. 0. 0. 0. 0. 0. 0. 0. 0. 0. 0. 0. 0. 0. 0. 0.\n",
      " 0. 0. 0. 0.]\n",
      "[ 0.00000000e+00  0.00000000e+00  0.00000000e+00  0.00000000e+00\n",
      "  0.00000000e+00  0.00000000e+00  0.00000000e+00  0.00000000e+00\n",
      "  0.00000000e+00  0.00000000e+00  0.00000000e+00  0.00000000e+00\n",
      "  0.00000000e+00  0.00000000e+00  0.00000000e+00  1.13636364e-01\n",
      "  2.46212121e-01  3.78787879e-01  5.11363636e-01  6.43939394e-01\n",
      "  7.76515152e-01  9.09090909e-01  1.04166667e+00  1.17424242e+00\n",
      "  1.30681818e+00  1.43939394e+00  1.57196970e+00  1.70454545e+00\n",
      "  1.83712121e+00  1.91919192e+00  1.98106061e+00  2.04292929e+00\n",
      "  2.10479798e+00  2.16666667e+00  2.22853535e+00  2.29040404e+00\n",
      "  2.35227273e+00  2.41414141e+00  2.47601010e+00  2.53787879e+00\n",
      "  2.59974747e+00  2.66161616e+00  2.72348485e+00  2.78535354e+00\n",
      "  2.84722222e+00  2.90909091e+00  2.97095960e+00  3.03282828e+00\n",
      "  3.09469697e+00  3.15656566e+00  3.21843434e+00  3.28030303e+00\n",
      "  3.34217172e+00  3.40404040e+00  3.46590909e+00  3.52777778e+00\n",
      "  3.58964646e+00  3.59090909e+00  3.51136364e+00  3.43181818e+00\n",
      "  3.35227273e+00  3.27272727e+00  3.19318182e+00  3.11363636e+00\n",
      "  2.90782828e+00  2.47474747e+00  2.04166667e+00  1.60858586e+00\n",
      "  1.17550505e+00  7.42424242e-01  3.09343434e-01 -1.11022302e-16\n",
      " -3.33066907e-16  3.33066907e-16  0.00000000e+00  6.66133815e-16\n",
      "  4.44089210e-16  0.00000000e+00  0.00000000e+00 -4.44089210e-16\n",
      " -8.88178420e-16  8.88178420e-16  8.88178420e-16  0.00000000e+00\n",
      "  0.00000000e+00  0.00000000e+00  0.00000000e+00 -1.77635684e-15\n",
      "  0.00000000e+00  8.88178420e-16  0.00000000e+00  0.00000000e+00\n",
      "  0.00000000e+00  0.00000000e+00  0.00000000e+00  0.00000000e+00\n",
      "  0.00000000e+00  0.00000000e+00  0.00000000e+00  0.00000000e+00]\n"
     ]
    }
   ],
   "source": [
    "M = np.zeros(X.size) # create an array for the shear at each x values, make it the same size as the array of x values\n",
    "print(X)\n",
    "print(M)\n",
    "for i,x in enumerate(X):     #loop through the x values, keep track of the number of times through the loop with enumerate\n",
    "    m = 0                    # for each x value, start off by assuming 0 moment\n",
    "    for p in P_sort:         # loop through each load\n",
    "        if p[0]<x:           # if the x-value of the load is less than the x value we are trying to find the moment at\n",
    "            m += p[1]*(x-p[0])   # moment = F*r = load * (x - load distance)  \n",
    "    M[i]=m                   # add the moment to the array of moment values\n",
    "print(M)"
   ]
  },
  {
   "cell_type": "code",
   "execution_count": 10,
   "metadata": {},
   "outputs": [
    {
     "data": {
      "image/png": "[encoded data removed]",
      "text/plain": [
       "<Figure size 432x288 with 1 Axes>"
      ]
     },
     "metadata": {
      "needs_background": "light"
     },
     "output_type": "display_data"
    }
   ],
   "source": [
    "plt.plot(X,M)\n",
    "plt.xlabel(\"x - distance from end of beam\")\n",
    "plt.ylabel(\"Moment M\")\n",
    "plt.title(\"Moment diagram of loaded beam\")\n",
    "plt.show()"
   ]
  },
  {
   "cell_type": "code",
   "execution_count": 11,
   "metadata": {},
   "outputs": [
    {
     "data": {
      "image/png": "[encoded data removed]",
      "text/plain": [
       "<Figure size 432x288 with 2 Axes>"
      ]
     },
     "metadata": {
      "needs_background": "light"
     },
     "output_type": "display_data"
    }
   ],
   "source": [
    "fig, (ax1, ax2) = plt.subplots(nrows=2,ncols=1)\n",
    "ax1.plot(X,V)\n",
    "ax1.set_ylabel(\"Shear\")\n",
    "ax1.set_title(\"Shear\")\n",
    "ax2.plot(X,M)\n",
    "ax2.set_ylabel(\"Moment\")\n",
    "ax2.set_title(\"Moment\")\n",
    "plt.tight_layout()\n",
    "plt.show()"
   ]
  },
  {
   "cell_type": "code",
   "execution_count": null,
   "metadata": {},
   "outputs": [],
   "source": []
  }
 ],
 "metadata": {
  "kernelspec": {
   "display_name": "Python 3",
   "language": "python",
   "name": "python3"
  },
  "language_info": {
   "codemirror_mode": {
    "name": "ipython",
    "version": 3
   },
   "file_extension": ".py",
   "mimetype": "text/x-python",
   "name": "python",
   "nbconvert_exporter": "python",
   "pygments_lexer": "ipython3",
   "version": "3.7.3"
  }
 },
 "nbformat": 4,
 "nbformat_minor": 2
}
