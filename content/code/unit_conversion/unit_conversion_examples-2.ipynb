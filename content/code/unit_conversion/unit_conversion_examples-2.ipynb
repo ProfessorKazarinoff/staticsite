{
 "cells": [
  {
   "cell_type": "code",
   "execution_count": 1,
   "metadata": {},
   "outputs": [],
   "source": [
    "import pint\n",
    "ureg = pint.UnitRegistry()"
   ]
  },
  {
   "cell_type": "code",
   "execution_count": 4,
   "metadata": {},
   "outputs": [],
   "source": [
    "v = 5400e-2 * ureg.meter/ureg.second"
   ]
  },
  {
   "cell_type": "code",
   "execution_count": 6,
   "metadata": {},
   "outputs": [
    {
     "name": "stdout",
     "output_type": "stream",
     "text": [
      "120.8 mile / hour\n"
     ]
    }
   ],
   "source": [
    "v.ito(ureg.mile/ureg.hour)\n",
    "print(round(v,1))"
   ]
  },
  {
   "cell_type": "code",
   "execution_count": 8,
   "metadata": {},
   "outputs": [],
   "source": [
    "p = 4.3 *ureg.psi"
   ]
  },
  {
   "cell_type": "code",
   "execution_count": 10,
   "metadata": {},
   "outputs": [
    {
     "name": "stdout",
     "output_type": "stream",
     "text": [
      "29647.0 pascal\n"
     ]
    }
   ],
   "source": [
    "p.ito(ureg.Pa)\n",
    "print(round(p,0))"
   ]
  },
  {
   "cell_type": "code",
   "execution_count": 11,
   "metadata": {},
   "outputs": [
    {
     "data": {
      "text/html": [
       "25.87 gram/centimeter<sup>3</sup>"
      ],
      "text/latex": [
       "$25.87\\ \\frac{\\mathrm{gram}}{\\mathrm{centimeter}^{3}}$"
      ],
      "text/plain": [
       "<Quantity(25.87, 'gram / centimeter ** 3')>"
      ]
     },
     "execution_count": 11,
     "metadata": {},
     "output_type": "execute_result"
    }
   ],
   "source": [
    "d = 25.87*ureg.g/(ureg.cm**3)\n",
    "d"
   ]
  },
  {
   "cell_type": "code",
   "execution_count": 13,
   "metadata": {},
   "outputs": [
    {
     "name": "stdout",
     "output_type": "stream",
     "text": [
      "1615.0 pound / foot ** 3\n"
     ]
    }
   ],
   "source": [
    "d.ito(ureg.pound/(ureg.foot**3))\n",
    "print(round(d,0))"
   ]
  },
  {
   "cell_type": "code",
   "execution_count": 21,
   "metadata": {},
   "outputs": [
    {
     "data": {
      "text/html": [
       "87.41 force_pound/foot<sup>2</sup>"
      ],
      "text/latex": [
       "$87.41\\ \\frac{\\mathrm{force_pound}}{\\mathrm{foot}^{2}}$"
      ],
      "text/plain": [
       "<Quantity(87.41, 'force_pound / foot ** 2')>"
      ]
     },
     "execution_count": 21,
     "metadata": {},
     "output_type": "execute_result"
    }
   ],
   "source": [
    "ps = 87.41 * ureg.force_pound/(ureg.foot**2)\n",
    "ps"
   ]
  },
  {
   "cell_type": "code",
   "execution_count": 22,
   "metadata": {},
   "outputs": [
    {
     "data": {
      "text/html": [
       "4185.213437471157 newton/meter<sup>2</sup>"
      ],
      "text/latex": [
       "$4185.213437471157\\ \\frac{\\mathrm{newton}}{\\mathrm{meter}^{2}}$"
      ],
      "text/plain": [
       "<Quantity(4185.213437471157, 'newton / meter ** 2')>"
      ]
     },
     "execution_count": 22,
     "metadata": {},
     "output_type": "execute_result"
    }
   ],
   "source": [
    "ps.ito(ureg.N/(ureg.meter**2))\n",
    "ps"
   ]
  },
  {
   "cell_type": "code",
   "execution_count": 25,
   "metadata": {},
   "outputs": [
    {
     "data": {
      "text/html": [
       "22100000.0 pound/inch<sup>2</sup>"
      ],
      "text/latex": [
       "$22100000.0\\ \\frac{\\mathrm{pound}}{\\mathrm{inch}^{2}}$"
      ],
      "text/plain": [
       "<Quantity(22100000.0, 'pound / inch ** 2')>"
      ]
     },
     "execution_count": 25,
     "metadata": {},
     "output_type": "execute_result"
    }
   ],
   "source": [
    "pr = 221e5 * ureg.lb/ureg.inch**2\n",
    "pr"
   ]
  },
  {
   "cell_type": "code",
   "execution_count": 31,
   "metadata": {},
   "outputs": [
    {
     "name": "stdout",
     "output_type": "stream",
     "text": [
      "1.55e+09 gram / centimeter ** 2\n"
     ]
    }
   ],
   "source": [
    "pr.ito(ureg.g/ureg.cm**2)\n",
    "print('{0:1.2e}'.format(pr))"
   ]
  },
  {
   "cell_type": "code",
   "execution_count": null,
   "metadata": {},
   "outputs": [],
   "source": []
  }
 ],
 "metadata": {
  "kernelspec": {
   "display_name": "Python 3",
   "language": "python",
   "name": "python3"
  },
  "language_info": {
   "codemirror_mode": {
    "name": "ipython",
    "version": 3
   },
   "file_extension": ".py",
   "mimetype": "text/x-python",
   "name": "python",
   "nbconvert_exporter": "python",
   "pygments_lexer": "ipython3",
   "version": "3.6.6"
  }
 },
 "nbformat": 4,
 "nbformat_minor": 2
}
