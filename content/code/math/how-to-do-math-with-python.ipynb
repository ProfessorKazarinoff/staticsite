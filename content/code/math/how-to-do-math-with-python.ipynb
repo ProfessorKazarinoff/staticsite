{
 "cells": [
  {
   "cell_type": "markdown",
   "metadata": {},
   "source": [
    "Python can be used like a calculator to do math.  Operations like addition, subtraction, multiplication, and division can be done with Python. In this post, you'll learn how to do math with Python.\n"
   ]
  },
  {
   "cell_type": "markdown",
   "metadata": {},
   "source": [
    "## Arithmetic\n",
    "\n",
    "Python can be used as a calculator to make arithmetic calculations. \n",
    "\n",
    "Try the following commands in a Python REPL or in a Jupyter notebok using the arithmetic operators ```+```, ```-```, ```*```, ```/```:\n"
   ]
  },
  {
   "cell_type": "markdown",
   "metadata": {},
   "source": [
    "### Addition\n",
    "\n",
    "Let's try addition first. Let's add 5 and 3 together. Note the ```>>>``` prompt is shown to represent the Python REPL, not a character to type.\n",
    "\n",
    "```python\n",
    ">>> 5 + 3\n",
    "8\n",
    "```\n"
   ]
  },
  {
   "cell_type": "markdown",
   "metadata": {},
   "source": [
    "### Subtraction\n",
    "\n",
    "Substraction is completed in Python using the minus sign ```-```.\n",
    "\n",
    "```python\n",
    ">>> 8 - 1.5\n",
    "6.5\n",
    "```\n"
   ]
  },
  {
   "cell_type": "markdown",
   "metadata": {},
   "source": [
    "### Multiplication\n",
    "\n",
    "What is the total mass if we have 2 batteries, and each battery has a mass of 5 kg? We can use Python to solve this problem. Multiplication in Python is completed using an asterisk ```*```. Note an asterisk is used, not an ```x```.\n",
    "\n",
    "```python\n",
    ">>> 5 * 2\n",
    "10\n",
    "```\n"
   ]
  },
  {
   "cell_type": "markdown",
   "metadata": {},
   "source": [
    "### Division\n",
    "\n",
    "The formula for density is below, where $D$ is density, $m$ is mass and $v$ is volume.\n",
    "\n",
    "$$ D = \\frac{m}{v} $$\n",
    "\n",
    "Let's set $m = 5000$ and $v=2500$. Then we can use Python and the division operator ```/``` to solve for $D$.\n",
    "\n",
    "```python\n",
    ">>> 5000 / 2500\n",
    "2.0\n",
    "```\n"
   ]
  },
  {
   "cell_type": "markdown",
   "metadata": {},
   "source": [
    "### Exponents\n",
    "\n",
    "The length, width, and height of a battery is 3 cm. What is the area of the base of the battery?\n",
    "\n",
    "To complete this problem, use the double asterisk symbol ```**``` to raise a number to a power. Note a double asterisk ```**``` is used and not the carrot or circumflex character ```^```. \n",
    "\n",
    "```python\n",
    ">>> 3 ** 2\n",
    "9\n",
    "```\n",
    "\n",
    "What is the volume of the battery if each the length, width, and height of the battery are all 3 cm?\n",
    "\n",
    "```python\n",
    ">>> 3 ** 3\n",
    "27\n",
    "```\n"
   ]
  },
  {
   "cell_type": "markdown",
   "metadata": {},
   "source": [
    "### Using the previous result\n",
    "\n",
    "Find the mass of the two batteries and two cables.\n",
    "\n",
    "We can use Python to find the mass of the batteries and then use the answer, which Python saves as an underscore \\_ to use in our next operation. (The underscore ```_``` in Python is comparable to the ```ans``` variable in MATLAB)\n",
    "\n",
    "```python\n",
    ">>> 2 * 5 \n",
    "10\n",
    ">>> _ + 1.5 + 1\n",
    "12.5\n",
    "```\n"
   ]
  },
  {
   "cell_type": "markdown",
   "metadata": {},
   "source": [
    "### Summary\n",
    "\n",
    "A summary of the arithmetic operations in Python is below:\n",
    "\n",
    "| Operator | Description | Example | Result |\n",
    "| --- | --- | --- | --- |\n",
    "| ``` + ``` | addition | ```2 + 3 ``` | ```5``` |\n",
    "| ``` - ``` | subtraction | ```8 - 6 ``` | ```2``` |\n",
    "| ``` - ``` | negative number | ```-4``` | ```-4``` |\n",
    "| ``` * ``` | multiplication | ``` 5 * 2 ``` | ``` 10 ``` |\n",
    "| ``` / ``` | division | ``` 6 / 3 ``` | ``` 2 ``` |\n",
    "| ``` ** ```| raises a number to a power | ``` 10**2 ``` | ``` 100 ``` |\n",
    "| ``` _ ``` | returns last saved value  | ```_ + 7``` | ```107``` |\n"
   ]
  }
 ],
 "metadata": {
  "kernelspec": {
   "display_name": "Python 3",
   "language": "python",
   "name": "python3"
  },
  "language_info": {
   "codemirror_mode": {
    "name": "ipython",
    "version": 3
   },
   "file_extension": ".py",
   "mimetype": "text/x-python",
   "name": "python",
   "nbconvert_exporter": "python",
   "pygments_lexer": "ipython3",
   "version": "3.8.5"
  }
 },
 "nbformat": 4,
 "nbformat_minor": 2
}
